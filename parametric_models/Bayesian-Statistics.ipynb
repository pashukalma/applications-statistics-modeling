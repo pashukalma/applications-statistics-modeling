{
  "nbformat": 4,
  "nbformat_minor": 0,
  "metadata": {
    "colab": {
      "provenance": []
    },
    "kernelspec": {
      "name": "python3",
      "display_name": "Python 3"
    },
    "language_info": {
      "name": "python"
    }
  },
  "cells": [
    {
      "cell_type": "markdown",
      "source": [
        "### Bayesian approach\n",
        "\n",
        "Bayesian inference amounts to having a likelihood function $L_n(\\theta)$ that is weighted by prior knowledge on what $\\theta$ might be.\n",
        "\n",
        "- In practical context, we have a prior belief about $\\theta$, and use the data to update that belief and transform it into a posterior belief."
      ],
      "metadata": {
        "id": "5DdF88Wuq9qt"
      }
    },
    {
      "cell_type": "markdown",
      "source": [
        "____________________________"
      ],
      "metadata": {
        "id": "zds5AQPWGxER"
      }
    },
    {
      "cell_type": "markdown",
      "source": [
        "### Example:\n",
        "- Let $p$ be the proportion of a set that has probability $p$.\n",
        "- Let $X_1, \\dots, X_n \\overset{iid}{\\sim} \\text{Ber}(p)$.\n",
        "- Prior to analyzing the data, we believe that $p$ is likely close to $\\frac{1}{2}$.\n",
        "- **The Bayesian approach is the tool to update our prior belief using data.**\n",
        "- Our prior belief about $p$ can be quantified\n",
        "- We model our prior belief using a distribution for $p$, considering $p$ as a random variable.\n",
        "- The true parameter is not random; however, the Bayesian approach is a way of modeling our belief about the parameter, as it was random\n",
        "- For example, $p \\sim \\text{Beta}(a, b)$, with probability density function $f(x)$:\n",
        "$\n",
        "f(x) = \\frac{1}{K} x^{a-1} (1-x)^{b-1} \\mathbb{1}_{\\{x \\in [0, 1]\\}},\n",
        "        K = \\int_0^1 t^{a-1} (1-t)^{b-1} dt.\n",
        "$\n",
        "- In our statistical experiment, $X_1, \\dots, X_n$ are assumed to be iid Bernoulli r.v with parameter $p$, conditionally on $p$.\n",
        "- After observing the available sample $X_1, \\dots, X_n$, we can update our belief about $p$ by considering its distribution conditionally on the data.\n",
        "- The distribution of $p$ conditionally on the data is called the posterior distribution.\n",
        "- The posterior distribution is $\\text{Beta}\\left(a + \\sum_{i=1}^n X_i, b + n - \\sum_{i=1}^n X_i\\right)$."
      ],
      "metadata": {
        "id": "gUOcTEX7pSgF"
      }
    },
    {
      "cell_type": "markdown",
      "source": [
        "____________________________"
      ],
      "metadata": {
        "id": "ylerDulPG4rq"
      }
    },
    {
      "cell_type": "markdown",
      "source": [
        "### Prior and Posterior\n",
        "- Consider a probability distribution on a parameter space $\\Theta$ with some pdf $\\pi(.)$ - prior distribution.\n",
        "- Let $X_1, \\dots, X_n$ be a sample of $n$ random variables.\n",
        "- Denote by $L_n(\\cdot|\\theta)$ the joint pdf of $X_1, \\dots, X_n$ conditionally on $\\theta$, where $\\theta \\sim \\pi$.\n",
        "- $L_n(X_1, \\dots, X_n|\\theta)$ is the likelihood used in the MLE approach.\n",
        "- The conditional distribution of $\\theta$ given $X_1, \\dots, X_n$ is called the posterior distribution, $\\pi(\\theta|X_1, \\dots, X_n)$ is its pdf.\n",
        "- Bayes's formula states that\n",
        "$\\pi(\\theta|X_1, \\dots, X_n) \\propto \\pi(\\theta)L_n(X_1, \\dots, X_n|\\theta), \\quad \\text{for all } \\theta \\in \\Theta.$\n",
        "- The constant does not depend on $\\theta$:\n",
        "\n",
        "  $\\pi(\\theta|X_1, \\dots, X_n) = \\frac{\\pi(\\theta)L_n(X_1, \\dots, X_n|\\theta)}{\\int_{\\Theta} L_n(X_1, \\dots, X_n|t)\\pi(t) \\, dt}.$\n"
      ],
      "metadata": {
        "id": "s9MPWErmoqkV"
      }
    },
    {
      "cell_type": "markdown",
      "source": [
        "____________________________"
      ],
      "metadata": {
        "id": "pPjaSPL0G6hu"
      }
    },
    {
      "cell_type": "markdown",
      "source": [
        "### Bernoulli experiment with a Beta prior\n",
        "- $p \\sim \\text{Beta}(a, a)$:\n",
        "\n",
        "    - $\\pi(p) \\propto p^{a-1}(1-p)^{a-1}, \\quad p \\in (0,1)$\n",
        "\n",
        "- Given $p$, $X_1, \\dots, X_n \\overset{\\text{iid}}{\\sim} \\text{Ber}(p)$, so\n",
        "\n",
        "    - $L_n(X_1, \\dots, X_n | p) = p^{\\sum_{i=1}^{n} x_i} (1-p)^{n - \\sum_{i=1}^{n} x_i}$\n",
        "\n",
        "- Hence,\n",
        "\n",
        "    - $\\pi(p | X_1, \\dots, X_n) \\propto p^{a-1 + \\sum_{i=1}^{n} x_i} (1-p)^{a-1 + n - \\sum_{i=1}^{n} x_i}, \\quad p \\in (0,1)$\n",
        "\n",
        "- The posterior distribution is\n",
        "\n",
        "    - $\\text{Beta}\\left(a + \\sum_{i=1}^{n} X_i, a + n - \\sum_{i=1}^{n} X_i\\right)$\n",
        "\n",
        "**Examples**\n",
        "\n",
        "- If $p \\sim \\text{Unif}(0,1)$ and given $p$, $X_1, \\dots, X_n \\overset{\\text{iid}}{\\sim} \\text{Ber}(p)$, then\n",
        "  - $\\pi(p | X_1, \\dots, X_n) \\propto p^{\\sum_{i=1}^{n} X_i} (1-p)^{n - \\sum_{i=1}^{n} X_i}$\n",
        "  \n",
        "  i.e., the posterior distribution is\n",
        "  - ${Beta}\\left(1 + \\sum_{i=1}^{n} X_i, 1 + n - \\sum_{i=1}^{n} X_i\\right)$\n",
        "\n",
        "- If $\\pi(\\theta) = 1$ for all $\\theta \\in {R}$, and given $X_1, \\dots, X_n | \\theta \\overset{\\text{iid}}{\\sim} {N}(\\theta, 1)$,\n",
        "\n",
        "  i.e., the posterior distribution is\n",
        "  - ${N}(\\bar{X}_n, 1/n)$, where $\\bar{X}_n = \\frac{1}{n} \\sum_{i=1}^n X_i$."
      ],
      "metadata": {
        "id": "CPiPal_Gl_UQ"
      }
    },
    {
      "cell_type": "markdown",
      "source": [
        "____________________________"
      ],
      "metadata": {
        "id": "eYQD1ydMG8c5"
      }
    },
    {
      "cell_type": "markdown",
      "source": [
        "### Bayesian confidence regions\n",
        "- For $\\alpha \\in (0,1)$, a Bayesian confidence region with level $\\alpha$ is a random subset $R$\n",
        "\n",
        "  of the parameter space $\\Theta$, which depends on the sample $X_1, \\dots, X_n$, such that\n",
        "\n",
        "    - $P(\\theta \\in R | X_1, \\dots, X_n) = 1 - \\alpha.$\n",
        "\n",
        "- Note that $R$ depends on the prior $\\pi(\\cdot)$.\n"
      ],
      "metadata": {
        "id": "gAStzynQlhQv"
      }
    },
    {
      "cell_type": "markdown",
      "source": [
        "____________________________"
      ],
      "metadata": {
        "id": "th_Zl3EFG-QD"
      }
    },
    {
      "cell_type": "markdown",
      "source": [
        "### Bayesian Estimation\n",
        "- **The Bayesian framework** can also be used to estimate the true parameter.\n",
        "- In this case, the prior distribution does not necessarily reflect a prior belief.\n",
        "- The sample $X_1, \\dots, X_n$ is associated with a statistical model $(E, (P_\\theta), \\theta \\in \\Theta)$.\n",
        "- Define a prior with probability density function (pdf) $\\pi$ on the parameter space $\\Theta$.\n",
        "- Compute the posterior pdf $\\pi(\\cdot | X_1, \\dots, X_n)$ associated with $\\pi$.\n",
        "\n",
        "- **Bayes estimator:**\n",
        "$\\hat{\\theta}^{(\\pi)} = \\int_\\Theta \\theta \\, d\\pi(\\theta | X_1, \\dots, X_n)$\n",
        "\n",
        " This is the posterior mean.\n",
        "\n",
        "- The Bayesian estimator depends on the choice of the prior distribution $\\pi$.\n",
        "\n",
        "- Another choice is the point that maximizes the posterior distribution, provided it is unique.\n",
        "\n",
        "  It is called the MAP (maximum a posteriori).\n",
        "\n",
        "- **Example with prior Beta**$(a, a) (a > 0):\n",
        "    \\hat{p}^{(\\pi_j)} = \\frac{\\frac{1}{2n} + \\hat{X_n}}{\\frac{1}{n+1}}$\n",
        "  \n",
        "- **Example with Gaussian** with improper prior $\\pi(\\theta) \\propto 1:\n",
        "    \\hat{\\theta}^{(\\pi_j)} = \\hat{X_n}$\n",
        "\n",
        "- In each of these examples, the Bayes estimator is consistent and asymptotically normal.\n",
        "\n",
        "- In general, the asymptotic properties of the Bayes estimator do not depend on the choice of the prior.\n"
      ],
      "metadata": {
        "id": "Qfydk-szhkS2"
      }
    },
    {
      "cell_type": "markdown",
      "source": [
        "Slides -"
      ],
      "metadata": {
        "id": "l1l7WiNATcy1"
      }
    },
    {
      "cell_type": "code",
      "source": [
        "''' create a dataset/sample using mu = 10 of n=200 observations '''\n",
        "import numpy as np\n",
        "from scipy.stats import norm\n",
        "import matplotlib.pyplot as plt\n",
        "n = 200\n",
        "mu = 5\n",
        "sigma =1\n",
        "X = norm.rvs(mu, sigma, n)\n",
        "\n",
        "''' take f_n(mu) =1 and find the posterior density '''\n",
        "#posterior is proportional to likelihood*f_n(mu), pdf = f_n(x; (mu, sigma^2))\n",
        "mu_hat = X.mean()\n",
        "mu_set = np.linspace(4, 6, 100)\n",
        "\n",
        "likelihood = np.vectorize(lambda mu_hat: np.exp(np.log(norm.pdf(X, mu_hat, sigma).prod())))\n",
        "L_i = likelihood(mu_set)\n",
        "L_i2 = norm.pdf(mu_set, mu_hat, sigma/np.sqrt(n))\n",
        "\n",
        "fig_, (ax1, ax2) = plt.subplots(1,2, sharex='col', figsize=(6,3))\n",
        "ax1.plot(mu_set, L_i/L_i.sum())\n",
        "ax2.plot(mu_set, L_i2/L_i2.sum()); plt.show()"
      ],
      "metadata": {
        "colab": {
          "base_uri": "https://localhost:8080/",
          "height": 291
        },
        "id": "O3TsH5IJTbRW",
        "outputId": "d124b213-cbe8-4a89-d32a-1111361990b8"
      },
      "execution_count": null,
      "outputs": [
        {
          "output_type": "display_data",
          "data": {
            "text/plain": [
              "<Figure size 600x300 with 2 Axes>"
            ],
            "image/png": "[encoded data removed]"
          },
          "metadata": {}
        }
      ]
    },
    {
      "cell_type": "code",
      "source": [
        "posterior_ = norm.rvs(mu_hat, sigma/np.sqrt(n), 1000)\n",
        "\n",
        "fig_, (ax1, ax2) = plt.subplots(1,2, sharex='col', figsize=(6,3))\n",
        "ax1.plot(mu_set, L_i2/L_i2.sum())\n",
        "ax2.hist(posterior_, density=True, bins=mu_set) ; plt.show()"
      ],
      "metadata": {
        "colab": {
          "base_uri": "https://localhost:8080/",
          "height": 291
        },
        "id": "EvIoVx98Ofg5",
        "outputId": "6486edb0-dc7e-43cf-9054-5b6533ee0fcf"
      },
      "execution_count": null,
      "outputs": [
        {
          "output_type": "display_data",
          "data": {
            "text/plain": [
              "<Figure size 600x300 with 2 Axes>"
            ],
            "image/png": "[encoded data removed]"
          },
          "metadata": {}
        }
      ]
    }
  ]
}