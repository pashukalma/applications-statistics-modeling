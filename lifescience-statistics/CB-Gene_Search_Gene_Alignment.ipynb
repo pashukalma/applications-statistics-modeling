{
  "nbformat": 4,
  "nbformat_minor": 0,
  "metadata": {
    "colab": {
      "provenance": []
    },
    "kernelspec": {
      "name": "python3",
      "display_name": "Python 3"
    },
    "language_info": {
      "name": "python"
    }
  },
  "cells": [
    {
      "cell_type": "markdown",
      "source": [
        "# Algorithms \n",
        "\n",
        "```\n",
        "Algorithms \n",
        "Sequence Alignment \n",
        "Dynamic Programming \n",
        "Problem formulations \n",
        "  *   Longest common substring \n",
        "  *   Longest common subsequence \n",
        "  *   Sequence alignment as edit distance \n",
        "  *   Heuristics \n",
        "Needleman-Wunsch algorithm \n",
        "Linear exact time string matching \n",
        "  *   Karp-Rabin Algorithm \n",
        "BLAST (Basic Local Alignment Search Tool)\n",
        "Probabilistic Foundations of Sequence Alignment \n",
        "Deterministic Linear exact string matching \n",
        "\n",
        "```"
      ],
      "metadata": {
        "id": "G84BP4Zze7v7"
      }
    },
    {
      "cell_type": "markdown",
      "source": [
        "# Gene Search"
      ],
      "metadata": {
        "id": "IUZFxlCYe9sf"
      }
    },
    {
      "cell_type": "code",
      "source": [
        "\"\"\"\n",
        "Genes representation is with characters A, C, G and T \n",
        "Combination of the three letters represents a nucleotide\n",
        "Combination of three nucleotides is called a codon \n",
        "Codon codes for specific amino-acids form proteins. \n",
        "Classic problem definition in bioinformatis is to find a \n",
        "code within a gene - Code-codon is the primary key,\n",
        "with gene being the secondary in the given problem. \n",
        "\n",
        "Data structure used Enum, Tuple and List \n",
        "\n",
        "Example: Part of a Gene\n",
        "AATT-CGTC-TGCA\n",
        "\n",
        "Codons can be defined as a tuple of three nucleotides \n",
        "A gene is a list of codons. \n",
        "str = \"ACGTGGCTCTCTAACGTACGTACGTACGGGGTTTATATATACCCTAGGACTCCCTTT\"\n",
        "\"\"\""
      ],
      "metadata": {
        "id": "mKan7yFwRkXM"
      },
      "execution_count": null,
      "outputs": []
    },
    {
      "cell_type": "code",
      "source": [
        "\"\"\" Convert a string into a gene  \"\"\" \n",
        "from enum import IntEnum\n",
        "from typing import Tuple, List \n",
        "\n",
        "Nucleotide: IntEnum = IntEnum('Nucleotide', ('A', 'C', 'G', 'T'))\n",
        "Codon = Tuple[Nucleotide, Nucleotide, Nucleotide]\n",
        "Gene = List[Codon]\n",
        "def string_to_gene(str):\n",
        "  gene: Gene = []\n",
        "  for i in range(0, len(str), 3):\n",
        "    if (i + 2) >= len(str):\n",
        "      return gene \n",
        "    codon: Codon = (Nucleotide[str[i]], \n",
        "                    Nucleotide[str[i +1]], \n",
        "                    Nucleotide[str[i +2]])\n",
        "    gene.append(codon)\n",
        "  \n",
        "  return gene\n",
        "str = \"ACGTGGCTCTCTAACGTACGTACGTACGGGGTTTATATATACCCTAGGACTCCCTTT\"\n",
        "string_to_gene(str)"
      ],
      "metadata": {
        "colab": {
          "base_uri": "https://localhost:8080/"
        },
        "id": "FVJFKsLwRlOb",
        "outputId": "384ac266-b17f-4b43-cf89-80d77e425951"
      },
      "execution_count": null,
      "outputs": [
        {
          "output_type": "execute_result",
          "data": {
            "text/plain": [
              "[(<Nucleotide.A: 1>, <Nucleotide.C: 2>, <Nucleotide.G: 3>),\n",
              " (<Nucleotide.T: 4>, <Nucleotide.G: 3>, <Nucleotide.G: 3>),\n",
              " (<Nucleotide.C: 2>, <Nucleotide.T: 4>, <Nucleotide.C: 2>),\n",
              " (<Nucleotide.T: 4>, <Nucleotide.C: 2>, <Nucleotide.T: 4>),\n",
              " (<Nucleotide.A: 1>, <Nucleotide.A: 1>, <Nucleotide.C: 2>),\n",
              " (<Nucleotide.G: 3>, <Nucleotide.T: 4>, <Nucleotide.A: 1>),\n",
              " (<Nucleotide.C: 2>, <Nucleotide.G: 3>, <Nucleotide.T: 4>),\n",
              " (<Nucleotide.A: 1>, <Nucleotide.C: 2>, <Nucleotide.G: 3>),\n",
              " (<Nucleotide.T: 4>, <Nucleotide.A: 1>, <Nucleotide.C: 2>),\n",
              " (<Nucleotide.G: 3>, <Nucleotide.G: 3>, <Nucleotide.G: 3>),\n",
              " (<Nucleotide.G: 3>, <Nucleotide.T: 4>, <Nucleotide.T: 4>),\n",
              " (<Nucleotide.T: 4>, <Nucleotide.A: 1>, <Nucleotide.T: 4>),\n",
              " (<Nucleotide.A: 1>, <Nucleotide.T: 4>, <Nucleotide.A: 1>),\n",
              " (<Nucleotide.T: 4>, <Nucleotide.A: 1>, <Nucleotide.C: 2>),\n",
              " (<Nucleotide.C: 2>, <Nucleotide.C: 2>, <Nucleotide.T: 4>),\n",
              " (<Nucleotide.A: 1>, <Nucleotide.G: 3>, <Nucleotide.G: 3>),\n",
              " (<Nucleotide.A: 1>, <Nucleotide.C: 2>, <Nucleotide.T: 4>),\n",
              " (<Nucleotide.C: 2>, <Nucleotide.C: 2>, <Nucleotide.C: 2>),\n",
              " (<Nucleotide.T: 4>, <Nucleotide.T: 4>, <Nucleotide.T: 4>)]"
            ]
          },
          "metadata": {},
          "execution_count": 1
        }
      ]
    },
    {
      "cell_type": "code",
      "source": [
        "my_gene: Gene = string_to_gene(str)"
      ],
      "metadata": {
        "id": "plHA0VGRRosZ"
      },
      "execution_count": null,
      "outputs": []
    },
    {
      "cell_type": "code",
      "source": [
        "def linear_contains(gene: Gene, key_codon: Codon):\n",
        "  for codon in gene:\n",
        "    if codon == key_codon:\n",
        "      return True \n",
        "  return False \n",
        "\n",
        "acg: Codon = (Nucleotide.A, Nucleotide.C, Nucleotide.G)\n",
        "gat: Codon = (Nucleotide.G, Nucleotide.A, Nucleotide.T)\n",
        "print(linear_contains(my_gene, acg))\n",
        "print(linear_contains(my_gene, gat))"
      ],
      "metadata": {
        "colab": {
          "base_uri": "https://localhost:8080/"
        },
        "id": "aPkn2VcARsFv",
        "outputId": "ee0ba4fc-58b9-493b-f786-09c75b661354"
      },
      "execution_count": null,
      "outputs": [
        {
          "output_type": "stream",
          "name": "stdout",
          "text": [
            "True\n",
            "False\n"
          ]
        }
      ]
    },
    {
      "cell_type": "code",
      "source": [
        "def binary_contains(gene: Gene, key_codon: Codon):\n",
        "  low = 0\n",
        "  high = len(gene) -1 \n",
        "  while low <= high:\n",
        "    mid = (low + high)//2\n",
        "    if gene[mid] < key_codon:\n",
        "      low = mid + 1\n",
        "    elif gene[mid] > key_codon:\n",
        "      high = mid - 1 \n",
        "    else: \n",
        "      return True \n",
        "  return False  \n",
        "\n",
        "acg: Codon = (Nucleotide.A, Nucleotide.C, Nucleotide.G)\n",
        "gat: Codon = (Nucleotide.G, Nucleotide.A, Nucleotide.T)\n",
        "my_sorted_gene: Gene = sorted(my_gene) \n",
        "print(binary_contains(my_gene, acg))\n",
        "print(binary_contains(my_gene, gat))"
      ],
      "metadata": {
        "colab": {
          "base_uri": "https://localhost:8080/"
        },
        "id": "pDDp9v2IRxQ6",
        "outputId": "e136a322-d35a-410f-e1e6-aa0af2d12fc3"
      },
      "execution_count": null,
      "outputs": [
        {
          "output_type": "stream",
          "name": "stdout",
          "text": [
            "False\n",
            "False\n"
          ]
        }
      ]
    },
    {
      "cell_type": "code",
      "source": [
        "\"\"\" Generic Search \"\"\" \n",
        "from __future__ import annotations \n",
        "from typing import TypeVar, Iterable, Sequence, List, Tuple,\\\n",
        "                   Set, Deque, Dict, Any, Optional\n",
        "from typing_extensions import Protocol \n",
        "from heapq import *\n",
        "\n",
        "T = TypeVar('T')\n",
        "\n",
        "def linear_contains(iterable: Iterable[T], key: T) -> bool:\n",
        "  for item in iterable:\n",
        "    if item == key:\n",
        "      return True \n",
        "  return False \n",
        "\n",
        "C = TypeVar('C', bound='Comparable')\n",
        "class Comparable(Protocol):\n",
        "  def __eq__(self, other: Any) -> bool:\n",
        "    ...\n",
        "  def __lt__(self: C, other: C) -> bool:\n",
        "    ...\n",
        "  def __gt__(self: C, other: C) -> bool:\n",
        "    return (not self < other) and self != other\n",
        "  def __le__(self: C, other: C) -> bool: \n",
        "    return self < other or self == other\n",
        "  def __ge__(self: C, other: C) -> bool:\n",
        "    return not self < other \n",
        "\n",
        "def binary_contains(sequence: Sequence[C], key: C):\n",
        "  low = 0\n",
        "  high = len(sequence) -1 \n",
        "  while low <= high:\n",
        "    mid = (low + high)//2\n",
        "    if sequence[mid] < key:\n",
        "      low = mid + 1\n",
        "    elif sequence[mid] > key:\n",
        "      high = mid - 1 \n",
        "    else: \n",
        "      return True \n",
        "  return False  \n",
        "\n",
        "if __name__ == '__main__':\n",
        "  print(linear_contains([1, 5, 15, 15, 20], 5))\n",
        "  print(binary_contains(['a', 'd', 'e', 'f', 'z'], 'f'))\n",
        "  print(binary_contains(['text-1', 'text-2', 'text-3', 'text-4'], 'word'))"
      ],
      "metadata": {
        "colab": {
          "base_uri": "https://localhost:8080/"
        },
        "id": "d7CYAQRDR2iY",
        "outputId": "7c1fd47e-c7ac-4d82-f084-68cb15a527ce"
      },
      "execution_count": null,
      "outputs": [
        {
          "output_type": "stream",
          "name": "stdout",
          "text": [
            "True\n",
            "True\n",
            "False\n"
          ]
        }
      ]
    },
    {
      "cell_type": "markdown",
      "source": [
        "# Sequence Alignment with Dynamic programming "
      ],
      "metadata": {
        "id": "vEstx4sdRabj"
      }
    },
    {
      "cell_type": "markdown",
      "source": [
        "Sequence Alignment with Dynamic programming \n",
        "\n",
        "- Dynamic Programing \n",
        "  - Computing Fib numbers top-down vs bottom-up approach \n",
        "  - Repeated sub-problems, ordering compute, table lookups \n",
        "  - DP recipe: \n",
        "    - 1) Parameterization 2) Sub-problem space 3) traversal order 4) recursion formula 5) trace back \n",
        "\n",
        "- DP for sequence alignment \n",
        "  - Aditive score building up solution from smaller parts \n",
        "  - prefix matrix: finite subproblems, exponential paths \n",
        "  - Duality: each entry prefix alignment score: path-alignment \n",
        "\n",
        "- DP variants \n",
        "  - Linear-time bounded DP (heuristic) bettern than O(n^2)\n",
        "  - Linear space DP: Hirschberg algorithm "
      ],
      "metadata": {
        "id": "jXnGW25qOQvY"
      }
    },
    {
      "cell_type": "code",
      "source": [
        "\"\"\" \n",
        "Genomes change over time \n",
        "begin A|C|G|T|C|A|T|C|A\n",
        "                        mutation \n",
        "      A|C|G|T|-G-|A|T|C|A\n",
        "                        deletion \n",
        "      A|-X-|G|T|C|-X-|T|C|A\n",
        "\n",
        "        A|G|T|G|T|C|A\n",
        "                        insertion \n",
        "      T|A|G|T|G|T|C|A\n",
        "\n",
        "end   T|A|G|T|G|T|C|A\n",
        "\n",
        "Goal of alignment - Infer edit operations \n",
        "begin A|C|G|T|C|A|T|C|A\n",
        "            ?\n",
        "end   T|A|G|T|G|T|C|A\n",
        "\n",
        "Funtion 1: Longest common substring \n",
        "Given two possibly related strings S1 and S2 \n",
        "S1: A|C|G|T|C|A|T|C|A\n",
        "S2: T|A|G|T|G|T|C|A\n",
        "\n",
        "      offset + 1 \n",
        "S1: A|C|G|T|C|A|T|C|A\n",
        "    x x x x x x - - - \n",
        "S2:   T|A|G|T|G|T|C|A\n",
        "\n",
        "    offset -2 \n",
        "S1:     A|C|G|T|C|A|T|C|A\n",
        "    x x x x - - - - x x x \n",
        "S2: T|A|G|T|G|T|C|A\n",
        "\n",
        "Function 2: Longest common subsequence \n",
        "Given two possibly related S1 and S2 \n",
        "S1: A|C|G|T|C|A|T|C|A\n",
        "S2: T|A|G|T|G|T|C|A\n",
        "LCSS - longest common substring \n",
        "\n",
        "    gaps allowed \n",
        "S1:   A|C|G|T|C|A|T|C|A\n",
        "    | -   - - x | - - - \n",
        "S2: T|A| |G|T|G| |T|C|A  \n",
        "LCSS  A.  G.T.    T.C.A.\n",
        "\n",
        "1. edit distance - number of changes needed from S1 -> S2 \n",
        "2. uniform scoring function \n",
        "\n",
        "Function 3 Sequence alignment \n",
        "1. Allow gaps (fixed penalty) \n",
        "   - insertion and deletion operations \n",
        "   - unit cost for each character deletion or insertion \n",
        "2. Varying penalties for edit operations \n",
        "   - Transitions (Pyrimidine <-> Pyrimidine, Purine <-> Purine )\n",
        "   - Transversions (Purine <-> Pyrimidine changes)\n",
        "   - Polymerase confuses A with G, C with T more often \n",
        "\n",
        "Build the scoring function      A     G     T     C\n",
        "                            ---------------------------\n",
        "  Match (x,x) = +1          A   +1    -1/2  -1    -1    \n",
        "  Mismatch (A, G) = -1/2    G   -1/2  +1    -1    -1  \n",
        "  Mismatch (CT, T) = -1/2   T   -1    -1    +1    -1/2\n",
        "  Mismatch (x,y) = -1       C   -1    -1    -1/2  +1\n",
        "\n",
        "Transitions: A<->G and C<->T common lower operations\n",
        "Transversions: All other operations \n",
        "\n",
        "Formulation 4 - Varying gap cost models \n",
        "\n",
        "How many alignments are there?\n",
        "\n",
        "S1  |A|C| |G| |T|C| | |A| |T| | | |C|A| \n",
        "S2  | | |T| |A| | |G|T| |G| |T|C|A| | |\n",
        "\n",
        "\"\"\""
      ],
      "metadata": {
        "id": "TOruv929OUJa"
      },
      "execution_count": null,
      "outputs": []
    },
    {
      "cell_type": "code",
      "source": [
        "s1 = 'ABCDEFGHIJ'\n",
        "s2 = 'FOOBCDBCDE'\n",
        "\n",
        "num_rows = len(s1) + 1\n",
        "num_cols = len(s2) + 1\n",
        "\n",
        "Transitions = [[None] * num_cols for _ in range(num_rows)]\n",
        "for i in range(num_rows):\n",
        "  for j in range(num_cols):\n",
        "    #print(i, j)\n",
        "    if i==0 or j==0:\n",
        "      Transitions[i][j] = 0\n",
        "    elif s1[j-1] != s2[i-1]:\n",
        "      Transitions[i][j] = max(\n",
        "          Transitions[i][j-1], Transitions[i-1][j])\n",
        "    else:\n",
        "      Transitions[i][j] = Transitions[i-1][j -1] + 1\n",
        "\n",
        "results = ''\n",
        "i = num_rows -1 \n",
        "j = num_cols -1\n",
        "while Transitions[i][j]:\n",
        "  if Transitions[i][j] == Transitions[i][j -1]:\n",
        "    j -= 1\n",
        "  elif Transitions[i][j] == Transitions[i -1][j]:\n",
        "    i -= 1 \n",
        "  elif Transitions[i][j] == Transitions[i -1][j -1] + 1:\n",
        "    results += s2[i-1]\n",
        "    i -= 1\n",
        "    j -= 1 \n",
        "  \n",
        "#Transitions, results, results[::-1]\n",
        "results[::-1]"
      ],
      "metadata": {
        "id": "Ifdx6HV2Obzj"
      },
      "execution_count": null,
      "outputs": []
    },
    {
      "cell_type": "code",
      "source": [
        "def longest_common_subseq(s1, s2):\n",
        "    if s1 is None or s2 is None:\n",
        "      raise TypeError('string cannot be empty')\n",
        "    num_rows = len(s1) + 1\n",
        "    num_cols = len(s2) + 1\n",
        "    T = [[None] * num_cols for _ in range(num_rows)]\n",
        "    for i in range(num_rows):\n",
        "      for j in range(num_cols):\n",
        "        if (i==0 or j==0):\n",
        "          Transitions[i][j] = 0 \n",
        "        elif (s1[j-1] != s2[i-1]):\n",
        "          Transitions[i][j] = max(\n",
        "              Transitions[i][j-1], Transitions[i-1][j])\n",
        "        else:\n",
        "          Transitions[i][j] = Transitions[i-1][j -1] + 1\n",
        "\n",
        "    results = ''\n",
        "    i = num_rows -1 \n",
        "    j = num_cols -1\n",
        "    while Transitions[i][j]:\n",
        "      if Transitions[i][j] == Transitions[i][j -1]:\n",
        "        j -= 1\n",
        "      elif Transitions[i][j] == Transitions[i -1][j]:\n",
        "        i -= 1 \n",
        "      elif Transitions[i][j] == Transitions[i -1][j -1] + 1:\n",
        "        results += s2[i-1]\n",
        "        i -= 1\n",
        "        j -= 1 \n",
        "    return results[::-1]\n",
        "\n",
        "s_1 = 'ACGTCATCA'\n",
        "s_2 = 'TAGTGTCAX' \n",
        "\n",
        "s_1_ = 'ABCDEFGHIJ'\n",
        "s_2_ = 'FOOBCDBCDE'\n",
        "longest_common_subseq(s_1_, s_2_), longest_common_subseq(s_1, s_2)"
      ],
      "metadata": {
        "id": "zESzFbtkOfSW"
      },
      "execution_count": null,
      "outputs": []
    },
    {
      "cell_type": "markdown",
      "source": [
        "# Greedy Algorithms | Dynamic Programming "
      ],
      "metadata": {
        "id": "mDp2VE8DOkpF"
      }
    },
    {
      "cell_type": "markdown",
      "source": [
        "# Gene Alignment"
      ],
      "metadata": {
        "id": "bPHoDqTyRARs"
      }
    },
    {
      "cell_type": "markdown",
      "source": [
        "Walkthrough of dynamic programming to sequence alignment \n",
        "```\n",
        "Fill in the matrix, traceback \n",
        "- Initialize the matrix \n",
        "- Fill the matrix \n",
        "- remember the max pointers \n",
        "- Find the maximum score \n",
        "- Traceback max pointers to build alignment \n",
        "- Return alignment of min length  \n",
        "```"
      ],
      "metadata": {
        "id": "5mYT8C0XRV7L"
      }
    }
  ]
}