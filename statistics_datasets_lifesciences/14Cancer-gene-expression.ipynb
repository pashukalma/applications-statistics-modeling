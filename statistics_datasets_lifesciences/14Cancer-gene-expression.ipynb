{
  "cells": [
    {
      "cell_type": "markdown",
      "metadata": {
        "id": "6B7cCIuj1SMP"
      },
      "source": [
        "### 14-Cancer Gene expression\n",
        "\n",
        "Cancer Microarray Classification Problem (hard) \n",
        "- Training set of patients with 14 different types of cancer\n",
        "- Gene expression measurements available for 16,063 genes at the time the dataset snapshot was taken \n",
        "\n"
      ]
    },
    {
      "cell_type": "markdown",
      "metadata": {
        "id": "oq05lGFYvaCW"
      },
      "source": [
        "**14 Cancer Info**\n",
        "\n",
        "14-cancer  gene expression data. **16,063 genes, 144 training samples**,\n",
        "54 test samples. \n",
        "\n",
        "One gene per row, one sample per column\n",
        "\n",
        "Cancer classes are labelled as follows:\n",
        "\n",
        "1.  breast\n",
        "2.  prostate\n",
        "3.  lung\n",
        "4.  collerectal\n",
        "5.  lymphoma\n",
        "6.  bladder\n",
        "7.  melanoma\n",
        "8.  uterus\n",
        "9.  leukemia\n",
        "10. renal\n",
        "11. pancreas\n",
        "12. ovary\n",
        "13. meso\n",
        "14. cns\n",
        "\n",
        "Reference:\n",
        "\n",
        "S. Ramaswamy and P.  Tamayo and  R. Rifkin and S. Mukherjee and C.H. Yeang and\n",
        "M. Angelo and C. Ladd and M. Reich and E. Latulippe and J.P. Mesirov and\n",
        "T. Poggio and W. Gerald and M. Loda and E.S. Lander and  T.R. Golub (2001)\n",
        "\n",
        "Multiclass Cancer Diagnosis Using Tumor Gene Expression Signatures\n",
        "\n",
        "Proc. Natl. Acad. Sci., 98, p15149-15154.\n"
      ]
    },
    {
      "cell_type": "markdown",
      "source": [
        "The primary goal is to train a variety of Linear Regression Algorithms for the classification, optimize paramters, use validation, and compare performance results against test datasets. For this problem using this dataset (like with the Prostate Cancer we consider ShrinkedCentroidClassifier, Standard based model, L1 & L2 penalized discriminant Analysis, K-Nearest Neighbors. "
      ],
      "metadata": {
        "id": "UwWgqfvSQ9C5"
      }
    },
    {
      "cell_type": "code",
      "execution_count": null,
      "metadata": {
        "id": "k5gkQKXJvYof"
      },
      "outputs": [],
      "source": [
        "\"\"\" Dataset\n",
        "\n",
        "In Gene expression dataset we have thousand of rows representing individual genes \n",
        "and tens of columns representing samples. \n",
        "\n",
        "Graph of DNA microarray data - expression of genes (6830 rows ), and samples \n",
        "(64 columns) for the human tumor data. \n",
        "Use a random sample of 100 rows for display. Build a heatmap, as the screen in R,\n",
        "ranging from green (negative and underexpressed) to red (positive, overexpressed)\n",
        "Use the colors in R package. Missing values in gray. \n",
        "Rows and Columns are displayed in randomly chosen order. \n",
        "\n",
        "\"\"\" "
      ]
    },
    {
      "cell_type": "code",
      "execution_count": null,
      "metadata": {
        "id": "bnCjCYRZxKmT"
      },
      "outputs": [],
      "source": [
        "import numpy as np\n",
        "import pandas as pd \n",
        "import seaborn as sns\n",
        "from matplotlib import gridspec, transforms\n",
        "from matplotlib import pyplot as plt\n",
        "from matplotlib.colors import LinearSegmentedColormap, BoundaryNorm \n",
        "%matplotlib inline \n",
        "plt.rcParams['axes.linewidth'] = 0.5\n",
        "gray_, gray__, gray___, blue_, blue__, purple_, orange_ = \\\n",
        "  \"#231F20\", \"#646379\", \"#929495\", '#57B5E8', '#bdd7e7', \"#A021F1\",  '#E69E00'\n",
        "\"\"\" turn off numpy warnings for clean output \"\"\" \n",
        "np.warnings.filterwarnings('ignore')"
      ]
    },
    {
      "cell_type": "code",
      "execution_count": null,
      "metadata": {
        "id": "qM0NOK7sxKps",
        "colab": {
          "base_uri": "https://localhost:8080/"
        },
        "outputId": "d589b3ce-9cd8-4d6d-969a-e4cb3942f0c5"
      },
      "outputs": [
        {
          "output_type": "execute_result",
          "data": {
            "text/plain": [
              "(   s1  s2  s3  s4  s5  s6  s7  s8  s9  s10  ...  s135  s136  s137  s138  s139  \\\n",
              " 0 -73 -16   4 -31 -33 -37 -18 -26 -40   22  ...   274   -96   -96  -124  -201   \n",
              " \n",
              "    s140  s141  s142  s143  s144  \n",
              " 0  -196    34   -56  -245   -26  \n",
              " \n",
              " [1 rows x 144 columns],)"
            ]
          },
          "metadata": {},
          "execution_count": 6
        }
      ],
      "source": [
        "\"\"\" process 14-cancer data \n",
        "train: 4764 rows, test_data:16063 rows,  \n",
        "\"\"\"  \n",
        "sample_columns = [f's{i+1}' for i in range(144)]\n",
        "dataset_14Cancer_xtrain = pd.read_csv(\n",
        "    '14cancer-xtrain.csv', delim_whitespace= '\\t', names=sample_columns)\n",
        "dataset_14Cancer_xtrain.head(1), "
      ]
    },
    {
      "cell_type": "code",
      "source": [
        "dataset_14Cancer_ytrain = pd.read_csv(\n",
        "    '14cancer-ytrain.csv', delim_whitespace= '\\t', names=sample_columns)"
      ],
      "metadata": {
        "id": "9Lj_P6OO2oMG"
      },
      "execution_count": null,
      "outputs": []
    },
    {
      "cell_type": "code",
      "source": [
        "\"\"\" cross validation  - 144 samples are splitted intp 8 cv \"\"\"\n",
        "cv_indices = np.array([\n",
        "[5, 2, 1, 3, 6, 4, 7, 8],             [14, 15, 12,  9, 11, 16, 10, 13], \n",
        "[23, 19, 20, 17, 21, 24, 18, 22],     [31, 32, 29, 28, 26, 30, 25, 27],\n",
        "[35, 48, 38, 46, 42, 34, 47, 33],     [44, 45, 41, 40, 37, 43, 39, 36],\n",
        "[55, 56, 49, 51, 53, 50, 52, 54],     [63, 59, 64, 61, 60, 62, 57, 58],\n",
        "[69, 71, 67, 66, 72, 68, 70, 65],     [87, 91, 76, 86, 81, 88, 83, 96],\n",
        "[92, 74, 89, 93, 95, 84, 79, 73],     [85, 90, 75, 77, 82, 94, 80, 78],\n",
        "[99, 103,  98, 100,  97, 104, 102, 101],  \n",
        "[105, 111, 106, 109, 107, 112, 108, 110],\n",
        "[117, 118, 120, 113, 116, 115, 119, 114],\n",
        "[128, 121, 122, 124, 125, 127, 123, 126],\n",
        "[133, 139, 137, 138, 132, 142, 144, 135],\n",
        "[136, 129, 130, 134, 141, 131, 143, 140],\n",
        "])\n",
        "cv_indices = (cv_indices.T -1).tolist()\n",
        "cv_folds = []\n",
        "for i in range(len(cv_indices)):\n",
        "  train = [j for i in cv_indices[:i] + cv_indices[i+1:] for j in i] \n",
        "  cv_folds.append([train, cv_indices[i]])"
      ],
      "metadata": {
        "id": "OvTwtr6oz5kE"
      },
      "execution_count": null,
      "outputs": []
    },
    {
      "cell_type": "code",
      "source": [
        "\"\"\"\n",
        "train fold  126 \n",
        "[4, 13, 22, 30, 34, 43, 54, 62, 68, 86, 91, 84, 98, 104, 116, 127, 132, 135, 1, \n",
        "14, 18, 31, 47, 44, 55, 58, 70, 90, 73, 89, 102, 110, 117, 120, 138, 128, 0, 11, \n",
        "19, 28, 37, 40, 48, 63, 66, 75, 88, 74, 97, 105, 119, 121, 136, 129, 5, 10, 20, \n",
        "25, 41, 36, 52, 59, 71, 80, 94, 81, 96, 106, 115, 124, 131, 140, 3, 15, 23, 29, \n",
        "33, 42, 49, 61, 67, 87, 83, 93, 103, 111, 114, 126, 141, 130, 6, 9, 17, 24, 46, \n",
        "38, 51, 56, 69, 82, 78, 79, 101, 107, 118, 122, 143, 142, 7, 12, 21, 26, 32, 35, \n",
        "53, 57, 64, 95, 72, 77, 100, 109, 113, 125, 134, 139]\n",
        "\"\"\""
      ],
      "metadata": {
        "id": "jt6m7DL5uJeB"
      },
      "execution_count": null,
      "outputs": []
    },
    {
      "cell_type": "code",
      "source": [
        "\"\"\" auxiliary function for cross validation errors out of input samples, 144 \n",
        "    stadard errors and test errors for input out of 54, \n",
        "    and print the statistics \"\"\" \n",
        "def calculate_cross_validation_errors(grid_search):\n",
        "  cv_errors = 18*(1 -np.stack(\n",
        "      [grid_search.cv_results_[f'split{i}_test_score'] for i in range(8)]).T)\n",
        "  best_cv_errors = cv_errors[grid_search.best_index_, :]\n",
        "  cv_errors_count = np.sum(best_cv_errors)\n",
        "  cv_errors_count_std = np.sqrt(np.var(best_cv_errors, ddof=1)*8)\n",
        "  test_errors_count = np.sum(grid_search.best_estimator_.predict(X_test) != y_test)\n",
        "  return cv_errors_count, cv_errors_count_std, test_errors_count\n",
        "\n",
        "def print_cv_stats(grid_search):\n",
        "  cv_errors_count, cv_errors_count_std, test_errors_count = \\\n",
        "                calculate_cross_validation_errors(grid_search)\n",
        "  print(grid_search.best_params_)\n",
        "  print(f'CV errors {cv_errors} ({cv_errors_count_std}) Test errors {test_errors}')"
      ],
      "metadata": {
        "id": "L2ebWnvq77yF"
      },
      "execution_count": null,
      "outputs": []
    },
    {
      "cell_type": "code",
      "source": [
        "sample_columns_test = [f's{i+1}' for i in range(54)]\n",
        "dataset_14Cancer_xtest = pd.read_csv(\n",
        "    '14cancer-xtest.csv', delim_whitespace= '\\t', names=sample_columns_test)\n",
        "dataset_14Cancer_ytest = pd.read_csv(\n",
        "    '14cancer-ytest.csv', delim_whitespace= '\\t', names=sample_columns_test)\n",
        "dataset_14Cancer_xtest.head(1), dataset_14Cancer_ytest"
      ],
      "metadata": {
        "id": "VW15U8XtIKrc",
        "colab": {
          "base_uri": "https://localhost:8080/"
        },
        "outputId": "4a49f915-6e15-48d3-e742-f07d74b95c02"
      },
      "execution_count": null,
      "outputs": [
        {
          "output_type": "execute_result",
          "data": {
            "text/plain": [
              "(   s1  s2    s3  s4  s5  s6  s7  s8  s9  s10  ...  s45  s46  s47  s48  s49  \\\n",
              " 0 -44 -13 -64.3 -22 -28 -94 -59 -19 -24  -30  ...  -74 -157  -76  -24  -37   \n",
              " \n",
              "    s50  s51  s52  s53  s54  \n",
              " 0  -91 -107 -151 -124   17  \n",
              " \n",
              " [1 rows x 54 columns],\n",
              "    s1  s2  s3  s4  s5  s6  s7  s8  s9  s10  ...  s45  s46  s47  s48  s49  s50  \\\n",
              " 0   1   1   1   2   2   3   3   3   4    4  ...   14   14   12    4    3    2   \n",
              " \n",
              "    s51  s52  s53  s54  \n",
              " 0    2    2    2    1  \n",
              " \n",
              " [1 rows x 54 columns])"
            ]
          },
          "metadata": {},
          "execution_count": 10
        }
      ]
    },
    {
      "cell_type": "code",
      "source": [
        "X = dataset_14Cancer_xtrain[sample_columns].values \n",
        "y_classtypes = [x+1 for x in range(14)]\n",
        "y = dataset_14Cancer_ytrain[sample_columns].values\n",
        "y_labels = { \n",
        " '1': 'breast', '2': 'prostate', '3': 'lung', '4': 'collerectal', '5': 'lymphoma', \n",
        " '6': 'bladder', '7': 'melanoma', '8': 'uterus', '9': 'leukemia', '10': 'renal', \n",
        " '11': 'pancreas', '12': 'ovary', '13': 'meso', '14': 'cns' \n",
        "} \n",
        "X, y, X.shape, y.shape"
      ],
      "metadata": {
        "colab": {
          "base_uri": "https://localhost:8080/"
        },
        "id": "dacXBWrUBIjy",
        "outputId": "611c8b0f-19a5-431f-afd1-ff8df85f92f7"
      },
      "execution_count": null,
      "outputs": [
        {
          "output_type": "execute_result",
          "data": {
            "text/plain": [
              "(array([[  -73.,   -16.,     4., ...,   -56.,  -245.,   -26.],\n",
              "        [  -69.,   -63.,   -45., ...,  -818.,  -235., -1595.],\n",
              "        [  -48.,   -97.,  -112., ..., -1338.,  -127., -2085.],\n",
              "        ...,\n",
              "        [  -21.,     8.,   -32., ...,    -9.,   -53.,   -57.],\n",
              "        [   94.,   153.,    16., ...,    75.,    98.,    16.],\n",
              "        [  760.,  1197.,   154., ...,   992.,   901.,   243.]]),\n",
              " array([[ 1,  1,  1,  1,  1,  1,  1,  1,  2,  2,  2,  2,  2,  2,  2,  2,\n",
              "          3,  3,  3,  3,  3,  3,  3,  3,  4,  4,  4,  4,  4,  4,  4,  4,\n",
              "          5,  5,  5,  5,  5,  5,  5,  5,  5,  5,  5,  5,  5,  5,  5,  5,\n",
              "          6,  6,  6,  6,  6,  6,  6,  6,  7,  7,  7,  7,  7,  7,  7,  7,\n",
              "          8,  8,  8,  8,  8,  8,  8,  8,  9,  9,  9,  9,  9,  9,  9,  9,\n",
              "          9,  9,  9,  9,  9,  9,  9,  9,  9,  9,  9,  9,  9,  9,  9,  9,\n",
              "         10, 10, 10, 10, 10, 10, 10, 10, 11, 11, 11, 11, 11, 11, 11, 11,\n",
              "         12, 12, 12, 12, 12, 12, 12, 12, 13, 13, 13, 13, 13, 13, 13, 13,\n",
              "         14, 14, 14, 14, 14, 14, 14, 14, 14, 14, 14, 14, 14, 14, 14, 14]]),\n",
              " (4763, 144),\n",
              " (1, 144))"
            ]
          },
          "metadata": {},
          "execution_count": 11
        }
      ]
    },
    {
      "cell_type": "code",
      "source": [
        "\"\"\" breast cancer and cns samples \"\"\" \n",
        "y[0, :8], y[0, 128:144], "
      ],
      "metadata": {
        "colab": {
          "base_uri": "https://localhost:8080/"
        },
        "id": "8zz38tujquNW",
        "outputId": "a8059c6c-0698-47e5-b4e7-5b0b1011d39a"
      },
      "execution_count": null,
      "outputs": [
        {
          "output_type": "execute_result",
          "data": {
            "text/plain": [
              "(array([1, 1, 1, 1, 1, 1, 1, 1]),\n",
              " array([14, 14, 14, 14, 14, 14, 14, 14, 14, 14, 14, 14, 14, 14, 14, 14]))"
            ]
          },
          "metadata": {},
          "execution_count": 12
        }
      ]
    },
    {
      "cell_type": "code",
      "source": [
        "\"\"\" labeling and indexing \"\"\" \n",
        "labels_ = pd.read_csv('14Cancer_label.txt', names=['cancer_type'])\n",
        "labels_['cancer_type'] = labels_['cancer_type'].str.strip()\n",
        "labels_grp = labels_.copy()\n",
        "\n",
        "labels_grp.loc[labels_grp['cancer_type'] == 'breast', 'type'] = 1\n",
        "labels_grp.loc[labels_grp['cancer_type'] == 'prostate', 'type'] = 2 \n",
        "labels_grp.loc[labels_grp['cancer_type'] == 'lung', 'type'] = 3 \n",
        "labels_grp.loc[labels_grp['cancer_type'] == 'collecteral', 'type'] = 4 \n",
        "labels_grp.loc[labels_grp['cancer_type'] == 'lymphoma', 'type'] = 5 \n",
        "labels_grp.loc[labels_grp['cancer_type'] == 'bladder', 'type'] = 6 \n",
        "labels_grp.loc[labels_grp['cancer_type'] == 'melanoma', 'type'] = 7 \n",
        "labels_grp.loc[labels_grp['cancer_type'] == 'uterus', 'type'] = 8 \n",
        "labels_grp.loc[labels_grp['cancer_type'] == 'leukemia', 'type'] = 9 \n",
        "labels_grp.loc[labels_grp['cancer_type'] == 'renal', 'type'] = 10 \n",
        "labels_grp.loc[labels_grp['cancer_type'] == 'pancreas', 'type'] = 11 \n",
        "labels_grp.loc[labels_grp['cancer_type'] == 'ovary', 'type'] = 12 \n",
        "labels_grp.loc[labels_grp['cancer_type'] == 'meso', 'type'] = 13 \n",
        "labels_grp.loc[labels_grp['cancer_type'] == 'cns', 'type'] = 14 \n",
        "\n",
        "y_grp = labels_grp['cancer_type'].values\n",
        "labels_grp.loc, y_grp, y_grp[13]"
      ],
      "metadata": {
        "colab": {
          "base_uri": "https://localhost:8080/"
        },
        "id": "mBlxmVwfKZfc",
        "outputId": "f339934c-3f79-4481-f190-930ac433f1b6"
      },
      "execution_count": null,
      "outputs": [
        {
          "output_type": "execute_result",
          "data": {
            "text/plain": [
              "(<pandas.core.indexing._LocIndexer at 0x7fe90fe4dc20>,\n",
              " array(['breast', 'prostate', 'lung', 'collerectal', 'lymphoma', 'bladder',\n",
              "        'melanoma', 'uterus', 'leukemia', 'renal', 'pancreas', 'ovary',\n",
              "        'meso', 'cns'], dtype=object),\n",
              " 'cns')"
            ]
          },
          "metadata": {},
          "execution_count": 13
        }
      ]
    },
    {
      "cell_type": "code",
      "execution_count": null,
      "metadata": {
        "id": "eifutE9f2inM"
      },
      "outputs": [],
      "source": [
        "\"\"\" sampling \"\"\" \n",
        "random_rows = np.random.choice(range(X.shape[0]), 50, replace=False)\n",
        "random_columns = np.random.choice(range(X.shape[1]), X.shape[1], replace=False)"
      ]
    },
    {
      "cell_type": "code",
      "source": [
        "import sklearn\n",
        "from sklearn import cluster\n",
        "from sklearn.cluster import KMeans  \n",
        "from collections import Counter \n",
        "n_clusters = 14\n",
        "k_means = KMeans(n_clusters=n_clusters, random_state=1).fit(X.T)\n",
        "clusters = k_means.predict(X.T)\n",
        "cluster_counts = {}\n",
        "for c in range(14): cluster_counts[y_grp[c]] = Counter(clusters == c)[1]\n",
        "\n",
        "[(y_grp[c], Counter(clusters == c)) for c in range(14)], \n",
        "[(y_grp[c], Counter(clusters == c)[1]) for c in range(14)], \n",
        "cluster_counts,"
      ],
      "metadata": {
        "colab": {
          "base_uri": "https://localhost:8080/"
        },
        "id": "FoDnDGUY8sTH",
        "outputId": "25e7deab-a809-4ab8-f7da-bcdf0f84f78f"
      },
      "execution_count": null,
      "outputs": [
        {
          "output_type": "execute_result",
          "data": {
            "text/plain": [
              "({'breast': 12,\n",
              "  'prostate': 38,\n",
              "  'lung': 6,\n",
              "  'collerectal': 4,\n",
              "  'lymphoma': 6,\n",
              "  'bladder': 12,\n",
              "  'melanoma': 11,\n",
              "  'uterus': 24,\n",
              "  'leukemia': 4,\n",
              "  'renal': 5,\n",
              "  'pancreas': 5,\n",
              "  'ovary': 5,\n",
              "  'meso': 11,\n",
              "  'cns': 1},)"
            ]
          },
          "metadata": {},
          "execution_count": 15
        }
      ]
    },
    {
      "cell_type": "code",
      "source": [
        "\"\"\" process all data \"\"\" \n"
      ],
      "metadata": {
        "id": "-uwx4C5X6iJC"
      },
      "execution_count": null,
      "outputs": []
    },
    {
      "cell_type": "code",
      "execution_count": null,
      "metadata": {
        "id": "DW1Qi-wb3UCJ"
      },
      "outputs": [],
      "source": [
        "\"\"\" dataset 14Cancer \n",
        "one gene per row, one sample for columns, labeling as following:\n",
        "1.breast    2.prostate  3.lung    4.collerectal 5.lymphoma \n",
        "6.bladder   7 melanoma  8.uterus  9.leukemia    10.renal  \n",
        "11.pancreas 12.ovarian  13.meso   14.cns\n",
        "\n",
        "Use sklearn for implementation \n",
        "Implement nearest centroid model - same implementation as in the book, \n",
        "the output task slightly different\n",
        "Each class is represented by its centroids with test samples classified \n",
        "to the class with the nearest centroids \n",
        "Params: Delta for shrinking centroids to remove the features, \n",
        "        all classes represented in the training set, centroids of each class, \n",
        "        mean of each feature, Class prior probabilities, class variances of the \n",
        "        features, shrunked centroids of each class, the indices of features \n",
        "        that are not shunken to overall centroids\n",
        "Calculate cross validation errors, standard errors and test errors \n",
        "Fit centroid model according to the training data -L2PenalizedDiscriminantAnalysis\n",
        "Training X: Training vector n-samples, n-features\n",
        "Predict: Target values in integers\n",
        "Implement penalized discriminant classifier and grid search [pipeline]\n",
        "Perform classification on an array of test vectors X ~ the predicted class \n",
        "for each sample in X is returned\n",
        "\"\"\" \n",
        "from sklearn.base import BaseEstimator, ClassifierMixin\n",
        "from sklearn.model_selection import PredefinedSplit, GridSearchCV, StratifiedKFold\n",
        "from sklearn.neighbors import NearestCentroid\n",
        "from sklearn.svm import LinearSVC\n",
        "from sklearn.neighbors import KNeighborsClassifier\n",
        "from sklearn.linear_model import SGDClassifier \n",
        "from sklearn.preprocessing import StandardScaler, LabelEncoder, Normalizer \n",
        "from sklearn.metrics import accuracy_score, label_ranking_loss\n",
        "from sklearn.pipeline import Pipeline"
      ]
    },
    {
      "cell_type": "code",
      "execution_count": null,
      "metadata": {
        "id": "xrM6Z8UP7PsB"
      },
      "outputs": [],
      "source": [
        "class L2PenalizedDiscriminantAnalysis(BaseEstimator, ClassifierMixin):\n",
        "    def __init__(self, delta):\n",
        "      self.delta = delta \n",
        "\n",
        "      self.classes_ = None \n",
        "      self.centroids_ = None \n",
        "      self.overall_centroids_ = None \n",
        "      self.priors_ = None \n",
        "      self.vars_ = None\n",
        "      self.shrunken_centroids_ = None \n",
        "      self.features_used_ = None  \n",
        "   \n",
        "    def fit(self, X, y): \n",
        "      \"\"\" replace target values with classes 0, 1 .. k \"\"\" \n",
        "      label_encoder = LabelEncoder()\n",
        "      y = label_encoder.fit_transform(y)\n",
        "      #y = label_encoder.fit_transform(y.T) \n",
        "      self.classes  = label_encoder.classes_\n",
        "      K, N, p = self.classes_.size, X.shape[0], X.shape[1]\n",
        "      \"\"\" calculate classes prior - 14 total - posterior probabilities \"\"\" \n",
        "      elements, counts_elements = np.unique(y, return_counts=True)\n",
        "      self.priors_ = counts_elements/N\n",
        "      \"\"\" transform the predictors using SVD \"\"\" \n",
        "      u, s, vh = np.linalg.svd(X, full_matrices=False)\n",
        "      U, D, V = u, np.diag(s), vh.T\n",
        "      R = U @ D \n",
        "      \"\"\" calculate means and covariance matrices \"\"\" \n",
        "      # means = [np.mean(R[y == i], axis=1) for i in range(K)]\n",
        "      means = [np.mean(R[:, y ==i], axis=0) for i in range(K)]\n",
        "      covariances = np.zeros((N, N)) \n",
        "      for k in range(K):\n",
        "        # R_k = R[y == k, :]\n",
        "        R_k = R[:, y == k]\n",
        "        \"\"\" delta in the alg: index size, and index in R_k \"\"\" \n",
        "        #for i in range(R_k.shape[0]):\n",
        "        for i in range(R_k.shape[1]):\n",
        "          mat_ = np.atleast_2d(R_k[i, :] - means[k]) #.T\n",
        "          covariances += (mat_@mat_.T) / (N-K)\n",
        "      # covariances = 0.01 * covariances + \\\n",
        "      covariances = self.lambda_ * covariances + \\\n",
        "                    (1 - self.covariances) * np.diag(np.diag(covariances))\n",
        "      covariances_inverse = np.linalg.inv(covariances)\n",
        "\n",
        "      self.coefficient_, self.intercept_ = [], []\n",
        "      for k in range(K):\n",
        "        m_k = np.atleast_2d(means[k]).T \n",
        "        p_k = priors[k] \n",
        "        self.coefficient_.append(V @ covariances_inverse @ m_k)\n",
        "        self.intercept_.append(\n",
        "                          -0.5*m_k.T @ covariances_inverse @ m_k + np.log(p_k))\n",
        "      self.coefficient_ = np.hstack(self.coefficient_)\n",
        "      self.intercept_ = np.hstack(self.intercept_)\n",
        "\n",
        "    def predict(X): \n",
        "      \"\"\" \"\"\" "
      ]
    },
    {
      "cell_type": "code",
      "source": [
        "\"\"\" replace target values with classes 0, 1 .. k \"\"\" \n",
        "label_encoder = LabelEncoder()\n",
        "y = label_encoder.fit_transform(y.T)\n",
        "#y = y.reshape(1, y.shape[0])\n",
        "y.shape"
      ],
      "metadata": {
        "colab": {
          "base_uri": "https://localhost:8080/"
        },
        "id": "O-jfph6lfW9C",
        "outputId": "eb4bc8a5-8d38-49e8-b4e8-fa2a148a4d4d"
      },
      "execution_count": null,
      "outputs": [
        {
          "output_type": "execute_result",
          "data": {
            "text/plain": [
              "(144,)"
            ]
          },
          "metadata": {},
          "execution_count": 18
        }
      ]
    },
    {
      "cell_type": "code",
      "execution_count": null,
      "metadata": {
        "colab": {
          "base_uri": "https://localhost:8080/"
        },
        "id": "tEJdpVIOFuGu",
        "outputId": "b9d5f1fe-e4e0-4bbc-e463-eafb1cf0e9f7"
      },
      "outputs": [
        {
          "output_type": "execute_result",
          "data": {
            "text/plain": [
              "(array([ 1,  2,  3,  4,  5,  6,  7,  8,  9, 10, 11, 12, 13, 14]),\n",
              " array([ 8,  8,  8,  8, 16,  8,  8,  8, 24,  8,  8,  8,  8, 16]),\n",
              " 14,\n",
              " 4763,\n",
              " 144,\n",
              " array([0.05555556, 0.05555556, 0.05555556, 0.05555556, 0.11111111,\n",
              "        0.05555556, 0.05555556, 0.05555556, 0.16666667, 0.05555556,\n",
              "        0.05555556, 0.05555556, 0.05555556, 0.11111111]),\n",
              " array([[-7.50334082e+02,  4.08265739e+02,  1.68248514e+02, ...,\n",
              "         -2.12256892e+01, -2.48580477e+01, -2.72575536e+00],\n",
              "        [-2.64540736e+03,  1.90876542e+03, -2.04994750e+02, ...,\n",
              "         -3.19871644e+02, -2.72590684e+02,  2.71919452e+01],\n",
              "        [-2.22533907e+03,  1.22033097e+03, -7.13821992e+02, ...,\n",
              "         -1.92924413e+02, -1.70551878e+02, -2.23863434e+01],\n",
              "        ...,\n",
              "        [-1.10805585e+02,  5.56828579e+01,  7.80790322e+01, ...,\n",
              "          2.43992604e+01,  1.20567857e+01, -9.55940437e-01],\n",
              "        [ 1.34953509e+03, -1.91866994e+02, -7.00728565e+00, ...,\n",
              "         -1.98704384e-01, -3.92393251e+01,  1.11557708e+01],\n",
              "        [ 1.54353691e+04,  1.02256041e+03,  2.67267723e+02, ...,\n",
              "         -2.81596195e+02,  1.80841242e+02,  1.20331711e+02]]))"
            ]
          },
          "metadata": {},
          "execution_count": 26
        }
      ],
      "source": [
        "classes_ = label_encoder.classes_\n",
        "K, N, p = classes_.size, X.shape[0], X.shape[1]\n",
        "\"\"\" calculate classes prior - 14 total - posterior prob. \"\"\" \n",
        "elements, counts_elements = np.unique(y, return_counts=True)\n",
        "priors = counts_elements/y.shape[0]\n",
        "\"\"\" transform the predictors using SVD \"\"\" \n",
        "u, s, vh = np.linalg.svd(X, full_matrices=False)\n",
        "U, D, V = u, np.diag(s), vh.T\n",
        "R = U @ D \n",
        "\n",
        "classes_, counts_elements, K, N, p, priors, R,"
      ]
    },
    {
      "cell_type": "code",
      "source": [
        "np.mean(R[:, 0:8], axis=0), np.mean(R[:, 128:144], axis=0),"
      ],
      "metadata": {
        "colab": {
          "base_uri": "https://localhost:8080/"
        },
        "id": "qKp3LDDauJ7X",
        "outputId": "e44a4de7-632d-443a-d2e9-3b376bd585f9"
      },
      "execution_count": null,
      "outputs": [
        {
          "output_type": "execute_result",
          "data": {
            "text/plain": [
              "(array([4063.55558524,   37.6613797 ,  163.96755797,  468.86296694,\n",
              "          21.16343375,  135.40473937,   -5.65240022,  128.53328871]),\n",
              " array([-4.84270305,  0.77016689, -1.18387042, -2.49376477, -5.41445385,\n",
              "        -2.89366795,  0.97953868, -1.15712376,  3.61022107, -0.29235715,\n",
              "         2.69638216,  1.36074671,  1.00514961, -0.87753711,  1.283584  ,\n",
              "        -0.73094995]))"
            ]
          },
          "metadata": {},
          "execution_count": 27
        }
      ]
    },
    {
      "cell_type": "code",
      "source": [
        "np.mean(R[:, y==0], axis=0), np.mean(R[:, y==13], axis=0),"
      ],
      "metadata": {
        "colab": {
          "base_uri": "https://localhost:8080/"
        },
        "id": "zF13q4KnsppK",
        "outputId": "bb8e3d8a-7bcf-40f9-e3fc-d62380691941"
      },
      "execution_count": null,
      "outputs": [
        {
          "output_type": "execute_result",
          "data": {
            "text/plain": [
              "(array([4063.55558524,   37.6613797 ,  163.96755797,  468.86296694,\n",
              "          21.16343375,  135.40473937,   -5.65240022,  128.53328871]),\n",
              " array([-4.84270305,  0.77016689, -1.18387042, -2.49376477, -5.41445385,\n",
              "        -2.89366795,  0.97953868, -1.15712376,  3.61022107, -0.29235715,\n",
              "         2.69638216,  1.36074671,  1.00514961, -0.87753711,  1.283584  ,\n",
              "        -0.73094995]))"
            ]
          },
          "metadata": {},
          "execution_count": 28
        }
      ]
    },
    {
      "cell_type": "code",
      "execution_count": null,
      "metadata": {
        "colab": {
          "base_uri": "https://localhost:8080/"
        },
        "id": "sevR120sJBlN",
        "outputId": "eaf2843a-455b-4477-91c8-e0d1a79bce42"
      },
      "outputs": [
        {
          "output_type": "execute_result",
          "data": {
            "text/plain": [
              "(14,\n",
              " array([-4.84270305,  0.77016689, -1.18387042, -2.49376477, -5.41445385,\n",
              "        -2.89366795,  0.97953868, -1.15712376,  3.61022107, -0.29235715,\n",
              "         2.69638216,  1.36074671,  1.00514961, -0.87753711,  1.283584  ,\n",
              "        -0.73094995]))"
            ]
          },
          "metadata": {},
          "execution_count": 29
        }
      ],
      "source": [
        "\"\"\" calculate means and covariance matrices\n",
        "temporary work around - use copy() transposed \"\"\" \n",
        "means = [np.mean(R[:, y ==i], axis=0) for i in range(K)]\n",
        "covs = np.zeros((N, N)) \n",
        "len(means), means[13]  "
      ]
    },
    {
      "cell_type": "code",
      "source": [
        "for k in range(6):\n",
        "  R_k = R[:, y == k]\n",
        "  \"\"\" delta in the alg: index size, and index in R_k \"\"\" \n",
        "  for i in range(R_k.shape[1]):\n",
        "    mx_ = np.atleast_2d(\n",
        "        R_k[i, :] - means[k]\n",
        "    )\n",
        "    covs += (mx_@mx_.T) /(N-K)\n",
        "covs.shape"
      ],
      "metadata": {
        "colab": {
          "base_uri": "https://localhost:8080/"
        },
        "id": "wp7HJzhAKi7d",
        "outputId": "85182c90-5bc1-45df-b0e3-b092a2416582"
      },
      "execution_count": null,
      "outputs": [
        {
          "output_type": "execute_result",
          "data": {
            "text/plain": [
              "(4763, 4763)"
            ]
          },
          "metadata": {},
          "execution_count": 30
        }
      ]
    },
    {
      "cell_type": "code",
      "execution_count": null,
      "metadata": {
        "id": "gqJY_y82PPf5"
      },
      "outputs": [],
      "source": [
        "covs = 0.01 * covs + (1 - covs) * np.diag(np.diag(covs))\n",
        "covs_inverse = np.linalg.inv(covs)"
      ]
    },
    {
      "cell_type": "code",
      "source": [
        "priors[13], np.atleast_2d(means[0]).shape, vh.shape"
      ],
      "metadata": {
        "colab": {
          "base_uri": "https://localhost:8080/"
        },
        "id": "PNTRRA7YbzVL",
        "outputId": "7a3fe893-df55-4e52-9e87-9bc28b4bc800"
      },
      "execution_count": null,
      "outputs": [
        {
          "output_type": "execute_result",
          "data": {
            "text/plain": [
              "(0.1111111111111111, (1, 8), (144, 144))"
            ]
          },
          "metadata": {},
          "execution_count": 32
        }
      ]
    },
    {
      "cell_type": "code",
      "source": [
        "a_ =np.atleast_2d(means[0]).T\n",
        "means[0], np.atleast_2d(means[0]).T, \n",
        "a_.T@a_ # scalar "
      ],
      "metadata": {
        "colab": {
          "base_uri": "https://localhost:8080/"
        },
        "id": "SzTX-vnEnzji",
        "outputId": "3d40df0f-9479-4598-cb2c-c36a9b451f5f"
      },
      "execution_count": null,
      "outputs": [
        {
          "output_type": "execute_result",
          "data": {
            "text/plain": [
              "array([[16795955.30597055]])"
            ]
          },
          "metadata": {},
          "execution_count": 33
        }
      ]
    },
    {
      "cell_type": "code",
      "source": [
        "coefficient_, intercept_ = [], []\n",
        "for k in range(K):\n",
        "  m_k = np.atleast_2d(means[k]).T\n",
        "  p_k = priors[k] \n",
        "  #V @ covs_inverse @ m_k"
      ],
      "metadata": {
        "id": "gDVLUMEgTqZQ"
      },
      "execution_count": null,
      "outputs": []
    },
    {
      "cell_type": "code",
      "source": [
        "coefficient_, intercept_ = [], []\n",
        "for k in range(K):\n",
        "  m_k = np.atleast_2d(means[k]).T \n",
        "  p_k = priors[k] \n",
        "  \"\"\" wrong construct V(144, 144) with conv_inv (4763, 4763) with (8-24, 1)  \"\"\" \n",
        "  coefficient_.append(V @ covs_inverse @ m_k)\n",
        "  \"\"\" wrong construct m_k [8-24, 1) with conv_inv (4763, 4763 with (1, 8-24\"\"\" \n",
        "  intercept_.append(-0.5*m_k.T @ covs_inverse @ m_k + np.log(p_k))\n",
        "\n",
        "coefficient_, intercept_ = np.hstack(coefficient_),  np.hstack(intercept_)"
      ],
      "metadata": {
        "id": "BfgEjYMlUftO"
      },
      "execution_count": null,
      "outputs": []
    },
    {
      "cell_type": "code",
      "source": [
        "\"\"\" Shrunken Centroids \n",
        "\n",
        "shrunken_centroids_clf = Pipeline([\n",
        "  ('norm', Normalizer()), \n",
        "  ('classifier', ShrunkenCentroid())\n",
        "])\n",
        "\n",
        "shrunken_centroids_gridsearch = GridSearchCV(\n",
        "  shrunken_centroids_clf, \n",
        "  {'classifier__C': np.linspace(0.1, 0.9, 9)}, \n",
        "  cv = cv_folds, scoring='accuracy'\n",
        ").fit(X_train, y_train)\n",
        "shrunken_centroids_n_genes = \\\n",
        "        shrunken_centroids_gridsearch.best_estimator_[1],feature_used_.size\n",
        "print('Genes used', shrunken_centroids_n_genes)\n",
        "print_cv_stats(shrunken_centroids_gridsearch)\n",
        "\n",
        "\"\"\" "
      ],
      "metadata": {
        "id": "FB38kCZczQZr"
      },
      "execution_count": null,
      "outputs": []
    },
    {
      "cell_type": "code",
      "source": [
        "\"\"\" Linear Penalized Discriminant Analysis \n",
        "\n",
        "pd_clf = Pipeline([\n",
        "  ('norm', Normalizer()), \n",
        "  ('classifier', L2PenalizedDiscriminantAnalysis())\n",
        "])\n",
        "\n",
        "pd_clf_gridsearch = GridSearchCV(\n",
        "  pd_clf, \n",
        "  {'classifier__lam': np.linspace(0.1, 0.9, 9)}, \n",
        "  cv = cv_folds, scoring='accuracy'\n",
        ").fit(X_train, y_train)\n",
        "print_cv_stats(pd_clf_gridsearch)\n",
        "\"\"\" \n"
      ],
      "metadata": {
        "id": "UeEC4q031XIO"
      },
      "execution_count": null,
      "outputs": []
    },
    {
      "cell_type": "code",
      "source": [
        "X = dataset_14Cancer_xtrain[sample_columns].values \n",
        "y = dataset_14Cancer_ytrain[sample_columns].values\n",
        "y =  y.astype(int)\n",
        "X, y"
      ],
      "metadata": {
        "id": "X-wHVqcu8xQ5"
      },
      "execution_count": null,
      "outputs": []
    },
    {
      "cell_type": "code",
      "source": [
        "X_test = dataset_14Cancer_xtest[sample_columns_test].values \n",
        "y_test = dataset_14Cancer_ytest[sample_columns_test].values\n",
        "y_test =  y_test.astype(int)\n",
        "X_test, y_test  = X_test.T, y_test.T\n",
        "X_test, y_test"
      ],
      "metadata": {
        "id": "vO7E3EICLLc0"
      },
      "execution_count": null,
      "outputs": []
    },
    {
      "cell_type": "code",
      "source": [
        "X_train, y_train  = X.T, y.T\n",
        "\n",
        "X, y_train, X_train.shape, y_train.shape, #8 CV folds 142 columns "
      ],
      "metadata": {
        "id": "dghczZHp413H"
      },
      "execution_count": null,
      "outputs": []
    },
    {
      "cell_type": "code",
      "source": [
        "\"\"\" Suppor Vector Classifier \"\"\"\n",
        "support_vector_clf = Pipeline([\n",
        "    ('norm', Normalizer()), \n",
        "    ('classifier', LinearSVC(tol=1e-3))\n",
        "])\n",
        "\n",
        "support_vector_gridsearch = GridSearchCV(\n",
        "    support_vector_clf, \n",
        "    {'classifier__C': np.linspace(100, 3000, 3)},\n",
        "    cv = cv_folds, scoring='accuracy'\n",
        ").fit(X_train, y_train)\n",
        "#print_cv_stats(support_vector_clf)\n",
        "support_vector_gridsearch.cv_results_, "
      ],
      "metadata": {
        "colab": {
          "base_uri": "https://localhost:8080/"
        },
        "id": "KMNJLLDo-qL2",
        "outputId": "47229aed-fc8b-4590-ba6a-696a681724af"
      },
      "execution_count": null,
      "outputs": [
        {
          "output_type": "execute_result",
          "data": {
            "text/plain": [
              "({'mean_fit_time': array([3.47678742, 3.63547033, 3.7692219 ]),\n",
              "  'std_fit_time': array([0.49647574, 0.4257881 , 0.63155643]),\n",
              "  'mean_score_time': array([0.00395453, 0.00400323, 0.00385669]),\n",
              "  'std_score_time': array([0.00217638, 0.00376773, 0.00195273]),\n",
              "  'param_classifier__C': masked_array(data=[100.0, 1550.0, 3000.0],\n",
              "               mask=[False, False, False],\n",
              "         fill_value='?',\n",
              "              dtype=object),\n",
              "  'params': [{'classifier__C': 100.0},\n",
              "   {'classifier__C': 1550.0},\n",
              "   {'classifier__C': 3000.0}],\n",
              "  'split0_test_score': array([0.72222222, 0.72222222, 0.72222222]),\n",
              "  'split1_test_score': array([0.83333333, 0.83333333, 0.83333333]),\n",
              "  'split2_test_score': array([0.88888889, 0.88888889, 0.88888889]),\n",
              "  'split3_test_score': array([0.88888889, 0.88888889, 0.88888889]),\n",
              "  'split4_test_score': array([0.77777778, 0.77777778, 0.77777778]),\n",
              "  'split5_test_score': array([0.72222222, 0.72222222, 0.72222222]),\n",
              "  'split6_test_score': array([0.66666667, 0.66666667, 0.66666667]),\n",
              "  'split7_test_score': array([0.77777778, 0.77777778, 0.77777778]),\n",
              "  'mean_test_score': array([0.78472222, 0.78472222, 0.78472222]),\n",
              "  'std_test_score': array([0.07575495, 0.07575495, 0.07575495]),\n",
              "  'rank_test_score': array([1, 1, 1], dtype=int32)},)"
            ]
          },
          "metadata": {},
          "execution_count": 22
        }
      ]
    },
    {
      "cell_type": "code",
      "source": [
        "\"\"\" K Nearest Neighbors \"\"\" \n",
        "k_nearest_neighbors_clf = Pipeline([\n",
        "    ('norm', Normalizer()), \n",
        "    ('classifier', KNeighborsClassifier())\n",
        "])\n",
        "\n",
        "k_nn_gridsearch = GridSearchCV(\n",
        "    k_nearest_neighbors_clf, \n",
        "    {'classifier__n_neighbors': list(range(1, 5))}, \n",
        "    cv=cv_folds, scoring='accuracy'\n",
        ").fit(X_train, y_train)\n",
        "#print_cv_stats(k_nn_gridsearch)\n",
        "k_nn_gridsearch.cv_results_, "
      ],
      "metadata": {
        "colab": {
          "base_uri": "https://localhost:8080/"
        },
        "id": "-Pb1IIwC-sJV",
        "outputId": "cdf3df7a-e3e4-4208-8a0d-a128efc242b9"
      },
      "execution_count": null,
      "outputs": [
        {
          "output_type": "execute_result",
          "data": {
            "text/plain": [
              "({'mean_fit_time': array([0.00980982, 0.01503885, 0.01113248, 0.00955918]),\n",
              "  'std_fit_time': array([0.0026021 , 0.00510716, 0.00548386, 0.00158557]),\n",
              "  'mean_score_time': array([0.00797987, 0.02752727, 0.01094353, 0.05292669]),\n",
              "  'std_score_time': array([0.00393635, 0.02818853, 0.00673865, 0.02716431]),\n",
              "  'param_classifier__n_neighbors': masked_array(data=[1, 2, 3, 4],\n",
              "               mask=[False, False, False, False],\n",
              "         fill_value='?',\n",
              "              dtype=object),\n",
              "  'params': [{'classifier__n_neighbors': 1},\n",
              "   {'classifier__n_neighbors': 2},\n",
              "   {'classifier__n_neighbors': 3},\n",
              "   {'classifier__n_neighbors': 4}],\n",
              "  'split0_test_score': array([0.66666667, 0.66666667, 0.61111111, 0.61111111]),\n",
              "  'split1_test_score': array([0.66666667, 0.66666667, 0.61111111, 0.61111111]),\n",
              "  'split2_test_score': array([0.66666667, 0.66666667, 0.61111111, 0.61111111]),\n",
              "  'split3_test_score': array([0.83333333, 0.66666667, 0.66666667, 0.66666667]),\n",
              "  'split4_test_score': array([0.66666667, 0.72222222, 0.66666667, 0.66666667]),\n",
              "  'split5_test_score': array([0.55555556, 0.55555556, 0.55555556, 0.61111111]),\n",
              "  'split6_test_score': array([0.72222222, 0.61111111, 0.55555556, 0.55555556]),\n",
              "  'split7_test_score': array([0.61111111, 0.66666667, 0.66666667, 0.61111111]),\n",
              "  'mean_test_score': array([0.67361111, 0.65277778, 0.61805556, 0.61805556]),\n",
              "  'std_test_score': array([0.07575495, 0.04606423, 0.04336804, 0.03330439]),\n",
              "  'rank_test_score': array([1, 2, 3, 3], dtype=int32)},)"
            ]
          },
          "metadata": {},
          "execution_count": 101
        }
      ]
    },
    {
      "cell_type": "code",
      "source": [
        "\"\"\" L1 Penalized Multinomial - SGD \"\"\" \n",
        "l1sgd_clf = SGDClassifier(\n",
        "    loss='log', penalty='l1', alpha=0.05, max_iter=1000,\n",
        "    tol=1e-5, eta0=0.0005, learning_rate='adaptive'\n",
        ")\n",
        "l1_multinom_clf = Pipeline([ \n",
        "    ('norm', Normalizer()), \n",
        "    ('scale', StandardScaler()),\n",
        "    ('classifier', l1sgd_clf)\n",
        "])\n",
        "l1_multinom_gridsearch = GridSearchCV(\n",
        "    l1_multinom_clf, \n",
        "    {'classifier__alpha': [0.05]}, \n",
        "    cv = cv_folds, scoring='accuracy'\n",
        ").fit(X_train, y_train)\n",
        "l1_multinom_gridsearch.cv_results_"
      ],
      "metadata": {
        "id": "rBRL9oLh-vd-"
      },
      "execution_count": null,
      "outputs": []
    },
    {
      "cell_type": "code",
      "source": [
        "l1_multinom_gridsearch.cv_results_"
      ],
      "metadata": {
        "colab": {
          "base_uri": "https://localhost:8080/"
        },
        "id": "GPKYLQvTPGCY",
        "outputId": "458b5ea2-bcda-4d36-f922-87b3055528fb"
      },
      "execution_count": null,
      "outputs": [
        {
          "output_type": "execute_result",
          "data": {
            "text/plain": [
              "{'mean_fit_time': array([59.65011004]),\n",
              " 'std_fit_time': array([9.58614911]),\n",
              " 'mean_score_time': array([0.00433144]),\n",
              " 'std_score_time': array([0.00198086]),\n",
              " 'param_classifier__alpha': masked_array(data=[0.05],\n",
              "              mask=[False],\n",
              "        fill_value='?',\n",
              "             dtype=object),\n",
              " 'params': [{'classifier__alpha': 0.05}],\n",
              " 'split0_test_score': array([0.55555556]),\n",
              " 'split1_test_score': array([0.72222222]),\n",
              " 'split2_test_score': array([0.83333333]),\n",
              " 'split3_test_score': array([0.88888889]),\n",
              " 'split4_test_score': array([0.83333333]),\n",
              " 'split5_test_score': array([0.72222222]),\n",
              " 'split6_test_score': array([0.66666667]),\n",
              " 'split7_test_score': array([0.88888889]),\n",
              " 'mean_test_score': array([0.76388889]),\n",
              " 'std_test_score': array([0.11023964]),\n",
              " 'rank_test_score': array([1], dtype=int32)}"
            ]
          },
          "metadata": {},
          "execution_count": 110
        }
      ]
    }
  ],
  "metadata": {
    "colab": {
      "provenance": []
    },
    "kernelspec": {
      "display_name": "Python 3",
      "name": "python3"
    },
    "language_info": {
      "name": "python"
    }
  },
  "nbformat": 4,
  "nbformat_minor": 0
}