{
  "cells": [
    {
      "cell_type": "markdown",
      "metadata": {
        "id": "N2xcKKzVzUAv"
      },
      "source": [
        "**DNA Expression Microarray**\n",
        "\n",
        "DNA (Deoxyribonucleid acid) microarrays measure the expression of a gene in a cell by measuring the amount of mRNA (messenger ribonucleic acid) present for that gene. Microarrays are considered a breakthrough technology in biology, facilitating the quantitative study of thousand of genes simultaneously from a single sample of cells. \n",
        "\n",
        "Here is how it works: The nucleotide sequences for a few thousand genes are printed on a glass slide. A target sample and a reference sample are labeled with red and green dyes, and each are hybridized with the DNA on the slide. Through flouroscopy, the log (red/green) intensities of RNA hybridizing at each site is measured. The result is a few thousand numbers, ranging from [-6, 6] \n",
        "measuring the expression level of each gene in the target relative to the reference sample. Positive values indicate hiigher expression and the negative vlaues low expressions. \n",
        "\n",
        "A gene expression dataset collects together the expression values from a series of DNA microarray experiements, with each column representing an experiement. \n",
        "There are several thousand rows representing individual genes, and tens of columns representing samples. \n",
        "- ~ 6830 genes (rows) and 64 samples (columns) although for clarity only a random sample of 100 rows shown.\n",
        "- dataset as a heat map, ranging from green (negative) to red (positive) \n",
        "- the samples are 64 cancer tumors from different patients \n",
        "\n",
        "The challenge here is to understand how the genes and samples are organized. \n",
        "- a. which samples are most similar to each other - in terms of expression profiles across genes? \n",
        "- b. which genes are most similar to each other, in terms of expression profiles across samples \n",
        "- c. do certain genes show very high (or low) expression for certain cancer samples? \n",
        "\n",
        "We could view this a supervising or unsupervising learning problem. \n",
        "\n",
        "As a supervising problem, it is a gression problem, with two categorical predictive variables - genes, and samples, and the output/response being the level of expression. "
      ]
    },
    {
      "cell_type": "code",
      "execution_count": null,
      "metadata": {
        "id": "HF-b8XMCwq3d"
      },
      "outputs": [],
      "source": [
        "\"\"\" Heatmap a 3-dimensional chart that crosses two dimensions and aggregates\n",
        "the values to the intersection of the horizontal and vertical. The value that\n",
        "falls into the intersection is mapped into a color in a palette by default \n",
        "We need data source for the chart, x for x-axis, y for y-axis, and values to\n",
        "produe histogram for table like input  \n",
        "values = Dimension['values']\n",
        "dimension = ['x','y', 'values']\n",
        "regular_dimensions = [['x', 'y',]\n",
        "                      ['x','y', 'values']]\n",
        "\"\"\" "
      ]
    },
    {
      "cell_type": "code",
      "execution_count": null,
      "metadata": {
        "id": "Zx--SpAO8wjg"
      },
      "outputs": [],
      "source": [
        "!head gene-expression.csv"
      ]
    },
    {
      "cell_type": "code",
      "execution_count": null,
      "metadata": {
        "colab": {
          "base_uri": "https://localhost:8080/"
        },
        "id": "he3mmPOR-Xw1",
        "outputId": "6b4d9f1d-0e59-4a87-92d6-8dbaba9a3e2e"
      },
      "outputs": [
        {
          "name": "stdout",
          "output_type": "stream",
          "text": [
            "Gene\tSRR3189679\tSRR3189680\tSRR3189681\tSRR3189682\tSRR3189683\tSRR3189684\tSRR3189685\tSRR3189686\tSRR3189687\tSRR3189688\tSRR3189689\tSRR3189690\tSRR3189691\tSRR3189692\tSRR3189693\tSRR3189694\tSRR3189695\tSRR3189696\tSRR3189697\n",
            "ENSMUSG00000000001\t15.66237711687108\t14.020691522659178\t15.555237673496261\t12.530302692282373\t30.260702375583335\t21.88635065028355\t16.977009602480425\t15.910324818470475\t13.964012082070788\t20.33431464623326\t11.648719268394112\t15.173052205499708\t23.691736532165294\t25.125880334091683\t17.408527565474127\t19.02174771396133\t14.434415861472182\t17.99931013234367\t15.49715624364096\n",
            "ENSMUSG00000000003\t0.02856262247307973\t0.036579343067061135\t0.4199643937629119\t0.02197858667796524\t0.07553235662558486\t0.06415830328198455\t0.05491574472671929\t0.03367995078795199\t0.04635835972417437\t0.058367917476556674\t0.033989725803229946\t0.06048005710517845\t0.12508106103339464\t0.07963392007249298\t0.05026406735185754\t0.06219031607641433\t0.04609207853053203\t0.055518277200405995\t0.08376849618676617\n",
            "ENSMUSG00000000028\t5.150481276586757\t7.498046073192132\t5.717151644436064\t5.034920002546793\t11.635079018585444\t12.077084055357922\t8.502685615351682\t7.605634922648299\t5.431772706781434\t7.401168680759508\t9.781359828497607\t9.532715663996242\t8.701791977025827\t7.9587045536675225\t8.861361158198742\t8.829695861552288\t7.839187402838124\t8.560791709723594\t6.990834440874033\n",
            "ENSMUSG00000000031\t0.9237747351499545\t0.6227608188437739\t0.03741034072797474\t0.41867894580797704\t0.07553235662558486\t0.06415830328198455\t1.3842950656335464\t0.49788288101171924\t0.04635835972417437\t1.2429437808151014\t0.5118457237755205\t0.803937251994271\t2.510960143290685\t1.560482777811315\t1.4246944140960351\t0.06219031607641433\t0.7545872924463981\t0.3488498756073962\t0.08376849618676617\n",
            "ENSMUSG00000000037\t2.9476756994631583\t3.0471557681514936\t2.8519918307981587\t3.006277684398084\t4.073379264981902\t3.221717911025525\t2.8476445710938285\t2.720893056356663\t2.6689576678246025\t3.995018849958247\t2.276475450644563\t3.38086524592351\t2.5237563336799025\t3.9327926972650005\t3.8166118644126112\t3.075950931403839\t3.3127658747255144\t2.887687379857445\t3.2116488323469947\n",
            "ENSMUSG00000000049\t0.4035691019092521\t0.036579343067061135\t0.03741034072797474\t0.41572990849174846\t0.07553235662558486\t0.06415830328198455\t0.05491574472671929\t0.03367995078795199\t0.04635835972417437\t0.058367917476556674\t0.033989725803229946\t0.06048005710517845\t0.12508106103339464\t0.07963392007249298\t0.05026406735185754\t0.06219031607641433\t0.04609207853053203\t0.055518277200405995\t0.08376849618676617\n",
            "ENSMUSG00000000056\t5.601388380054482\t6.27807002166546\t5.92760593390638\t7.147899552945424\t7.480145578549747\t11.932505223858453\t8.598338999778678\t7.014218233010123\t5.970887776126563\t4.921066473091929\t7.315983886575394\t4.819448015223932\t5.91025231837341\t6.031086171232964\t7.197199445075519\t4.512273114810428\t6.03300447067179\t5.705312311241614\t4.244423484737399\n",
            "ENSMUSG00000000058\t3.3980898929189545\t2.7379006013506\t3.4278332941380425\t3.7326620018017906\t3.2273509665171893\t3.184576087058748\t3.17409244415853\t2.5854272744730493\t2.7711712948841853\t3.2585850953033835\t3.5835439797124966\t2.2643911621004498\t3.416998664097972\t4.14226530317046\t3.5923061951102944\t3.5718310272288734\t2.9118634221510558\t3.7369107145140577\t3.0910860857207787\n",
            "ENSMUSG00000000078\t9.047701295948704\t9.747571270851072\t9.171093758881193\t9.733709866188253\t7.206914994778833\t18.82520370818335\t20.01182037318644\t13.448449933562356\t15.762446387110598\t5.370334959369783\t17.627957685897158\t5.651179124018679\t8.883215499397137\t6.928067652442371\t20.91420718106331\t6.289831909787648\t8.206712627577508\t10.992601452976706\t5.252032108333409\n"
          ]
        }
      ],
      "source": [
        "!head SRP070849.tsv"
      ]
    },
    {
      "cell_type": "code",
      "execution_count": null,
      "metadata": {
        "id": "WDJQhRK_-w_X"
      },
      "outputs": [],
      "source": [
        "gene_expression_dataframe = pd.read_csv('SRP070849.tsv', delimiter='\\t')"
      ]
    },
    {
      "cell_type": "code",
      "execution_count": null,
      "metadata": {
        "colab": {
          "base_uri": "https://localhost:8080/"
        },
        "id": "VLzFKyqU-8T1",
        "outputId": "f112bd7a-d1bd-41dd-a3dc-e1ad4baaa3cb"
      },
      "outputs": [
        {
          "data": {
            "text/plain": [
              "(                    SRR3189679  SRR3189680  ...  SRR3189696  SRR3189697\n",
              " Gene                                        ...                        \n",
              " ENSMUSG00000000001   15.662377   14.020692  ...   17.999310   15.497156\n",
              " ENSMUSG00000000003    0.028563    0.036579  ...    0.055518    0.083768\n",
              " ENSMUSG00000000028    5.150481    7.498046  ...    8.560792    6.990834\n",
              " ENSMUSG00000000031    0.923775    0.622761  ...    0.348850    0.083768\n",
              " ENSMUSG00000000037    2.947676    3.047156  ...    2.887687    3.211649\n",
              " ...                        ...         ...  ...         ...         ...\n",
              " ENSMUSG00000118387    0.028563    0.036579  ...    0.055518    0.083768\n",
              " ENSMUSG00000118388    0.028563    0.036579  ...    0.055518    0.083768\n",
              " ENSMUSG00000118390    0.694095    0.613301  ...    0.566410    0.977389\n",
              " ENSMUSG00000118391    1.015229    1.171583  ...    1.824098    0.929017\n",
              " ENSMUSG00000118392    0.401886    0.036579  ...    0.362730    0.083768\n",
              " \n",
              " [41249 rows x 19 columns],)"
            ]
          },
          "execution_count": 237,
          "metadata": {},
          "output_type": "execute_result"
        }
      ],
      "source": [
        "gene_expression_dataframe,"
      ]
    },
    {
      "cell_type": "code",
      "execution_count": null,
      "metadata": {
        "id": "nyNdyxX4_YFZ"
      },
      "outputs": [],
      "source": [
        "metadata_ = pd.read_csv('metadata_SRP070849.tsv', delimiter='\\t')"
      ]
    },
    {
      "cell_type": "code",
      "execution_count": null,
      "metadata": {
        "colab": {
          "base_uri": "https://localhost:8080/"
        },
        "id": "TMIF-NQk_pw1",
        "outputId": "1570087d-7d1e-41b9-ffcf-83e2ff1c1ebc"
      },
      "outputs": [
        {
          "data": {
            "text/plain": [
              "(   refinebio_accession_code  ... refinebio_treatment\n",
              " 0                SRR3189679  ...                none\n",
              " 1                SRR3189680  ...                none\n",
              " 2                SRR3189681  ...                none\n",
              " 3                SRR3189682  ...                none\n",
              " 4                SRR3189683  ...             vehicle\n",
              " 5                SRR3189684  ...             vehicle\n",
              " 6                SRR3189685  ...             vehicle\n",
              " 7                SRR3189686  ...              ag-221\n",
              " 8                SRR3189687  ...              ag-221\n",
              " 9                SRR3189688  ...              ag-221\n",
              " 10               SRR3189689  ...              ag-221\n",
              " 11               SRR3189690  ...             vehicle\n",
              " 12               SRR3189691  ...             vehicle\n",
              " 13               SRR3189692  ...             vehicle\n",
              " 14               SRR3189693  ...             vehicle\n",
              " 15               SRR3189694  ...               5-aza\n",
              " 16               SRR3189695  ...               5-aza\n",
              " 17               SRR3189696  ...               5-aza\n",
              " 18               SRR3189697  ...               5-aza\n",
              " \n",
              " [19 rows x 23 columns],)"
            ]
          },
          "execution_count": 260,
          "metadata": {},
          "output_type": "execute_result"
        }
      ],
      "source": [
        "metadata_,"
      ]
    },
    {
      "cell_type": "code",
      "execution_count": null,
      "metadata": {
        "colab": {
          "base_uri": "https://localhost:8080/"
        },
        "id": "Gx2m_4GiGYxY",
        "outputId": "626afb25-51a1-4f0f-8efd-0dc59aedc6f1"
      },
      "outputs": [
        {
          "data": {
            "text/plain": [
              "0                  WT-1 RNA-Seq\n",
              "1                  WT-2 RNA-Seq\n",
              "2                  WT-3 RNA-Seq\n",
              "3                  WT-4 RNA-Seq\n",
              "4       IDH2.FLT3_veh_1 RNA-Seq\n",
              "5       IDH2.FLT3_veh_2 RNA-Seq\n",
              "6       IDH2.FLT3_veh_3 RNA-Seq\n",
              "7     IDH2.FLT3_ag221_1 RNA-Seq\n",
              "8     IDH2.FLT3_ag221_2 RNA-Seq\n",
              "9     IDH2.FLT3_ag221_3 RNA-Seq\n",
              "10    IDH2.FLT3_ag221_4 RNA-Seq\n",
              "11      TET2.FLT3_veh_1 RNA-Seq\n",
              "12      TET2.FLT3_veh_2 RNA-Seq\n",
              "13      TET2.FLT3_veh_3 RNA-Seq\n",
              "14      TET2.FLT3_veh_4 RNA-Seq\n",
              "15     TET2.FLT3_azaC_1 RNA-Seq\n",
              "16     TET2.FLT3_azaC_2 RNA-Seq\n",
              "17     TET2.FLT3_azaC_3 RNA-Seq\n",
              "18     TET2.FLT3_azaC_4 RNA-Seq\n",
              "Name: refinebio_title, dtype: object"
            ]
          },
          "execution_count": 271,
          "metadata": {},
          "output_type": "execute_result"
        }
      ],
      "source": [
        "metadata_['refinebio_title']"
      ]
    },
    {
      "cell_type": "code",
      "execution_count": null,
      "metadata": {
        "colab": {
          "base_uri": "https://localhost:8080/"
        },
        "id": "ty76h7zF_-kq",
        "outputId": "ad634a41-9fae-46a1-e993-552efbf3f11e"
      },
      "outputs": [
        {
          "data": {
            "text/plain": [
              "['SRR3189679',\n",
              " 'SRR3189680',\n",
              " 'SRR3189681',\n",
              " 'SRR3189682',\n",
              " 'SRR3189683',\n",
              " 'SRR3189684',\n",
              " 'SRR3189685',\n",
              " 'SRR3189686',\n",
              " 'SRR3189687',\n",
              " 'SRR3189688',\n",
              " 'SRR3189689',\n",
              " 'SRR3189690',\n",
              " 'SRR3189691',\n",
              " 'SRR3189692',\n",
              " 'SRR3189693',\n",
              " 'SRR3189694',\n",
              " 'SRR3189695',\n",
              " 'SRR3189696',\n",
              " 'SRR3189697']"
            ]
          },
          "execution_count": 221,
          "metadata": {},
          "output_type": "execute_result"
        }
      ],
      "source": [
        "metadata_['refinebio_accession_code'].tolist()"
      ]
    },
    {
      "cell_type": "code",
      "execution_count": null,
      "metadata": {
        "id": "Fo-FUkd-AsxY"
      },
      "outputs": [],
      "source": [
        "gene_expression_dataframe.set_index('Gene', inplace=True)"
      ]
    },
    {
      "cell_type": "code",
      "execution_count": null,
      "metadata": {
        "colab": {
          "base_uri": "https://localhost:8080/"
        },
        "id": "tLTO9DN1AVsg",
        "outputId": "cb3301aa-a19f-4dea-92ac-11d3a514d7f0"
      },
      "outputs": [
        {
          "data": {
            "text/plain": [
              "Index(['SRR3189679', 'SRR3189680', 'SRR3189681', 'SRR3189682', 'SRR3189683',\n",
              "       'SRR3189684', 'SRR3189685', 'SRR3189686', 'SRR3189687', 'SRR3189688',\n",
              "       'SRR3189689', 'SRR3189690', 'SRR3189691', 'SRR3189692', 'SRR3189693',\n",
              "       'SRR3189694', 'SRR3189695', 'SRR3189696', 'SRR3189697'],\n",
              "      dtype='object')"
            ]
          },
          "execution_count": 228,
          "metadata": {},
          "output_type": "execute_result"
        }
      ],
      "source": [
        "gene_expression_dataframe.columns"
      ]
    },
    {
      "cell_type": "code",
      "execution_count": null,
      "metadata": {
        "colab": {
          "base_uri": "https://localhost:8080/"
        },
        "id": "Js7aAbTxA2Lu",
        "outputId": "b42a0586-ecf1-48d7-ffbd-17c46505ad44"
      },
      "outputs": [
        {
          "data": {
            "text/plain": [
              "True"
            ]
          },
          "execution_count": 231,
          "metadata": {},
          "output_type": "execute_result"
        }
      ],
      "source": [
        "gene_expression_dataframe.columns.tolist() == metadata_['refinebio_accession_code'].tolist()"
      ]
    },
    {
      "cell_type": "code",
      "execution_count": null,
      "metadata": {
        "colab": {
          "base_uri": "https://localhost:8080/"
        },
        "id": "igytB3lYBCpR",
        "outputId": "edbf4220-2ed1-420a-f41f-1214afad6a98"
      },
      "outputs": [
        {
          "data": {
            "text/plain": [
              "Gene\n",
              "ENSMUSG00000000001    22.243722\n",
              "ENSMUSG00000000003     0.007514\n",
              "ENSMUSG00000000028     3.795262\n",
              "ENSMUSG00000000031     0.450196\n",
              "ENSMUSG00000000037     0.256104\n",
              "                        ...    \n",
              "ENSMUSG00000118387     0.018745\n",
              "ENSMUSG00000118388     0.000581\n",
              "ENSMUSG00000118390     0.046556\n",
              "ENSMUSG00000118391     0.144691\n",
              "ENSMUSG00000118392     0.055267\n",
              "Length: 41249, dtype: float64"
            ]
          },
          "execution_count": 232,
          "metadata": {},
          "output_type": "execute_result"
        }
      ],
      "source": [
        "\"\"\" calculate variance for each gene \"\"\" \n",
        "gene_expression_dataframe.var(axis=1, skipna=True)"
      ]
    },
    {
      "cell_type": "code",
      "execution_count": null,
      "metadata": {
        "id": "i8UkXwctB3Kc"
      },
      "outputs": [],
      "source": [
        "gene_expression_dataframe['variance'] = gene_expression_dataframe.var(axis=1, skipna=True)"
      ]
    },
    {
      "cell_type": "code",
      "execution_count": null,
      "metadata": {
        "colab": {
          "base_uri": "https://localhost:8080/"
        },
        "id": "yB4nsBcCDMdZ",
        "outputId": "85b80b3a-04fa-4753-a42a-7fd9ed5bd46f"
      },
      "outputs": [
        {
          "data": {
            "text/plain": [
              "Gene\n",
              "ENSMUSG00000000001     True\n",
              "ENSMUSG00000000003    False\n",
              "ENSMUSG00000000028     True\n",
              "ENSMUSG00000000031    False\n",
              "ENSMUSG00000000037    False\n",
              "                      ...  \n",
              "ENSMUSG00000118387    False\n",
              "ENSMUSG00000118388    False\n",
              "ENSMUSG00000118390    False\n",
              "ENSMUSG00000118391    False\n",
              "ENSMUSG00000118392    False\n",
              "Name: variance, Length: 41249, dtype: bool"
            ]
          },
          "execution_count": 249,
          "metadata": {},
          "output_type": "execute_result"
        }
      ],
      "source": [
        "gene_expression_dataframe.variance > 0.9"
      ]
    },
    {
      "cell_type": "code",
      "execution_count": null,
      "metadata": {
        "colab": {
          "base_uri": "https://localhost:8080/"
        },
        "id": "BcXikQsHB9NW",
        "outputId": "1149a94b-ba55-4eeb-df2c-7fc847eca76e"
      },
      "outputs": [
        {
          "data": {
            "text/plain": [
              "array([9.00404445])"
            ]
          },
          "execution_count": 252,
          "metadata": {},
          "output_type": "execute_result"
        }
      ],
      "source": [
        "\"\"\" find upper quartile for these data \"\"\" \n",
        "upper_quantile = gene_expression_dataframe['variance'].quantile([0.92]).values\n",
        "upper_quantile"
      ]
    },
    {
      "cell_type": "code",
      "execution_count": null,
      "metadata": {
        "colab": {
          "base_uri": "https://localhost:8080/"
        },
        "id": "-zNyPSr6D2lk",
        "outputId": "c6261a93-6037-49fb-fbe1-d012dfea4e7d"
      },
      "outputs": [
        {
          "data": {
            "text/plain": [
              "(                    SRR3189679  SRR3189680  ...  SRR3189697   variance\n",
              " Gene                                        ...                       \n",
              " ENSMUSG00000000001   15.662377   14.020692  ...   15.497156  22.243722\n",
              " ENSMUSG00000000078    9.047701    9.747571  ...    5.252032  26.802848\n",
              " ENSMUSG00000000088    9.237976    8.073521  ...   18.138422  53.802688\n",
              " ENSMUSG00000000131   10.659723   11.497412  ...    8.578218  10.489976\n",
              " ENSMUSG00000000171   26.795223   25.827309  ...   33.782628  30.153591\n",
              " ...                        ...         ...  ...         ...        ...\n",
              " ENSMUSG00000117465   10.812538   13.151585  ...    6.318107  18.798146\n",
              " ENSMUSG00000117748    4.615136    4.752540  ...    5.407958  16.157861\n",
              " ENSMUSG00000117869   17.340081   13.922076  ...   22.342768  24.259373\n",
              " ENSMUSG00000117924   15.606114   16.767278  ...   22.312398  34.709908\n",
              " ENSMUSG00000118012    4.428607    5.855119  ...    2.820364  20.370498\n",
              " \n",
              " [3300 rows x 20 columns],)"
            ]
          },
          "execution_count": 267,
          "metadata": {},
          "output_type": "execute_result"
        }
      ],
      "source": [
        "\"\"\" filter data whose only genes are in quantile \n",
        "41429,\n",
        " 3300 rows \n",
        "\"\"\" \n",
        "dataframe_by_variance = gene_expression_dataframe[\n",
        "    gene_expression_dataframe.variance > float(upper_quantile)]\n",
        "dataframe_by_variance, "
      ]
    },
    {
      "cell_type": "code",
      "execution_count": null,
      "metadata": {
        "colab": {
          "base_uri": "https://localhost:8080/"
        },
        "id": "7U5uWOyuExJg",
        "outputId": "3ddc8fa0-1417-48d4-ed9d-0eeb7fccdfee"
      },
      "outputs": [
        {
          "data": {
            "text/plain": [
              "(                    SRR3189679  SRR3189680  ...  SRR3189696  SRR3189697\n",
              " Gene                                        ...                        \n",
              " ENSMUSG00000000001   15.662377   14.020692  ...   17.999310   15.497156\n",
              " ENSMUSG00000000078    9.047701    9.747571  ...   10.992601    5.252032\n",
              " ENSMUSG00000000088    9.237976    8.073521  ...   10.382590   18.138422\n",
              " ENSMUSG00000000131   10.659723   11.497412  ...    9.626273    8.578218\n",
              " ENSMUSG00000000171   26.795223   25.827309  ...   34.032497   33.782628\n",
              " ...                        ...         ...  ...         ...         ...\n",
              " ENSMUSG00000117465   10.812538   13.151585  ...    5.436774    6.318107\n",
              " ENSMUSG00000117748    4.615136    4.752540  ...    5.326743    5.407958\n",
              " ENSMUSG00000117869   17.340081   13.922076  ...   14.755023   22.342768\n",
              " ENSMUSG00000117924   15.606114   16.767278  ...   17.156014   22.312398\n",
              " ENSMUSG00000118012    4.428607    5.855119  ...    5.259400    2.820364\n",
              " \n",
              " [3300 rows x 19 columns],)"
            ]
          },
          "execution_count": 268,
          "metadata": {},
          "output_type": "execute_result"
        }
      ],
      "source": [
        "\"\"\" drop the variance column we calculated \"\"\" \n",
        "dataframe_by_variance = dataframe_by_variance.drop(columns=\"variance\")\n",
        "dataframe_by_variance, "
      ]
    },
    {
      "cell_type": "code",
      "execution_count": null,
      "metadata": {
        "id": "b8t7QbZ3Fam8"
      },
      "outputs": [],
      "source": [
        "\"\"\" write top variance in a tsv file \"\"\" \n",
        "dataframe_by_variance.to_csv('top_100_var_genes.tsv', sep='\\t')"
      ]
    },
    {
      "cell_type": "code",
      "execution_count": null,
      "metadata": {
        "colab": {
          "base_uri": "https://localhost:8080/"
        },
        "id": "bjYN6vFSFx9g",
        "outputId": "d96d8346-8fb0-45fe-bf57-5d73e3015f31"
      },
      "outputs": [
        {
          "data": {
            "text/plain": [
              "0       WT\n",
              "1       WT\n",
              "2       WT\n",
              "3       WT\n",
              "4     IDH2\n",
              "5     IDH2\n",
              "6     IDH2\n",
              "7     IDH2\n",
              "8     IDH2\n",
              "9     IDH2\n",
              "10    IDH2\n",
              "11    TET2\n",
              "12    TET2\n",
              "13    TET2\n",
              "14    TET2\n",
              "15    TET2\n",
              "16    TET2\n",
              "17    TET2\n",
              "18    TET2\n",
              "Name: exp_group, dtype: object"
            ]
          },
          "execution_count": 278,
          "metadata": {},
          "output_type": "execute_result"
        }
      ],
      "source": [
        "\"\"\" prepara the metadata for annotation \"\"\" \n",
        "expression_gene_group = metadata_['refinebio_title'].str.split(\n",
        "    '-|\\\\.', expand=True, n=1)\n",
        "# IDH2.FLT3_ag221_4 RNA-Seq\n",
        "metadata_['exp_group'] = expression_gene_group[0]\n",
        "metadata_['exp_group']"
      ]
    },
    {
      "cell_type": "code",
      "execution_count": null,
      "metadata": {
        "id": "XHMOkWn_HgUm"
      },
      "outputs": [],
      "source": [
        "\"\"\" color there two variables \"\"\" \n",
        "refinebio_treatment = metadata_['refinebio_treatment']\n",
        "exp_group = metadata_['exp_group']\n"
      ]
    },
    {
      "cell_type": "code",
      "execution_count": null,
      "metadata": {
        "id": "Wbzb08D5IrR3"
      },
      "outputs": [],
      "source": [
        "from matplotlib.patches import Patch\n",
        "import random \n",
        "def make_color_key(variable):\n",
        "  num_colors = len(variable.unique())\n",
        "  colors = [\n",
        "      '#' + ''.join([random.choice('0123456789ABCDEF') for i in range(6)])\n",
        "      for j in range(num_colors)\n",
        "  ]\n",
        "  # make color key dictionary for these groups \n",
        "  color_key_dict = dict(zip(variable.unique(), colors))\n",
        "  # make into data frame where index is sample ID\n",
        "  color_key = pd.Series(variable.map(color_key_dict))\n",
        "  return {'color_key_dict': color_key_dict, \n",
        "          'color_key': color_key}"
      ]
    },
    {
      "cell_type": "code",
      "execution_count": null,
      "metadata": {
        "colab": {
          "base_uri": "https://localhost:8080/"
        },
        "id": "WphmZiijI-uk",
        "outputId": "4ca0ffe7-563f-4ed5-ec87-44d12662833b"
      },
      "outputs": [
        {
          "data": {
            "text/plain": [
              "{'color_key_dict': {'SRR3189679': '#A93C43',\n",
              "  'SRR3189680': '#AE2C11',\n",
              "  'SRR3189681': '#E6C9E7',\n",
              "  'SRR3189682': '#B36B8A',\n",
              "  'SRR3189683': '#B0D95B',\n",
              "  'SRR3189684': '#51BEA4',\n",
              "  'SRR3189685': '#C3D257',\n",
              "  'SRR3189686': '#07597B',\n",
              "  'SRR3189687': '#EBC27B',\n",
              "  'SRR3189688': '#48DE8C',\n",
              "  'SRR3189689': '#C03770',\n",
              "  'SRR3189690': '#5DFF49',\n",
              "  'SRR3189691': '#715232',\n",
              "  'SRR3189692': '#057B23',\n",
              "  'SRR3189693': '#B6D1DF',\n",
              "  'SRR3189694': '#881318',\n",
              "  'SRR3189695': '#A5576C',\n",
              "  'SRR3189696': '#4B2483',\n",
              "  'SRR3189697': '#B90750'},\n",
              " 'color_key': 0     #A93C43\n",
              " 1     #AE2C11\n",
              " 2     #E6C9E7\n",
              " 3     #B36B8A\n",
              " 4     #B0D95B\n",
              " 5     #51BEA4\n",
              " 6     #C3D257\n",
              " 7     #07597B\n",
              " 8     #EBC27B\n",
              " 9     #48DE8C\n",
              " 10    #C03770\n",
              " 11    #5DFF49\n",
              " 12    #715232\n",
              " 13    #057B23\n",
              " 14    #B6D1DF\n",
              " 15    #881318\n",
              " 16    #A5576C\n",
              " 17    #4B2483\n",
              " 18    #B90750\n",
              " Name: refinebio_accession_code, dtype: object}"
            ]
          },
          "execution_count": 290,
          "metadata": {},
          "output_type": "execute_result"
        }
      ],
      "source": [
        "variable_ = metadata_['refinebio_accession_code']\n",
        "make_color_key(variable_)"
      ]
    },
    {
      "cell_type": "code",
      "execution_count": null,
      "metadata": {
        "id": "R7ZvJC9JLBAy"
      },
      "outputs": [],
      "source": [
        "def make_legend(color_key_dict):\n",
        "  # setup based on color dictionary\n",
        "  return [Patch(facecolor=color_key_dict[name]) for name in color_key_dict]"
      ]
    },
    {
      "cell_type": "code",
      "execution_count": null,
      "metadata": {
        "id": "bjO9RMsQLfLq"
      },
      "outputs": [],
      "source": [
        "\"\"\" color there two variables \"\"\" \n",
        "refinebio_treatment_colors = make_color_key(metadata_['refinebio_treatment'])\n",
        "exp_group_colors = make_color_key(metadata_['exp_group'])"
      ]
    },
    {
      "cell_type": "code",
      "execution_count": null,
      "metadata": {
        "colab": {
          "base_uri": "https://localhost:8080/"
        },
        "id": "4ErIsUsGM_1b",
        "outputId": "17e762b3-85fc-46aa-b918-634fa6e236d2"
      },
      "outputs": [
        {
          "data": {
            "text/plain": [
              "{'color_key_dict': {'WT': '#DE1429', 'IDH2': '#369239', 'TET2': '#092D57'},\n",
              " 'color_key': 0     #DE1429\n",
              " 1     #DE1429\n",
              " 2     #DE1429\n",
              " 3     #DE1429\n",
              " 4     #369239\n",
              " 5     #369239\n",
              " 6     #369239\n",
              " 7     #369239\n",
              " 8     #369239\n",
              " 9     #369239\n",
              " 10    #369239\n",
              " 11    #092D57\n",
              " 12    #092D57\n",
              " 13    #092D57\n",
              " 14    #092D57\n",
              " 15    #092D57\n",
              " 16    #092D57\n",
              " 17    #092D57\n",
              " 18    #092D57\n",
              " Name: exp_group, dtype: object}"
            ]
          },
          "execution_count": 297,
          "metadata": {},
          "output_type": "execute_result"
        }
      ],
      "source": [
        "exp_group_colors"
      ]
    },
    {
      "cell_type": "code",
      "execution_count": null,
      "metadata": {
        "colab": {
          "base_uri": "https://localhost:8080/"
        },
        "id": "qf9TWtKWM5mn",
        "outputId": "b29450a5-b143-4c49-9747-7775879f9cb1"
      },
      "outputs": [
        {
          "data": {
            "text/plain": [
              "{'color_key_dict': {'none': '#E45BEF',\n",
              "  'vehicle': '#9DA691',\n",
              "  'ag-221': '#709103',\n",
              "  '5-aza': '#219D84'},\n",
              " 'color_key': 0     #E45BEF\n",
              " 1     #E45BEF\n",
              " 2     #E45BEF\n",
              " 3     #E45BEF\n",
              " 4     #9DA691\n",
              " 5     #9DA691\n",
              " 6     #9DA691\n",
              " 7     #709103\n",
              " 8     #709103\n",
              " 9     #709103\n",
              " 10    #709103\n",
              " 11    #9DA691\n",
              " 12    #9DA691\n",
              " 13    #9DA691\n",
              " 14    #9DA691\n",
              " 15    #219D84\n",
              " 16    #219D84\n",
              " 17    #219D84\n",
              " 18    #219D84\n",
              " Name: refinebio_treatment, dtype: object}"
            ]
          },
          "execution_count": 296,
          "metadata": {},
          "output_type": "execute_result"
        }
      ],
      "source": [
        "refinebio_treatment_colors"
      ]
    },
    {
      "cell_type": "code",
      "execution_count": null,
      "metadata": {
        "colab": {
          "base_uri": "https://localhost:8080/"
        },
        "id": "Swo0x06YM3vL",
        "outputId": "18c2ca70-04fa-4d30-b57f-71a2bc0a9c8e"
      },
      "outputs": [
        {
          "data": {
            "text/plain": [
              "(           refinebio_treatment exp_group\n",
              " SRR3189679             #E45BEF   #DE1429\n",
              " SRR3189680             #E45BEF   #DE1429\n",
              " SRR3189681             #E45BEF   #DE1429\n",
              " SRR3189682             #E45BEF   #DE1429\n",
              " SRR3189683             #9DA691   #369239\n",
              " SRR3189684             #9DA691   #369239\n",
              " SRR3189685             #9DA691   #369239\n",
              " SRR3189686             #709103   #369239\n",
              " SRR3189687             #709103   #369239\n",
              " SRR3189688             #709103   #369239\n",
              " SRR3189689             #709103   #369239\n",
              " SRR3189690             #9DA691   #092D57\n",
              " SRR3189691             #9DA691   #092D57\n",
              " SRR3189692             #9DA691   #092D57\n",
              " SRR3189693             #9DA691   #092D57\n",
              " SRR3189694             #219D84   #092D57\n",
              " SRR3189695             #219D84   #092D57\n",
              " SRR3189696             #219D84   #092D57\n",
              " SRR3189697             #219D84   #092D57,)"
            ]
          },
          "execution_count": 327,
          "metadata": {},
          "output_type": "execute_result"
        }
      ],
      "source": [
        "\"\"\" make them into one data frame to provide as input to the heatmap \"\"\" \n",
        "color_key_dataframe = pd.concat(\n",
        "    [#metadata_['refinebio_accession_code'], \n",
        "     refinebio_treatment_colors['color_key'], \n",
        "     exp_group_colors['color_key']],\n",
        "    axis=1,\n",
        "    names=['treatment', 'exp_group']\n",
        ")\n",
        "color_key_dataframe = color_key_dataframe.set_index(dataframe_by_variance.columns)\n",
        "color_key_dataframe, "
      ]
    },
    {
      "cell_type": "code",
      "execution_count": null,
      "metadata": {
        "colab": {
          "base_uri": "https://localhost:8080/",
          "height": 1000
        },
        "id": "wPGcggeROcsn",
        "outputId": "9943ee42-514e-4d5a-d07f-a29459ea9bd1"
      },
      "outputs": [
        {
          "name": "stderr",
          "output_type": "stream",
          "text": [
            "/usr/local/lib/python3.9/dist-packages/seaborn/matrix.py:560: UserWarning: Clustering large matrix with scipy. Installing `fastcluster` may give better performance.\n",
            "  warnings.warn(msg)\n"
          ]
        },
        {
          "data": {
            "image/png": "[encoded data removed]",
            "text/plain": [
              "<Figure size 1000x1000 with 5 Axes>"
            ]
          },
          "metadata": {},
          "output_type": "display_data"
        }
      ],
      "source": [
        "\"\"\" create and store heatmap - start with seaborn \"\"\"\n",
        "import seaborn as sns\n",
        "\n",
        "heatmap = sns.clustermap(\n",
        "    dataframe_by_variance, cmap='mako', \n",
        "    col_colors=color_key_dataframe,\n",
        "    dendrogram_ratio=(0, 0.2),\n",
        "    cbar_pos=(-0.1, 0.2, 0.03, 0.5)\n",
        ")\n",
        "\n",
        "legend1 = make_legend(exp_group_colors['color_key_dict'])\n",
        "legend2 = make_legend(refinebio_treatment_colors['color_key_dict'])\n",
        "\n",
        "from matplotlib import pyplot as plt\n",
        "plt.legend(\n",
        "    legend1, \n",
        "    exp_group_colors['color_key_dict'],\n",
        "    title='Experiment Group',\n",
        "    bbox_to_anchor=(4, 1.3),\n",
        ")\n",
        "\n",
        "heatmap.ax_row_dendrogram.legend(\n",
        "    legend2, \n",
        "    refinebio_treatment_colors['color_key_dict'],\n",
        "    title='Treatment',\n",
        "    bbox_to_anchor=(0, 1.37),\n",
        ")\n",
        "\n",
        "plt.show()"
      ]
    },
    {
      "cell_type": "markdown",
      "metadata": {
        "id": "geZWjs5q2xFD"
      },
      "source": [
        "### NCI microarray Gene Expression Understanding "
      ]
    },
    {
      "cell_type": "markdown",
      "metadata": {
        "id": "CTCFeYCt215D"
      },
      "source": [
        "NCI microarray data (chap 14)\n",
        "\n",
        "Source and reference:\n",
        "\n",
        "http://genome-www.stanford.edu/nci60/\n",
        "\n",
        "NCI microarray data\n",
        " \n",
        "6830 genes\n",
        "missing values have been imputed via SVD\n",
        "64 cell lines, labels are below\n",
        "\n",
        "Data can be read in R via commands:\n",
        "nci.data <- read.table(url(\"https://web.stanford.edu/~hastie/ElemStatLearn/datasets/nci.data.csv\"),\n",
        "\tsep=\",\",row.names=1,header=TRUE)\n",
        "nci.label <-scan(url(\"https://web.stanford.edu/~hastie/ElemStatLearn/datasets/nci.label\",what=\"\")\n"
      ]
    },
    {
      "cell_type": "code",
      "execution_count": null,
      "metadata": {
        "id": "leLrINLf3Q6n"
      },
      "outputs": [],
      "source": [
        "from matplotlib import gridspec, transforms\n",
        "from matplotlib import pyplot as plt\n",
        "from matplotlib.colors import LinearSegmentedColormap, BoundaryNorm \n",
        "import numpy as np, pandas as pd \n",
        "%matplotlib inline "
      ]
    },
    {
      "cell_type": "code",
      "execution_count": null,
      "metadata": {
        "id": "DOB8Exwe1_Dj"
      },
      "outputs": [],
      "source": [
        "dataset_genes = pd.read_csv('nci_data.csv', sep=',')\n",
        "labels = pd.read_csv('nci_label.txt', names=['type'])"
      ]
    },
    {
      "cell_type": "code",
      "execution_count": null,
      "metadata": {
        "colab": {
          "base_uri": "https://localhost:8080/"
        },
        "id": "3axV54FQ1_Jn",
        "outputId": "20c9b482-a202-42b1-cadf-5aac4c64f578"
      },
      "outputs": [
        {
          "data": {
            "text/plain": [
              "(  Unnamed: 0    s1        s2    s3    s4     s5    s6    s7    s8    s9  ...  \\\n",
              " 0         g1  0.30  0.679961  0.94  0.28  0.485  0.31 -0.83 -0.19  0.46  ...   \n",
              " 1         g2  1.18  1.289961 -0.04 -0.31 -0.465 -0.03  0.00 -0.87  0.00  ...   \n",
              " \n",
              "     s55   s56   s57      s58   s59   s60   s61   s62   s63   s64  \n",
              " 0  0.01 -0.62 -0.38  0.04998  0.65 -0.03 -0.27  0.21 -0.05  0.35  \n",
              " 1 -1.28 -0.13  0.00 -0.72002  0.64 -0.48  0.63 -0.62  0.14 -0.27  \n",
              " \n",
              " [2 rows x 65 columns],\n",
              "   CNS          \n",
              " 0   CNS        \n",
              " 1   CNS        \n",
              " 2   RENAL      )"
            ]
          },
          "execution_count": 110,
          "metadata": {},
          "output_type": "execute_result"
        }
      ],
      "source": [
        "dataset_genes.head(2), labels.head(3)"
      ]
    },
    {
      "cell_type": "code",
      "execution_count": null,
      "metadata": {
        "colab": {
          "base_uri": "https://localhost:8080/"
        },
        "id": "SPaL_zVWy-pf",
        "outputId": "28c75b09-8f4d-4158-b3cf-afae82c50d4e"
      },
      "outputs": [
        {
          "data": {
            "text/plain": [
              "0          CNS\n",
              "1          CNS\n",
              "2          CNS\n",
              "3        RENAL\n",
              "4       BREAST\n",
              "        ...   \n",
              "59    MELANOMA\n",
              "60    MELANOMA\n",
              "61    MELANOMA\n",
              "62    MELANOMA\n",
              "63    MELANOMA\n",
              "Name: type, Length: 64, dtype: object"
            ]
          },
          "execution_count": 118,
          "metadata": {},
          "output_type": "execute_result"
        }
      ],
      "source": [
        "labels['type'] = labels['type'].str.strip()\n",
        "labels.type"
      ]
    },
    {
      "cell_type": "code",
      "execution_count": null,
      "metadata": {
        "colab": {
          "base_uri": "https://localhost:8080/"
        },
        "id": "OijKZaaA5M9i",
        "outputId": "44e5fe45-81f0-43e7-c799-9cd835f9dac1"
      },
      "outputs": [
        {
          "data": {
            "text/plain": [
              "(['s1', 's2', 's3', 's4'],\n",
              " 0       0.28000\n",
              " 1      -0.31000\n",
              " 2       0.68000\n",
              " 3      -0.81000\n",
              " 4       0.62500\n",
              "          ...   \n",
              " 6825   -0.30000\n",
              " 6826   -1.15001\n",
              " 6827    1.09000\n",
              " 6828   -0.26000\n",
              " 6829   -1.10000\n",
              " Name: s4, Length: 6830, dtype: float64)"
            ]
          },
          "execution_count": 128,
          "metadata": {},
          "output_type": "execute_result"
        }
      ],
      "source": [
        "labels_group = labels.copy() # keep the same structure \n",
        "labels_group.loc[labels_group['type'] == 'K562A-repro', 'type'] = 'K562'\n",
        "labels_group.loc[labels_group['type'] == 'K562B-repro', 'type'] = 'K562'\n",
        "labels_group.loc[labels_group['type'] == 'MCF7A-repro', 'type'] = 'MCF7'\n",
        "labels_group.loc[labels_group['type'] == 'MCF7D-repro', 'type'] = 'MCF7'\n",
        "\n",
        "sample_columns = [f's{i+1}' for i in range(64)]\n",
        "sample_columns[:4], dataset_genes['s4']"
      ]
    },
    {
      "cell_type": "code",
      "execution_count": null,
      "metadata": {
        "colab": {
          "base_uri": "https://localhost:8080/"
        },
        "id": "tmT73kSX7DXg",
        "outputId": "768afe92-a8db-4ba2-9a99-30fb49deddd9"
      },
      "outputs": [
        {
          "data": {
            "text/plain": [
              "(array([[ 0.3     ,  0.679961,  0.94    , ...,  0.21    , -0.05    ,\n",
              "          0.35    ],\n",
              "        [ 1.18    ,  1.289961, -0.04    , ..., -0.62    ,  0.14    ,\n",
              "         -0.27    ],\n",
              "        [ 0.55    ,  0.169961, -0.17    , ..., -0.15    , -0.09    ,\n",
              "          0.02    ],\n",
              "        ...,\n",
              "        [ 0.28    , -0.770039, -0.12    , ...,  0.16    , -0.49    ,\n",
              "          0.29    ],\n",
              "        [-0.34    , -0.390039, -0.41    , ...,  2.03    ,  0.01    ,\n",
              "         -0.15    ],\n",
              "        [-1.93    , -2.000039,  0.      , ...,  3.94    , -1.72    ,\n",
              "          1.21    ]]),\n",
              " array(['CNS', 'CNS', 'CNS', 'RENAL', 'BREAST', 'CNS', 'CNS', 'BREAST',\n",
              "        'NSCLC', 'NSCLC', 'RENAL', 'RENAL', 'RENAL', 'RENAL', 'RENAL',\n",
              "        'RENAL', 'RENAL', 'BREAST', 'NSCLC', 'RENAL', 'UNKNOWN', 'OVARIAN',\n",
              "        'MELANOMA', 'PROSTATE', 'OVARIAN', 'OVARIAN', 'OVARIAN', 'OVARIAN',\n",
              "        'OVARIAN', 'PROSTATE', 'NSCLC', 'NSCLC', 'NSCLC', 'LEUKEMIA',\n",
              "        'K562B-repro', 'K562A-repro', 'LEUKEMIA', 'LEUKEMIA', 'LEUKEMIA',\n",
              "        'LEUKEMIA', 'LEUKEMIA', 'COLON', 'COLON', 'COLON', 'COLON',\n",
              "        'COLON', 'COLON', 'COLON', 'MCF7A-repro', 'BREAST', 'MCF7D-repro',\n",
              "        'BREAST', 'NSCLC', 'NSCLC', 'NSCLC', 'MELANOMA', 'BREAST',\n",
              "        'BREAST', 'MELANOMA', 'MELANOMA', 'MELANOMA', 'MELANOMA',\n",
              "        'MELANOMA', 'MELANOMA'], dtype=object),\n",
              " array(['CNS', 'CNS', 'CNS', 'RENAL', 'BREAST', 'CNS', 'CNS', 'BREAST',\n",
              "        'NSCLC', 'NSCLC', 'RENAL', 'RENAL', 'RENAL', 'RENAL', 'RENAL',\n",
              "        'RENAL', 'RENAL', 'BREAST', 'NSCLC', 'RENAL', 'UNKNOWN', 'OVARIAN',\n",
              "        'MELANOMA', 'PROSTATE', 'OVARIAN', 'OVARIAN', 'OVARIAN', 'OVARIAN',\n",
              "        'OVARIAN', 'PROSTATE', 'NSCLC', 'NSCLC', 'NSCLC', 'LEUKEMIA',\n",
              "        'K562', 'K562', 'LEUKEMIA', 'LEUKEMIA', 'LEUKEMIA', 'LEUKEMIA',\n",
              "        'LEUKEMIA', 'COLON', 'COLON', 'COLON', 'COLON', 'COLON', 'COLON',\n",
              "        'COLON', 'MCF7', 'BREAST', 'MCF7', 'BREAST', 'NSCLC', 'NSCLC',\n",
              "        'NSCLC', 'MELANOMA', 'BREAST', 'BREAST', 'MELANOMA', 'MELANOMA',\n",
              "        'MELANOMA', 'MELANOMA', 'MELANOMA', 'MELANOMA'], dtype=object))"
            ]
          },
          "execution_count": 131,
          "metadata": {},
          "output_type": "execute_result"
        }
      ],
      "source": [
        "X = dataset_genes[sample_columns].values \n",
        "y = labels['type'].values \n",
        "y_grouped = labels_group['type'].values \n",
        "X, y, y_grouped"
      ]
    },
    {
      "cell_type": "code",
      "execution_count": null,
      "metadata": {
        "colab": {
          "base_uri": "https://localhost:8080/"
        },
        "id": "iH1QMnKB7weI",
        "outputId": "7f770879-764d-4e77-aa14-1556f3400d3d"
      },
      "outputs": [
        {
          "data": {
            "text/plain": [
              "((100, 64),\n",
              " array([[ 0.0075    ,  1.5275    ,  0.6975    , ...,  0.3275    ,\n",
              "         -0.372539  ,  1.1975    ],\n",
              "        [ 0.58      ,  0.56      ,  0.04      , ...,  0.2       ,\n",
              "         -0.300039  ,  0.53      ],\n",
              "        [-0.25      ,  0.5       ,  0.21      , ..., -0.5       ,\n",
              "          0.289961  ,  0.31      ],\n",
              "        ...,\n",
              "        [ 0.        , -0.02500977, -3.71501   , ..., -0.7350098 ,\n",
              "         -0.06504875, -1.94501   ],\n",
              "        [ 1.29998   ,  0.9599805 , -1.71002   , ...,  3.34998   ,\n",
              "          1.429941  ,  2.23998   ],\n",
              "        [ 0.8399805 ,  2.92998   , -1.64002   , ...,  0.        ,\n",
              "          0.        ,  0.        ]]))"
            ]
          },
          "execution_count": 199,
          "metadata": {},
          "output_type": "execute_result"
        }
      ],
      "source": [
        "\"\"\" Heatmap a 3-dimensional chart that crosses two dimensions and aggregates\n",
        "the values to the intersection of the horizontal and vertical. \n",
        "values = Dimension['values']\n",
        "dimension = ['x','y', 'values']\n",
        "\"\"\" \n",
        "cmap = LinearSegmentedColormap.from_list(\n",
        "    'cm', ['green', 'black', 'red'], N=256)\n",
        "plt.rcParams['font.family'] = 'sans-serif'\n",
        "plt.rcParams['axes.linewidth'] = 1 \n",
        "plt.rcParams['lines.linewidth'] = 0.5\n",
        "bounds = np.arange(-2, 2.5, .5)\n",
        "# bounds array([-2. , -1.5, -1. , -0.5,  0. ,  0.5,  1. ,  1.5,  2. ])\n",
        "norm = BoundaryNorm(bounds, cmap.N)\n",
        "random_rows = np.random.choice(range(X.shape[0]), 100, replace=False)\n",
        "random_columns = np.random.choice(range(X.shape[1]), X.shape[1], replace=False)\n",
        "random_data_for_heatmap = X[random_rows][:, random_columns]\n",
        "random_data_for_heatmap.shape, random_data_for_heatmap"
      ]
    },
    {
      "cell_type": "code",
      "execution_count": null,
      "metadata": {
        "colab": {
          "base_uri": "https://localhost:8080/",
          "height": 1000
        },
        "id": "9ljHI2EPCCfZ",
        "outputId": "c17e3d7c-8d7f-46d2-ad5f-8eede14fac13"
      },
      "outputs": [
        {
          "data": {
            "text/plain": [
              "[Text(0, 0, 'MELANOMA'),\n",
              " Text(1, 0, 'NSCLC'),\n",
              " Text(2, 0, 'NSCLC'),\n",
              " Text(3, 0, 'MELANOMA'),\n",
              " Text(4, 0, 'NSCLC'),\n",
              " Text(5, 0, 'NSCLC'),\n",
              " Text(6, 0, 'LEUKEMIA'),\n",
              " Text(7, 0, 'RENAL'),\n",
              " Text(8, 0, 'BREAST'),\n",
              " Text(9, 0, 'PROSTATE'),\n",
              " Text(10, 0, 'NSCLC'),\n",
              " Text(11, 0, 'COLON'),\n",
              " Text(12, 0, 'RENAL'),\n",
              " Text(13, 0, 'MELANOMA'),\n",
              " Text(14, 0, 'PROSTATE'),\n",
              " Text(15, 0, 'BREAST'),\n",
              " Text(16, 0, 'CNS'),\n",
              " Text(17, 0, 'BREAST'),\n",
              " Text(18, 0, 'NSCLC'),\n",
              " Text(19, 0, 'LEUKEMIA'),\n",
              " Text(20, 0, 'COLON'),\n",
              " Text(21, 0, 'COLON'),\n",
              " Text(22, 0, 'MELANOMA'),\n",
              " Text(23, 0, 'LEUKEMIA'),\n",
              " Text(24, 0, 'CNS'),\n",
              " Text(25, 0, 'LEUKEMIA'),\n",
              " Text(26, 0, 'CNS'),\n",
              " Text(27, 0, 'OVARIAN'),\n",
              " Text(28, 0, 'NSCLC'),\n",
              " Text(29, 0, 'CNS'),\n",
              " Text(30, 0, 'OVARIAN'),\n",
              " Text(31, 0, 'MELANOMA'),\n",
              " Text(32, 0, 'RENAL'),\n",
              " Text(33, 0, 'NSCLC'),\n",
              " Text(34, 0, 'RENAL'),\n",
              " Text(35, 0, 'COLON'),\n",
              " Text(36, 0, 'NSCLC'),\n",
              " Text(37, 0, 'BREAST'),\n",
              " Text(38, 0, 'OVARIAN'),\n",
              " Text(39, 0, 'COLON'),\n",
              " Text(40, 0, 'RENAL'),\n",
              " Text(41, 0, 'COLON'),\n",
              " Text(42, 0, 'LEUKEMIA'),\n",
              " Text(43, 0, 'MCF7'),\n",
              " Text(44, 0, 'BREAST'),\n",
              " Text(45, 0, 'MELANOMA'),\n",
              " Text(46, 0, 'RENAL'),\n",
              " Text(47, 0, 'LEUKEMIA'),\n",
              " Text(48, 0, 'RENAL'),\n",
              " Text(49, 0, 'UNKNOWN'),\n",
              " Text(50, 0, 'K562'),\n",
              " Text(51, 0, 'MCF7'),\n",
              " Text(52, 0, 'MELANOMA'),\n",
              " Text(53, 0, 'RENAL'),\n",
              " Text(54, 0, 'MELANOMA'),\n",
              " Text(55, 0, 'RENAL'),\n",
              " Text(56, 0, 'K562'),\n",
              " Text(57, 0, 'OVARIAN'),\n",
              " Text(58, 0, 'BREAST'),\n",
              " Text(59, 0, 'BREAST'),\n",
              " Text(60, 0, 'OVARIAN'),\n",
              " Text(61, 0, 'OVARIAN'),\n",
              " Text(62, 0, 'COLON'),\n",
              " Text(63, 0, 'CNS')]"
            ]
          },
          "execution_count": 164,
          "metadata": {},
          "output_type": "execute_result"
        },
        {
          "data": {
            "image/png": "[encoded data removed]",
            "text/plain": [
              "<Figure size 2250x900 with 1 Axes>"
            ]
          },
          "metadata": {},
          "output_type": "display_data"
        }
      ],
      "source": [
        "figure, axis = plt.subplots(figsize=(15, 6), dpi=150)\n",
        "axis.imshow(random_data_for_heatmap, interpolation='none', norm=norm, cmap=cmap)\n",
        "axis.tick_params(bottom=False, left=False, labelleft=False)\n",
        "plt.setp(axis, xticks=list(range(64)))\n",
        "axis.set_xticklabels(y_grouped[random_columns], rotation=90, ha='center', size=4)"
      ]
    },
    {
      "cell_type": "code",
      "execution_count": null,
      "metadata": {
        "colab": {
          "base_uri": "https://localhost:8080/"
        },
        "id": "KyWMT1TnCtqp",
        "outputId": "ff6a2c79-9abd-4b5d-93ee-4fa63b94a4c3"
      },
      "outputs": [
        {
          "name": "stderr",
          "output_type": "stream",
          "text": [
            "/usr/local/lib/python3.9/dist-packages/sklearn/cluster/_kmeans.py:870: FutureWarning: The default value of `n_init` will change from 10 to 'auto' in 1.4. Set the value of `n_init` explicitly to suppress the warning\n",
            "  warnings.warn(\n"
          ]
        },
        {
          "data": {
            "text/plain": [
              "[Counter({'LEUKEMIA': 6, 'K562': 2}),\n",
              " Counter({'MELANOMA': 7, 'BREAST': 2}),\n",
              " Counter({'CNS': 5,\n",
              "          'RENAL': 9,\n",
              "          'BREAST': 3,\n",
              "          'NSCLC': 3,\n",
              "          'UNKNOWN': 1,\n",
              "          'OVARIAN': 1,\n",
              "          'MELANOMA': 1}),\n",
              " Counter({'PROSTATE': 2,\n",
              "          'OVARIAN': 5,\n",
              "          'NSCLC': 6,\n",
              "          'COLON': 7,\n",
              "          'MCF7': 2,\n",
              "          'BREAST': 2})]"
            ]
          },
          "execution_count": 185,
          "metadata": {},
          "output_type": "execute_result"
        }
      ],
      "source": [
        "\"\"\" Clustering \"\"\" \n",
        "from sklearn.cluster import KMeans\n",
        "from collections import Counter \n",
        "number_of_clusters = 4 \n",
        "kmeans_ = KMeans(n_clusters=number_of_clusters, random_state=1).fit(X.T)\n",
        "clusters = kmeans_.predict(X.T) \n",
        "cls_counts = [Counter(y_grouped[clusters == c]) for c in range(4)]\n",
        "cls_counts"
      ]
    },
    {
      "cell_type": "code",
      "execution_count": null,
      "metadata": {
        "colab": {
          "base_uri": "https://localhost:8080/"
        },
        "id": "mcERXFbGDwZv",
        "outputId": "55c7b97d-1ca6-4e05-b8c5-41e2d8bf550a"
      },
      "outputs": [
        {
          "name": "stdout",
          "output_type": "stream",
          "text": [
            "--------------------------------------------------------------------------------\n",
            "Cluster |     BREAST       CNS     COLON      K562  LEUKEMIA      MCF7\n",
            "--------------------------------------------------------------------------------\n",
            "[0, 0, 0, 2, 6, 0] Counter({'LEUKEMIA': 6, 'K562': 2})\n",
            "[2, 0, 0, 0, 0, 0] Counter({'MELANOMA': 7, 'BREAST': 2})\n",
            "[3, 5, 0, 0, 0, 0] Counter({'RENAL': 9, 'CNS': 5, 'BREAST': 3, 'NSCLC': 3, 'UNKNOWN': 1, 'OVARIAN': 1, 'MELANOMA': 1})\n",
            "[2, 0, 7, 0, 0, 2] Counter({'COLON': 7, 'NSCLC': 6, 'OVARIAN': 5, 'PROSTATE': 2, 'MCF7': 2, 'BREAST': 2})\n",
            "--------------------------------------------------------------------------------\n",
            "Cluster |    OVARIAN     NSCLC  PROSTATE   UNKNOWN\n",
            "--------------------------------------------------------------------------------\n",
            "[0, 0, 0, 0] Counter({'LEUKEMIA': 6, 'K562': 2})\n",
            "[0, 0, 0, 0] Counter({'MELANOMA': 7, 'BREAST': 2})\n",
            "[1, 3, 0, 1] Counter({'RENAL': 9, 'CNS': 5, 'BREAST': 3, 'NSCLC': 3, 'UNKNOWN': 1, 'OVARIAN': 1, 'MELANOMA': 1})\n",
            "[5, 6, 2, 0] Counter({'COLON': 7, 'NSCLC': 6, 'OVARIAN': 5, 'PROSTATE': 2, 'MCF7': 2, 'BREAST': 2})\n"
          ]
        }
      ],
      "source": [
        "for group_cluster in [['BREAST', 'CNS', 'COLON', 'K562', 'LEUKEMIA', 'MCF7'],\n",
        "                      ['OVARIAN', 'NSCLC', 'PROSTATE', 'UNKNOWN']]:\n",
        "              print('-'*80)\n",
        "              print('Cluster | ' + ''.join(\n",
        "                  [f'{cluster_name:>10}' for cluster_name in group_cluster]))\n",
        "              print('-'*80)\n",
        "              for i in range(number_of_clusters):\n",
        "                counts_ = cls_counts[i]\n",
        "                cnts_ = [counts_[t] if t in counts_ else 0 for t in group_cluster ]\n",
        "                print(cnts_, counts_)"
      ]
    },
    {
      "cell_type": "code",
      "execution_count": null,
      "metadata": {
        "colab": {
          "base_uri": "https://localhost:8080/"
        },
        "id": "RmQbc9VRSc-K",
        "outputId": "6e451e08-4c0d-4d04-bb31-8321bca7f1c5"
      },
      "outputs": [
        {
          "name": "stdout",
          "output_type": "stream",
          "text": [
            "--------------------------------------------------------------------------------\n",
            "Cluster |     BREAST       CNS     COLON      K562  LEUKEMIA      MCF7\n",
            "--------------------------------------------------------------------------------\n",
            "1                  0         0         0         2         6         0\n",
            "2                  2         0         0         0         0         0\n",
            "3                  3         5         0         0         0         0\n",
            "4                  2         0         7         0         0         2\n",
            "--------------------------------------------------------------------------------\n",
            "Cluster |    OVARIAN     NSCLC  PROSTATE   UNKNOWN\n",
            "--------------------------------------------------------------------------------\n",
            "1                  0         0         0         0\n",
            "2                  0         0         0         0\n",
            "3                  1         3         0         1\n",
            "4                  5         6         2         0\n"
          ]
        }
      ],
      "source": [
        "for group_cluster in [['BREAST', 'CNS', 'COLON', 'K562', 'LEUKEMIA', 'MCF7'],\n",
        "                      ['OVARIAN', 'NSCLC', 'PROSTATE', 'UNKNOWN']]:\n",
        "              print('-'*80)\n",
        "              print('Cluster | ' + ''.join(\n",
        "                  [f'{cluster_name:>10}' for cluster_name in group_cluster]))\n",
        "              print('-'*80)\n",
        "              for i in range(number_of_clusters):\n",
        "                counts_ = cls_counts[i]\n",
        "                cnts_ = [counts_[t] if t in counts_ else 0 for t in group_cluster ]\n",
        "                print(f'{i+1:<10}' + ''.join([f'{idx:>10}' for idx in cnts_]))"
      ]
    },
    {
      "cell_type": "code",
      "execution_count": null,
      "metadata": {
        "id": "P5CA1_yLSowX"
      },
      "outputs": [],
      "source": [
        "\"\"\"\n",
        "Review notes: Computational Biology - Clustering as Prediction\n",
        "Supervised vs. Unsupervised Learning\n",
        "• Hierarchical Clustering\n",
        "– Hierarchical Agglomerative Clustering (HAC)\n",
        "• Non-Hierarchical Clustering – K-means\n",
        "– Mixtures of Gaussians and EM-Algorithm\n",
        "\"\"\" "
      ]
    },
    {
      "cell_type": "code",
      "execution_count": null,
      "metadata": {
        "colab": {
          "base_uri": "https://localhost:8080/",
          "height": 496
        },
        "id": "ND1G_nQETUZ8",
        "outputId": "a5f58aa0-416b-4d33-ce42-2b72a5f75f40"
      },
      "outputs": [
        {
          "data": {
            "image/png": "[encoded data removed]",
            "text/plain": [
              "<Figure size 1050x450 with 1 Axes>"
            ]
          },
          "metadata": {},
          "output_type": "display_data"
        }
      ],
      "source": [
        "\"\"\" Hierarchical Clustering  \n",
        "book page 522 \n",
        "Dendogram from agglomerative hierarchical clustering with average lineage to \n",
        "human tumor microarray data \n",
        "\"\"\" \n",
        "from scipy.cluster.hierarchy import linkage, dendrogram\n",
        "\n",
        "link_ = linkage(X.T, method='average')\n",
        "figure, axis = plt.subplots(figsize=(7, 3), dpi=150)\n",
        "_= dendrogram(link_, labels=y, leaf_font_size=5)\n",
        "axis.tick_params(bottom=False, left=False, labelleft=False)\n",
        "for s in axis.spines.values():\n",
        "  s.set_visible(False)"
      ]
    },
    {
      "cell_type": "code",
      "execution_count": null,
      "metadata": {
        "colab": {
          "base_uri": "https://localhost:8080/",
          "height": 304
        },
        "id": "K9qyib2hV1QG",
        "outputId": "4b4c9744-7c0d-491a-ff44-c60584effa13"
      },
      "outputs": [
        {
          "data": {
            "image/png": "[encoded data removed]",
            "text/plain": [
              "<Figure size 900x300 with 3 Axes>"
            ]
          },
          "metadata": {},
          "output_type": "display_data"
        }
      ],
      "source": [
        "\"\"\" Hierarchical Clustering  \n",
        "book page 524\n",
        "Dendogram from agglomerative hierarchical clustering of human tumor microarray \n",
        "data \n",
        "\"\"\" \n",
        "figure, axarr = plt.subplots(1, 3, figsize=(6, 2), dpi=150)\n",
        "plt.subplots_adjust(wspace=0.1)\n",
        "titles = {\n",
        "    'average': 'Average Linkage',\n",
        "    'complete': 'Complete Linkage', \n",
        "    'single': 'Single Linkage'\n",
        "}\n",
        "plt.rcParams['lines.linewidth'] = 0.5\n",
        "for i, diagram in enumerate(['average', 'complete', 'single']):\n",
        "  ax = axarr[i] \n",
        "  plt.axes(ax)\n",
        "  link__ = linkage(X.T, method=diagram)\n",
        "  _ = dendrogram(link__, labels=y)\n",
        "  ax.tick_params(bottom=False, left=False, labelbottom=False, labelleft=False)\n",
        "  plt.title(titles[diagram], color=gray__, fontsize=8)"
      ]
    },
    {
      "cell_type": "code",
      "execution_count": null,
      "metadata": {
        "colab": {
          "base_uri": "https://localhost:8080/",
          "height": 1000
        },
        "id": "mDbYK4g6V1TS",
        "outputId": "e17168ce-ff14-4336-da61-46ed1554c895"
      },
      "outputs": [
        {
          "name": "stderr",
          "output_type": "stream",
          "text": [
            "<ipython-input-250-0c249ab57836>:17: MatplotlibDeprecationWarning: Auto-removal of overlapping axes is deprecated since 3.6 and will be removed two minor releases later; explicitly call ax.remove() as needed.\n",
            "  ax1 = plt.subplot(gridspec_[0, 0])\n"
          ]
        },
        {
          "data": {
            "image/png": "[encoded data removed]",
            "text/plain": [
              "<Figure size 525x1200 with 4 Axes>"
            ]
          },
          "metadata": {},
          "output_type": "display_data"
        }
      ],
      "source": [
        "\"\"\" \n",
        "Page 527 Final graph - Figure 14.14 of DNA Microarray data\n",
        "\n",
        "In this instance of DNA microarray data, the average linkage of hierarchical \n",
        "clustering has been applied independently to the rows (individual genes) and \n",
        "to columns (samples). \n",
        "Same criteria for the color range with green for positive/over-represented,\n",
        "and red for negative/under-represented. \n",
        "\"\"\"\n",
        "fig_, axarr = plt.subplots(figsize=(3.5, 8), dpi=150)\n",
        "plt.rcParams['lines.linewidth'] = 0.3\n",
        "gridspec_ = gridspec.GridSpec(\n",
        "    2, 2, \n",
        "    width_ratios=[1, 1],\n",
        "    height_ratios=[1, 8]\n",
        ")\n",
        "ax1 = plt.subplot(gridspec_[0, 0])\n",
        "ax2 = plt.subplot(gridspec_[0, 1])\n",
        "ax3 = plt.subplot(gridspec_[1, 0])\n",
        "ax4 = plt.subplot(gridspec_[1, 1])\n",
        "\n",
        "axarr = [ax1, ax2, ax3, ax4]\n",
        "plt.subplots_adjust(wspace=0.01, hspace=0.01)\n",
        "\n",
        "plt.axes(ax2)\n",
        "link_top = linkage(X.T, method='average')\n",
        "diagram_top = dendrogram(link_top, \n",
        "                         above_threshold_color=gray_,color_threshold=0)\n",
        "\n",
        "plt.axes(ax3)\n",
        "link_left = linkage(X.T, method='average')\n",
        "diagram_left = dendrogram(link_left, orientation='left', \n",
        "                          above_threshold_color=gray_,color_threshold=0)\n",
        "\n",
        "data = X[np.array(diagram_left['leaves'])][:, np.array(diagram_top['leaves'])]\n",
        "ax4.set_xlim(0, 60)\n",
        "ax4.imshow(data, interpolation='none', norm=norm, cmap=cmap, aspect='auto')\n",
        "\n",
        "for ax in axarr:\n",
        "  ax.tick_params(\n",
        "      bottom=False, labelbottom=False, left=False, labelleft=False, \n",
        "      top=False, labeltop=False, right=False, labelright=False\n",
        "  )\n",
        "  for s in ax.spines.values():\n",
        "    s.set_visible(False)\n",
        "  "
      ]
    },
    {
      "cell_type": "code",
      "execution_count": null,
      "metadata": {
        "colab": {
          "base_uri": "https://localhost:8080/",
          "height": 1000
        },
        "id": "AQQ7RtfhV1dx",
        "outputId": "03f9fc78-249b-4c27-951d-0186a77bcdc9"
      },
      "outputs": [
        {
          "name": "stderr",
          "output_type": "stream",
          "text": [
            "<ipython-input-252-11a0e16cce7b>:8: MatplotlibDeprecationWarning: Auto-removal of overlapping axes is deprecated since 3.6 and will be removed two minor releases later; explicitly call ax.remove() as needed.\n",
            "  ax1 = plt.subplot(gridspec_[0, 0])\n"
          ]
        },
        {
          "data": {
            "image/png": "[encoded data removed]",
            "text/plain": [
              "<Figure size 525x1200 with 4 Axes>"
            ]
          },
          "metadata": {},
          "output_type": "display_data"
        }
      ],
      "source": [
        "fig_, axarr = plt.subplots(figsize=(3.5, 8), dpi=150)\n",
        "plt.rcParams['lines.linewidth'] = 0.3\n",
        "gridspec_ = gridspec.GridSpec(\n",
        "    2, 2, \n",
        "    width_ratios=[1, 1],\n",
        "    height_ratios=[1, 8]\n",
        ")\n",
        "ax1 = plt.subplot(gridspec_[0, 0])\n",
        "ax2 = plt.subplot(gridspec_[0, 1])\n",
        "ax3 = plt.subplot(gridspec_[1, 0])\n",
        "ax4 = plt.subplot(gridspec_[1, 1])\n",
        "\n",
        "axarr = [ax1, ax2, ax3, ax4]\n",
        "plt.subplots_adjust(wspace=0.01, hspace=0.01)\n",
        "\n",
        "plt.axes(ax2)\n",
        "link_top = linkage(X.T, method='average')\n",
        "diagram_top = dendrogram(link_top, \n",
        "                         above_threshold_color=gray_,color_threshold=0)\n",
        "\n",
        "plt.axes(ax3)\n",
        "link_left = linkage(X, method='average')\n",
        "diagram_left = dendrogram(link_left, orientation='left', \n",
        "                          above_threshold_color=gray___,color_threshold=0)\n",
        "\n",
        "data = X[np.array(diagram_left['leaves'])][:, np.array(diagram_top['leaves'])]\n",
        "ax4.set_xlim(0, 60)\n",
        "ax4.imshow(data, interpolation='none', norm=norm, cmap=cmap, aspect='auto')\n",
        "\n",
        "for ax in axarr:\n",
        "  ax.tick_params(\n",
        "      bottom=False, labelbottom=False, left=False, labelleft=False, \n",
        "      top=False, labeltop=False, right=False, labelright=False\n",
        "  )\n",
        "  for s in ax.spines.values():\n",
        "    s.set_visible(False)\n",
        "  "
      ]
    },
    {
      "cell_type": "markdown",
      "metadata": {
        "id": "AMEqXbs8m-ST"
      },
      "source": [
        "##Statistics"
      ]
    },
    {
      "cell_type": "markdown",
      "metadata": {
        "id": "ei4HA5GGtaz9"
      },
      "source": [
        "**gene expression data**"
      ]
    },
    {
      "cell_type": "code",
      "execution_count": null,
      "metadata": {
        "colab": {
          "base_uri": "https://localhost:8080/",
          "height": 488
        },
        "id": "Jl_nohU4nDU8",
        "outputId": "4d45eefe-77df-47a6-d0c2-46c765facafc"
      },
      "outputs": [
        {
          "data": {
            "text/html": [
              "\n",
              "  <div id=\"df-1e0a3b3e-0fa1-427d-89de-f609b253481e\">\n",
              "    <div class=\"colab-df-container\">\n",
              "      <div>\n",
              "<style scoped>\n",
              "    .dataframe tbody tr th:only-of-type {\n",
              "        vertical-align: middle;\n",
              "    }\n",
              "\n",
              "    .dataframe tbody tr th {\n",
              "        vertical-align: top;\n",
              "    }\n",
              "\n",
              "    .dataframe thead th {\n",
              "        text-align: right;\n",
              "    }\n",
              "</style>\n",
              "<table border=\"1\" class=\"dataframe\">\n",
              "  <thead>\n",
              "    <tr style=\"text-align: right;\">\n",
              "      <th></th>\n",
              "      <th>Gene</th>\n",
              "      <th>SRR3189679</th>\n",
              "      <th>SRR3189680</th>\n",
              "      <th>SRR3189681</th>\n",
              "      <th>SRR3189682</th>\n",
              "      <th>SRR3189683</th>\n",
              "      <th>SRR3189684</th>\n",
              "      <th>SRR3189685</th>\n",
              "      <th>SRR3189686</th>\n",
              "      <th>SRR3189687</th>\n",
              "      <th>SRR3189688</th>\n",
              "      <th>SRR3189689</th>\n",
              "      <th>SRR3189690</th>\n",
              "      <th>SRR3189691</th>\n",
              "      <th>SRR3189692</th>\n",
              "      <th>SRR3189693</th>\n",
              "      <th>SRR3189694</th>\n",
              "      <th>SRR3189695</th>\n",
              "      <th>SRR3189696</th>\n",
              "      <th>SRR3189697</th>\n",
              "    </tr>\n",
              "  </thead>\n",
              "  <tbody>\n",
              "    <tr>\n",
              "      <th>0</th>\n",
              "      <td>ENSMUSG00000000001</td>\n",
              "      <td>15.662377</td>\n",
              "      <td>14.020692</td>\n",
              "      <td>15.555238</td>\n",
              "      <td>12.530303</td>\n",
              "      <td>30.260702</td>\n",
              "      <td>21.886351</td>\n",
              "      <td>16.977010</td>\n",
              "      <td>15.910325</td>\n",
              "      <td>13.964012</td>\n",
              "      <td>20.334315</td>\n",
              "      <td>11.648719</td>\n",
              "      <td>15.173052</td>\n",
              "      <td>23.691737</td>\n",
              "      <td>25.125880</td>\n",
              "      <td>17.408528</td>\n",
              "      <td>19.021748</td>\n",
              "      <td>14.434416</td>\n",
              "      <td>17.999310</td>\n",
              "      <td>15.497156</td>\n",
              "    </tr>\n",
              "    <tr>\n",
              "      <th>1</th>\n",
              "      <td>ENSMUSG00000000003</td>\n",
              "      <td>0.028563</td>\n",
              "      <td>0.036579</td>\n",
              "      <td>0.419964</td>\n",
              "      <td>0.021979</td>\n",
              "      <td>0.075532</td>\n",
              "      <td>0.064158</td>\n",
              "      <td>0.054916</td>\n",
              "      <td>0.033680</td>\n",
              "      <td>0.046358</td>\n",
              "      <td>0.058368</td>\n",
              "      <td>0.033990</td>\n",
              "      <td>0.060480</td>\n",
              "      <td>0.125081</td>\n",
              "      <td>0.079634</td>\n",
              "      <td>0.050264</td>\n",
              "      <td>0.062190</td>\n",
              "      <td>0.046092</td>\n",
              "      <td>0.055518</td>\n",
              "      <td>0.083768</td>\n",
              "    </tr>\n",
              "    <tr>\n",
              "      <th>2</th>\n",
              "      <td>ENSMUSG00000000028</td>\n",
              "      <td>5.150481</td>\n",
              "      <td>7.498046</td>\n",
              "      <td>5.717152</td>\n",
              "      <td>5.034920</td>\n",
              "      <td>11.635079</td>\n",
              "      <td>12.077084</td>\n",
              "      <td>8.502686</td>\n",
              "      <td>7.605635</td>\n",
              "      <td>5.431773</td>\n",
              "      <td>7.401169</td>\n",
              "      <td>9.781360</td>\n",
              "      <td>9.532716</td>\n",
              "      <td>8.701792</td>\n",
              "      <td>7.958705</td>\n",
              "      <td>8.861361</td>\n",
              "      <td>8.829696</td>\n",
              "      <td>7.839187</td>\n",
              "      <td>8.560792</td>\n",
              "      <td>6.990834</td>\n",
              "    </tr>\n",
              "    <tr>\n",
              "      <th>3</th>\n",
              "      <td>ENSMUSG00000000031</td>\n",
              "      <td>0.923775</td>\n",
              "      <td>0.622761</td>\n",
              "      <td>0.037410</td>\n",
              "      <td>0.418679</td>\n",
              "      <td>0.075532</td>\n",
              "      <td>0.064158</td>\n",
              "      <td>1.384295</td>\n",
              "      <td>0.497883</td>\n",
              "      <td>0.046358</td>\n",
              "      <td>1.242944</td>\n",
              "      <td>0.511846</td>\n",
              "      <td>0.803937</td>\n",
              "      <td>2.510960</td>\n",
              "      <td>1.560483</td>\n",
              "      <td>1.424694</td>\n",
              "      <td>0.062190</td>\n",
              "      <td>0.754587</td>\n",
              "      <td>0.348850</td>\n",
              "      <td>0.083768</td>\n",
              "    </tr>\n",
              "    <tr>\n",
              "      <th>4</th>\n",
              "      <td>ENSMUSG00000000037</td>\n",
              "      <td>2.947676</td>\n",
              "      <td>3.047156</td>\n",
              "      <td>2.851992</td>\n",
              "      <td>3.006278</td>\n",
              "      <td>4.073379</td>\n",
              "      <td>3.221718</td>\n",
              "      <td>2.847645</td>\n",
              "      <td>2.720893</td>\n",
              "      <td>2.668958</td>\n",
              "      <td>3.995019</td>\n",
              "      <td>2.276475</td>\n",
              "      <td>3.380865</td>\n",
              "      <td>2.523756</td>\n",
              "      <td>3.932793</td>\n",
              "      <td>3.816612</td>\n",
              "      <td>3.075951</td>\n",
              "      <td>3.312766</td>\n",
              "      <td>2.887687</td>\n",
              "      <td>3.211649</td>\n",
              "    </tr>\n",
              "    <tr>\n",
              "      <th>...</th>\n",
              "      <td>...</td>\n",
              "      <td>...</td>\n",
              "      <td>...</td>\n",
              "      <td>...</td>\n",
              "      <td>...</td>\n",
              "      <td>...</td>\n",
              "      <td>...</td>\n",
              "      <td>...</td>\n",
              "      <td>...</td>\n",
              "      <td>...</td>\n",
              "      <td>...</td>\n",
              "      <td>...</td>\n",
              "      <td>...</td>\n",
              "      <td>...</td>\n",
              "      <td>...</td>\n",
              "      <td>...</td>\n",
              "      <td>...</td>\n",
              "      <td>...</td>\n",
              "      <td>...</td>\n",
              "      <td>...</td>\n",
              "    </tr>\n",
              "    <tr>\n",
              "      <th>41244</th>\n",
              "      <td>ENSMUSG00000118387</td>\n",
              "      <td>0.028563</td>\n",
              "      <td>0.036579</td>\n",
              "      <td>0.037410</td>\n",
              "      <td>0.545115</td>\n",
              "      <td>0.075532</td>\n",
              "      <td>0.064158</td>\n",
              "      <td>0.054916</td>\n",
              "      <td>0.033680</td>\n",
              "      <td>0.046358</td>\n",
              "      <td>0.058368</td>\n",
              "      <td>0.033990</td>\n",
              "      <td>0.060480</td>\n",
              "      <td>0.125081</td>\n",
              "      <td>0.079634</td>\n",
              "      <td>0.050264</td>\n",
              "      <td>0.414283</td>\n",
              "      <td>0.046092</td>\n",
              "      <td>0.055518</td>\n",
              "      <td>0.083768</td>\n",
              "    </tr>\n",
              "    <tr>\n",
              "      <th>41245</th>\n",
              "      <td>ENSMUSG00000118388</td>\n",
              "      <td>0.028563</td>\n",
              "      <td>0.036579</td>\n",
              "      <td>0.037410</td>\n",
              "      <td>0.021979</td>\n",
              "      <td>0.075532</td>\n",
              "      <td>0.064158</td>\n",
              "      <td>0.054916</td>\n",
              "      <td>0.033680</td>\n",
              "      <td>0.046358</td>\n",
              "      <td>0.058368</td>\n",
              "      <td>0.033990</td>\n",
              "      <td>0.060480</td>\n",
              "      <td>0.125081</td>\n",
              "      <td>0.079634</td>\n",
              "      <td>0.050264</td>\n",
              "      <td>0.062190</td>\n",
              "      <td>0.046092</td>\n",
              "      <td>0.055518</td>\n",
              "      <td>0.083768</td>\n",
              "    </tr>\n",
              "    <tr>\n",
              "      <th>41246</th>\n",
              "      <td>ENSMUSG00000118390</td>\n",
              "      <td>0.694095</td>\n",
              "      <td>0.613301</td>\n",
              "      <td>0.831701</td>\n",
              "      <td>1.092258</td>\n",
              "      <td>0.649014</td>\n",
              "      <td>0.458885</td>\n",
              "      <td>0.644600</td>\n",
              "      <td>0.496239</td>\n",
              "      <td>0.902704</td>\n",
              "      <td>0.637620</td>\n",
              "      <td>0.825115</td>\n",
              "      <td>0.610644</td>\n",
              "      <td>0.125081</td>\n",
              "      <td>0.673132</td>\n",
              "      <td>0.439781</td>\n",
              "      <td>0.609502</td>\n",
              "      <td>0.533151</td>\n",
              "      <td>0.566410</td>\n",
              "      <td>0.977389</td>\n",
              "    </tr>\n",
              "    <tr>\n",
              "      <th>41247</th>\n",
              "      <td>ENSMUSG00000118391</td>\n",
              "      <td>1.015229</td>\n",
              "      <td>1.171583</td>\n",
              "      <td>1.530382</td>\n",
              "      <td>1.563850</td>\n",
              "      <td>0.568318</td>\n",
              "      <td>0.744747</td>\n",
              "      <td>0.693702</td>\n",
              "      <td>0.960289</td>\n",
              "      <td>1.131056</td>\n",
              "      <td>1.728656</td>\n",
              "      <td>0.916347</td>\n",
              "      <td>1.220731</td>\n",
              "      <td>1.136218</td>\n",
              "      <td>0.964927</td>\n",
              "      <td>0.458746</td>\n",
              "      <td>1.181139</td>\n",
              "      <td>0.681706</td>\n",
              "      <td>1.824098</td>\n",
              "      <td>0.929017</td>\n",
              "    </tr>\n",
              "    <tr>\n",
              "      <th>41248</th>\n",
              "      <td>ENSMUSG00000118392</td>\n",
              "      <td>0.401886</td>\n",
              "      <td>0.036579</td>\n",
              "      <td>0.037410</td>\n",
              "      <td>0.021979</td>\n",
              "      <td>0.075532</td>\n",
              "      <td>0.460788</td>\n",
              "      <td>0.054916</td>\n",
              "      <td>0.319663</td>\n",
              "      <td>0.432857</td>\n",
              "      <td>0.625926</td>\n",
              "      <td>0.033990</td>\n",
              "      <td>0.060480</td>\n",
              "      <td>0.770174</td>\n",
              "      <td>0.079634</td>\n",
              "      <td>0.050264</td>\n",
              "      <td>0.447108</td>\n",
              "      <td>0.046092</td>\n",
              "      <td>0.362730</td>\n",
              "      <td>0.083768</td>\n",
              "    </tr>\n",
              "  </tbody>\n",
              "</table>\n",
              "<p>41249 rows × 20 columns</p>\n",
              "</div>\n",
              "      <button class=\"colab-df-convert\" onclick=\"convertToInteractive('df-1e0a3b3e-0fa1-427d-89de-f609b253481e')\"\n",
              "              title=\"Convert this dataframe to an interactive table.\"\n",
              "              style=\"display:none;\">\n",
              "        \n",
              "  <svg xmlns=\"http://www.w3.org/2000/svg\" height=\"24px\"viewBox=\"0 0 24 24\"\n",
              "       width=\"24px\">\n",
              "    <path d=\"M0 0h24v24H0V0z\" fill=\"none\"/>\n",
              "    <path d=\"M18.56 5.44l.94 2.06.94-2.06 2.06-.94-2.06-.94-.94-2.06-.94 2.06-2.06.94zm-11 1L8.5 8.5l.94-2.06 2.06-.94-2.06-.94L8.5 2.5l-.94 2.06-2.06.94zm10 10l.94 2.06.94-2.06 2.06-.94-2.06-.94-.94-2.06-.94 2.06-2.06.94z\"/><path d=\"M17.41 7.96l-1.37-1.37c-.4-.4-.92-.59-1.43-.59-.52 0-1.04.2-1.43.59L10.3 9.45l-7.72 7.72c-.78.78-.78 2.05 0 2.83L4 21.41c.39.39.9.59 1.41.59.51 0 1.02-.2 1.41-.59l7.78-7.78 2.81-2.81c.8-.78.8-2.07 0-2.86zM5.41 20L4 18.59l7.72-7.72 1.47 1.35L5.41 20z\"/>\n",
              "  </svg>\n",
              "      </button>\n",
              "      \n",
              "  <style>\n",
              "    .colab-df-container {\n",
              "      display:flex;\n",
              "      flex-wrap:wrap;\n",
              "      gap: 12px;\n",
              "    }\n",
              "\n",
              "    .colab-df-convert {\n",
              "      background-color: #E8F0FE;\n",
              "      border: none;\n",
              "      border-radius: 50%;\n",
              "      cursor: pointer;\n",
              "      display: none;\n",
              "      fill: #1967D2;\n",
              "      height: 32px;\n",
              "      padding: 0 0 0 0;\n",
              "      width: 32px;\n",
              "    }\n",
              "\n",
              "    .colab-df-convert:hover {\n",
              "      background-color: #E2EBFA;\n",
              "      box-shadow: 0px 1px 2px rgba(60, 64, 67, 0.3), 0px 1px 3px 1px rgba(60, 64, 67, 0.15);\n",
              "      fill: #174EA6;\n",
              "    }\n",
              "\n",
              "    [theme=dark] .colab-df-convert {\n",
              "      background-color: #3B4455;\n",
              "      fill: #D2E3FC;\n",
              "    }\n",
              "\n",
              "    [theme=dark] .colab-df-convert:hover {\n",
              "      background-color: #434B5C;\n",
              "      box-shadow: 0px 1px 3px 1px rgba(0, 0, 0, 0.15);\n",
              "      filter: drop-shadow(0px 1px 2px rgba(0, 0, 0, 0.3));\n",
              "      fill: #FFFFFF;\n",
              "    }\n",
              "  </style>\n",
              "\n",
              "      <script>\n",
              "        const buttonEl =\n",
              "          document.querySelector('#df-1e0a3b3e-0fa1-427d-89de-f609b253481e button.colab-df-convert');\n",
              "        buttonEl.style.display =\n",
              "          google.colab.kernel.accessAllowed ? 'block' : 'none';\n",
              "\n",
              "        async function convertToInteractive(key) {\n",
              "          const element = document.querySelector('#df-1e0a3b3e-0fa1-427d-89de-f609b253481e');\n",
              "          const dataTable =\n",
              "            await google.colab.kernel.invokeFunction('convertToInteractive',\n",
              "                                                     [key], {});\n",
              "          if (!dataTable) return;\n",
              "\n",
              "          const docLinkHtml = 'Like what you see? Visit the ' +\n",
              "            '<a target=\"_blank\" href=https://colab.research.google.com/notebooks/data_table.ipynb>data table notebook</a>'\n",
              "            + ' to learn more about interactive tables.';\n",
              "          element.innerHTML = '';\n",
              "          dataTable['output_type'] = 'display_data';\n",
              "          await google.colab.output.renderOutput(dataTable, element);\n",
              "          const docLink = document.createElement('div');\n",
              "          docLink.innerHTML = docLinkHtml;\n",
              "          element.appendChild(docLink);\n",
              "        }\n",
              "      </script>\n",
              "    </div>\n",
              "  </div>\n",
              "  "
            ],
            "text/plain": [
              "                     Gene  SRR3189679  SRR3189680  SRR3189681  SRR3189682  \\\n",
              "0      ENSMUSG00000000001   15.662377   14.020692   15.555238   12.530303   \n",
              "1      ENSMUSG00000000003    0.028563    0.036579    0.419964    0.021979   \n",
              "2      ENSMUSG00000000028    5.150481    7.498046    5.717152    5.034920   \n",
              "3      ENSMUSG00000000031    0.923775    0.622761    0.037410    0.418679   \n",
              "4      ENSMUSG00000000037    2.947676    3.047156    2.851992    3.006278   \n",
              "...                   ...         ...         ...         ...         ...   \n",
              "41244  ENSMUSG00000118387    0.028563    0.036579    0.037410    0.545115   \n",
              "41245  ENSMUSG00000118388    0.028563    0.036579    0.037410    0.021979   \n",
              "41246  ENSMUSG00000118390    0.694095    0.613301    0.831701    1.092258   \n",
              "41247  ENSMUSG00000118391    1.015229    1.171583    1.530382    1.563850   \n",
              "41248  ENSMUSG00000118392    0.401886    0.036579    0.037410    0.021979   \n",
              "\n",
              "       SRR3189683  SRR3189684  SRR3189685  SRR3189686  SRR3189687  SRR3189688  \\\n",
              "0       30.260702   21.886351   16.977010   15.910325   13.964012   20.334315   \n",
              "1        0.075532    0.064158    0.054916    0.033680    0.046358    0.058368   \n",
              "2       11.635079   12.077084    8.502686    7.605635    5.431773    7.401169   \n",
              "3        0.075532    0.064158    1.384295    0.497883    0.046358    1.242944   \n",
              "4        4.073379    3.221718    2.847645    2.720893    2.668958    3.995019   \n",
              "...           ...         ...         ...         ...         ...         ...   \n",
              "41244    0.075532    0.064158    0.054916    0.033680    0.046358    0.058368   \n",
              "41245    0.075532    0.064158    0.054916    0.033680    0.046358    0.058368   \n",
              "41246    0.649014    0.458885    0.644600    0.496239    0.902704    0.637620   \n",
              "41247    0.568318    0.744747    0.693702    0.960289    1.131056    1.728656   \n",
              "41248    0.075532    0.460788    0.054916    0.319663    0.432857    0.625926   \n",
              "\n",
              "       SRR3189689  SRR3189690  SRR3189691  SRR3189692  SRR3189693  SRR3189694  \\\n",
              "0       11.648719   15.173052   23.691737   25.125880   17.408528   19.021748   \n",
              "1        0.033990    0.060480    0.125081    0.079634    0.050264    0.062190   \n",
              "2        9.781360    9.532716    8.701792    7.958705    8.861361    8.829696   \n",
              "3        0.511846    0.803937    2.510960    1.560483    1.424694    0.062190   \n",
              "4        2.276475    3.380865    2.523756    3.932793    3.816612    3.075951   \n",
              "...           ...         ...         ...         ...         ...         ...   \n",
              "41244    0.033990    0.060480    0.125081    0.079634    0.050264    0.414283   \n",
              "41245    0.033990    0.060480    0.125081    0.079634    0.050264    0.062190   \n",
              "41246    0.825115    0.610644    0.125081    0.673132    0.439781    0.609502   \n",
              "41247    0.916347    1.220731    1.136218    0.964927    0.458746    1.181139   \n",
              "41248    0.033990    0.060480    0.770174    0.079634    0.050264    0.447108   \n",
              "\n",
              "       SRR3189695  SRR3189696  SRR3189697  \n",
              "0       14.434416   17.999310   15.497156  \n",
              "1        0.046092    0.055518    0.083768  \n",
              "2        7.839187    8.560792    6.990834  \n",
              "3        0.754587    0.348850    0.083768  \n",
              "4        3.312766    2.887687    3.211649  \n",
              "...           ...         ...         ...  \n",
              "41244    0.046092    0.055518    0.083768  \n",
              "41245    0.046092    0.055518    0.083768  \n",
              "41246    0.533151    0.566410    0.977389  \n",
              "41247    0.681706    1.824098    0.929017  \n",
              "41248    0.046092    0.362730    0.083768  \n",
              "\n",
              "[41249 rows x 20 columns]"
            ]
          },
          "execution_count": 288,
          "metadata": {},
          "output_type": "execute_result"
        }
      ],
      "source": [
        "import pandas as pd \n",
        "names_ = ['Gene', 'SRR3189679', 'SRR3189680', 'SRR3189681', 'SRR3189682', \n",
        "          'SRR3189683', 'SRR3189684', 'SRR3189685', 'SRR3189686', 'SRR3189687',\n",
        "          'SRR3189688', 'SRR3189689', 'SRR3189690', 'SRR3189691', 'SRR3189692',\n",
        "          'SRR3189693', 'SRR3189694', 'SRR3189695', 'SRR3189696', 'SRR3189697']\n",
        "dataset_gene_expr = pd.read_csv('SRP070849.tsv', delimiter='\\t') #names = names_\n",
        "dataset_gene_expr"
      ]
    },
    {
      "cell_type": "code",
      "execution_count": null,
      "metadata": {
        "colab": {
          "base_uri": "https://localhost:8080/"
        },
        "id": "7VP57XA3na1d",
        "outputId": "55e44c5c-a104-4631-d7ee-ffb73f76f597"
      },
      "outputs": [
        {
          "data": {
            "text/plain": [
              "array([[15.66, 14.02, 15.56, ..., 14.43, 18.  , 15.5 ],\n",
              "       [ 0.03,  0.04,  0.42, ...,  0.05,  0.06,  0.08],\n",
              "       [ 5.15,  7.5 ,  5.72, ...,  7.84,  8.56,  6.99],\n",
              "       ...,\n",
              "       [ 0.69,  0.61,  0.83, ...,  0.53,  0.57,  0.98],\n",
              "       [ 1.02,  1.17,  1.53, ...,  0.68,  1.82,  0.93],\n",
              "       [ 0.4 ,  0.04,  0.04, ...,  0.05,  0.36,  0.08]])"
            ]
          },
          "execution_count": 306,
          "metadata": {},
          "output_type": "execute_result"
        }
      ],
      "source": [
        "names_ng = ['SRR3189679', 'SRR3189680', 'SRR3189681', 'SRR3189682', \n",
        "          'SRR3189683', 'SRR3189684', 'SRR3189685', 'SRR3189686', 'SRR3189687',\n",
        "          'SRR3189688', 'SRR3189689', 'SRR3189690', 'SRR3189691', 'SRR3189692',\n",
        "          'SRR3189693', 'SRR3189694', 'SRR3189695', 'SRR3189696', 'SRR3189697']\n",
        "X = dataset_gene_expr[names_ng].values\n",
        "X"
      ]
    },
    {
      "cell_type": "code",
      "execution_count": null,
      "metadata": {
        "colab": {
          "base_uri": "https://localhost:8080/",
          "height": 709
        },
        "id": "BtV0aJCuqBs4",
        "outputId": "1f216cdb-5da3-43b9-9898-200f946a7207"
      },
      "outputs": [
        {
          "data": {
            "text/html": [
              "\n",
              "  <div id=\"df-3c001e8a-0c1d-489d-bd8f-cbf3acd7fa0c\">\n",
              "    <div class=\"colab-df-container\">\n",
              "      <div>\n",
              "<style scoped>\n",
              "    .dataframe tbody tr th:only-of-type {\n",
              "        vertical-align: middle;\n",
              "    }\n",
              "\n",
              "    .dataframe tbody tr th {\n",
              "        vertical-align: top;\n",
              "    }\n",
              "\n",
              "    .dataframe thead th {\n",
              "        text-align: right;\n",
              "    }\n",
              "</style>\n",
              "<table border=\"1\" class=\"dataframe\">\n",
              "  <thead>\n",
              "    <tr style=\"text-align: right;\">\n",
              "      <th></th>\n",
              "      <th>SRR3189679</th>\n",
              "      <th>SRR3189680</th>\n",
              "      <th>SRR3189681</th>\n",
              "      <th>SRR3189682</th>\n",
              "      <th>SRR3189683</th>\n",
              "      <th>SRR3189684</th>\n",
              "      <th>SRR3189685</th>\n",
              "      <th>SRR3189686</th>\n",
              "      <th>SRR3189687</th>\n",
              "      <th>SRR3189688</th>\n",
              "      <th>SRR3189689</th>\n",
              "      <th>SRR3189690</th>\n",
              "      <th>SRR3189691</th>\n",
              "      <th>SRR3189692</th>\n",
              "      <th>SRR3189693</th>\n",
              "      <th>SRR3189694</th>\n",
              "      <th>SRR3189695</th>\n",
              "      <th>SRR3189696</th>\n",
              "      <th>SRR3189697</th>\n",
              "    </tr>\n",
              "  </thead>\n",
              "  <tbody>\n",
              "    <tr>\n",
              "      <th>SRR3189679</th>\n",
              "      <td>1.000000</td>\n",
              "      <td>0.986128</td>\n",
              "      <td>0.988487</td>\n",
              "      <td>0.980019</td>\n",
              "      <td>0.820784</td>\n",
              "      <td>0.894157</td>\n",
              "      <td>0.952177</td>\n",
              "      <td>0.971846</td>\n",
              "      <td>0.948197</td>\n",
              "      <td>0.963674</td>\n",
              "      <td>0.935533</td>\n",
              "      <td>0.940309</td>\n",
              "      <td>0.898082</td>\n",
              "      <td>0.853935</td>\n",
              "      <td>0.938979</td>\n",
              "      <td>0.970394</td>\n",
              "      <td>0.971194</td>\n",
              "      <td>0.971859</td>\n",
              "      <td>0.953690</td>\n",
              "    </tr>\n",
              "    <tr>\n",
              "      <th>SRR3189680</th>\n",
              "      <td>0.986128</td>\n",
              "      <td>1.000000</td>\n",
              "      <td>0.978864</td>\n",
              "      <td>0.956104</td>\n",
              "      <td>0.833933</td>\n",
              "      <td>0.924243</td>\n",
              "      <td>0.968158</td>\n",
              "      <td>0.977668</td>\n",
              "      <td>0.935011</td>\n",
              "      <td>0.943015</td>\n",
              "      <td>0.951046</td>\n",
              "      <td>0.940803</td>\n",
              "      <td>0.889599</td>\n",
              "      <td>0.862744</td>\n",
              "      <td>0.956343</td>\n",
              "      <td>0.969705</td>\n",
              "      <td>0.975607</td>\n",
              "      <td>0.977542</td>\n",
              "      <td>0.945857</td>\n",
              "    </tr>\n",
              "    <tr>\n",
              "      <th>SRR3189681</th>\n",
              "      <td>0.988487</td>\n",
              "      <td>0.978864</td>\n",
              "      <td>1.000000</td>\n",
              "      <td>0.978590</td>\n",
              "      <td>0.809735</td>\n",
              "      <td>0.874354</td>\n",
              "      <td>0.940391</td>\n",
              "      <td>0.961176</td>\n",
              "      <td>0.938466</td>\n",
              "      <td>0.965053</td>\n",
              "      <td>0.917985</td>\n",
              "      <td>0.944023</td>\n",
              "      <td>0.888255</td>\n",
              "      <td>0.846114</td>\n",
              "      <td>0.924730</td>\n",
              "      <td>0.972133</td>\n",
              "      <td>0.972664</td>\n",
              "      <td>0.964409</td>\n",
              "      <td>0.950870</td>\n",
              "    </tr>\n",
              "    <tr>\n",
              "      <th>SRR3189682</th>\n",
              "      <td>0.980019</td>\n",
              "      <td>0.956104</td>\n",
              "      <td>0.978590</td>\n",
              "      <td>1.000000</td>\n",
              "      <td>0.788603</td>\n",
              "      <td>0.848496</td>\n",
              "      <td>0.916839</td>\n",
              "      <td>0.949000</td>\n",
              "      <td>0.948194</td>\n",
              "      <td>0.958864</td>\n",
              "      <td>0.913732</td>\n",
              "      <td>0.918789</td>\n",
              "      <td>0.879620</td>\n",
              "      <td>0.825758</td>\n",
              "      <td>0.904416</td>\n",
              "      <td>0.948506</td>\n",
              "      <td>0.948700</td>\n",
              "      <td>0.944858</td>\n",
              "      <td>0.932364</td>\n",
              "    </tr>\n",
              "    <tr>\n",
              "      <th>SRR3189683</th>\n",
              "      <td>0.820784</td>\n",
              "      <td>0.833933</td>\n",
              "      <td>0.809735</td>\n",
              "      <td>0.788603</td>\n",
              "      <td>1.000000</td>\n",
              "      <td>0.888833</td>\n",
              "      <td>0.852959</td>\n",
              "      <td>0.835383</td>\n",
              "      <td>0.789325</td>\n",
              "      <td>0.798977</td>\n",
              "      <td>0.808620</td>\n",
              "      <td>0.786168</td>\n",
              "      <td>0.751448</td>\n",
              "      <td>0.949766</td>\n",
              "      <td>0.840289</td>\n",
              "      <td>0.809216</td>\n",
              "      <td>0.816888</td>\n",
              "      <td>0.826846</td>\n",
              "      <td>0.784587</td>\n",
              "    </tr>\n",
              "    <tr>\n",
              "      <th>SRR3189684</th>\n",
              "      <td>0.894157</td>\n",
              "      <td>0.924243</td>\n",
              "      <td>0.874354</td>\n",
              "      <td>0.848496</td>\n",
              "      <td>0.888833</td>\n",
              "      <td>1.000000</td>\n",
              "      <td>0.951121</td>\n",
              "      <td>0.928102</td>\n",
              "      <td>0.863503</td>\n",
              "      <td>0.848860</td>\n",
              "      <td>0.922247</td>\n",
              "      <td>0.848207</td>\n",
              "      <td>0.813578</td>\n",
              "      <td>0.860041</td>\n",
              "      <td>0.945416</td>\n",
              "      <td>0.877150</td>\n",
              "      <td>0.891544</td>\n",
              "      <td>0.915057</td>\n",
              "      <td>0.855589</td>\n",
              "    </tr>\n",
              "    <tr>\n",
              "      <th>SRR3189685</th>\n",
              "      <td>0.952177</td>\n",
              "      <td>0.968158</td>\n",
              "      <td>0.940391</td>\n",
              "      <td>0.916839</td>\n",
              "      <td>0.852959</td>\n",
              "      <td>0.951121</td>\n",
              "      <td>1.000000</td>\n",
              "      <td>0.960256</td>\n",
              "      <td>0.927696</td>\n",
              "      <td>0.922730</td>\n",
              "      <td>0.953916</td>\n",
              "      <td>0.926008</td>\n",
              "      <td>0.884862</td>\n",
              "      <td>0.893694</td>\n",
              "      <td>0.988470</td>\n",
              "      <td>0.946429</td>\n",
              "      <td>0.955133</td>\n",
              "      <td>0.970132</td>\n",
              "      <td>0.929398</td>\n",
              "    </tr>\n",
              "    <tr>\n",
              "      <th>SRR3189686</th>\n",
              "      <td>0.971846</td>\n",
              "      <td>0.977668</td>\n",
              "      <td>0.961176</td>\n",
              "      <td>0.949000</td>\n",
              "      <td>0.835383</td>\n",
              "      <td>0.928102</td>\n",
              "      <td>0.960256</td>\n",
              "      <td>1.000000</td>\n",
              "      <td>0.961116</td>\n",
              "      <td>0.955412</td>\n",
              "      <td>0.963894</td>\n",
              "      <td>0.939239</td>\n",
              "      <td>0.909144</td>\n",
              "      <td>0.850300</td>\n",
              "      <td>0.946960</td>\n",
              "      <td>0.965641</td>\n",
              "      <td>0.970353</td>\n",
              "      <td>0.972615</td>\n",
              "      <td>0.954963</td>\n",
              "    </tr>\n",
              "    <tr>\n",
              "      <th>SRR3189687</th>\n",
              "      <td>0.948197</td>\n",
              "      <td>0.935011</td>\n",
              "      <td>0.938466</td>\n",
              "      <td>0.948194</td>\n",
              "      <td>0.789325</td>\n",
              "      <td>0.863503</td>\n",
              "      <td>0.927696</td>\n",
              "      <td>0.961116</td>\n",
              "      <td>1.000000</td>\n",
              "      <td>0.953985</td>\n",
              "      <td>0.927339</td>\n",
              "      <td>0.933432</td>\n",
              "      <td>0.931543</td>\n",
              "      <td>0.824507</td>\n",
              "      <td>0.911320</td>\n",
              "      <td>0.938453</td>\n",
              "      <td>0.939094</td>\n",
              "      <td>0.927357</td>\n",
              "      <td>0.943040</td>\n",
              "    </tr>\n",
              "    <tr>\n",
              "      <th>SRR3189688</th>\n",
              "      <td>0.963674</td>\n",
              "      <td>0.943015</td>\n",
              "      <td>0.965053</td>\n",
              "      <td>0.958864</td>\n",
              "      <td>0.798977</td>\n",
              "      <td>0.848860</td>\n",
              "      <td>0.922730</td>\n",
              "      <td>0.955412</td>\n",
              "      <td>0.953985</td>\n",
              "      <td>1.000000</td>\n",
              "      <td>0.903215</td>\n",
              "      <td>0.961337</td>\n",
              "      <td>0.935275</td>\n",
              "      <td>0.833060</td>\n",
              "      <td>0.901781</td>\n",
              "      <td>0.972052</td>\n",
              "      <td>0.965063</td>\n",
              "      <td>0.948599</td>\n",
              "      <td>0.964679</td>\n",
              "    </tr>\n",
              "    <tr>\n",
              "      <th>SRR3189689</th>\n",
              "      <td>0.935533</td>\n",
              "      <td>0.951046</td>\n",
              "      <td>0.917985</td>\n",
              "      <td>0.913732</td>\n",
              "      <td>0.808620</td>\n",
              "      <td>0.922247</td>\n",
              "      <td>0.953916</td>\n",
              "      <td>0.963894</td>\n",
              "      <td>0.927339</td>\n",
              "      <td>0.903215</td>\n",
              "      <td>1.000000</td>\n",
              "      <td>0.897853</td>\n",
              "      <td>0.876550</td>\n",
              "      <td>0.849940</td>\n",
              "      <td>0.954831</td>\n",
              "      <td>0.925348</td>\n",
              "      <td>0.933115</td>\n",
              "      <td>0.957185</td>\n",
              "      <td>0.917722</td>\n",
              "    </tr>\n",
              "    <tr>\n",
              "      <th>SRR3189690</th>\n",
              "      <td>0.940309</td>\n",
              "      <td>0.940803</td>\n",
              "      <td>0.944023</td>\n",
              "      <td>0.918789</td>\n",
              "      <td>0.786168</td>\n",
              "      <td>0.848207</td>\n",
              "      <td>0.926008</td>\n",
              "      <td>0.939239</td>\n",
              "      <td>0.933432</td>\n",
              "      <td>0.961337</td>\n",
              "      <td>0.897853</td>\n",
              "      <td>1.000000</td>\n",
              "      <td>0.949345</td>\n",
              "      <td>0.835607</td>\n",
              "      <td>0.913117</td>\n",
              "      <td>0.971073</td>\n",
              "      <td>0.971774</td>\n",
              "      <td>0.935750</td>\n",
              "      <td>0.947406</td>\n",
              "    </tr>\n",
              "    <tr>\n",
              "      <th>SRR3189691</th>\n",
              "      <td>0.898082</td>\n",
              "      <td>0.889599</td>\n",
              "      <td>0.888255</td>\n",
              "      <td>0.879620</td>\n",
              "      <td>0.751448</td>\n",
              "      <td>0.813578</td>\n",
              "      <td>0.884862</td>\n",
              "      <td>0.909144</td>\n",
              "      <td>0.931543</td>\n",
              "      <td>0.935275</td>\n",
              "      <td>0.876550</td>\n",
              "      <td>0.949345</td>\n",
              "      <td>1.000000</td>\n",
              "      <td>0.799251</td>\n",
              "      <td>0.875595</td>\n",
              "      <td>0.928973</td>\n",
              "      <td>0.914091</td>\n",
              "      <td>0.897629</td>\n",
              "      <td>0.931598</td>\n",
              "    </tr>\n",
              "    <tr>\n",
              "      <th>SRR3189692</th>\n",
              "      <td>0.853935</td>\n",
              "      <td>0.862744</td>\n",
              "      <td>0.846114</td>\n",
              "      <td>0.825758</td>\n",
              "      <td>0.949766</td>\n",
              "      <td>0.860041</td>\n",
              "      <td>0.893694</td>\n",
              "      <td>0.850300</td>\n",
              "      <td>0.824507</td>\n",
              "      <td>0.833060</td>\n",
              "      <td>0.849940</td>\n",
              "      <td>0.835607</td>\n",
              "      <td>0.799251</td>\n",
              "      <td>1.000000</td>\n",
              "      <td>0.895691</td>\n",
              "      <td>0.852045</td>\n",
              "      <td>0.858495</td>\n",
              "      <td>0.869986</td>\n",
              "      <td>0.830443</td>\n",
              "    </tr>\n",
              "    <tr>\n",
              "      <th>SRR3189693</th>\n",
              "      <td>0.938979</td>\n",
              "      <td>0.956343</td>\n",
              "      <td>0.924730</td>\n",
              "      <td>0.904416</td>\n",
              "      <td>0.840289</td>\n",
              "      <td>0.945416</td>\n",
              "      <td>0.988470</td>\n",
              "      <td>0.946960</td>\n",
              "      <td>0.911320</td>\n",
              "      <td>0.901781</td>\n",
              "      <td>0.954831</td>\n",
              "      <td>0.913117</td>\n",
              "      <td>0.875595</td>\n",
              "      <td>0.895691</td>\n",
              "      <td>1.000000</td>\n",
              "      <td>0.935210</td>\n",
              "      <td>0.944617</td>\n",
              "      <td>0.966603</td>\n",
              "      <td>0.918309</td>\n",
              "    </tr>\n",
              "    <tr>\n",
              "      <th>SRR3189694</th>\n",
              "      <td>0.970394</td>\n",
              "      <td>0.969705</td>\n",
              "      <td>0.972133</td>\n",
              "      <td>0.948506</td>\n",
              "      <td>0.809216</td>\n",
              "      <td>0.877150</td>\n",
              "      <td>0.946429</td>\n",
              "      <td>0.965641</td>\n",
              "      <td>0.938453</td>\n",
              "      <td>0.972052</td>\n",
              "      <td>0.925348</td>\n",
              "      <td>0.971073</td>\n",
              "      <td>0.928973</td>\n",
              "      <td>0.852045</td>\n",
              "      <td>0.935210</td>\n",
              "      <td>1.000000</td>\n",
              "      <td>0.989727</td>\n",
              "      <td>0.979689</td>\n",
              "      <td>0.972080</td>\n",
              "    </tr>\n",
              "    <tr>\n",
              "      <th>SRR3189695</th>\n",
              "      <td>0.971194</td>\n",
              "      <td>0.975607</td>\n",
              "      <td>0.972664</td>\n",
              "      <td>0.948700</td>\n",
              "      <td>0.816888</td>\n",
              "      <td>0.891544</td>\n",
              "      <td>0.955133</td>\n",
              "      <td>0.970353</td>\n",
              "      <td>0.939094</td>\n",
              "      <td>0.965063</td>\n",
              "      <td>0.933115</td>\n",
              "      <td>0.971774</td>\n",
              "      <td>0.914091</td>\n",
              "      <td>0.858495</td>\n",
              "      <td>0.944617</td>\n",
              "      <td>0.989727</td>\n",
              "      <td>1.000000</td>\n",
              "      <td>0.977499</td>\n",
              "      <td>0.964100</td>\n",
              "    </tr>\n",
              "    <tr>\n",
              "      <th>SRR3189696</th>\n",
              "      <td>0.971859</td>\n",
              "      <td>0.977542</td>\n",
              "      <td>0.964409</td>\n",
              "      <td>0.944858</td>\n",
              "      <td>0.826846</td>\n",
              "      <td>0.915057</td>\n",
              "      <td>0.970132</td>\n",
              "      <td>0.972615</td>\n",
              "      <td>0.927357</td>\n",
              "      <td>0.948599</td>\n",
              "      <td>0.957185</td>\n",
              "      <td>0.935750</td>\n",
              "      <td>0.897629</td>\n",
              "      <td>0.869986</td>\n",
              "      <td>0.966603</td>\n",
              "      <td>0.979689</td>\n",
              "      <td>0.977499</td>\n",
              "      <td>1.000000</td>\n",
              "      <td>0.963764</td>\n",
              "    </tr>\n",
              "    <tr>\n",
              "      <th>SRR3189697</th>\n",
              "      <td>0.953690</td>\n",
              "      <td>0.945857</td>\n",
              "      <td>0.950870</td>\n",
              "      <td>0.932364</td>\n",
              "      <td>0.784587</td>\n",
              "      <td>0.855589</td>\n",
              "      <td>0.929398</td>\n",
              "      <td>0.954963</td>\n",
              "      <td>0.943040</td>\n",
              "      <td>0.964679</td>\n",
              "      <td>0.917722</td>\n",
              "      <td>0.947406</td>\n",
              "      <td>0.931598</td>\n",
              "      <td>0.830443</td>\n",
              "      <td>0.918309</td>\n",
              "      <td>0.972080</td>\n",
              "      <td>0.964100</td>\n",
              "      <td>0.963764</td>\n",
              "      <td>1.000000</td>\n",
              "    </tr>\n",
              "  </tbody>\n",
              "</table>\n",
              "</div>\n",
              "      <button class=\"colab-df-convert\" onclick=\"convertToInteractive('df-3c001e8a-0c1d-489d-bd8f-cbf3acd7fa0c')\"\n",
              "              title=\"Convert this dataframe to an interactive table.\"\n",
              "              style=\"display:none;\">\n",
              "        \n",
              "  <svg xmlns=\"http://www.w3.org/2000/svg\" height=\"24px\"viewBox=\"0 0 24 24\"\n",
              "       width=\"24px\">\n",
              "    <path d=\"M0 0h24v24H0V0z\" fill=\"none\"/>\n",
              "    <path d=\"M18.56 5.44l.94 2.06.94-2.06 2.06-.94-2.06-.94-.94-2.06-.94 2.06-2.06.94zm-11 1L8.5 8.5l.94-2.06 2.06-.94-2.06-.94L8.5 2.5l-.94 2.06-2.06.94zm10 10l.94 2.06.94-2.06 2.06-.94-2.06-.94-.94-2.06-.94 2.06-2.06.94z\"/><path d=\"M17.41 7.96l-1.37-1.37c-.4-.4-.92-.59-1.43-.59-.52 0-1.04.2-1.43.59L10.3 9.45l-7.72 7.72c-.78.78-.78 2.05 0 2.83L4 21.41c.39.39.9.59 1.41.59.51 0 1.02-.2 1.41-.59l7.78-7.78 2.81-2.81c.8-.78.8-2.07 0-2.86zM5.41 20L4 18.59l7.72-7.72 1.47 1.35L5.41 20z\"/>\n",
              "  </svg>\n",
              "      </button>\n",
              "      \n",
              "  <style>\n",
              "    .colab-df-container {\n",
              "      display:flex;\n",
              "      flex-wrap:wrap;\n",
              "      gap: 12px;\n",
              "    }\n",
              "\n",
              "    .colab-df-convert {\n",
              "      background-color: #E8F0FE;\n",
              "      border: none;\n",
              "      border-radius: 50%;\n",
              "      cursor: pointer;\n",
              "      display: none;\n",
              "      fill: #1967D2;\n",
              "      height: 32px;\n",
              "      padding: 0 0 0 0;\n",
              "      width: 32px;\n",
              "    }\n",
              "\n",
              "    .colab-df-convert:hover {\n",
              "      background-color: #E2EBFA;\n",
              "      box-shadow: 0px 1px 2px rgba(60, 64, 67, 0.3), 0px 1px 3px 1px rgba(60, 64, 67, 0.15);\n",
              "      fill: #174EA6;\n",
              "    }\n",
              "\n",
              "    [theme=dark] .colab-df-convert {\n",
              "      background-color: #3B4455;\n",
              "      fill: #D2E3FC;\n",
              "    }\n",
              "\n",
              "    [theme=dark] .colab-df-convert:hover {\n",
              "      background-color: #434B5C;\n",
              "      box-shadow: 0px 1px 3px 1px rgba(0, 0, 0, 0.15);\n",
              "      filter: drop-shadow(0px 1px 2px rgba(0, 0, 0, 0.3));\n",
              "      fill: #FFFFFF;\n",
              "    }\n",
              "  </style>\n",
              "\n",
              "      <script>\n",
              "        const buttonEl =\n",
              "          document.querySelector('#df-3c001e8a-0c1d-489d-bd8f-cbf3acd7fa0c button.colab-df-convert');\n",
              "        buttonEl.style.display =\n",
              "          google.colab.kernel.accessAllowed ? 'block' : 'none';\n",
              "\n",
              "        async function convertToInteractive(key) {\n",
              "          const element = document.querySelector('#df-3c001e8a-0c1d-489d-bd8f-cbf3acd7fa0c');\n",
              "          const dataTable =\n",
              "            await google.colab.kernel.invokeFunction('convertToInteractive',\n",
              "                                                     [key], {});\n",
              "          if (!dataTable) return;\n",
              "\n",
              "          const docLinkHtml = 'Like what you see? Visit the ' +\n",
              "            '<a target=\"_blank\" href=https://colab.research.google.com/notebooks/data_table.ipynb>data table notebook</a>'\n",
              "            + ' to learn more about interactive tables.';\n",
              "          element.innerHTML = '';\n",
              "          dataTable['output_type'] = 'display_data';\n",
              "          await google.colab.output.renderOutput(dataTable, element);\n",
              "          const docLink = document.createElement('div');\n",
              "          docLink.innerHTML = docLinkHtml;\n",
              "          element.appendChild(docLink);\n",
              "        }\n",
              "      </script>\n",
              "    </div>\n",
              "  </div>\n",
              "  "
            ],
            "text/plain": [
              "            SRR3189679  SRR3189680  SRR3189681  SRR3189682  SRR3189683  \\\n",
              "SRR3189679    1.000000    0.986128    0.988487    0.980019    0.820784   \n",
              "SRR3189680    0.986128    1.000000    0.978864    0.956104    0.833933   \n",
              "SRR3189681    0.988487    0.978864    1.000000    0.978590    0.809735   \n",
              "SRR3189682    0.980019    0.956104    0.978590    1.000000    0.788603   \n",
              "SRR3189683    0.820784    0.833933    0.809735    0.788603    1.000000   \n",
              "SRR3189684    0.894157    0.924243    0.874354    0.848496    0.888833   \n",
              "SRR3189685    0.952177    0.968158    0.940391    0.916839    0.852959   \n",
              "SRR3189686    0.971846    0.977668    0.961176    0.949000    0.835383   \n",
              "SRR3189687    0.948197    0.935011    0.938466    0.948194    0.789325   \n",
              "SRR3189688    0.963674    0.943015    0.965053    0.958864    0.798977   \n",
              "SRR3189689    0.935533    0.951046    0.917985    0.913732    0.808620   \n",
              "SRR3189690    0.940309    0.940803    0.944023    0.918789    0.786168   \n",
              "SRR3189691    0.898082    0.889599    0.888255    0.879620    0.751448   \n",
              "SRR3189692    0.853935    0.862744    0.846114    0.825758    0.949766   \n",
              "SRR3189693    0.938979    0.956343    0.924730    0.904416    0.840289   \n",
              "SRR3189694    0.970394    0.969705    0.972133    0.948506    0.809216   \n",
              "SRR3189695    0.971194    0.975607    0.972664    0.948700    0.816888   \n",
              "SRR3189696    0.971859    0.977542    0.964409    0.944858    0.826846   \n",
              "SRR3189697    0.953690    0.945857    0.950870    0.932364    0.784587   \n",
              "\n",
              "            SRR3189684  SRR3189685  SRR3189686  SRR3189687  SRR3189688  \\\n",
              "SRR3189679    0.894157    0.952177    0.971846    0.948197    0.963674   \n",
              "SRR3189680    0.924243    0.968158    0.977668    0.935011    0.943015   \n",
              "SRR3189681    0.874354    0.940391    0.961176    0.938466    0.965053   \n",
              "SRR3189682    0.848496    0.916839    0.949000    0.948194    0.958864   \n",
              "SRR3189683    0.888833    0.852959    0.835383    0.789325    0.798977   \n",
              "SRR3189684    1.000000    0.951121    0.928102    0.863503    0.848860   \n",
              "SRR3189685    0.951121    1.000000    0.960256    0.927696    0.922730   \n",
              "SRR3189686    0.928102    0.960256    1.000000    0.961116    0.955412   \n",
              "SRR3189687    0.863503    0.927696    0.961116    1.000000    0.953985   \n",
              "SRR3189688    0.848860    0.922730    0.955412    0.953985    1.000000   \n",
              "SRR3189689    0.922247    0.953916    0.963894    0.927339    0.903215   \n",
              "SRR3189690    0.848207    0.926008    0.939239    0.933432    0.961337   \n",
              "SRR3189691    0.813578    0.884862    0.909144    0.931543    0.935275   \n",
              "SRR3189692    0.860041    0.893694    0.850300    0.824507    0.833060   \n",
              "SRR3189693    0.945416    0.988470    0.946960    0.911320    0.901781   \n",
              "SRR3189694    0.877150    0.946429    0.965641    0.938453    0.972052   \n",
              "SRR3189695    0.891544    0.955133    0.970353    0.939094    0.965063   \n",
              "SRR3189696    0.915057    0.970132    0.972615    0.927357    0.948599   \n",
              "SRR3189697    0.855589    0.929398    0.954963    0.943040    0.964679   \n",
              "\n",
              "            SRR3189689  SRR3189690  SRR3189691  SRR3189692  SRR3189693  \\\n",
              "SRR3189679    0.935533    0.940309    0.898082    0.853935    0.938979   \n",
              "SRR3189680    0.951046    0.940803    0.889599    0.862744    0.956343   \n",
              "SRR3189681    0.917985    0.944023    0.888255    0.846114    0.924730   \n",
              "SRR3189682    0.913732    0.918789    0.879620    0.825758    0.904416   \n",
              "SRR3189683    0.808620    0.786168    0.751448    0.949766    0.840289   \n",
              "SRR3189684    0.922247    0.848207    0.813578    0.860041    0.945416   \n",
              "SRR3189685    0.953916    0.926008    0.884862    0.893694    0.988470   \n",
              "SRR3189686    0.963894    0.939239    0.909144    0.850300    0.946960   \n",
              "SRR3189687    0.927339    0.933432    0.931543    0.824507    0.911320   \n",
              "SRR3189688    0.903215    0.961337    0.935275    0.833060    0.901781   \n",
              "SRR3189689    1.000000    0.897853    0.876550    0.849940    0.954831   \n",
              "SRR3189690    0.897853    1.000000    0.949345    0.835607    0.913117   \n",
              "SRR3189691    0.876550    0.949345    1.000000    0.799251    0.875595   \n",
              "SRR3189692    0.849940    0.835607    0.799251    1.000000    0.895691   \n",
              "SRR3189693    0.954831    0.913117    0.875595    0.895691    1.000000   \n",
              "SRR3189694    0.925348    0.971073    0.928973    0.852045    0.935210   \n",
              "SRR3189695    0.933115    0.971774    0.914091    0.858495    0.944617   \n",
              "SRR3189696    0.957185    0.935750    0.897629    0.869986    0.966603   \n",
              "SRR3189697    0.917722    0.947406    0.931598    0.830443    0.918309   \n",
              "\n",
              "            SRR3189694  SRR3189695  SRR3189696  SRR3189697  \n",
              "SRR3189679    0.970394    0.971194    0.971859    0.953690  \n",
              "SRR3189680    0.969705    0.975607    0.977542    0.945857  \n",
              "SRR3189681    0.972133    0.972664    0.964409    0.950870  \n",
              "SRR3189682    0.948506    0.948700    0.944858    0.932364  \n",
              "SRR3189683    0.809216    0.816888    0.826846    0.784587  \n",
              "SRR3189684    0.877150    0.891544    0.915057    0.855589  \n",
              "SRR3189685    0.946429    0.955133    0.970132    0.929398  \n",
              "SRR3189686    0.965641    0.970353    0.972615    0.954963  \n",
              "SRR3189687    0.938453    0.939094    0.927357    0.943040  \n",
              "SRR3189688    0.972052    0.965063    0.948599    0.964679  \n",
              "SRR3189689    0.925348    0.933115    0.957185    0.917722  \n",
              "SRR3189690    0.971073    0.971774    0.935750    0.947406  \n",
              "SRR3189691    0.928973    0.914091    0.897629    0.931598  \n",
              "SRR3189692    0.852045    0.858495    0.869986    0.830443  \n",
              "SRR3189693    0.935210    0.944617    0.966603    0.918309  \n",
              "SRR3189694    1.000000    0.989727    0.979689    0.972080  \n",
              "SRR3189695    0.989727    1.000000    0.977499    0.964100  \n",
              "SRR3189696    0.979689    0.977499    1.000000    0.963764  \n",
              "SRR3189697    0.972080    0.964100    0.963764    1.000000  "
            ]
          },
          "execution_count": 307,
          "metadata": {},
          "output_type": "execute_result"
        }
      ],
      "source": [
        "\"\"\" Variance, Covariance, Correlation matrix \"\"\"\n",
        "dataset_gene_expr[names_].corr()"
      ]
    },
    {
      "cell_type": "code",
      "execution_count": null,
      "metadata": {
        "colab": {
          "base_uri": "https://localhost:8080/"
        },
        "id": "W-ejg1KnqBwV",
        "outputId": "f3346495-0f97-41e6-b80f-651905c5a246"
      },
      "outputs": [
        {
          "data": {
            "text/plain": [
              "array([[1.  , 0.99, 0.99, 0.98, 0.82, 0.89, 0.95, 0.97, 0.95, 0.96, 0.94,\n",
              "        0.94, 0.9 , 0.85, 0.94, 0.97, 0.97, 0.97, 0.95],\n",
              "       [0.99, 1.  , 0.98, 0.96, 0.83, 0.92, 0.97, 0.98, 0.94, 0.94, 0.95,\n",
              "        0.94, 0.89, 0.86, 0.96, 0.97, 0.98, 0.98, 0.95],\n",
              "       [0.99, 0.98, 1.  , 0.98, 0.81, 0.87, 0.94, 0.96, 0.94, 0.97, 0.92,\n",
              "        0.94, 0.89, 0.85, 0.92, 0.97, 0.97, 0.96, 0.95],\n",
              "       [0.98, 0.96, 0.98, 1.  , 0.79, 0.85, 0.92, 0.95, 0.95, 0.96, 0.91,\n",
              "        0.92, 0.88, 0.83, 0.9 , 0.95, 0.95, 0.94, 0.93],\n",
              "       [0.82, 0.83, 0.81, 0.79, 1.  , 0.89, 0.85, 0.84, 0.79, 0.8 , 0.81,\n",
              "        0.79, 0.75, 0.95, 0.84, 0.81, 0.82, 0.83, 0.78],\n",
              "       [0.89, 0.92, 0.87, 0.85, 0.89, 1.  , 0.95, 0.93, 0.86, 0.85, 0.92,\n",
              "        0.85, 0.81, 0.86, 0.95, 0.88, 0.89, 0.92, 0.86],\n",
              "       [0.95, 0.97, 0.94, 0.92, 0.85, 0.95, 1.  , 0.96, 0.93, 0.92, 0.95,\n",
              "        0.93, 0.88, 0.89, 0.99, 0.95, 0.96, 0.97, 0.93],\n",
              "       [0.97, 0.98, 0.96, 0.95, 0.84, 0.93, 0.96, 1.  , 0.96, 0.96, 0.96,\n",
              "        0.94, 0.91, 0.85, 0.95, 0.97, 0.97, 0.97, 0.95],\n",
              "       [0.95, 0.94, 0.94, 0.95, 0.79, 0.86, 0.93, 0.96, 1.  , 0.95, 0.93,\n",
              "        0.93, 0.93, 0.82, 0.91, 0.94, 0.94, 0.93, 0.94],\n",
              "       [0.96, 0.94, 0.97, 0.96, 0.8 , 0.85, 0.92, 0.96, 0.95, 1.  , 0.9 ,\n",
              "        0.96, 0.94, 0.83, 0.9 , 0.97, 0.97, 0.95, 0.96],\n",
              "       [0.94, 0.95, 0.92, 0.91, 0.81, 0.92, 0.95, 0.96, 0.93, 0.9 , 1.  ,\n",
              "        0.9 , 0.88, 0.85, 0.95, 0.93, 0.93, 0.96, 0.92],\n",
              "       [0.94, 0.94, 0.94, 0.92, 0.79, 0.85, 0.93, 0.94, 0.93, 0.96, 0.9 ,\n",
              "        1.  , 0.95, 0.84, 0.91, 0.97, 0.97, 0.94, 0.95],\n",
              "       [0.9 , 0.89, 0.89, 0.88, 0.75, 0.81, 0.88, 0.91, 0.93, 0.94, 0.88,\n",
              "        0.95, 1.  , 0.8 , 0.88, 0.93, 0.91, 0.9 , 0.93],\n",
              "       [0.85, 0.86, 0.85, 0.83, 0.95, 0.86, 0.89, 0.85, 0.82, 0.83, 0.85,\n",
              "        0.84, 0.8 , 1.  , 0.9 , 0.85, 0.86, 0.87, 0.83],\n",
              "       [0.94, 0.96, 0.92, 0.9 , 0.84, 0.95, 0.99, 0.95, 0.91, 0.9 , 0.95,\n",
              "        0.91, 0.88, 0.9 , 1.  , 0.94, 0.94, 0.97, 0.92],\n",
              "       [0.97, 0.97, 0.97, 0.95, 0.81, 0.88, 0.95, 0.97, 0.94, 0.97, 0.93,\n",
              "        0.97, 0.93, 0.85, 0.94, 1.  , 0.99, 0.98, 0.97],\n",
              "       [0.97, 0.98, 0.97, 0.95, 0.82, 0.89, 0.96, 0.97, 0.94, 0.97, 0.93,\n",
              "        0.97, 0.91, 0.86, 0.94, 0.99, 1.  , 0.98, 0.96],\n",
              "       [0.97, 0.98, 0.96, 0.94, 0.83, 0.92, 0.97, 0.97, 0.93, 0.95, 0.96,\n",
              "        0.94, 0.9 , 0.87, 0.97, 0.98, 0.98, 1.  , 0.96],\n",
              "       [0.95, 0.95, 0.95, 0.93, 0.78, 0.86, 0.93, 0.95, 0.94, 0.96, 0.92,\n",
              "        0.95, 0.93, 0.83, 0.92, 0.97, 0.96, 0.96, 1.  ]])"
            ]
          },
          "execution_count": 309,
          "metadata": {},
          "output_type": "execute_result"
        }
      ],
      "source": [
        "np.set_printoptions(precision=2, suppress=True)\n",
        "np.corrcoef(X, rowvar=False)"
      ]
    },
    {
      "cell_type": "code",
      "execution_count": null,
      "metadata": {
        "colab": {
          "base_uri": "https://localhost:8080/"
        },
        "id": "tCvjElpVna48",
        "outputId": "f5aaa3a7-8c02-4414-d487-cf8683269ee8"
      },
      "outputs": [
        {
          "data": {
            "text/plain": [
              "array([[65.2 , 64.3 , 64.45, 63.9 , 53.52, 58.3 , 62.09, 63.37, 61.83,\n",
              "        62.84, 61.  , 61.31, 58.58, 55.68, 61.22, 63.27, 63.32, 63.37,\n",
              "        62.19],\n",
              "       [64.3 , 65.2 , 63.82, 62.34, 54.38, 60.27, 63.13, 63.75, 60.97,\n",
              "        61.49, 62.01, 61.35, 58.03, 56.26, 62.36, 63.23, 63.61, 63.74,\n",
              "        61.68],\n",
              "       [64.45, 63.82, 65.2 , 63.81, 52.8 , 57.01, 61.32, 62.67, 61.19,\n",
              "        62.93, 59.85, 61.56, 57.94, 55.18, 60.3 , 63.39, 63.42, 62.88,\n",
              "        62.01],\n",
              "       [63.9 , 62.34, 63.81, 65.2 , 51.42, 55.33, 59.78, 61.88, 61.82,\n",
              "        62.52, 59.58, 59.91, 57.37, 53.85, 58.97, 61.85, 61.86, 61.61,\n",
              "        60.8 ],\n",
              "       [53.52, 54.38, 52.8 , 51.42, 65.22, 57.96, 55.62, 54.47, 51.47,\n",
              "        52.1 , 52.73, 51.27, 49.02, 61.94, 54.8 , 52.77, 53.27, 53.92,\n",
              "        51.17],\n",
              "       [58.3 , 60.27, 57.01, 55.33, 57.96, 65.21, 62.02, 60.52, 56.31,\n",
              "        55.35, 60.14, 55.31, 53.07, 56.09, 61.65, 57.2 , 58.14, 59.67,\n",
              "        55.8 ],\n",
              "       [62.09, 63.13, 61.32, 59.78, 55.62, 62.02, 65.21, 62.61, 60.49,\n",
              "        60.17, 62.2 , 60.38, 57.72, 58.28, 64.45, 61.72, 62.28, 63.26,\n",
              "        60.61],\n",
              "       [63.37, 63.75, 62.67, 61.88, 54.47, 60.52, 62.61, 65.2 , 62.67,\n",
              "        62.3 , 62.85, 61.24, 59.3 , 55.45, 61.75, 62.97, 63.27, 63.42,\n",
              "        62.27],\n",
              "       [61.83, 60.97, 61.19, 61.82, 51.47, 56.31, 60.49, 62.67, 65.2 ,\n",
              "        62.21, 60.47, 60.87, 60.76, 53.77, 59.42, 61.19, 61.23, 60.47,\n",
              "        61.5 ],\n",
              "       [62.84, 61.49, 62.93, 62.52, 52.1 , 55.35, 60.17, 62.3 , 62.21,\n",
              "        65.21, 58.89, 62.69, 61.01, 54.33, 58.8 , 63.39, 62.93, 61.86,\n",
              "        62.91],\n",
              "       [61.  , 62.01, 59.85, 59.58, 52.73, 60.14, 62.2 , 62.85, 60.47,\n",
              "        58.89, 65.2 , 58.55, 57.17, 55.42, 62.26, 60.34, 60.84, 62.41,\n",
              "        59.85],\n",
              "       [61.31, 61.35, 61.56, 59.91, 51.27, 55.31, 60.38, 61.24, 60.87,\n",
              "        62.69, 58.55, 65.21, 61.93, 54.49, 59.54, 63.32, 63.37, 61.02,\n",
              "        61.78],\n",
              "       [58.58, 58.03, 57.94, 57.37, 49.02, 53.07, 57.72, 59.3 , 60.76,\n",
              "        61.01, 57.17, 61.93, 65.25, 52.14, 57.11, 60.6 , 59.62, 58.55,\n",
              "        60.77],\n",
              "       [55.68, 56.26, 55.18, 53.85, 61.94, 56.09, 58.28, 55.45, 53.77,\n",
              "        54.33, 55.42, 54.49, 52.14, 65.22, 58.41, 55.56, 55.98, 56.73,\n",
              "        54.16],\n",
              "       [61.22, 62.36, 60.3 , 58.97, 54.8 , 61.65, 64.45, 61.75, 59.42,\n",
              "        58.8 , 62.26, 59.54, 57.11, 58.41, 65.21, 60.98, 61.59, 63.03,\n",
              "        59.89],\n",
              "       [63.27, 63.23, 63.39, 61.85, 52.77, 57.2 , 61.72, 62.97, 61.19,\n",
              "        63.39, 60.34, 63.32, 60.6 , 55.56, 60.98, 65.21, 64.54, 63.88,\n",
              "        63.39],\n",
              "       [63.32, 63.61, 63.42, 61.86, 53.27, 58.14, 62.28, 63.27, 61.23,\n",
              "        62.93, 60.84, 63.37, 59.62, 55.98, 61.59, 64.54, 65.2 , 63.74,\n",
              "        62.87],\n",
              "       [63.37, 63.74, 62.88, 61.61, 53.92, 59.67, 63.26, 63.42, 60.47,\n",
              "        61.86, 62.41, 61.02, 58.55, 56.73, 63.03, 63.88, 63.74, 65.21,\n",
              "        62.85],\n",
              "       [62.19, 61.68, 62.01, 60.8 , 51.17, 55.8 , 60.61, 62.27, 61.5 ,\n",
              "        62.91, 59.85, 61.78, 60.77, 54.16, 59.89, 63.39, 62.87, 62.85,\n",
              "        65.22]])"
            ]
          },
          "execution_count": 310,
          "metadata": {},
          "output_type": "execute_result"
        }
      ],
      "source": [
        "np.cov(X, rowvar=False)"
      ]
    },
    {
      "cell_type": "code",
      "execution_count": null,
      "metadata": {
        "colab": {
          "base_uri": "https://localhost:8080/"
        },
        "id": "O0xynFDksNT_",
        "outputId": "e2ace5e0-98c9-4c50-eb9b-5d0757fb61f5"
      },
      "outputs": [
        {
          "data": {
            "text/plain": [
              "array([[1.  , 0.99, 0.99, 0.98, 0.82, 0.89, 0.95, 0.97, 0.95, 0.96, 0.94,\n",
              "        0.94, 0.9 , 0.85, 0.94, 0.97, 0.97, 0.97, 0.95],\n",
              "       [0.99, 1.  , 0.98, 0.96, 0.83, 0.92, 0.97, 0.98, 0.94, 0.94, 0.95,\n",
              "        0.94, 0.89, 0.86, 0.96, 0.97, 0.98, 0.98, 0.95],\n",
              "       [0.99, 0.98, 1.  , 0.98, 0.81, 0.87, 0.94, 0.96, 0.94, 0.97, 0.92,\n",
              "        0.94, 0.89, 0.85, 0.92, 0.97, 0.97, 0.96, 0.95],\n",
              "       [0.98, 0.96, 0.98, 1.  , 0.79, 0.85, 0.92, 0.95, 0.95, 0.96, 0.91,\n",
              "        0.92, 0.88, 0.83, 0.9 , 0.95, 0.95, 0.94, 0.93],\n",
              "       [0.82, 0.83, 0.81, 0.79, 1.  , 0.89, 0.85, 0.84, 0.79, 0.8 , 0.81,\n",
              "        0.79, 0.75, 0.95, 0.84, 0.81, 0.82, 0.83, 0.78],\n",
              "       [0.89, 0.92, 0.87, 0.85, 0.89, 1.  , 0.95, 0.93, 0.86, 0.85, 0.92,\n",
              "        0.85, 0.81, 0.86, 0.95, 0.88, 0.89, 0.92, 0.86],\n",
              "       [0.95, 0.97, 0.94, 0.92, 0.85, 0.95, 1.  , 0.96, 0.93, 0.92, 0.95,\n",
              "        0.93, 0.88, 0.89, 0.99, 0.95, 0.96, 0.97, 0.93],\n",
              "       [0.97, 0.98, 0.96, 0.95, 0.84, 0.93, 0.96, 1.  , 0.96, 0.96, 0.96,\n",
              "        0.94, 0.91, 0.85, 0.95, 0.97, 0.97, 0.97, 0.95],\n",
              "       [0.95, 0.94, 0.94, 0.95, 0.79, 0.86, 0.93, 0.96, 1.  , 0.95, 0.93,\n",
              "        0.93, 0.93, 0.82, 0.91, 0.94, 0.94, 0.93, 0.94],\n",
              "       [0.96, 0.94, 0.97, 0.96, 0.8 , 0.85, 0.92, 0.96, 0.95, 1.  , 0.9 ,\n",
              "        0.96, 0.94, 0.83, 0.9 , 0.97, 0.97, 0.95, 0.96],\n",
              "       [0.94, 0.95, 0.92, 0.91, 0.81, 0.92, 0.95, 0.96, 0.93, 0.9 , 1.  ,\n",
              "        0.9 , 0.88, 0.85, 0.95, 0.93, 0.93, 0.96, 0.92],\n",
              "       [0.94, 0.94, 0.94, 0.92, 0.79, 0.85, 0.93, 0.94, 0.93, 0.96, 0.9 ,\n",
              "        1.  , 0.95, 0.84, 0.91, 0.97, 0.97, 0.94, 0.95],\n",
              "       [0.9 , 0.89, 0.89, 0.88, 0.75, 0.81, 0.88, 0.91, 0.93, 0.94, 0.88,\n",
              "        0.95, 1.  , 0.8 , 0.88, 0.93, 0.91, 0.9 , 0.93],\n",
              "       [0.85, 0.86, 0.85, 0.83, 0.95, 0.86, 0.89, 0.85, 0.82, 0.83, 0.85,\n",
              "        0.84, 0.8 , 1.  , 0.9 , 0.85, 0.86, 0.87, 0.83],\n",
              "       [0.94, 0.96, 0.92, 0.9 , 0.84, 0.95, 0.99, 0.95, 0.91, 0.9 , 0.95,\n",
              "        0.91, 0.88, 0.9 , 1.  , 0.94, 0.94, 0.97, 0.92],\n",
              "       [0.97, 0.97, 0.97, 0.95, 0.81, 0.88, 0.95, 0.97, 0.94, 0.97, 0.93,\n",
              "        0.97, 0.93, 0.85, 0.94, 1.  , 0.99, 0.98, 0.97],\n",
              "       [0.97, 0.98, 0.97, 0.95, 0.82, 0.89, 0.96, 0.97, 0.94, 0.97, 0.93,\n",
              "        0.97, 0.91, 0.86, 0.94, 0.99, 1.  , 0.98, 0.96],\n",
              "       [0.97, 0.98, 0.96, 0.94, 0.83, 0.92, 0.97, 0.97, 0.93, 0.95, 0.96,\n",
              "        0.94, 0.9 , 0.87, 0.97, 0.98, 0.98, 1.  , 0.96],\n",
              "       [0.95, 0.95, 0.95, 0.93, 0.78, 0.86, 0.93, 0.95, 0.94, 0.96, 0.92,\n",
              "        0.95, 0.93, 0.83, 0.92, 0.97, 0.96, 0.96, 1.  ]])"
            ]
          },
          "execution_count": 311,
          "metadata": {},
          "output_type": "execute_result"
        }
      ],
      "source": [
        "from sklearn.preprocessing import StandardScaler\n",
        "scaler = StandardScaler()\n",
        "scaler.fit(X)\n",
        "X_transformed = scaler.transform(X)\n",
        "\"\"\" transformed variance-covariance matrix and it should nearly match the \n",
        "correlation matrix \"\"\"  \n",
        "np.cov(X_transformed, rowvar=False)"
      ]
    }
  ],
  "metadata": {
    "colab": {
      "provenance": []
    },
    "kernelspec": {
      "display_name": "Python 3",
      "name": "python3"
    },
    "language_info": {
      "name": "python"
    }
  },
  "nbformat": 4,
  "nbformat_minor": 0
}