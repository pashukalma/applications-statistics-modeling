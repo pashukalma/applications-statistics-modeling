{
  "nbformat": 4,
  "nbformat_minor": 0,
  "metadata": {
    "colab": {
      "provenance": [],
      "machine_shape": "hm"
    },
    "kernelspec": {
      "name": "python3",
      "display_name": "Python 3"
    },
    "language_info": {
      "name": "python"
    }
  },
  "cells": [
    {
      "cell_type": "markdown",
      "source": [
        "Installations"
      ],
      "metadata": {
        "id": "PELAAVVUpEoU"
      }
    },
    {
      "cell_type": "code",
      "source": [
        "import numpy as np\n",
        "import pandas as pd\n",
        "from sklearn.metrics import classification_report"
      ],
      "metadata": {
        "id": "2mSPefAdNGMF"
      },
      "execution_count": null,
      "outputs": []
    },
    {
      "cell_type": "markdown",
      "source": [
        "Supervised ML Covid ICU"
      ],
      "metadata": {
        "id": "wRYMQBQhmhnR"
      }
    },
    {
      "cell_type": "code",
      "source": [
        "df_x = pd.read_csv('nestorowa_corrected_log2_transformed_counts.txt', sep=' ')\n",
        "df_x['annotation'] = df_x.index.str[:4]\n",
        "y = df_x['annotation'].values.ravel()\n",
        "df_x[:2]"
      ],
      "metadata": {
        "colab": {
          "base_uri": "https://localhost:8080/",
          "height": 161
        },
        "id": "a8Oedfq4mQkg",
        "outputId": "01bb6247-6d41-452f-a2a2-245d41ba87e8"
      },
      "execution_count": null,
      "outputs": [
        {
          "output_type": "execute_result",
          "data": {
            "text/plain": [
              "          1110032F04Rik  1110059E24Rik  1300017J02Rik  1600014C10Rik  \\\n",
              "HSPC_001            0.0            0.0            0.0       0.000000   \n",
              "HSPC_002            0.0            0.0            0.0       2.238601   \n",
              "\n",
              "          1700017B05Rik  1700019G17Rik  1700024P16Rik  1700026L06Rik  \\\n",
              "HSPC_001       1.225439            0.0            0.0            0.0   \n",
              "HSPC_002       2.238601            0.0            0.0            0.0   \n",
              "\n",
              "          1700029J07Rik  1700030K09Rik  ...   Zscan29  Zswim3    Zswim4  \\\n",
              "HSPC_001        0.00000            0.0  ...  0.739099     0.0  0.000000   \n",
              "HSPC_002        9.29824            0.0  ...  2.238601     0.0  2.238601   \n",
              "\n",
              "          Zswim6     Zufsp  Zxdb  Zxdc       Zyx       Zzz3  annotation  \n",
              "HSPC_001     0.0  0.000000   0.0   0.0  5.386021  10.541571        HSPC  \n",
              "HSPC_002     0.0  2.238601   0.0   0.0  9.164370   3.603855        HSPC  \n",
              "\n",
              "[2 rows x 3992 columns]"
            ],
            "text/html": [
              "\n",
              "  <div id=\"df-ae5be975-97bf-4f00-befe-0555812ec9e5\" class=\"colab-df-container\">\n",
              "    <div>\n",
              "<style scoped>\n",
              "    .dataframe tbody tr th:only-of-type {\n",
              "        vertical-align: middle;\n",
              "    }\n",
              "\n",
              "    .dataframe tbody tr th {\n",
              "        vertical-align: top;\n",
              "    }\n",
              "\n",
              "    .dataframe thead th {\n",
              "        text-align: right;\n",
              "    }\n",
              "</style>\n",
              "<table border=\"1\" class=\"dataframe\">\n",
              "  <thead>\n",
              "    <tr style=\"text-align: right;\">\n",
              "      <th></th>\n",
              "      <th>1110032F04Rik</th>\n",
              "      <th>1110059E24Rik</th>\n",
              "      <th>1300017J02Rik</th>\n",
              "      <th>1600014C10Rik</th>\n",
              "      <th>1700017B05Rik</th>\n",
              "      <th>1700019G17Rik</th>\n",
              "      <th>1700024P16Rik</th>\n",
              "      <th>1700026L06Rik</th>\n",
              "      <th>1700029J07Rik</th>\n",
              "      <th>1700030K09Rik</th>\n",
              "      <th>...</th>\n",
              "      <th>Zscan29</th>\n",
              "      <th>Zswim3</th>\n",
              "      <th>Zswim4</th>\n",
              "      <th>Zswim6</th>\n",
              "      <th>Zufsp</th>\n",
              "      <th>Zxdb</th>\n",
              "      <th>Zxdc</th>\n",
              "      <th>Zyx</th>\n",
              "      <th>Zzz3</th>\n",
              "      <th>annotation</th>\n",
              "    </tr>\n",
              "  </thead>\n",
              "  <tbody>\n",
              "    <tr>\n",
              "      <th>HSPC_001</th>\n",
              "      <td>0.0</td>\n",
              "      <td>0.0</td>\n",
              "      <td>0.0</td>\n",
              "      <td>0.000000</td>\n",
              "      <td>1.225439</td>\n",
              "      <td>0.0</td>\n",
              "      <td>0.0</td>\n",
              "      <td>0.0</td>\n",
              "      <td>0.00000</td>\n",
              "      <td>0.0</td>\n",
              "      <td>...</td>\n",
              "      <td>0.739099</td>\n",
              "      <td>0.0</td>\n",
              "      <td>0.000000</td>\n",
              "      <td>0.0</td>\n",
              "      <td>0.000000</td>\n",
              "      <td>0.0</td>\n",
              "      <td>0.0</td>\n",
              "      <td>5.386021</td>\n",
              "      <td>10.541571</td>\n",
              "      <td>HSPC</td>\n",
              "    </tr>\n",
              "    <tr>\n",
              "      <th>HSPC_002</th>\n",
              "      <td>0.0</td>\n",
              "      <td>0.0</td>\n",
              "      <td>0.0</td>\n",
              "      <td>2.238601</td>\n",
              "      <td>2.238601</td>\n",
              "      <td>0.0</td>\n",
              "      <td>0.0</td>\n",
              "      <td>0.0</td>\n",
              "      <td>9.29824</td>\n",
              "      <td>0.0</td>\n",
              "      <td>...</td>\n",
              "      <td>2.238601</td>\n",
              "      <td>0.0</td>\n",
              "      <td>2.238601</td>\n",
              "      <td>0.0</td>\n",
              "      <td>2.238601</td>\n",
              "      <td>0.0</td>\n",
              "      <td>0.0</td>\n",
              "      <td>9.164370</td>\n",
              "      <td>3.603855</td>\n",
              "      <td>HSPC</td>\n",
              "    </tr>\n",
              "  </tbody>\n",
              "</table>\n",
              "<p>2 rows × 3992 columns</p>\n",
              "</div>\n",
              "    <div class=\"colab-df-buttons\">\n",
              "\n",
              "  <div class=\"colab-df-container\">\n",
              "    <button class=\"colab-df-convert\" onclick=\"convertToInteractive('df-ae5be975-97bf-4f00-befe-0555812ec9e5')\"\n",
              "            title=\"Convert this dataframe to an interactive table.\"\n",
              "            style=\"display:none;\">\n",
              "\n",
              "  <svg xmlns=\"http://www.w3.org/2000/svg\" height=\"24px\" viewBox=\"0 -960 960 960\">\n",
              "    <path d=\"M120-120v-720h720v720H120Zm60-500h600v-160H180v160Zm220 220h160v-160H400v160Zm0 220h160v-160H400v160ZM180-400h160v-160H180v160Zm440 0h160v-160H620v160ZM180-180h160v-160H180v160Zm440 0h160v-160H620v160Z\"/>\n",
              "  </svg>\n",
              "    </button>\n",
              "\n",
              "  <style>\n",
              "    .colab-df-container {\n",
              "      display:flex;\n",
              "      gap: 12px;\n",
              "    }\n",
              "\n",
              "    .colab-df-convert {\n",
              "      background-color: #E8F0FE;\n",
              "      border: none;\n",
              "      border-radius: 50%;\n",
              "      cursor: pointer;\n",
              "      display: none;\n",
              "      fill: #1967D2;\n",
              "      height: 32px;\n",
              "      padding: 0 0 0 0;\n",
              "      width: 32px;\n",
              "    }\n",
              "\n",
              "    .colab-df-convert:hover {\n",
              "      background-color: #E2EBFA;\n",
              "      box-shadow: 0px 1px 2px rgba(60, 64, 67, 0.3), 0px 1px 3px 1px rgba(60, 64, 67, 0.15);\n",
              "      fill: #174EA6;\n",
              "    }\n",
              "\n",
              "    .colab-df-buttons div {\n",
              "      margin-bottom: 4px;\n",
              "    }\n",
              "\n",
              "    [theme=dark] .colab-df-convert {\n",
              "      background-color: #3B4455;\n",
              "      fill: #D2E3FC;\n",
              "    }\n",
              "\n",
              "    [theme=dark] .colab-df-convert:hover {\n",
              "      background-color: #434B5C;\n",
              "      box-shadow: 0px 1px 3px 1px rgba(0, 0, 0, 0.15);\n",
              "      filter: drop-shadow(0px 1px 2px rgba(0, 0, 0, 0.3));\n",
              "      fill: #FFFFFF;\n",
              "    }\n",
              "  </style>\n",
              "\n",
              "    <script>\n",
              "      const buttonEl =\n",
              "        document.querySelector('#df-ae5be975-97bf-4f00-befe-0555812ec9e5 button.colab-df-convert');\n",
              "      buttonEl.style.display =\n",
              "        google.colab.kernel.accessAllowed ? 'block' : 'none';\n",
              "\n",
              "      async function convertToInteractive(key) {\n",
              "        const element = document.querySelector('#df-ae5be975-97bf-4f00-befe-0555812ec9e5');\n",
              "        const dataTable =\n",
              "          await google.colab.kernel.invokeFunction('convertToInteractive',\n",
              "                                                    [key], {});\n",
              "        if (!dataTable) return;\n",
              "\n",
              "        const docLinkHtml = 'Like what you see? Visit the ' +\n",
              "          '<a target=\"_blank\" href=https://colab.research.google.com/notebooks/data_table.ipynb>data table notebook</a>'\n",
              "          + ' to learn more about interactive tables.';\n",
              "        element.innerHTML = '';\n",
              "        dataTable['output_type'] = 'display_data';\n",
              "        await google.colab.output.renderOutput(dataTable, element);\n",
              "        const docLink = document.createElement('div');\n",
              "        docLink.innerHTML = docLinkHtml;\n",
              "        element.appendChild(docLink);\n",
              "      }\n",
              "    </script>\n",
              "  </div>\n",
              "\n",
              "\n",
              "<div id=\"df-5216d246-0c3a-49e8-84f6-d235cf536750\">\n",
              "  <button class=\"colab-df-quickchart\" onclick=\"quickchart('df-5216d246-0c3a-49e8-84f6-d235cf536750')\"\n",
              "            title=\"Suggest charts\"\n",
              "            style=\"display:none;\">\n",
              "\n",
              "<svg xmlns=\"http://www.w3.org/2000/svg\" height=\"24px\"viewBox=\"0 0 24 24\"\n",
              "     width=\"24px\">\n",
              "    <g>\n",
              "        <path d=\"M19 3H5c-1.1 0-2 .9-2 2v14c0 1.1.9 2 2 2h14c1.1 0 2-.9 2-2V5c0-1.1-.9-2-2-2zM9 17H7v-7h2v7zm4 0h-2V7h2v10zm4 0h-2v-4h2v4z\"/>\n",
              "    </g>\n",
              "</svg>\n",
              "  </button>\n",
              "\n",
              "<style>\n",
              "  .colab-df-quickchart {\n",
              "      --bg-color: #E8F0FE;\n",
              "      --fill-color: #1967D2;\n",
              "      --hover-bg-color: #E2EBFA;\n",
              "      --hover-fill-color: #174EA6;\n",
              "      --disabled-fill-color: #AAA;\n",
              "      --disabled-bg-color: #DDD;\n",
              "  }\n",
              "\n",
              "  [theme=dark] .colab-df-quickchart {\n",
              "      --bg-color: #3B4455;\n",
              "      --fill-color: #D2E3FC;\n",
              "      --hover-bg-color: #434B5C;\n",
              "      --hover-fill-color: #FFFFFF;\n",
              "      --disabled-bg-color: #3B4455;\n",
              "      --disabled-fill-color: #666;\n",
              "  }\n",
              "\n",
              "  .colab-df-quickchart {\n",
              "    background-color: var(--bg-color);\n",
              "    border: none;\n",
              "    border-radius: 50%;\n",
              "    cursor: pointer;\n",
              "    display: none;\n",
              "    fill: var(--fill-color);\n",
              "    height: 32px;\n",
              "    padding: 0;\n",
              "    width: 32px;\n",
              "  }\n",
              "\n",
              "  .colab-df-quickchart:hover {\n",
              "    background-color: var(--hover-bg-color);\n",
              "    box-shadow: 0 1px 2px rgba(60, 64, 67, 0.3), 0 1px 3px 1px rgba(60, 64, 67, 0.15);\n",
              "    fill: var(--button-hover-fill-color);\n",
              "  }\n",
              "\n",
              "  .colab-df-quickchart-complete:disabled,\n",
              "  .colab-df-quickchart-complete:disabled:hover {\n",
              "    background-color: var(--disabled-bg-color);\n",
              "    fill: var(--disabled-fill-color);\n",
              "    box-shadow: none;\n",
              "  }\n",
              "\n",
              "  .colab-df-spinner {\n",
              "    border: 2px solid var(--fill-color);\n",
              "    border-color: transparent;\n",
              "    border-bottom-color: var(--fill-color);\n",
              "    animation:\n",
              "      spin 1s steps(1) infinite;\n",
              "  }\n",
              "\n",
              "  @keyframes spin {\n",
              "    0% {\n",
              "      border-color: transparent;\n",
              "      border-bottom-color: var(--fill-color);\n",
              "      border-left-color: var(--fill-color);\n",
              "    }\n",
              "    20% {\n",
              "      border-color: transparent;\n",
              "      border-left-color: var(--fill-color);\n",
              "      border-top-color: var(--fill-color);\n",
              "    }\n",
              "    30% {\n",
              "      border-color: transparent;\n",
              "      border-left-color: var(--fill-color);\n",
              "      border-top-color: var(--fill-color);\n",
              "      border-right-color: var(--fill-color);\n",
              "    }\n",
              "    40% {\n",
              "      border-color: transparent;\n",
              "      border-right-color: var(--fill-color);\n",
              "      border-top-color: var(--fill-color);\n",
              "    }\n",
              "    60% {\n",
              "      border-color: transparent;\n",
              "      border-right-color: var(--fill-color);\n",
              "    }\n",
              "    80% {\n",
              "      border-color: transparent;\n",
              "      border-right-color: var(--fill-color);\n",
              "      border-bottom-color: var(--fill-color);\n",
              "    }\n",
              "    90% {\n",
              "      border-color: transparent;\n",
              "      border-bottom-color: var(--fill-color);\n",
              "    }\n",
              "  }\n",
              "</style>\n",
              "\n",
              "  <script>\n",
              "    async function quickchart(key) {\n",
              "      const quickchartButtonEl =\n",
              "        document.querySelector('#' + key + ' button');\n",
              "      quickchartButtonEl.disabled = true;  // To prevent multiple clicks.\n",
              "      quickchartButtonEl.classList.add('colab-df-spinner');\n",
              "      try {\n",
              "        const charts = await google.colab.kernel.invokeFunction(\n",
              "            'suggestCharts', [key], {});\n",
              "      } catch (error) {\n",
              "        console.error('Error during call to suggestCharts:', error);\n",
              "      }\n",
              "      quickchartButtonEl.classList.remove('colab-df-spinner');\n",
              "      quickchartButtonEl.classList.add('colab-df-quickchart-complete');\n",
              "    }\n",
              "    (() => {\n",
              "      let quickchartButtonEl =\n",
              "        document.querySelector('#df-5216d246-0c3a-49e8-84f6-d235cf536750 button');\n",
              "      quickchartButtonEl.style.display =\n",
              "        google.colab.kernel.accessAllowed ? 'block' : 'none';\n",
              "    })();\n",
              "  </script>\n",
              "</div>\n",
              "\n",
              "    </div>\n",
              "  </div>\n"
            ],
            "application/vnd.google.colaboratory.intrinsic+json": {
              "type": "dataframe"
            }
          },
          "metadata": {},
          "execution_count": 119
        }
      ]
    },
    {
      "cell_type": "code",
      "source": [
        "from sklearn.preprocessing import StandardScaler\n",
        "from sklearn.decomposition import PCA\n",
        "\n",
        "scaler = StandardScaler()\n",
        "X_scaled = scaler.fit_transform(df_x.drop(columns=['annotation']))\n",
        "pca = PCA(n_components=900, svd_solver='full')\n",
        "pca.fit(X_scaled)\n",
        "X_pca = pca.fit_transform(X_scaled)\n",
        "pca.explained_variance_ratio_.sum(), pca.explained_variance_ratio_[:5]"
      ],
      "metadata": {
        "colab": {
          "base_uri": "https://localhost:8080/"
        },
        "id": "355zxESlmRJi",
        "outputId": "83b0f1e7-a8d3-4e40-caac-00584839c9d5"
      },
      "execution_count": null,
      "outputs": [
        {
          "output_type": "execute_result",
          "data": {
            "text/plain": [
              "(0.8545985153116179,\n",
              " array([0.08083444, 0.0235883 , 0.01405723, 0.00996533, 0.00821934]))"
            ]
          },
          "metadata": {},
          "execution_count": 121
        }
      ]
    },
    {
      "cell_type": "code",
      "source": [
        "from sklearn.model_selection import train_test_split\n",
        "from sklearn.neighbors import KNeighborsClassifier\n",
        "from sklearn.metrics import accuracy_score\n",
        "\n",
        "X_train, X_test, y_train, y_test = train_test_split(\n",
        "    X_pca, y, test_size=0.33, random_state=42)\n",
        "knn = KNeighborsClassifier(n_neighbors=3)\n",
        "knn.fit(X_train, y_train)\n",
        "y_pred = knn.predict(X_test)\n",
        "print(classification_report(y_test, y_pred))\n",
        "\n",
        "for i in range(1,10):\n",
        "  knn = KNeighborsClassifier(n_neighbors=i)\n",
        "  knn.fit(X_train, y_train)\n",
        "  y_pred = knn.predict(X_test)\n",
        "  print('n: ', i, 'accuracy score: ', accuracy_score(y_test, y_pred))"
      ],
      "metadata": {
        "colab": {
          "base_uri": "https://localhost:8080/"
        },
        "id": "BlVMRqG-mRSF",
        "outputId": "9fdd706e-d674-4cab-fb5f-60fe67355e99"
      },
      "execution_count": null,
      "outputs": [
        {
          "output_type": "stream",
          "name": "stdout",
          "text": [
            "              precision    recall  f1-score   support\n",
            "\n",
            "        HSPC       0.82      0.31      0.45       236\n",
            "        LT.H       0.71      0.35      0.47        48\n",
            "        Prog       0.59      0.98      0.74       259\n",
            "\n",
            "    accuracy                           0.64       543\n",
            "   macro avg       0.71      0.55      0.55       543\n",
            "weighted avg       0.70      0.64      0.59       543\n",
            "\n",
            "n:  1 accuracy score:  0.572744014732965\n",
            "n:  2 accuracy score:  0.6132596685082873\n",
            "n:  3 accuracy score:  0.6353591160220995\n",
            "n:  4 accuracy score:  0.6077348066298343\n",
            "n:  5 accuracy score:  0.6298342541436464\n",
            "n:  6 accuracy score:  0.5930018416206262\n",
            "n:  7 accuracy score:  0.580110497237569\n",
            "n:  8 accuracy score:  0.5377532228360957\n",
            "n:  9 accuracy score:  0.5598526703499079\n"
          ]
        }
      ]
    },
    {
      "cell_type": "code",
      "source": [
        "from sklearn.ensemble import RandomForestClassifier\n",
        "\n",
        "rf_classifier = RandomForestClassifier(n_estimators=100, random_state=42)\n",
        "rf_classifier.fit(X_train, y_train)\n",
        "y_pred = rf_classifier.predict(X_test)\n",
        "print(classification_report(y_test, y_pred))"
      ],
      "metadata": {
        "colab": {
          "base_uri": "https://localhost:8080/"
        },
        "id": "2tKL2qAJrE-w",
        "outputId": "dd4b88e4-62c1-4d95-e91d-ac9d7f13b916"
      },
      "execution_count": null,
      "outputs": [
        {
          "output_type": "stream",
          "name": "stdout",
          "text": [
            "              precision    recall  f1-score   support\n",
            "\n",
            "        HSPC       0.71      0.90      0.79       236\n",
            "        LT.H       0.00      0.00      0.00        48\n",
            "        Prog       0.89      0.83      0.86       259\n",
            "\n",
            "    accuracy                           0.79       543\n",
            "   macro avg       0.53      0.58      0.55       543\n",
            "weighted avg       0.73      0.79      0.76       543\n",
            "\n"
          ]
        },
        {
          "output_type": "stream",
          "name": "stderr",
          "text": [
            "/usr/local/lib/python3.11/dist-packages/sklearn/metrics/_classification.py:1565: UndefinedMetricWarning: Precision is ill-defined and being set to 0.0 in labels with no predicted samples. Use `zero_division` parameter to control this behavior.\n",
            "  _warn_prf(average, modifier, f\"{metric.capitalize()} is\", len(result))\n",
            "/usr/local/lib/python3.11/dist-packages/sklearn/metrics/_classification.py:1565: UndefinedMetricWarning: Precision is ill-defined and being set to 0.0 in labels with no predicted samples. Use `zero_division` parameter to control this behavior.\n",
            "  _warn_prf(average, modifier, f\"{metric.capitalize()} is\", len(result))\n",
            "/usr/local/lib/python3.11/dist-packages/sklearn/metrics/_classification.py:1565: UndefinedMetricWarning: Precision is ill-defined and being set to 0.0 in labels with no predicted samples. Use `zero_division` parameter to control this behavior.\n",
            "  _warn_prf(average, modifier, f\"{metric.capitalize()} is\", len(result))\n"
          ]
        }
      ]
    },
    {
      "cell_type": "code",
      "source": [
        "from sklearn.svm import SVC\n",
        "svc_classifier = SVC(kernel='rbf')\n",
        "svc_classifier.fit(X_train, y_train)\n",
        "y_pred = svc_classifier.predict(X_test)\n",
        "print(classification_report(y_test, y_pred))"
      ],
      "metadata": {
        "colab": {
          "base_uri": "https://localhost:8080/"
        },
        "id": "y12tZXmerFC7",
        "outputId": "fc030a92-cf61-4a86-c0df-0e8d29dda62e"
      },
      "execution_count": null,
      "outputs": [
        {
          "output_type": "stream",
          "name": "stdout",
          "text": [
            "              precision    recall  f1-score   support\n",
            "\n",
            "        HSPC       0.77      0.95      0.85       236\n",
            "        LT.H       0.89      0.17      0.28        48\n",
            "        Prog       0.95      0.89      0.92       259\n",
            "\n",
            "    accuracy                           0.85       543\n",
            "   macro avg       0.87      0.67      0.68       543\n",
            "weighted avg       0.87      0.85      0.83       543\n",
            "\n"
          ]
        }
      ]
    },
    {
      "cell_type": "code",
      "source": [
        "from sklearn.svm import SVC\n",
        "svc_classifier = SVC(kernel='linear')\n",
        "svc_classifier.fit(X_train, y_train)\n",
        "y_pred = svc_classifier.predict(X_test)\n",
        "print(classification_report(y_test, y_pred))"
      ],
      "metadata": {
        "colab": {
          "base_uri": "https://localhost:8080/"
        },
        "id": "xF_0LRnIrFPI",
        "outputId": "19f9e895-2b43-4ff9-97fc-a2a495ecd6ea"
      },
      "execution_count": null,
      "outputs": [
        {
          "output_type": "stream",
          "name": "stdout",
          "text": [
            "              precision    recall  f1-score   support\n",
            "\n",
            "        HSPC       0.83      0.83      0.83       236\n",
            "        LT.H       0.67      0.62      0.65        48\n",
            "        Prog       0.89      0.91      0.90       259\n",
            "\n",
            "    accuracy                           0.85       543\n",
            "   macro avg       0.80      0.79      0.79       543\n",
            "weighted avg       0.85      0.85      0.85       543\n",
            "\n"
          ]
        }
      ]
    },
    {
      "cell_type": "code",
      "source": [
        "from sklearn.svm import SVC\n",
        "svc_classifier = SVC(kernel='poly')\n",
        "svc_classifier.fit(X_train, y_train)\n",
        "y_pred = svc_classifier.predict(X_test)\n",
        "print(classification_report(y_test, y_pred))"
      ],
      "metadata": {
        "colab": {
          "base_uri": "https://localhost:8080/"
        },
        "id": "OO4TIJZKrFSu",
        "outputId": "6beeedd0-8841-4be5-9727-9e7032fdd070"
      },
      "execution_count": null,
      "outputs": [
        {
          "output_type": "stream",
          "name": "stdout",
          "text": [
            "              precision    recall  f1-score   support\n",
            "\n",
            "        HSPC       0.75      0.48      0.59       236\n",
            "        LT.H       0.00      0.00      0.00        48\n",
            "        Prog       0.65      0.98      0.78       259\n",
            "\n",
            "    accuracy                           0.68       543\n",
            "   macro avg       0.47      0.49      0.46       543\n",
            "weighted avg       0.64      0.68      0.63       543\n",
            "\n"
          ]
        },
        {
          "output_type": "stream",
          "name": "stderr",
          "text": [
            "/usr/local/lib/python3.11/dist-packages/sklearn/metrics/_classification.py:1565: UndefinedMetricWarning: Precision is ill-defined and being set to 0.0 in labels with no predicted samples. Use `zero_division` parameter to control this behavior.\n",
            "  _warn_prf(average, modifier, f\"{metric.capitalize()} is\", len(result))\n",
            "/usr/local/lib/python3.11/dist-packages/sklearn/metrics/_classification.py:1565: UndefinedMetricWarning: Precision is ill-defined and being set to 0.0 in labels with no predicted samples. Use `zero_division` parameter to control this behavior.\n",
            "  _warn_prf(average, modifier, f\"{metric.capitalize()} is\", len(result))\n",
            "/usr/local/lib/python3.11/dist-packages/sklearn/metrics/_classification.py:1565: UndefinedMetricWarning: Precision is ill-defined and being set to 0.0 in labels with no predicted samples. Use `zero_division` parameter to control this behavior.\n",
            "  _warn_prf(average, modifier, f\"{metric.capitalize()} is\", len(result))\n"
          ]
        }
      ]
    },
    {
      "cell_type": "code",
      "source": [
        "from sklearn.tree import DecisionTreeClassifier\n",
        "dtc_classifier = DecisionTreeClassifier(max_depth=5)\n",
        "dtc_classifier.fit(X_train, y_train)\n",
        "y_pred = dtc_classifier.predict(X_test)\n",
        "print(classification_report(y_test, y_pred))"
      ],
      "metadata": {
        "colab": {
          "base_uri": "https://localhost:8080/"
        },
        "id": "iYarLm8xr-Zp",
        "outputId": "1e389ce2-15e7-4d14-99c5-72dc4eca283c"
      },
      "execution_count": null,
      "outputs": [
        {
          "output_type": "stream",
          "name": "stdout",
          "text": [
            "              precision    recall  f1-score   support\n",
            "\n",
            "        HSPC       0.75      0.72      0.73       236\n",
            "        LT.H       0.51      0.67      0.58        48\n",
            "        Prog       0.85      0.83      0.84       259\n",
            "\n",
            "    accuracy                           0.77       543\n",
            "   macro avg       0.70      0.74      0.72       543\n",
            "weighted avg       0.77      0.77      0.77       543\n",
            "\n"
          ]
        }
      ]
    },
    {
      "cell_type": "code",
      "source": [
        "from sklearn.metrics import accuracy_score\n",
        "\n",
        "for i in range(1,10):\n",
        "  dtc_classifier = DecisionTreeClassifier(max_depth=i)\n",
        "  dtc_classifier.fit(X_train, y_train)\n",
        "  y_pred = dtc_classifier.predict(X_test)\n",
        "  print('n: ', i, 'accuracy score: ', accuracy_score(y_test, y_pred))"
      ],
      "metadata": {
        "colab": {
          "base_uri": "https://localhost:8080/"
        },
        "id": "SaTp4cbGr-d0",
        "outputId": "afb56e0a-bf65-466e-a35c-4030e0e9724e"
      },
      "execution_count": null,
      "outputs": [
        {
          "output_type": "stream",
          "name": "stdout",
          "text": [
            "n:  1 accuracy score:  0.6924493554327809\n",
            "n:  2 accuracy score:  0.7532228360957642\n",
            "n:  3 accuracy score:  0.7661141804788214\n",
            "n:  4 accuracy score:  0.7716390423572744\n",
            "n:  5 accuracy score:  0.7513812154696132\n",
            "n:  6 accuracy score:  0.7219152854511971\n",
            "n:  7 accuracy score:  0.7329650092081031\n",
            "n:  8 accuracy score:  0.7274401473296501\n",
            "n:  9 accuracy score:  0.7200736648250461\n"
          ]
        }
      ]
    },
    {
      "cell_type": "code",
      "source": [
        "from sklearn.ensemble import AdaBoostClassifier\n",
        "ada_classifier = AdaBoostClassifier(n_estimators=1000)\n",
        "ada_classifier.fit(X_train, y_train)\n",
        "y_pred = ada_classifier.predict(X_test)\n",
        "print(classification_report(y_test, y_pred))"
      ],
      "metadata": {
        "colab": {
          "base_uri": "https://localhost:8080/"
        },
        "id": "TKVNpjdnr-oN",
        "outputId": "e74969d7-961c-4bad-b4a7-357641161cfe"
      },
      "execution_count": null,
      "outputs": [
        {
          "output_type": "stream",
          "name": "stdout",
          "text": [
            "              precision    recall  f1-score   support\n",
            "\n",
            "        HSPC       0.80      0.88      0.83       236\n",
            "        LT.H       0.74      0.52      0.61        48\n",
            "        Prog       0.90      0.86      0.88       259\n",
            "\n",
            "    accuracy                           0.84       543\n",
            "   macro avg       0.81      0.75      0.78       543\n",
            "weighted avg       0.84      0.84      0.84       543\n",
            "\n"
          ]
        }
      ]
    },
    {
      "cell_type": "code",
      "source": [
        "from sklearn.ensemble import GradientBoostingClassifier\n",
        "gbc_classifier = GradientBoostingClassifier(n_estimators=1000, learning_rate=0.4)\n",
        "gbc_classifier.fit(X_train, y_train)\n",
        "y_pred = gbc_classifier.predict(X_test)\n",
        "print(classification_report(y_test, y_pred))"
      ],
      "metadata": {
        "colab": {
          "base_uri": "https://localhost:8080/"
        },
        "id": "q6-vnTKIs-am",
        "outputId": "fdebbf70-fe42-4496-9968-626bf818c64d"
      },
      "execution_count": null,
      "outputs": [
        {
          "output_type": "stream",
          "name": "stdout",
          "text": [
            "              precision    recall  f1-score   support\n",
            "\n",
            "        HSPC       0.83      0.87      0.85       236\n",
            "        LT.H       0.65      0.50      0.56        48\n",
            "        Prog       0.92      0.92      0.92       259\n",
            "\n",
            "    accuracy                           0.86       543\n",
            "   macro avg       0.80      0.76      0.78       543\n",
            "weighted avg       0.85      0.86      0.86       543\n",
            "\n"
          ]
        }
      ]
    },
    {
      "cell_type": "code",
      "source": [
        "from xgboost import XGBClassifier\n",
        "xgb_classifier = XGBClassifier(n_estimators=1000)\n",
        "xgb_classifier.fit(X_train, y_train)\n",
        "y_pred = xgb_classifier.predict(X_test)\n",
        "print(classification_report(y_test, y_pred))"
      ],
      "metadata": {
        "id": "C2p0Hpubr-rY"
      },
      "execution_count": null,
      "outputs": []
    }
  ]
}