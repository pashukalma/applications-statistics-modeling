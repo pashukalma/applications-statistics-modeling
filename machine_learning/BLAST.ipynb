{
  "nbformat": 4,
  "nbformat_minor": 0,
  "metadata": {
    "colab": {
      "provenance": [],
      "machine_shape": "hm"
    },
    "kernelspec": {
      "name": "python3",
      "display_name": "Python 3"
    },
    "language_info": {
      "name": "python"
    }
  },
  "cells": [
    {
      "cell_type": "markdown",
      "source": [
        "BLAST"
      ],
      "metadata": {
        "id": "CkeU6z1trmHB"
      }
    },
    {
      "cell_type": "code",
      "source": [
        "!pip install Bio"
      ],
      "metadata": {
        "id": "Xu9z8u-Fr3Hu"
      },
      "execution_count": null,
      "outputs": []
    },
    {
      "cell_type": "code",
      "source": [
        "import Bio.Blast\n",
        "from Bio.Blast import NCBIWWW\n",
        "from Bio.Blast import NCBIXML\n",
        "handle = NCBIWWW.qblast('blastn', 'nt', '8332116')\n",
        "blast_records = NCBIXML.read(handle)"
      ],
      "metadata": {
        "id": "AZGT79C6plA_"
      },
      "execution_count": null,
      "outputs": []
    },
    {
      "cell_type": "code",
      "source": [
        "for alignment in blast_records.alignments[:1]:\n",
        "  for hsp in alignment.hsps:\n",
        "    if hsp.expect <0.01:\n",
        "      print(' ---------------------- ')\n",
        "      print('g1', alignment.title.split('|')[1])\n",
        "      print('ref', alignment.title.split('|')[3])\n",
        "      print('predicted', alignment.title.split('|')[4])\n",
        "      print('length', alignment.length)\n",
        "      print('eval', hsp.expect)\n",
        "      print('score', hsp.score)\n",
        "      print('identity', hsp.identities)\n",
        "      print('gaps', hsp.gaps)"
      ],
      "metadata": {
        "colab": {
          "base_uri": "https://localhost:8080/"
        },
        "id": "gWidhHlNrykL",
        "outputId": "d9f2bf5e-67d5-48d2-e355-2325a36939bf"
      },
      "execution_count": null,
      "outputs": [
        {
          "output_type": "stream",
          "name": "stdout",
          "text": [
            " ---------------------- \n",
            "g1 1219041180\n",
            "ref XM_021875076.1\n",
            "predicted  PREDICTED: Chenopodium quinoa cold-regulated 413 plasma membrane protein 2-like (LOC110697660), mRNA\n",
            "length 1173\n",
            "eval 5.25852e-117\n",
            "score 482.0\n",
            "identity 473\n",
            "gaps 4\n"
          ]
        }
      ]
    }
  ]
}