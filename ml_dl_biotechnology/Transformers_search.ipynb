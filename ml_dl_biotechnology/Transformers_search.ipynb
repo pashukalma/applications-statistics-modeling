{
  "nbformat": 4,
  "nbformat_minor": 0,
  "metadata": {
    "colab": {
      "provenance": []
    },
    "kernelspec": {
      "name": "python3",
      "display_name": "Python 3"
    },
    "language_info": {
      "name": "python"
    }
  },
  "cells": [
    {
      "cell_type": "markdown",
      "source": [
        "Sentiment"
      ],
      "metadata": {
        "id": "-cY0_gXn5i-L"
      }
    },
    {
      "cell_type": "code",
      "source": [
        "import transformers, logging\n",
        "logging.basicConfig(level=logging.INFO)\n",
        "transformers.logging.get_verbosity = lambda: logging.NOTSET\n",
        "import torch, tensorflow\n",
        "from transformers import pipeline\n",
        "import numpy as np\n",
        "import pandas as pd\n",
        "import matplotlib.pyplot as plt\n",
        "import seaborn as sns\n",
        "import warnings\n",
        "warnings.filterwarnings('ignore')\n",
        "import scipy\n",
        "import tqdm\n",
        "from tqdm import tqdm"
      ],
      "metadata": {
        "id": "WEtdXnIA78-D"
      },
      "execution_count": 12,
      "outputs": []
    },
    {
      "cell_type": "markdown",
      "source": [
        "PubMed"
      ],
      "metadata": {
        "id": "kdOH4ZSq-Fgn"
      }
    },
    {
      "cell_type": "code",
      "source": [
        "!pip install pymed"
      ],
      "metadata": {
        "id": "0odJERb8-NVT"
      },
      "execution_count": null,
      "outputs": []
    },
    {
      "cell_type": "code",
      "source": [
        "from pymed import PubMed\n",
        "pubmed  = PubMed()\n",
        "query = 'cancer research'\n",
        "results = pubmed.query(query, max_results=100)\n",
        "\n",
        "article_list = []\n",
        "for article in tqdm(results):\n",
        "    article_dict = article.toDict()\n",
        "    article_list.append(article_dict)\n",
        "df= pd.DataFrame(article_list)\n",
        "df.head()[:1]"
      ],
      "metadata": {
        "colab": {
          "base_uri": "https://localhost:8080/",
          "height": 205
        },
        "collapsed": true,
        "id": "zzzi5FZD-Fql",
        "outputId": "ce452a29-c17d-4d23-e5a5-7539ecb8a526"
      },
      "execution_count": 16,
      "outputs": [
        {
          "output_type": "stream",
          "name": "stderr",
          "text": [
            "100it [00:01, 71.65it/s]\n"
          ]
        },
        {
          "output_type": "execute_result",
          "data": {
            "text/plain": [
              "  pubmed_id                                              title  \\\n",
              "0  40013415  A Randomized Double-Blind Controlled Evaluatio...   \n",
              "\n",
              "                                            abstract  \\\n",
              "0  Dry and chapped lips adversely affect both lip...   \n",
              "\n",
              "                                            keywords  \\\n",
              "0  [aging, antioxidant, cheilitis, herbal lip hyd...   \n",
              "\n",
              "                           journal publication_date  \\\n",
              "0  Journal of cosmetic dermatology       2025-02-27   \n",
              "\n",
              "                                             authors methods  \\\n",
              "0  [{'lastname': 'Sutthiboonyapan', 'firstname': ...    None   \n",
              "\n",
              "                                         conclusions  \\\n",
              "0  The study findings support the therapeutic pot...   \n",
              "\n",
              "                                             results  \\\n",
              "0  The herbal extracts demonstrated potential in ...   \n",
              "\n",
              "                                          copyrights                 doi  \\\n",
              "0  © 2025 The Author(s). Journal of Cosmetic Derm...  10.1111/jocd.70041   \n",
              "\n",
              "                                                 xml  \n",
              "0  [[[], [<Element 'Year' at 0x7cdd709d1b20>, <El...  "
            ],
            "text/html": [
              "\n",
              "  <div id=\"df-506848ac-a01d-453e-99ed-44127ba2e6ca\" class=\"colab-df-container\">\n",
              "    <div>\n",
              "<style scoped>\n",
              "    .dataframe tbody tr th:only-of-type {\n",
              "        vertical-align: middle;\n",
              "    }\n",
              "\n",
              "    .dataframe tbody tr th {\n",
              "        vertical-align: top;\n",
              "    }\n",
              "\n",
              "    .dataframe thead th {\n",
              "        text-align: right;\n",
              "    }\n",
              "</style>\n",
              "<table border=\"1\" class=\"dataframe\">\n",
              "  <thead>\n",
              "    <tr style=\"text-align: right;\">\n",
              "      <th></th>\n",
              "      <th>pubmed_id</th>\n",
              "      <th>title</th>\n",
              "      <th>abstract</th>\n",
              "      <th>keywords</th>\n",
              "      <th>journal</th>\n",
              "      <th>publication_date</th>\n",
              "      <th>authors</th>\n",
              "      <th>methods</th>\n",
              "      <th>conclusions</th>\n",
              "      <th>results</th>\n",
              "      <th>copyrights</th>\n",
              "      <th>doi</th>\n",
              "      <th>xml</th>\n",
              "    </tr>\n",
              "  </thead>\n",
              "  <tbody>\n",
              "    <tr>\n",
              "      <th>0</th>\n",
              "      <td>40013415</td>\n",
              "      <td>A Randomized Double-Blind Controlled Evaluatio...</td>\n",
              "      <td>Dry and chapped lips adversely affect both lip...</td>\n",
              "      <td>[aging, antioxidant, cheilitis, herbal lip hyd...</td>\n",
              "      <td>Journal of cosmetic dermatology</td>\n",
              "      <td>2025-02-27</td>\n",
              "      <td>[{'lastname': 'Sutthiboonyapan', 'firstname': ...</td>\n",
              "      <td>None</td>\n",
              "      <td>The study findings support the therapeutic pot...</td>\n",
              "      <td>The herbal extracts demonstrated potential in ...</td>\n",
              "      <td>© 2025 The Author(s). Journal of Cosmetic Derm...</td>\n",
              "      <td>10.1111/jocd.70041</td>\n",
              "      <td>[[[], [&lt;Element 'Year' at 0x7cdd709d1b20&gt;, &lt;El...</td>\n",
              "    </tr>\n",
              "  </tbody>\n",
              "</table>\n",
              "</div>\n",
              "    <div class=\"colab-df-buttons\">\n",
              "\n",
              "  <div class=\"colab-df-container\">\n",
              "    <button class=\"colab-df-convert\" onclick=\"convertToInteractive('df-506848ac-a01d-453e-99ed-44127ba2e6ca')\"\n",
              "            title=\"Convert this dataframe to an interactive table.\"\n",
              "            style=\"display:none;\">\n",
              "\n",
              "  <svg xmlns=\"http://www.w3.org/2000/svg\" height=\"24px\" viewBox=\"0 -960 960 960\">\n",
              "    <path d=\"M120-120v-720h720v720H120Zm60-500h600v-160H180v160Zm220 220h160v-160H400v160Zm0 220h160v-160H400v160ZM180-400h160v-160H180v160Zm440 0h160v-160H620v160ZM180-180h160v-160H180v160Zm440 0h160v-160H620v160Z\"/>\n",
              "  </svg>\n",
              "    </button>\n",
              "\n",
              "  <style>\n",
              "    .colab-df-container {\n",
              "      display:flex;\n",
              "      gap: 12px;\n",
              "    }\n",
              "\n",
              "    .colab-df-convert {\n",
              "      background-color: #E8F0FE;\n",
              "      border: none;\n",
              "      border-radius: 50%;\n",
              "      cursor: pointer;\n",
              "      display: none;\n",
              "      fill: #1967D2;\n",
              "      height: 32px;\n",
              "      padding: 0 0 0 0;\n",
              "      width: 32px;\n",
              "    }\n",
              "\n",
              "    .colab-df-convert:hover {\n",
              "      background-color: #E2EBFA;\n",
              "      box-shadow: 0px 1px 2px rgba(60, 64, 67, 0.3), 0px 1px 3px 1px rgba(60, 64, 67, 0.15);\n",
              "      fill: #174EA6;\n",
              "    }\n",
              "\n",
              "    .colab-df-buttons div {\n",
              "      margin-bottom: 4px;\n",
              "    }\n",
              "\n",
              "    [theme=dark] .colab-df-convert {\n",
              "      background-color: #3B4455;\n",
              "      fill: #D2E3FC;\n",
              "    }\n",
              "\n",
              "    [theme=dark] .colab-df-convert:hover {\n",
              "      background-color: #434B5C;\n",
              "      box-shadow: 0px 1px 3px 1px rgba(0, 0, 0, 0.15);\n",
              "      filter: drop-shadow(0px 1px 2px rgba(0, 0, 0, 0.3));\n",
              "      fill: #FFFFFF;\n",
              "    }\n",
              "  </style>\n",
              "\n",
              "    <script>\n",
              "      const buttonEl =\n",
              "        document.querySelector('#df-506848ac-a01d-453e-99ed-44127ba2e6ca button.colab-df-convert');\n",
              "      buttonEl.style.display =\n",
              "        google.colab.kernel.accessAllowed ? 'block' : 'none';\n",
              "\n",
              "      async function convertToInteractive(key) {\n",
              "        const element = document.querySelector('#df-506848ac-a01d-453e-99ed-44127ba2e6ca');\n",
              "        const dataTable =\n",
              "          await google.colab.kernel.invokeFunction('convertToInteractive',\n",
              "                                                    [key], {});\n",
              "        if (!dataTable) return;\n",
              "\n",
              "        const docLinkHtml = 'Like what you see? Visit the ' +\n",
              "          '<a target=\"_blank\" href=https://colab.research.google.com/notebooks/data_table.ipynb>data table notebook</a>'\n",
              "          + ' to learn more about interactive tables.';\n",
              "        element.innerHTML = '';\n",
              "        dataTable['output_type'] = 'display_data';\n",
              "        await google.colab.output.renderOutput(dataTable, element);\n",
              "        const docLink = document.createElement('div');\n",
              "        docLink.innerHTML = docLinkHtml;\n",
              "        element.appendChild(docLink);\n",
              "      }\n",
              "    </script>\n",
              "  </div>\n",
              "\n",
              "\n",
              "    </div>\n",
              "  </div>\n"
            ],
            "application/vnd.google.colaboratory.intrinsic+json": {
              "type": "dataframe",
              "variable_name": "df",
              "repr_error": "Out of range float values are not JSON compliant: nan"
            }
          },
          "metadata": {},
          "execution_count": 16
        }
      ]
    },
    {
      "cell_type": "code",
      "source": [
        "df.columns"
      ],
      "metadata": {
        "colab": {
          "base_uri": "https://localhost:8080/"
        },
        "id": "SR3ghCkG-F0P",
        "outputId": "4555f3e1-1172-4039-e00a-6423e1d7dedc"
      },
      "execution_count": 17,
      "outputs": [
        {
          "output_type": "execute_result",
          "data": {
            "text/plain": [
              "Index(['pubmed_id', 'title', 'abstract', 'keywords', 'journal',\n",
              "       'publication_date', 'authors', 'methods', 'conclusions', 'results',\n",
              "       'copyrights', 'doi', 'xml'],\n",
              "      dtype='object')"
            ]
          },
          "metadata": {},
          "execution_count": 17
        }
      ]
    },
    {
      "cell_type": "code",
      "source": [
        "df = df[['pubmed_id', 'title', 'abstract', 'keywords', 'journal', 'publication_date']]\n",
        "df= df[['title', 'abstract']].dropna().reset_index(drop=True)\n",
        "df.head()[:1]"
      ],
      "metadata": {
        "colab": {
          "base_uri": "https://localhost:8080/",
          "height": 81
        },
        "id": "dfFDfNBY-FxL",
        "outputId": "26ca3a39-b184-4d63-c00c-d86bfaf1ea74"
      },
      "execution_count": 18,
      "outputs": [
        {
          "output_type": "execute_result",
          "data": {
            "text/plain": [
              "                                               title  \\\n",
              "0  A Randomized Double-Blind Controlled Evaluatio...   \n",
              "\n",
              "                                            abstract  \n",
              "0  Dry and chapped lips adversely affect both lip...  "
            ],
            "text/html": [
              "\n",
              "  <div id=\"df-fa50cd36-2439-4edb-beff-b49dffd6d897\" class=\"colab-df-container\">\n",
              "    <div>\n",
              "<style scoped>\n",
              "    .dataframe tbody tr th:only-of-type {\n",
              "        vertical-align: middle;\n",
              "    }\n",
              "\n",
              "    .dataframe tbody tr th {\n",
              "        vertical-align: top;\n",
              "    }\n",
              "\n",
              "    .dataframe thead th {\n",
              "        text-align: right;\n",
              "    }\n",
              "</style>\n",
              "<table border=\"1\" class=\"dataframe\">\n",
              "  <thead>\n",
              "    <tr style=\"text-align: right;\">\n",
              "      <th></th>\n",
              "      <th>title</th>\n",
              "      <th>abstract</th>\n",
              "    </tr>\n",
              "  </thead>\n",
              "  <tbody>\n",
              "    <tr>\n",
              "      <th>0</th>\n",
              "      <td>A Randomized Double-Blind Controlled Evaluatio...</td>\n",
              "      <td>Dry and chapped lips adversely affect both lip...</td>\n",
              "    </tr>\n",
              "  </tbody>\n",
              "</table>\n",
              "</div>\n",
              "    <div class=\"colab-df-buttons\">\n",
              "\n",
              "  <div class=\"colab-df-container\">\n",
              "    <button class=\"colab-df-convert\" onclick=\"convertToInteractive('df-fa50cd36-2439-4edb-beff-b49dffd6d897')\"\n",
              "            title=\"Convert this dataframe to an interactive table.\"\n",
              "            style=\"display:none;\">\n",
              "\n",
              "  <svg xmlns=\"http://www.w3.org/2000/svg\" height=\"24px\" viewBox=\"0 -960 960 960\">\n",
              "    <path d=\"M120-120v-720h720v720H120Zm60-500h600v-160H180v160Zm220 220h160v-160H400v160Zm0 220h160v-160H400v160ZM180-400h160v-160H180v160Zm440 0h160v-160H620v160ZM180-180h160v-160H180v160Zm440 0h160v-160H620v160Z\"/>\n",
              "  </svg>\n",
              "    </button>\n",
              "\n",
              "  <style>\n",
              "    .colab-df-container {\n",
              "      display:flex;\n",
              "      gap: 12px;\n",
              "    }\n",
              "\n",
              "    .colab-df-convert {\n",
              "      background-color: #E8F0FE;\n",
              "      border: none;\n",
              "      border-radius: 50%;\n",
              "      cursor: pointer;\n",
              "      display: none;\n",
              "      fill: #1967D2;\n",
              "      height: 32px;\n",
              "      padding: 0 0 0 0;\n",
              "      width: 32px;\n",
              "    }\n",
              "\n",
              "    .colab-df-convert:hover {\n",
              "      background-color: #E2EBFA;\n",
              "      box-shadow: 0px 1px 2px rgba(60, 64, 67, 0.3), 0px 1px 3px 1px rgba(60, 64, 67, 0.15);\n",
              "      fill: #174EA6;\n",
              "    }\n",
              "\n",
              "    .colab-df-buttons div {\n",
              "      margin-bottom: 4px;\n",
              "    }\n",
              "\n",
              "    [theme=dark] .colab-df-convert {\n",
              "      background-color: #3B4455;\n",
              "      fill: #D2E3FC;\n",
              "    }\n",
              "\n",
              "    [theme=dark] .colab-df-convert:hover {\n",
              "      background-color: #434B5C;\n",
              "      box-shadow: 0px 1px 3px 1px rgba(0, 0, 0, 0.15);\n",
              "      filter: drop-shadow(0px 1px 2px rgba(0, 0, 0, 0.3));\n",
              "      fill: #FFFFFF;\n",
              "    }\n",
              "  </style>\n",
              "\n",
              "    <script>\n",
              "      const buttonEl =\n",
              "        document.querySelector('#df-fa50cd36-2439-4edb-beff-b49dffd6d897 button.colab-df-convert');\n",
              "      buttonEl.style.display =\n",
              "        google.colab.kernel.accessAllowed ? 'block' : 'none';\n",
              "\n",
              "      async function convertToInteractive(key) {\n",
              "        const element = document.querySelector('#df-fa50cd36-2439-4edb-beff-b49dffd6d897');\n",
              "        const dataTable =\n",
              "          await google.colab.kernel.invokeFunction('convertToInteractive',\n",
              "                                                    [key], {});\n",
              "        if (!dataTable) return;\n",
              "\n",
              "        const docLinkHtml = 'Like what you see? Visit the ' +\n",
              "          '<a target=\"_blank\" href=https://colab.research.google.com/notebooks/data_table.ipynb>data table notebook</a>'\n",
              "          + ' to learn more about interactive tables.';\n",
              "        element.innerHTML = '';\n",
              "        dataTable['output_type'] = 'display_data';\n",
              "        await google.colab.output.renderOutput(dataTable, element);\n",
              "        const docLink = document.createElement('div');\n",
              "        docLink.innerHTML = docLinkHtml;\n",
              "        element.appendChild(docLink);\n",
              "      }\n",
              "    </script>\n",
              "  </div>\n",
              "\n",
              "\n",
              "    </div>\n",
              "  </div>\n"
            ],
            "application/vnd.google.colaboratory.intrinsic+json": {
              "type": "dataframe",
              "variable_name": "df",
              "summary": "{\n  \"name\": \"df\",\n  \"rows\": 96,\n  \"fields\": [\n    {\n      \"column\": \"title\",\n      \"properties\": {\n        \"dtype\": \"string\",\n        \"num_unique_values\": 96,\n        \"samples\": [\n          \"Considering family trees as a useful tool in family medicine: a systematic review.\",\n          \"Reduction of Spectral Overlap in Spectral Surface-Enhanced Raman Spectroscopy Imaging Using a Dove Prism.\",\n          \"Screening of Chemical Profile by LC-MS/MS and Assessment of Biological Properties of Achillea sintenisii Hub. Mor. From Turkey.\"\n        ],\n        \"semantic_type\": \"\",\n        \"description\": \"\"\n      }\n    },\n    {\n      \"column\": \"abstract\",\n      \"properties\": {\n        \"dtype\": \"string\",\n        \"num_unique_values\": 92,\n        \"samples\": [\n          \"Vulvar fibroma typically has small sizes that do not exceed 5\\u2009cm and grows slowly. However, in rare cases, it can grow rapidly and reach giant sizes.\",\n          \"Anaplastic thyroid carcinoma (ATC) is a rare and highly aggressive malignancy characterized by a poor prognosis, with a median survival time of approximately 3 to 4 months. In this report, we present a case involving a 59-year-old patient diagnosed with ATC, who experienced swift local recurrence and pulmonary metastasis following radical thyroidectomy. Comprehensive Sanger sequencing of the resected tumor tissue revealed no mutations in the TERT promoter or the BRAF V600E gene. The patient exhibited rapid recurrence post-surgery and was deemed unsuitable for immediate surgical intervention. The patient was unable to tolerate chemotherapy; therefore, radiotherapy was administered initially to prevent airway compression resulting from disease progression. During the course of radiotherapy, pulmonary metastasis developed, yet the patient remained intolerant to both chemotherapy and anti-angiogenic therapy. Immunohistochemical analysis revealed a high expression of PD-L1. Whole exome sequencing (WES) indicated a tumor mutation burden (TMB) of 2.98 mut/Mb, microsatellite stability (MSS), and identified 10 missense mutations, 1 nonsense mutation, and 1 frameshift insertion. However, none of these mutations have corresponding targeted therapies. Consequently, we administered tislelizumab as an immunotherapeutic intervention. The patient exhibited significant regression in cervical metastatic lymph nodes and pulmonary metastatic tumors, achieving a sustained remission lasting 14 months, culminating in complete remission, without experiencing any adverse events related to immune checkpoint inhibitors. This case demonstrates the efficacy of second-line monotherapy with an immune checkpoint inhibitor (ICI) for ATC in a patient unable to tolerate chemotherapy and anti-angiogenic anlotinib treatment, thereby offering a viable treatment strategy for ATC patients.\",\n          \"Hepatic arterial infusion chemotherapy (HAIC) is increasingly recognized as a primary treatment option for patients with unresectable hepatocellular carcinoma (uHCC), providing a focused treatment for localized tumors. The combination of lenvatinib, a multikinase inhibitor, with PD-1 inhibitors has demonstrated significant survival benefits in HCC. This meta-analysis aims to assess whether the integration of HAIC with lenvatinib and PD-1 inhibitors (referred to as the HAIC-L-P group) leads to better treatment effectiveness and security compared to lenvatinib and PD-1 inhibitors alone (L-P group) in uHCC.\\nAn exhaustive search of the literature was conducted, including PubMed, the Cochrane Library, Embase, ClinicalTrials.gov, and Web of Science, from the start of each database until September 2024, to ensure a thorough and up-to-date compilation of relevant studies. Extract data on outcome measures such as overall survival (OS), progression-free survival (PFS), objective response rate (ORR), disease control rate (DCR), and adverse events (AEs). Subsequently, meta-analyses were performed using RevMan 5.4 to quantitatively evaluate the aggregated effect of the HAIC-L-P regimen versus the L-P regimen alone.\\nIn our systematic meta-analysis of eight retrospective cohort studies, the HAIC-L-P regimen demonstrated markedly enhanced OS, with an HR of 0.54 (95% CI: 0.45-0.64; p < 0.00001), and enhanced 1-year and 2-year OS rates. Superior PFS was also observed in the HAIC-L-P group, with an HR of 0.64 (95% CI: 0.55-0.75; p < 0.0001), and higher 1-year and 2-year PFS rates. Response rates were markedly higher in the HAIC-L-P group, with an ORR risk ratio of 2.15 (95% CI: 1.84-2.50; p < 0.00001) and a DCR risk ratio of 1.28 (95% CI: 1.20-1.43; p < 0.0001). The AEs classified as grade 3 or above were elevated in the HAIC-L-P group, with notable risk ratios for vomiting, elevated AST, elevated ALT, thrombocytopenia, neutropenia, and hyperbilirubinemia. No life-threatening AEs were reported.\\nThe HAIC-L-P regimen correlated with enhanced tumor responses and prolonged survival, alongside manageable adverse effects, indicating its potential as a viable therapeutic strategy for individuals afflicted with uHCC.\\nhttps://www.crd.york.ac.uk/PROSPERO/, identifier CRD42024594109.\"\n        ],\n        \"semantic_type\": \"\",\n        \"description\": \"\"\n      }\n    }\n  ]\n}"
            }
          },
          "metadata": {},
          "execution_count": 18
        }
      ]
    },
    {
      "cell_type": "markdown",
      "source": [
        "Sentence Transformers"
      ],
      "metadata": {
        "id": "9NMZYVh9ZqDN"
      }
    },
    {
      "cell_type": "code",
      "source": [
        "from sentence_transformers import SentenceTransformer, util\n",
        "model = SentenceTransformer('all-MiniLM-L6-v2')"
      ],
      "metadata": {
        "id": "hODelFm--F3i"
      },
      "execution_count": 19,
      "outputs": []
    },
    {
      "cell_type": "code",
      "source": [
        "DB = [\"Investigations on the clonal nature of antibody formation have demonstrated the expression of allelic exclusion by lymphoid cells (1), as well as the production of a monospecific, restricted population of antibody molecules by the clonal progeny of a single antibody-forming precursor cell (B cell) (2, 3).1 \"\n",
        "\"Recent studies suggest, however, that a single clone may synthesize antibody molecules of the same speci- ficity which differ in heavy chain class. \",\n",
        "\"Thus, idiotypic determinants, which are con- sidered to be a function of the antibody combining site and therefore a variable re- gion marker (4), have been shown to be shared among the IgM and IgG anti-Sal- monella antibodies produced by individual rabbits (5). \",\n",
        "]"
      ],
      "metadata": {
        "id": "HikWwPwa-F6m"
      },
      "execution_count": 55,
      "outputs": []
    },
    {
      "cell_type": "code",
      "source": [
        "DB_embeddings = model.encode(DB, convert_to_tensor=True)"
      ],
      "metadata": {
        "id": "InfEAtF2-F9m"
      },
      "execution_count": 56,
      "outputs": []
    },
    {
      "cell_type": "code",
      "source": [
        "query = \"monoclonal antibody\"\n",
        "query_embedding = model.encode(query, convert_to_tensor=True)\n",
        "distances = util.pytorch_cos_sim(query_embedding, DB_embeddings)[0]\n",
        "distances"
      ],
      "metadata": {
        "colab": {
          "base_uri": "https://localhost:8080/"
        },
        "id": "lF5BqaFn-GHg",
        "outputId": "061025ca-fb47-4f55-fd0e-7b167d24398b"
      },
      "execution_count": 57,
      "outputs": [
        {
          "output_type": "execute_result",
          "data": {
            "text/plain": [
              "tensor([0.6020, 0.4960, 0.2870])"
            ]
          },
          "metadata": {},
          "execution_count": 57
        }
      ]
    },
    {
      "cell_type": "markdown",
      "source": [
        "Sentence Transformers Search Engine"
      ],
      "metadata": {
        "id": "5mhx225sPxMc"
      }
    },
    {
      "cell_type": "code",
      "source": [
        "model = SentenceTransformer('all-MiniLM-L6-v2')"
      ],
      "metadata": {
        "id": "W4AQF8sHDL-7"
      },
      "execution_count": 58,
      "outputs": []
    },
    {
      "cell_type": "code",
      "source": [
        "database = df['abstract'].values\n",
        "database_embeddings = model.encode(database,convert_to_tensor=True)"
      ],
      "metadata": {
        "id": "A-chZ08kDMDK"
      },
      "execution_count": 59,
      "outputs": []
    },
    {
      "cell_type": "code",
      "source": [
        "def question(query, top_k):\n",
        "  print(f'_______ {query} ______________')\n",
        "  query_embedding = model.encode(query, convert_to_tensor=True)\n",
        "  distances_cos_scores = util.pytorch_cos_sim(query_embedding, database_embeddings)[0]\n",
        "  top_results = torch.topk(distances_cos_scores, k=top_k)\n",
        "  for score, idx in zip(top_results[0], top_results[1]):\n",
        "    print(f'Score {score:.4f} \\t Idx {database[idx]}')\n",
        "    print(f'Title: {df.loc[float(idx)].title}')\n",
        "    print(f'Abstract: {df.loc[float(idx)].abstract}')"
      ],
      "metadata": {
        "id": "1R2thskrRvEE"
      },
      "execution_count": 60,
      "outputs": []
    },
    {
      "cell_type": "code",
      "source": [
        "query = \"monoclonal antibody\"\n",
        "question(query, 5)"
      ],
      "metadata": {
        "id": "bb-7HxpB2hu1",
        "colab": {
          "base_uri": "https://localhost:8080/"
        },
        "outputId": "d6ca5eca-7c61-43bb-f1a8-47ed8c87fe5b"
      },
      "execution_count": 61,
      "outputs": [
        {
          "output_type": "stream",
          "name": "stdout",
          "text": [
            "_______ monoclonal antibody ______________\n",
            "Score 0.4556 \t Idx Monoclonal antibody therapy using CD38 as a target remains central to managing human multiple myeloma (MM). CD38 was selected early on as a target for mAb-mediated therapy for MM, driven by findings from an early Cluster of Differentiation (CD) Workshop. The first CD38-targeting antibody to be approved yielded strong trial results, significantly improving survival rates and earning widespread patient acceptance. However, resistance to the therapy later emerged, complicating treatment management. Despite CD38's still central role in MM therapy, too little attention has been paid to its broader roles-not only as a myeloma marker but also as an enzyme and adhesion molecule in physiology. This review, a collaborative effort between basic scientists and clinical experts, explores some of the lesser-known mechanisms of antibody action and interactions with CD38 at key stages of treatment. The review also highlights the relevance of the MM environment, focusing on the importance of the bone marrow (BM) niche. The goal is to identify new agents whose unique properties may enhance tumor eradication. By gaining a deeper understanding of interactions between therapeutic antibodies, myeloma cells, and the tumor microenvironment (TME), it is hoped that previously unrecognized vulnerabilities within the disease may be revealed, paving the way to more effective treatment strategies.\n",
            "Title: Monoclonal anti-CD38 therapy in human myeloma: retrospects and prospects.\n",
            "Abstract: Monoclonal antibody therapy using CD38 as a target remains central to managing human multiple myeloma (MM). CD38 was selected early on as a target for mAb-mediated therapy for MM, driven by findings from an early Cluster of Differentiation (CD) Workshop. The first CD38-targeting antibody to be approved yielded strong trial results, significantly improving survival rates and earning widespread patient acceptance. However, resistance to the therapy later emerged, complicating treatment management. Despite CD38's still central role in MM therapy, too little attention has been paid to its broader roles-not only as a myeloma marker but also as an enzyme and adhesion molecule in physiology. This review, a collaborative effort between basic scientists and clinical experts, explores some of the lesser-known mechanisms of antibody action and interactions with CD38 at key stages of treatment. The review also highlights the relevance of the MM environment, focusing on the importance of the bone marrow (BM) niche. The goal is to identify new agents whose unique properties may enhance tumor eradication. By gaining a deeper understanding of interactions between therapeutic antibodies, myeloma cells, and the tumor microenvironment (TME), it is hoped that previously unrecognized vulnerabilities within the disease may be revealed, paving the way to more effective treatment strategies.\n",
            "Score 0.3241 \t Idx Recently, the use of antibody-drug conjugates (ADCs) in the research and management of solid tumors has increased, making them a key focus in the field of oncology. In this study, we performed a comprehensive literature review of ADCs use in solid tumor treatment. We retrieved data from the Web of Science Core Collection (WoSCC). Following literature retrieval, we conducted a thorough bibliometric and knowledge-mapping analysis of the collected articles. There was a rapid growth in the number of annual publications in this field. The United States had the highest publication volumes and led ADC research for solid tumors. Additionally, The Dana-Farber Cancer Institute had the highest output, and G. Curigliano was identified as the most productive author. The journal \"\n",
            "Title: Global research progress in antibody-drug conjugates for solid tumors: Bibliometrics and visualized analysis.\n",
            "Abstract: Recently, the use of antibody-drug conjugates (ADCs) in the research and management of solid tumors has increased, making them a key focus in the field of oncology. In this study, we performed a comprehensive literature review of ADCs use in solid tumor treatment. We retrieved data from the Web of Science Core Collection (WoSCC). Following literature retrieval, we conducted a thorough bibliometric and knowledge-mapping analysis of the collected articles. There was a rapid growth in the number of annual publications in this field. The United States had the highest publication volumes and led ADC research for solid tumors. Additionally, The Dana-Farber Cancer Institute had the highest output, and G. Curigliano was identified as the most productive author. The journal \"\n",
            "Score 0.3073 \t Idx The posttranslational modification of cellular macromolecules by glycosylation is considered to contribute to disease pathogenesis in autoimmune and inflammatory conditions. In a subgroup of patients with common variable immunodeficiency (CVID), the occurrence of such complications is associated with an expansion of naïve-like CD21\n",
            "The objective of this study was to examine the surface glycome of B cells in patients with CVID and associated immune dysregulation.\n",
            "We performed surface lectin staining on B cells from peripheral blood and tonsils, both \n",
            "Unlike CD21\n",
            "CD21\n",
            "Title: CD21\n",
            "Abstract: The posttranslational modification of cellular macromolecules by glycosylation is considered to contribute to disease pathogenesis in autoimmune and inflammatory conditions. In a subgroup of patients with common variable immunodeficiency (CVID), the occurrence of such complications is associated with an expansion of naïve-like CD21\n",
            "The objective of this study was to examine the surface glycome of B cells in patients with CVID and associated immune dysregulation.\n",
            "We performed surface lectin staining on B cells from peripheral blood and tonsils, both \n",
            "Unlike CD21\n",
            "CD21\n",
            "Score 0.2802 \t Idx Triple-negative breast cancer (TNBC) is difficult to treat due to the lack of clear therapeutic targets. Paclitaxel (PTX) is commonly used to treat TNBC, but drug resistance limits its effectiveness. Myeloid differentiation protein 2 (MD2) and serum amyloid A1 (SAA1) are involved in various diseases, including infections, inflammatory diseases, and cancer. We investigated their role in PTX resistance to identify potential anti-TNBC drugs. In this study, we investigated the changes of SAA1 in TNBC tissues and its role in PTX-induced TNBC cells. Our study revealed SAA1 expressed in the human TNBC subtype and TNBC cells. PTX and CIS induce SAA1 in TNBC cells, and PTX induces inflammatory response via SAA1 in TNBC cells. MD2 blockade increased the sensitivity of TNBC cells to PTX, which was related to the expression of SAA1 during PTX-caused damage of TNBC cells. In further research, SAA1 binds to MD2, promotes the combination of TLR4/MD2 and TLR4/MyD88, activates the NF-κB signaling pathway, and creates the inflammatory microenvironment for cancer cells. Our study reports for the first time that the PTX/SAA1/MD2 axis exists in the PTX-resistance process, which could be a potential treatment target of PTX-resistance.\n",
            "Title: Serum Amyloid A1 Mediates Paclitaxel Resistance via MD2-Dependent Pathways in Triple-Negative Breast Cancer.\n",
            "Abstract: Triple-negative breast cancer (TNBC) is difficult to treat due to the lack of clear therapeutic targets. Paclitaxel (PTX) is commonly used to treat TNBC, but drug resistance limits its effectiveness. Myeloid differentiation protein 2 (MD2) and serum amyloid A1 (SAA1) are involved in various diseases, including infections, inflammatory diseases, and cancer. We investigated their role in PTX resistance to identify potential anti-TNBC drugs. In this study, we investigated the changes of SAA1 in TNBC tissues and its role in PTX-induced TNBC cells. Our study revealed SAA1 expressed in the human TNBC subtype and TNBC cells. PTX and CIS induce SAA1 in TNBC cells, and PTX induces inflammatory response via SAA1 in TNBC cells. MD2 blockade increased the sensitivity of TNBC cells to PTX, which was related to the expression of SAA1 during PTX-caused damage of TNBC cells. In further research, SAA1 binds to MD2, promotes the combination of TLR4/MD2 and TLR4/MyD88, activates the NF-κB signaling pathway, and creates the inflammatory microenvironment for cancer cells. Our study reports for the first time that the PTX/SAA1/MD2 axis exists in the PTX-resistance process, which could be a potential treatment target of PTX-resistance.\n",
            "Score 0.2799 \t Idx Biliary tract malignancies, including intrahepatic cholangiocarcinoma, extrahepatic cholangiocarcinoma, and gallbladder cancer, represent a group of aggressive cancers with poor prognosis due to late-stage diagnosis, limited treatment options, and resistance to conventional therapies like chemotherapy and radiotherapy. These challenges emphasize the urgent need for innovative therapeutic approaches. In recent years, cell-based therapies have emerged as a promising avenue, offering potential solutions through immune modulation, genetic engineering, and targeted intervention in the tumor microenvironment. This Mini-review provides an overview of current advancements in cell-based therapies for biliary malignancies, encompassing immune cell-based strategies such as CAR-T cells, NK cells, dendritic cell vaccines, and tumor-infiltrating lymphocytes. We also examine strategies to overcome the immunosuppressive tumor microenvironment and discuss the integration of cell therapies into multimodal treatment regimens. By synthesizing preclinical and clinical findings, this review highlights key insights and future directions, aiming to assist researchers and clinicians in translating these approaches into effective treatments. The transformative potential of cell-based therapies discussed here makes this review a valuable resource for advancing biliary malignancy research and clinical applications.\n",
            "Title: Advancing biliary tract malignancy treatment: emerging frontiers in cell-based therapies.\n",
            "Abstract: Biliary tract malignancies, including intrahepatic cholangiocarcinoma, extrahepatic cholangiocarcinoma, and gallbladder cancer, represent a group of aggressive cancers with poor prognosis due to late-stage diagnosis, limited treatment options, and resistance to conventional therapies like chemotherapy and radiotherapy. These challenges emphasize the urgent need for innovative therapeutic approaches. In recent years, cell-based therapies have emerged as a promising avenue, offering potential solutions through immune modulation, genetic engineering, and targeted intervention in the tumor microenvironment. This Mini-review provides an overview of current advancements in cell-based therapies for biliary malignancies, encompassing immune cell-based strategies such as CAR-T cells, NK cells, dendritic cell vaccines, and tumor-infiltrating lymphocytes. We also examine strategies to overcome the immunosuppressive tumor microenvironment and discuss the integration of cell therapies into multimodal treatment regimens. By synthesizing preclinical and clinical findings, this review highlights key insights and future directions, aiming to assist researchers and clinicians in translating these approaches into effective treatments. The transformative potential of cell-based therapies discussed here makes this review a valuable resource for advancing biliary malignancy research and clinical applications.\n"
          ]
        }
      ]
    }
  ]
}