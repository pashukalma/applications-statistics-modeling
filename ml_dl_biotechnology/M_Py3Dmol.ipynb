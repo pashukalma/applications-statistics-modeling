{
  "nbformat": 4,
  "nbformat_minor": 0,
  "metadata": {
    "colab": {
      "provenance": [],
      "machine_shape": "hm"
    },
    "kernelspec": {
      "name": "python3",
      "display_name": "Python 3"
    },
    "language_info": {
      "name": "python"
    }
  },
  "cells": [
    {
      "cell_type": "code",
      "source": [
        "!pip install py3Dmol"
      ],
      "metadata": {
        "id": "RBaDoP7IvDFE"
      },
      "execution_count": null,
      "outputs": []
    },
    {
      "cell_type": "code",
      "source": [
        "import py3Dmol\n",
        "lm = py3Dmol.view(query='pdb:6xmk', width=400, height=400)\n",
        "lm.addModel(open('dataset_toxicity_sd.csv', 'r').read(), 'sdf')\n",
        "lm.setStyle({'stick':{'color': 'spectrum'}})\n",
        "lm.show()"
      ],
      "metadata": {
        "id": "CMuRShAsB369"
      },
      "execution_count": null,
      "outputs": []
    },
    {
      "cell_type": "code",
      "source": [
        "lm = py3Dmol.view(query='pdb:6xmk')\n",
        "chA = {'chain': 'A'}\n",
        "chA = {'chain': 'B'}\n",
        "lm.addModel(open('dataset_toxicity_sd.csv', 'r').read(), 'sdf')\n",
        "lm.setStyle({'cartoon': {'color': 'spectrum'}})"
      ],
      "metadata": {
        "id": "dUqf4GkoCVz-"
      },
      "execution_count": null,
      "outputs": []
    },
    {
      "cell_type": "code",
      "source": [
        "lm = py3Dmol.view(query='pdb:6xmk')\n",
        "chA = {'chain': 'A'}\n",
        "chA = {'chain': 'B'}\n",
        "lm.addSurface(py3Dmol.VDW, {'opacity':0.8, 'color':'white'}, chA)\n",
        "lm.setStyle({'cartoon': {'color': 'spectrum'}})\n",
        "lm.show()"
      ],
      "metadata": {
        "id": "rRmQHuHZC5Qu"
      },
      "execution_count": null,
      "outputs": []
    },
    {
      "cell_type": "code",
      "source": [
        "lm = py3Dmol.view(query='pdb:5R84')\n",
        "chA = {'chain': 'A'}\n",
        "chB = {'chain': 'B'}\n",
        "lm.setStyle({'cartoon': {'color': 'spectrum'}})\n",
        "lm.addSurface(py3Dmol.VDW, {'opacity':0.8, 'color':'white'}, chA)\n",
        "lm.setStyle(chB, {})\n",
        "lm.show()"
      ],
      "metadata": {
        "id": "mTF-sfFOCcwE"
      },
      "execution_count": null,
      "outputs": []
    }
  ]
}