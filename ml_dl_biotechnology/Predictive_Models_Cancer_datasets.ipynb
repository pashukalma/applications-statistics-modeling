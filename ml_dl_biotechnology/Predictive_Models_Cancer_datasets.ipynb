{
  "cells": [
    {
      "cell_type": "markdown",
      "source": [
        "#### Predictive Models Cancer datasets\n",
        "- Pancreatic Cancer Gene prediction with Autoencoder (AE)\n",
        "- Transcription factor binding site (TFBS)\n",
        "- Lung cancer model and gene expression**\n"
      ],
      "metadata": {
        "id": "KuzYhI7IG5FZ"
      }
    },
    {
      "cell_type": "markdown",
      "metadata": {
        "id": "SiZU1Onx4gVg"
      },
      "source": [
        "#### **Pancreatic Cancer Gene prediction with Autoencoder (AE)**"
      ]
    },
    {
      "cell_type": "code",
      "execution_count": null,
      "metadata": {
        "id": "7MEqYwUL4pVn"
      },
      "outputs": [],
      "source": [
        "import os\n",
        "import pandas as pd\n",
        "import numpy as np\n",
        "import matplotlib.pyplot as plt\n",
        "import seaborn as sns\n",
        "from keras.layers import Input, Dense, Activation, Flatten, Layer, Dropout\n",
        "from keras.layers import LSTM, Bidirectional\n",
        "from keras.models import Model, Sequential\n",
        "from keras.callbacks import ModelCheckpoint, EarlyStopping\n",
        "from keras.layers import Conv1D, MaxPooling1D\n",
        "from sklearn.preprocessing import MinMaxScaler\n",
        "from sklearn.model_selection import train_test_split"
      ]
    },
    {
      "cell_type": "markdown",
      "metadata": {
        "id": "o-Fh_2apAluA"
      },
      "source": [
        "#### Autoencoder"
      ]
    },
    {
      "cell_type": "code",
      "source": [
        "lung_ds= pd.read_csv('pancan_scaled_zeroone_rnaseq.tsv', sep='\\t', index_col=0)\n",
        "lung_ds.head()[:2]"
      ],
      "metadata": {
        "colab": {
          "base_uri": "https://localhost:8080/",
          "height": 266
        },
        "id": "NGCSSJRPN8Bj",
        "outputId": "db1a2bdd-b3f5-4e67-ceba-3b4f8cbbb531"
      },
      "execution_count": null,
      "outputs": [
        {
          "output_type": "execute_result",
          "data": {
            "text/plain": [
              "                   RPS4Y1      XIST      KRT5  AGR2  CEACAM5     KRT6A  \\\n",
              "TCGA-02-0047-01  0.678296  0.289910  0.034230   0.0      0.0  0.084731   \n",
              "TCGA-02-0055-01  0.200633  0.654917  0.181993   0.0      0.0  0.100606   \n",
              "\n",
              "                    KRT14   CEACAM6     DDX3Y     KDM5D  ...   FAM129A  \\\n",
              "TCGA-02-0047-01  0.031863  0.037709  0.746797  0.687833  ...  0.440610   \n",
              "TCGA-02-0055-01  0.050011  0.092586  0.103725  0.140642  ...  0.620658   \n",
              "\n",
              "                  C8orf48    CDK5R1    FAM81A  C13orf18     GDPD3     SMAGP  \\\n",
              "TCGA-02-0047-01  0.428782  0.732819  0.634340  0.580662  0.294313  0.458134   \n",
              "TCGA-02-0055-01  0.363207  0.592269  0.602755  0.610192  0.374569  0.722420   \n",
              "\n",
              "                  C2orf85   POU5F1B     CHST2  \n",
              "TCGA-02-0047-01  0.478219  0.168263  0.638497  \n",
              "TCGA-02-0055-01  0.271356  0.160465  0.602560  \n",
              "\n",
              "[2 rows x 5000 columns]"
            ],
            "text/html": [
              "\n",
              "  <div id=\"df-9682761e-1605-4138-b48b-055da527117a\" class=\"colab-df-container\">\n",
              "    <div>\n",
              "<style scoped>\n",
              "    .dataframe tbody tr th:only-of-type {\n",
              "        vertical-align: middle;\n",
              "    }\n",
              "\n",
              "    .dataframe tbody tr th {\n",
              "        vertical-align: top;\n",
              "    }\n",
              "\n",
              "    .dataframe thead th {\n",
              "        text-align: right;\n",
              "    }\n",
              "</style>\n",
              "<table border=\"1\" class=\"dataframe\">\n",
              "  <thead>\n",
              "    <tr style=\"text-align: right;\">\n",
              "      <th></th>\n",
              "      <th>RPS4Y1</th>\n",
              "      <th>XIST</th>\n",
              "      <th>KRT5</th>\n",
              "      <th>AGR2</th>\n",
              "      <th>CEACAM5</th>\n",
              "      <th>KRT6A</th>\n",
              "      <th>KRT14</th>\n",
              "      <th>CEACAM6</th>\n",
              "      <th>DDX3Y</th>\n",
              "      <th>KDM5D</th>\n",
              "      <th>...</th>\n",
              "      <th>FAM129A</th>\n",
              "      <th>C8orf48</th>\n",
              "      <th>CDK5R1</th>\n",
              "      <th>FAM81A</th>\n",
              "      <th>C13orf18</th>\n",
              "      <th>GDPD3</th>\n",
              "      <th>SMAGP</th>\n",
              "      <th>C2orf85</th>\n",
              "      <th>POU5F1B</th>\n",
              "      <th>CHST2</th>\n",
              "    </tr>\n",
              "  </thead>\n",
              "  <tbody>\n",
              "    <tr>\n",
              "      <th>TCGA-02-0047-01</th>\n",
              "      <td>0.678296</td>\n",
              "      <td>0.289910</td>\n",
              "      <td>0.034230</td>\n",
              "      <td>0.0</td>\n",
              "      <td>0.0</td>\n",
              "      <td>0.084731</td>\n",
              "      <td>0.031863</td>\n",
              "      <td>0.037709</td>\n",
              "      <td>0.746797</td>\n",
              "      <td>0.687833</td>\n",
              "      <td>...</td>\n",
              "      <td>0.440610</td>\n",
              "      <td>0.428782</td>\n",
              "      <td>0.732819</td>\n",
              "      <td>0.634340</td>\n",
              "      <td>0.580662</td>\n",
              "      <td>0.294313</td>\n",
              "      <td>0.458134</td>\n",
              "      <td>0.478219</td>\n",
              "      <td>0.168263</td>\n",
              "      <td>0.638497</td>\n",
              "    </tr>\n",
              "    <tr>\n",
              "      <th>TCGA-02-0055-01</th>\n",
              "      <td>0.200633</td>\n",
              "      <td>0.654917</td>\n",
              "      <td>0.181993</td>\n",
              "      <td>0.0</td>\n",
              "      <td>0.0</td>\n",
              "      <td>0.100606</td>\n",
              "      <td>0.050011</td>\n",
              "      <td>0.092586</td>\n",
              "      <td>0.103725</td>\n",
              "      <td>0.140642</td>\n",
              "      <td>...</td>\n",
              "      <td>0.620658</td>\n",
              "      <td>0.363207</td>\n",
              "      <td>0.592269</td>\n",
              "      <td>0.602755</td>\n",
              "      <td>0.610192</td>\n",
              "      <td>0.374569</td>\n",
              "      <td>0.722420</td>\n",
              "      <td>0.271356</td>\n",
              "      <td>0.160465</td>\n",
              "      <td>0.602560</td>\n",
              "    </tr>\n",
              "  </tbody>\n",
              "</table>\n",
              "<p>2 rows × 5000 columns</p>\n",
              "</div>\n",
              "    <div class=\"colab-df-buttons\">\n",
              "\n",
              "  <div class=\"colab-df-container\">\n",
              "    <button class=\"colab-df-convert\" onclick=\"convertToInteractive('df-9682761e-1605-4138-b48b-055da527117a')\"\n",
              "            title=\"Convert this dataframe to an interactive table.\"\n",
              "            style=\"display:none;\">\n",
              "\n",
              "  <svg xmlns=\"http://www.w3.org/2000/svg\" height=\"24px\" viewBox=\"0 -960 960 960\">\n",
              "    <path d=\"M120-120v-720h720v720H120Zm60-500h600v-160H180v160Zm220 220h160v-160H400v160Zm0 220h160v-160H400v160ZM180-400h160v-160H180v160Zm440 0h160v-160H620v160ZM180-180h160v-160H180v160Zm440 0h160v-160H620v160Z\"/>\n",
              "  </svg>\n",
              "    </button>\n",
              "\n",
              "  <style>\n",
              "    .colab-df-container {\n",
              "      display:flex;\n",
              "      gap: 12px;\n",
              "    }\n",
              "\n",
              "    .colab-df-convert {\n",
              "      background-color: #E8F0FE;\n",
              "      border: none;\n",
              "      border-radius: 50%;\n",
              "      cursor: pointer;\n",
              "      display: none;\n",
              "      fill: #1967D2;\n",
              "      height: 32px;\n",
              "      padding: 0 0 0 0;\n",
              "      width: 32px;\n",
              "    }\n",
              "\n",
              "    .colab-df-convert:hover {\n",
              "      background-color: #E2EBFA;\n",
              "      box-shadow: 0px 1px 2px rgba(60, 64, 67, 0.3), 0px 1px 3px 1px rgba(60, 64, 67, 0.15);\n",
              "      fill: #174EA6;\n",
              "    }\n",
              "\n",
              "    .colab-df-buttons div {\n",
              "      margin-bottom: 4px;\n",
              "    }\n",
              "\n",
              "    [theme=dark] .colab-df-convert {\n",
              "      background-color: #3B4455;\n",
              "      fill: #D2E3FC;\n",
              "    }\n",
              "\n",
              "    [theme=dark] .colab-df-convert:hover {\n",
              "      background-color: #434B5C;\n",
              "      box-shadow: 0px 1px 3px 1px rgba(0, 0, 0, 0.15);\n",
              "      filter: drop-shadow(0px 1px 2px rgba(0, 0, 0, 0.3));\n",
              "      fill: #FFFFFF;\n",
              "    }\n",
              "  </style>\n",
              "\n",
              "    <script>\n",
              "      const buttonEl =\n",
              "        document.querySelector('#df-9682761e-1605-4138-b48b-055da527117a button.colab-df-convert');\n",
              "      buttonEl.style.display =\n",
              "        google.colab.kernel.accessAllowed ? 'block' : 'none';\n",
              "\n",
              "      async function convertToInteractive(key) {\n",
              "        const element = document.querySelector('#df-9682761e-1605-4138-b48b-055da527117a');\n",
              "        const dataTable =\n",
              "          await google.colab.kernel.invokeFunction('convertToInteractive',\n",
              "                                                    [key], {});\n",
              "        if (!dataTable) return;\n",
              "\n",
              "        const docLinkHtml = 'Like what you see? Visit the ' +\n",
              "          '<a target=\"_blank\" href=https://colab.research.google.com/notebooks/data_table.ipynb>data table notebook</a>'\n",
              "          + ' to learn more about interactive tables.';\n",
              "        element.innerHTML = '';\n",
              "        dataTable['output_type'] = 'display_data';\n",
              "        await google.colab.output.renderOutput(dataTable, element);\n",
              "        const docLink = document.createElement('div');\n",
              "        docLink.innerHTML = docLinkHtml;\n",
              "        element.appendChild(docLink);\n",
              "      }\n",
              "    </script>\n",
              "  </div>\n",
              "\n",
              "\n",
              "<div id=\"df-ac1ca5ba-4485-4402-bc8b-8f5104c54fe3\">\n",
              "  <button class=\"colab-df-quickchart\" onclick=\"quickchart('df-ac1ca5ba-4485-4402-bc8b-8f5104c54fe3')\"\n",
              "            title=\"Suggest charts\"\n",
              "            style=\"display:none;\">\n",
              "\n",
              "<svg xmlns=\"http://www.w3.org/2000/svg\" height=\"24px\"viewBox=\"0 0 24 24\"\n",
              "     width=\"24px\">\n",
              "    <g>\n",
              "        <path d=\"M19 3H5c-1.1 0-2 .9-2 2v14c0 1.1.9 2 2 2h14c1.1 0 2-.9 2-2V5c0-1.1-.9-2-2-2zM9 17H7v-7h2v7zm4 0h-2V7h2v10zm4 0h-2v-4h2v4z\"/>\n",
              "    </g>\n",
              "</svg>\n",
              "  </button>\n",
              "\n",
              "<style>\n",
              "  .colab-df-quickchart {\n",
              "      --bg-color: #E8F0FE;\n",
              "      --fill-color: #1967D2;\n",
              "      --hover-bg-color: #E2EBFA;\n",
              "      --hover-fill-color: #174EA6;\n",
              "      --disabled-fill-color: #AAA;\n",
              "      --disabled-bg-color: #DDD;\n",
              "  }\n",
              "\n",
              "  [theme=dark] .colab-df-quickchart {\n",
              "      --bg-color: #3B4455;\n",
              "      --fill-color: #D2E3FC;\n",
              "      --hover-bg-color: #434B5C;\n",
              "      --hover-fill-color: #FFFFFF;\n",
              "      --disabled-bg-color: #3B4455;\n",
              "      --disabled-fill-color: #666;\n",
              "  }\n",
              "\n",
              "  .colab-df-quickchart {\n",
              "    background-color: var(--bg-color);\n",
              "    border: none;\n",
              "    border-radius: 50%;\n",
              "    cursor: pointer;\n",
              "    display: none;\n",
              "    fill: var(--fill-color);\n",
              "    height: 32px;\n",
              "    padding: 0;\n",
              "    width: 32px;\n",
              "  }\n",
              "\n",
              "  .colab-df-quickchart:hover {\n",
              "    background-color: var(--hover-bg-color);\n",
              "    box-shadow: 0 1px 2px rgba(60, 64, 67, 0.3), 0 1px 3px 1px rgba(60, 64, 67, 0.15);\n",
              "    fill: var(--button-hover-fill-color);\n",
              "  }\n",
              "\n",
              "  .colab-df-quickchart-complete:disabled,\n",
              "  .colab-df-quickchart-complete:disabled:hover {\n",
              "    background-color: var(--disabled-bg-color);\n",
              "    fill: var(--disabled-fill-color);\n",
              "    box-shadow: none;\n",
              "  }\n",
              "\n",
              "  .colab-df-spinner {\n",
              "    border: 2px solid var(--fill-color);\n",
              "    border-color: transparent;\n",
              "    border-bottom-color: var(--fill-color);\n",
              "    animation:\n",
              "      spin 1s steps(1) infinite;\n",
              "  }\n",
              "\n",
              "  @keyframes spin {\n",
              "    0% {\n",
              "      border-color: transparent;\n",
              "      border-bottom-color: var(--fill-color);\n",
              "      border-left-color: var(--fill-color);\n",
              "    }\n",
              "    20% {\n",
              "      border-color: transparent;\n",
              "      border-left-color: var(--fill-color);\n",
              "      border-top-color: var(--fill-color);\n",
              "    }\n",
              "    30% {\n",
              "      border-color: transparent;\n",
              "      border-left-color: var(--fill-color);\n",
              "      border-top-color: var(--fill-color);\n",
              "      border-right-color: var(--fill-color);\n",
              "    }\n",
              "    40% {\n",
              "      border-color: transparent;\n",
              "      border-right-color: var(--fill-color);\n",
              "      border-top-color: var(--fill-color);\n",
              "    }\n",
              "    60% {\n",
              "      border-color: transparent;\n",
              "      border-right-color: var(--fill-color);\n",
              "    }\n",
              "    80% {\n",
              "      border-color: transparent;\n",
              "      border-right-color: var(--fill-color);\n",
              "      border-bottom-color: var(--fill-color);\n",
              "    }\n",
              "    90% {\n",
              "      border-color: transparent;\n",
              "      border-bottom-color: var(--fill-color);\n",
              "    }\n",
              "  }\n",
              "</style>\n",
              "\n",
              "  <script>\n",
              "    async function quickchart(key) {\n",
              "      const quickchartButtonEl =\n",
              "        document.querySelector('#' + key + ' button');\n",
              "      quickchartButtonEl.disabled = true;  // To prevent multiple clicks.\n",
              "      quickchartButtonEl.classList.add('colab-df-spinner');\n",
              "      try {\n",
              "        const charts = await google.colab.kernel.invokeFunction(\n",
              "            'suggestCharts', [key], {});\n",
              "      } catch (error) {\n",
              "        console.error('Error during call to suggestCharts:', error);\n",
              "      }\n",
              "      quickchartButtonEl.classList.remove('colab-df-spinner');\n",
              "      quickchartButtonEl.classList.add('colab-df-quickchart-complete');\n",
              "    }\n",
              "    (() => {\n",
              "      let quickchartButtonEl =\n",
              "        document.querySelector('#df-ac1ca5ba-4485-4402-bc8b-8f5104c54fe3 button');\n",
              "      quickchartButtonEl.style.display =\n",
              "        google.colab.kernel.accessAllowed ? 'block' : 'none';\n",
              "    })();\n",
              "  </script>\n",
              "</div>\n",
              "\n",
              "    </div>\n",
              "  </div>\n"
            ],
            "application/vnd.google.colaboratory.intrinsic+json": {
              "type": "dataframe",
              "variable_name": "lung_ds"
            }
          },
          "metadata": {},
          "execution_count": 5
        }
      ]
    },
    {
      "cell_type": "code",
      "source": [
        "X_train, X_test = train_test_split(lung_ds, test_size=0.2, shuffle=True)\n",
        "embedding_dim = 500\n",
        "number_of_features = lung_ds.shape[1]\n",
        "autoencoder = Sequential()\n",
        "autoencoder.add(Dense(embedding_dim, activation='relu', input_shape=(number_of_features,)))\n",
        "autoencoder.add(Dense(number_of_features, activation='sigmoid'))\n",
        "autoencoder.compile(optimizer='adam', loss='mse')\n",
        "hist = autoencoder.fit(np.array(X_train), np.array(X_train), shuffle=True,\n",
        "    epochs=10, batch_size=64, validation_split=0.2)"
      ],
      "metadata": {
        "id": "0J9oxVTAPQ8-"
      },
      "execution_count": null,
      "outputs": []
    },
    {
      "cell_type": "code",
      "source": [
        "hist_df = pd.DataFrame(hist.history)\n",
        "ax = hist_df.plot()\n",
        "ax.set_xlabel('epoch') ; ax.set_ylabel('reconstruction loss')"
      ],
      "metadata": {
        "colab": {
          "base_uri": "https://localhost:8080/",
          "height": 467
        },
        "id": "oA5xrlVXmYAH",
        "outputId": "58f31be2-99ee-44d4-95c0-917c6cdd0fb7"
      },
      "execution_count": null,
      "outputs": [
        {
          "output_type": "execute_result",
          "data": {
            "text/plain": [
              "Text(0, 0.5, 'reconstruction loss')"
            ]
          },
          "metadata": {},
          "execution_count": 7
        },
        {
          "output_type": "display_data",
          "data": {
            "text/plain": [
              "<Figure size 640x480 with 1 Axes>"
            ],
            "image/png": "[encoded data removed]"
          },
          "metadata": {}
        }
      ]
    },
    {
      "cell_type": "code",
      "source": [
        "input_sample = X_test[:1]\n",
        "reconstruction = autoencoder.predict(lung_ds)\n",
        "reconstruction_df = pd.DataFrame(reconstruction, columns=lung_ds.columns)\n",
        "reconstruction_fidelity =  pd.DataFrame(\n",
        "    np.array(reconstruction_df) - np.array(lung_ds), columns=lung_ds.columns)"
      ],
      "metadata": {
        "colab": {
          "base_uri": "https://localhost:8080/"
        },
        "id": "rN4CLXFZoQ1z",
        "outputId": "9ede95ff-5a11-4f3c-87b8-98bcd40cf6fa"
      },
      "execution_count": null,
      "outputs": [
        {
          "output_type": "stream",
          "name": "stdout",
          "text": [
            "\u001b[1m327/327\u001b[0m \u001b[32m━━━━━━━━━━━━━━━━━━━━\u001b[0m\u001b[37m\u001b[0m \u001b[1m5s\u001b[0m 14ms/step\n"
          ]
        }
      ]
    },
    {
      "cell_type": "code",
      "source": [
        "gene_mean = reconstruction_fidelity.mean(axis=0)\n",
        "gene_abssum = reconstruction_fidelity.abs().sum(axis=0).divide(lung_ds.shape[0])\n",
        "gene_summary = pd.DataFrame([gene_mean, gene_abssum], index=['gene_mean','gene_abssum']).T\n",
        "gene_summary.sort_values(by='gene_abssum', ascending=False, inplace=True)\n",
        "gene_summary.head()"
      ],
      "metadata": {
        "colab": {
          "base_uri": "https://localhost:8080/",
          "height": 206
        },
        "id": "X7rNEu7ivAfE",
        "outputId": "2ea82294-49fa-48fb-dc32-cb36ba626afc"
      },
      "execution_count": null,
      "outputs": [
        {
          "output_type": "execute_result",
          "data": {
            "text/plain": [
              "             gene_mean  gene_abssum\n",
              "GSTT1        -0.027700     0.224473\n",
              "PPAN-P2RY11  -0.000740     0.222441\n",
              "GSTM1         0.028900     0.212991\n",
              "TBC1D3G       0.016360     0.192889\n",
              "RPS28         0.002447     0.169518"
            ],
            "text/html": [
              "\n",
              "  <div id=\"df-2512c8ee-2a71-4c06-a81f-ca73846d1804\" class=\"colab-df-container\">\n",
              "    <div>\n",
              "<style scoped>\n",
              "    .dataframe tbody tr th:only-of-type {\n",
              "        vertical-align: middle;\n",
              "    }\n",
              "\n",
              "    .dataframe tbody tr th {\n",
              "        vertical-align: top;\n",
              "    }\n",
              "\n",
              "    .dataframe thead th {\n",
              "        text-align: right;\n",
              "    }\n",
              "</style>\n",
              "<table border=\"1\" class=\"dataframe\">\n",
              "  <thead>\n",
              "    <tr style=\"text-align: right;\">\n",
              "      <th></th>\n",
              "      <th>gene_mean</th>\n",
              "      <th>gene_abssum</th>\n",
              "    </tr>\n",
              "  </thead>\n",
              "  <tbody>\n",
              "    <tr>\n",
              "      <th>GSTT1</th>\n",
              "      <td>-0.027700</td>\n",
              "      <td>0.224473</td>\n",
              "    </tr>\n",
              "    <tr>\n",
              "      <th>PPAN-P2RY11</th>\n",
              "      <td>-0.000740</td>\n",
              "      <td>0.222441</td>\n",
              "    </tr>\n",
              "    <tr>\n",
              "      <th>GSTM1</th>\n",
              "      <td>0.028900</td>\n",
              "      <td>0.212991</td>\n",
              "    </tr>\n",
              "    <tr>\n",
              "      <th>TBC1D3G</th>\n",
              "      <td>0.016360</td>\n",
              "      <td>0.192889</td>\n",
              "    </tr>\n",
              "    <tr>\n",
              "      <th>RPS28</th>\n",
              "      <td>0.002447</td>\n",
              "      <td>0.169518</td>\n",
              "    </tr>\n",
              "  </tbody>\n",
              "</table>\n",
              "</div>\n",
              "    <div class=\"colab-df-buttons\">\n",
              "\n",
              "  <div class=\"colab-df-container\">\n",
              "    <button class=\"colab-df-convert\" onclick=\"convertToInteractive('df-2512c8ee-2a71-4c06-a81f-ca73846d1804')\"\n",
              "            title=\"Convert this dataframe to an interactive table.\"\n",
              "            style=\"display:none;\">\n",
              "\n",
              "  <svg xmlns=\"http://www.w3.org/2000/svg\" height=\"24px\" viewBox=\"0 -960 960 960\">\n",
              "    <path d=\"M120-120v-720h720v720H120Zm60-500h600v-160H180v160Zm220 220h160v-160H400v160Zm0 220h160v-160H400v160ZM180-400h160v-160H180v160Zm440 0h160v-160H620v160ZM180-180h160v-160H180v160Zm440 0h160v-160H620v160Z\"/>\n",
              "  </svg>\n",
              "    </button>\n",
              "\n",
              "  <style>\n",
              "    .colab-df-container {\n",
              "      display:flex;\n",
              "      gap: 12px;\n",
              "    }\n",
              "\n",
              "    .colab-df-convert {\n",
              "      background-color: #E8F0FE;\n",
              "      border: none;\n",
              "      border-radius: 50%;\n",
              "      cursor: pointer;\n",
              "      display: none;\n",
              "      fill: #1967D2;\n",
              "      height: 32px;\n",
              "      padding: 0 0 0 0;\n",
              "      width: 32px;\n",
              "    }\n",
              "\n",
              "    .colab-df-convert:hover {\n",
              "      background-color: #E2EBFA;\n",
              "      box-shadow: 0px 1px 2px rgba(60, 64, 67, 0.3), 0px 1px 3px 1px rgba(60, 64, 67, 0.15);\n",
              "      fill: #174EA6;\n",
              "    }\n",
              "\n",
              "    .colab-df-buttons div {\n",
              "      margin-bottom: 4px;\n",
              "    }\n",
              "\n",
              "    [theme=dark] .colab-df-convert {\n",
              "      background-color: #3B4455;\n",
              "      fill: #D2E3FC;\n",
              "    }\n",
              "\n",
              "    [theme=dark] .colab-df-convert:hover {\n",
              "      background-color: #434B5C;\n",
              "      box-shadow: 0px 1px 3px 1px rgba(0, 0, 0, 0.15);\n",
              "      filter: drop-shadow(0px 1px 2px rgba(0, 0, 0, 0.3));\n",
              "      fill: #FFFFFF;\n",
              "    }\n",
              "  </style>\n",
              "\n",
              "    <script>\n",
              "      const buttonEl =\n",
              "        document.querySelector('#df-2512c8ee-2a71-4c06-a81f-ca73846d1804 button.colab-df-convert');\n",
              "      buttonEl.style.display =\n",
              "        google.colab.kernel.accessAllowed ? 'block' : 'none';\n",
              "\n",
              "      async function convertToInteractive(key) {\n",
              "        const element = document.querySelector('#df-2512c8ee-2a71-4c06-a81f-ca73846d1804');\n",
              "        const dataTable =\n",
              "          await google.colab.kernel.invokeFunction('convertToInteractive',\n",
              "                                                    [key], {});\n",
              "        if (!dataTable) return;\n",
              "\n",
              "        const docLinkHtml = 'Like what you see? Visit the ' +\n",
              "          '<a target=\"_blank\" href=https://colab.research.google.com/notebooks/data_table.ipynb>data table notebook</a>'\n",
              "          + ' to learn more about interactive tables.';\n",
              "        element.innerHTML = '';\n",
              "        dataTable['output_type'] = 'display_data';\n",
              "        await google.colab.output.renderOutput(dataTable, element);\n",
              "        const docLink = document.createElement('div');\n",
              "        docLink.innerHTML = docLinkHtml;\n",
              "        element.appendChild(docLink);\n",
              "      }\n",
              "    </script>\n",
              "  </div>\n",
              "\n",
              "\n",
              "<div id=\"df-a2bcf03b-b6b4-42b5-aa97-b54487a47ff0\">\n",
              "  <button class=\"colab-df-quickchart\" onclick=\"quickchart('df-a2bcf03b-b6b4-42b5-aa97-b54487a47ff0')\"\n",
              "            title=\"Suggest charts\"\n",
              "            style=\"display:none;\">\n",
              "\n",
              "<svg xmlns=\"http://www.w3.org/2000/svg\" height=\"24px\"viewBox=\"0 0 24 24\"\n",
              "     width=\"24px\">\n",
              "    <g>\n",
              "        <path d=\"M19 3H5c-1.1 0-2 .9-2 2v14c0 1.1.9 2 2 2h14c1.1 0 2-.9 2-2V5c0-1.1-.9-2-2-2zM9 17H7v-7h2v7zm4 0h-2V7h2v10zm4 0h-2v-4h2v4z\"/>\n",
              "    </g>\n",
              "</svg>\n",
              "  </button>\n",
              "\n",
              "<style>\n",
              "  .colab-df-quickchart {\n",
              "      --bg-color: #E8F0FE;\n",
              "      --fill-color: #1967D2;\n",
              "      --hover-bg-color: #E2EBFA;\n",
              "      --hover-fill-color: #174EA6;\n",
              "      --disabled-fill-color: #AAA;\n",
              "      --disabled-bg-color: #DDD;\n",
              "  }\n",
              "\n",
              "  [theme=dark] .colab-df-quickchart {\n",
              "      --bg-color: #3B4455;\n",
              "      --fill-color: #D2E3FC;\n",
              "      --hover-bg-color: #434B5C;\n",
              "      --hover-fill-color: #FFFFFF;\n",
              "      --disabled-bg-color: #3B4455;\n",
              "      --disabled-fill-color: #666;\n",
              "  }\n",
              "\n",
              "  .colab-df-quickchart {\n",
              "    background-color: var(--bg-color);\n",
              "    border: none;\n",
              "    border-radius: 50%;\n",
              "    cursor: pointer;\n",
              "    display: none;\n",
              "    fill: var(--fill-color);\n",
              "    height: 32px;\n",
              "    padding: 0;\n",
              "    width: 32px;\n",
              "  }\n",
              "\n",
              "  .colab-df-quickchart:hover {\n",
              "    background-color: var(--hover-bg-color);\n",
              "    box-shadow: 0 1px 2px rgba(60, 64, 67, 0.3), 0 1px 3px 1px rgba(60, 64, 67, 0.15);\n",
              "    fill: var(--button-hover-fill-color);\n",
              "  }\n",
              "\n",
              "  .colab-df-quickchart-complete:disabled,\n",
              "  .colab-df-quickchart-complete:disabled:hover {\n",
              "    background-color: var(--disabled-bg-color);\n",
              "    fill: var(--disabled-fill-color);\n",
              "    box-shadow: none;\n",
              "  }\n",
              "\n",
              "  .colab-df-spinner {\n",
              "    border: 2px solid var(--fill-color);\n",
              "    border-color: transparent;\n",
              "    border-bottom-color: var(--fill-color);\n",
              "    animation:\n",
              "      spin 1s steps(1) infinite;\n",
              "  }\n",
              "\n",
              "  @keyframes spin {\n",
              "    0% {\n",
              "      border-color: transparent;\n",
              "      border-bottom-color: var(--fill-color);\n",
              "      border-left-color: var(--fill-color);\n",
              "    }\n",
              "    20% {\n",
              "      border-color: transparent;\n",
              "      border-left-color: var(--fill-color);\n",
              "      border-top-color: var(--fill-color);\n",
              "    }\n",
              "    30% {\n",
              "      border-color: transparent;\n",
              "      border-left-color: var(--fill-color);\n",
              "      border-top-color: var(--fill-color);\n",
              "      border-right-color: var(--fill-color);\n",
              "    }\n",
              "    40% {\n",
              "      border-color: transparent;\n",
              "      border-right-color: var(--fill-color);\n",
              "      border-top-color: var(--fill-color);\n",
              "    }\n",
              "    60% {\n",
              "      border-color: transparent;\n",
              "      border-right-color: var(--fill-color);\n",
              "    }\n",
              "    80% {\n",
              "      border-color: transparent;\n",
              "      border-right-color: var(--fill-color);\n",
              "      border-bottom-color: var(--fill-color);\n",
              "    }\n",
              "    90% {\n",
              "      border-color: transparent;\n",
              "      border-bottom-color: var(--fill-color);\n",
              "    }\n",
              "  }\n",
              "</style>\n",
              "\n",
              "  <script>\n",
              "    async function quickchart(key) {\n",
              "      const quickchartButtonEl =\n",
              "        document.querySelector('#' + key + ' button');\n",
              "      quickchartButtonEl.disabled = true;  // To prevent multiple clicks.\n",
              "      quickchartButtonEl.classList.add('colab-df-spinner');\n",
              "      try {\n",
              "        const charts = await google.colab.kernel.invokeFunction(\n",
              "            'suggestCharts', [key], {});\n",
              "      } catch (error) {\n",
              "        console.error('Error during call to suggestCharts:', error);\n",
              "      }\n",
              "      quickchartButtonEl.classList.remove('colab-df-spinner');\n",
              "      quickchartButtonEl.classList.add('colab-df-quickchart-complete');\n",
              "    }\n",
              "    (() => {\n",
              "      let quickchartButtonEl =\n",
              "        document.querySelector('#df-a2bcf03b-b6b4-42b5-aa97-b54487a47ff0 button');\n",
              "      quickchartButtonEl.style.display =\n",
              "        google.colab.kernel.accessAllowed ? 'block' : 'none';\n",
              "    })();\n",
              "  </script>\n",
              "</div>\n",
              "\n",
              "    </div>\n",
              "  </div>\n"
            ],
            "application/vnd.google.colaboratory.intrinsic+json": {
              "type": "dataframe",
              "variable_name": "gene_summary",
              "summary": "{\n  \"name\": \"gene_summary\",\n  \"rows\": 5000,\n  \"fields\": [\n    {\n      \"column\": \"gene_mean\",\n      \"properties\": {\n        \"dtype\": \"number\",\n        \"std\": 0.014601704967136264,\n        \"min\": -0.05302409866610497,\n        \"max\": 0.0577740825961977,\n        \"num_unique_values\": 5000,\n        \"samples\": [\n          0.0223967882492262,\n          -0.006554157430202307,\n          -0.006863100573429291\n        ],\n        \"semantic_type\": \"\",\n        \"description\": \"\"\n      }\n    },\n    {\n      \"column\": \"gene_abssum\",\n      \"properties\": {\n        \"dtype\": \"number\",\n        \"std\": 0.017155308652268556,\n        \"min\": 0.02321882382938072,\n        \"max\": 0.22447296829454058,\n        \"num_unique_values\": 5000,\n        \"samples\": [\n          0.07403928627356739,\n          0.0649048234070663,\n          0.06448613194159465\n        ],\n        \"semantic_type\": \"\",\n        \"description\": \"\"\n      }\n    }\n  ]\n}"
            }
          },
          "metadata": {},
          "execution_count": 36
        }
      ]
    },
    {
      "cell_type": "code",
      "source": [
        "sns.jointplot(x='gene_mean', y='gene_abssum', data=gene_summary, kind='scatter')"
      ],
      "metadata": {
        "colab": {
          "base_uri": "https://localhost:8080/",
          "height": 625
        },
        "id": "mrO5E8U0yAs8",
        "outputId": "8e0e420c-0fbd-4ddb-e83b-ebc864862239"
      },
      "execution_count": null,
      "outputs": [
        {
          "output_type": "execute_result",
          "data": {
            "text/plain": [
              "<seaborn.axisgrid.JointGrid at 0x78ae693c8410>"
            ]
          },
          "metadata": {},
          "execution_count": 37
        },
        {
          "output_type": "display_data",
          "data": {
            "text/plain": [
              "<Figure size 600x600 with 3 Axes>"
            ],
            "image/png": "[encoded data removed]"
          },
          "metadata": {}
        }
      ]
    },
    {
      "cell_type": "markdown",
      "source": [
        "#### **Transcription factor binding site (TFBS)**\n",
        "\n",
        "- train a model on DNA data containing binding sites for proteins and\n",
        "make predictions for TBFS\n",
        "\n",
        "- for predicting a transcription factorbinding site, TBFS, problem we use either\n",
        "CNN or RNN, BiLSTM or MLP algorithm"
      ],
      "metadata": {
        "id": "2pnoCk4ICd2X"
      }
    },
    {
      "cell_type": "code",
      "source": [
        "import pandas as pd\n",
        "import numpy as np\n",
        "import tensorflow as tf\n",
        "from tensorflow import keras\n",
        "from keras.layers import Conv1D, MaxPooling1D\n",
        "from keras.models import Sequential\n",
        "from keras.layers import Dense, Dropout, Flatten, LSTM\n",
        "from keras.callbacks import EarlyStopping, ModelCheckpoint\n",
        "from sklearn.metrics import auc, average_precision_score, roc_curve\n",
        "from sklearn.model_selection import train_test_split\n",
        "from sklearn.preprocessing import LabelEncoder, OneHotEncoder\n",
        "\n",
        "import matplotlib.pyplot as plt"
      ],
      "metadata": {
        "id": "iiOTL-5zCce5"
      },
      "execution_count": null,
      "outputs": []
    },
    {
      "cell_type": "code",
      "source": [
        "fasta_ds = pd.read_table('sequences_mod.txt', header=None)\n",
        "fasta_ds.rename(columns={0: 'sequence'}, inplace=True)\n",
        "labels_ds = pd.read_table('labels.txt', header=None)\n",
        "labels_ds.rename(columns={0: 'label'}, inplace=True)\n",
        "input_encoder = LabelEncoder()\n",
        "output_hot_encoder = OneHotEncoder()\n",
        "sequences_matrix = []\n",
        "for sequence in fasta_ds.sequence:\n",
        "  input_encoder_data = input_encoder.fit_transform(list(sequence))\n",
        "  input_encoder_data = input_encoder_data.reshape(-1, 1)\n",
        "  output_hot_encoder_data = output_hot_encoder.fit_transform(input_encoder_data)\n",
        "  sequences_matrix.append(output_hot_encoder_data.toarray())\n",
        "sequences_matrix = np.stack(sequences_matrix)"
      ],
      "metadata": {
        "id": "3BgzHnXFCcil"
      },
      "execution_count": null,
      "outputs": []
    },
    {
      "cell_type": "code",
      "source": [
        "labels_ds.info()"
      ],
      "metadata": {
        "colab": {
          "base_uri": "https://localhost:8080/"
        },
        "id": "oLbeU8SgCcqa",
        "outputId": "12e8f214-dc31-479b-e820-34e4fdec140f"
      },
      "execution_count": null,
      "outputs": [
        {
          "output_type": "stream",
          "name": "stdout",
          "text": [
            "<class 'pandas.core.frame.DataFrame'>\n",
            "RangeIndex: 2001 entries, 0 to 2000\n",
            "Data columns (total 1 columns):\n",
            " #   Column  Non-Null Count  Dtype\n",
            "---  ------  --------------  -----\n",
            " 0   label   2001 non-null   int64\n",
            "dtypes: int64(1)\n",
            "memory usage: 15.8 KB\n"
          ]
        }
      ]
    },
    {
      "cell_type": "code",
      "source": [
        "fasta_ds.info()"
      ],
      "metadata": {
        "colab": {
          "base_uri": "https://localhost:8080/"
        },
        "id": "UaslS4cOCctj",
        "outputId": "22df4d4d-e581-40de-d47f-79a075279782"
      },
      "execution_count": null,
      "outputs": [
        {
          "output_type": "stream",
          "name": "stdout",
          "text": [
            "<class 'pandas.core.frame.DataFrame'>\n",
            "RangeIndex: 2000 entries, 0 to 1999\n",
            "Data columns (total 1 columns):\n",
            " #   Column    Non-Null Count  Dtype \n",
            "---  ------    --------------  ----- \n",
            " 0   sequence  2000 non-null   object\n",
            "dtypes: object(1)\n",
            "memory usage: 15.8+ KB\n"
          ]
        }
      ]
    },
    {
      "cell_type": "code",
      "source": [
        "Y = np.array(labels_ds.label)[1:2001]\n",
        "Y = Y.reshape(-1)\n",
        "Y, Y.shape"
      ],
      "metadata": {
        "colab": {
          "base_uri": "https://localhost:8080/"
        },
        "id": "OdbtHQn4Ccms",
        "outputId": "68e03858-47b2-4917-bb3d-c37bb19bce8c"
      },
      "execution_count": null,
      "outputs": [
        {
          "output_type": "execute_result",
          "data": {
            "text/plain": [
              "(array([0, 0, 0, ..., 0, 1, 1]), (2000,))"
            ]
          },
          "metadata": {},
          "execution_count": 64
        }
      ]
    },
    {
      "cell_type": "code",
      "source": [
        "pd.DataFrame(Y).info(), pd.DataFrame(Y).value_counts()"
      ],
      "metadata": {
        "colab": {
          "base_uri": "https://localhost:8080/"
        },
        "id": "dypWaJ9RCcw5",
        "outputId": "b321d12e-491d-4c72-937c-e87eec4216b9"
      },
      "execution_count": null,
      "outputs": [
        {
          "output_type": "stream",
          "name": "stdout",
          "text": [
            "<class 'pandas.core.frame.DataFrame'>\n",
            "RangeIndex: 2000 entries, 0 to 1999\n",
            "Data columns (total 1 columns):\n",
            " #   Column  Non-Null Count  Dtype\n",
            "---  ------  --------------  -----\n",
            " 0   0       2000 non-null   int64\n",
            "dtypes: int64(1)\n",
            "memory usage: 15.8 KB\n"
          ]
        },
        {
          "output_type": "execute_result",
          "data": {
            "text/plain": [
              "(None,\n",
              " 0\n",
              " 0    1013\n",
              " 1     987\n",
              " Name: count, dtype: int64)"
            ]
          },
          "metadata": {},
          "execution_count": 65
        }
      ]
    },
    {
      "cell_type": "code",
      "source": [
        "X_train, X_test, y_train, y_test = train_test_split(\n",
        "    sequences_matrix, Y, test_size=0.25, random_state=42, shuffle=True)\n",
        "X_train.shape, y_train.shape"
      ],
      "metadata": {
        "colab": {
          "base_uri": "https://localhost:8080/"
        },
        "id": "AVPRXbN6CdJN",
        "outputId": "0c141195-f3db-4a9b-f5e5-2279c603bd88"
      },
      "execution_count": null,
      "outputs": [
        {
          "output_type": "execute_result",
          "data": {
            "text/plain": [
              "((1500, 50, 4), (1500,))"
            ]
          },
          "metadata": {},
          "execution_count": 70
        }
      ]
    },
    {
      "cell_type": "code",
      "source": [
        "X_train_keras = X_train.reshape(X_train.shape[0], X_train.shape[1], X_train.shape[2], 1)\n",
        "X_test_keras = X_train.reshape(X_train.shape[0], X_train.shape[1], X_train.shape[2], 1)\n",
        "X_train_keras.shape, X_test_keras.shape"
      ],
      "metadata": {
        "colab": {
          "base_uri": "https://localhost:8080/"
        },
        "id": "EYAQU328CdRW",
        "outputId": "be287ef5-2a23-458f-e4e1-9ccd82a8f58c"
      },
      "execution_count": null,
      "outputs": [
        {
          "output_type": "execute_result",
          "data": {
            "text/plain": [
              "((1500, 50, 4, 1), (1500, 50, 4, 1))"
            ]
          },
          "metadata": {},
          "execution_count": 81
        }
      ]
    },
    {
      "cell_type": "code",
      "source": [
        "y_train.shape, y_test.shape"
      ],
      "metadata": {
        "colab": {
          "base_uri": "https://localhost:8080/"
        },
        "id": "YyeCwLuOyO2B",
        "outputId": "1cf18e58-e49a-422d-a84c-8d9bb622d7bc"
      },
      "execution_count": null,
      "outputs": [
        {
          "output_type": "execute_result",
          "data": {
            "text/plain": [
              "((1500,), (500,))"
            ]
          },
          "metadata": {},
          "execution_count": 96
        }
      ]
    },
    {
      "cell_type": "code",
      "source": [
        "''' CNN model '''\n",
        "model = Sequential()\n",
        "model.add(Conv1D(filters=32, kernel_size=12, activation='relu',\n",
        "                 input_shape=(X_train_keras.shape[1], X_train_keras.shape[2])))\n",
        "model.add(MaxPooling1D(pool_size=4))\n",
        "model.add(Flatten())\n",
        "model.add(Dense(16, activation='relu'))\n",
        "model.add(Dense(1, activation='sigmoid'))\n",
        "model.compile(loss='mean_squared_error', optimizer='adam', metrics=['accuracy'])\n",
        "model.summary(),\n",
        "hist = model.fit(X_train_keras, y_train, batch_size=10, epochs=10, validation_split=.1)\n",
        "plt.plot(hist.history['loss'])\n",
        "plt.plot(hist.history['val_loss'])\n",
        "plt.legend(['loss', 'val_loss'], loc='upper left')"
      ],
      "metadata": {
        "colab": {
          "base_uri": "https://localhost:8080/",
          "height": 861
        },
        "id": "Xx_4vM94uOL1",
        "outputId": "bef6fb16-35d4-4b2d-a479-1efc0dec111c"
      },
      "execution_count": null,
      "outputs": [
        {
          "output_type": "stream",
          "name": "stdout",
          "text": [
            "Epoch 1/10\n"
          ]
        },
        {
          "output_type": "stream",
          "name": "stderr",
          "text": [
            "/usr/local/lib/python3.11/dist-packages/keras/src/layers/convolutional/base_conv.py:107: UserWarning: Do not pass an `input_shape`/`input_dim` argument to a layer. When using Sequential models, prefer using an `Input(shape)` object as the first layer in the model instead.\n",
            "  super().__init__(activity_regularizer=activity_regularizer, **kwargs)\n"
          ]
        },
        {
          "output_type": "stream",
          "name": "stdout",
          "text": [
            "\u001b[1m135/135\u001b[0m \u001b[32m━━━━━━━━━━━━━━━━━━━━\u001b[0m\u001b[37m\u001b[0m \u001b[1m2s\u001b[0m 7ms/step - accuracy: 0.6357 - loss: 0.2252 - val_accuracy: 0.7400 - val_loss: 0.1569\n",
            "Epoch 2/10\n",
            "\u001b[1m135/135\u001b[0m \u001b[32m━━━━━━━━━━━━━━━━━━━━\u001b[0m\u001b[37m\u001b[0m \u001b[1m0s\u001b[0m 3ms/step - accuracy: 0.8490 - loss: 0.1205 - val_accuracy: 0.8800 - val_loss: 0.0976\n",
            "Epoch 3/10\n",
            "\u001b[1m135/135\u001b[0m \u001b[32m━━━━━━━━━━━━━━━━━━━━\u001b[0m\u001b[37m\u001b[0m \u001b[1m1s\u001b[0m 3ms/step - accuracy: 0.9318 - loss: 0.0685 - val_accuracy: 0.9667 - val_loss: 0.0598\n",
            "Epoch 4/10\n",
            "\u001b[1m135/135\u001b[0m \u001b[32m━━━━━━━━━━━━━━━━━━━━\u001b[0m\u001b[37m\u001b[0m \u001b[1m0s\u001b[0m 3ms/step - accuracy: 0.9656 - loss: 0.0405 - val_accuracy: 0.9800 - val_loss: 0.0384\n",
            "Epoch 5/10\n",
            "\u001b[1m135/135\u001b[0m \u001b[32m━━━━━━━━━━━━━━━━━━━━\u001b[0m\u001b[37m\u001b[0m \u001b[1m1s\u001b[0m 3ms/step - accuracy: 0.9871 - loss: 0.0206 - val_accuracy: 0.9867 - val_loss: 0.0295\n",
            "Epoch 6/10\n",
            "\u001b[1m135/135\u001b[0m \u001b[32m━━━━━━━━━━━━━━━━━━━━\u001b[0m\u001b[37m\u001b[0m \u001b[1m0s\u001b[0m 3ms/step - accuracy: 0.9886 - loss: 0.0144 - val_accuracy: 0.9867 - val_loss: 0.0184\n",
            "Epoch 7/10\n",
            "\u001b[1m135/135\u001b[0m \u001b[32m━━━━━━━━━━━━━━━━━━━━\u001b[0m\u001b[37m\u001b[0m \u001b[1m1s\u001b[0m 5ms/step - accuracy: 0.9970 - loss: 0.0081 - val_accuracy: 0.9933 - val_loss: 0.0163\n",
            "Epoch 8/10\n",
            "\u001b[1m135/135\u001b[0m \u001b[32m━━━━━━━━━━━━━━━━━━━━\u001b[0m\u001b[37m\u001b[0m \u001b[1m2s\u001b[0m 7ms/step - accuracy: 0.9975 - loss: 0.0056 - val_accuracy: 0.9933 - val_loss: 0.0132\n",
            "Epoch 9/10\n",
            "\u001b[1m135/135\u001b[0m \u001b[32m━━━━━━━━━━━━━━━━━━━━\u001b[0m\u001b[37m\u001b[0m \u001b[1m1s\u001b[0m 6ms/step - accuracy: 1.0000 - loss: 0.0035 - val_accuracy: 0.9933 - val_loss: 0.0132\n",
            "Epoch 10/10\n",
            "\u001b[1m135/135\u001b[0m \u001b[32m━━━━━━━━━━━━━━━━━━━━\u001b[0m\u001b[37m\u001b[0m \u001b[1m1s\u001b[0m 6ms/step - accuracy: 1.0000 - loss: 0.0018 - val_accuracy: 0.9867 - val_loss: 0.0113\n",
            "\u001b[1m47/47\u001b[0m \u001b[32m━━━━━━━━━━━━━━━━━━━━\u001b[0m\u001b[37m\u001b[0m \u001b[1m0s\u001b[0m 3ms/step\n"
          ]
        },
        {
          "output_type": "display_data",
          "data": {
            "text/plain": [
              "<Figure size 640x480 with 1 Axes>"
            ],
            "image/png": "[encoded data removed]"
          },
          "metadata": {}
        }
      ]
    },
    {
      "cell_type": "code",
      "source": [
        "pred = model.predict(X_test_keras, batch_size=32).flatten()\n",
        "fpred, tpred, thresholds = roc_curve(y_test, pred)\n",
        "auc(fpred, tpred), average_precision_score(y_test, pred)\n",
        "pred, pred.shape, hist.history['accuracy']"
      ],
      "metadata": {
        "colab": {
          "base_uri": "https://localhost:8080/"
        },
        "id": "AklRahuIuOPf",
        "outputId": "9b7e8969-32bc-4656-8d2a-15072b651258"
      },
      "execution_count": null,
      "outputs": [
        {
          "output_type": "stream",
          "name": "stdout",
          "text": [
            "\u001b[1m47/47\u001b[0m \u001b[32m━━━━━━━━━━━━━━━━━━━━\u001b[0m\u001b[37m\u001b[0m \u001b[1m0s\u001b[0m 2ms/step\n"
          ]
        },
        {
          "output_type": "execute_result",
          "data": {
            "text/plain": [
              "(array([0.0683755 , 0.9931696 , 0.9747913 , ..., 0.05637105, 0.15233232,\n",
              "        0.9125539 ], dtype=float32),\n",
              " (1500,),\n",
              " [0.7162963151931763,\n",
              "  0.8570370078086853,\n",
              "  0.9311110973358154,\n",
              "  0.970370352268219,\n",
              "  0.9896296262741089,\n",
              "  0.9925925731658936,\n",
              "  0.9962962865829468,\n",
              "  0.9962962865829468,\n",
              "  1.0,\n",
              "  1.0])"
            ]
          },
          "metadata": {},
          "execution_count": 101
        }
      ]
    },
    {
      "cell_type": "code",
      "source": [
        "plt_ids = np.random.randint(0, len(X_test_keras), 1)\n",
        "sequences_matrix.shape\n",
        "plt_sequences_matrix = sequences_matrix.reshape(\n",
        "    (sequences_matrix.shape[0], sequences_matrix.shape[1],\n",
        "     sequences_matrix.shape[2], 1))[plt_ids, :]\n",
        "plt_sequences_matrix_pred = model.predict(\n",
        "    plt_sequences_matrix, batch_size=32).flatten()\n",
        "plt_sequences_matrix.shape, plt_sequences_matrix_pred.shape"
      ],
      "metadata": {
        "colab": {
          "base_uri": "https://localhost:8080/"
        },
        "id": "OJs51KPrv_GS",
        "outputId": "09067b29-7d79-4152-e65e-db0dcdb1e96d"
      },
      "execution_count": null,
      "outputs": [
        {
          "output_type": "stream",
          "name": "stdout",
          "text": [
            "\u001b[1m1/1\u001b[0m \u001b[32m━━━━━━━━━━━━━━━━━━━━\u001b[0m\u001b[37m\u001b[0m \u001b[1m0s\u001b[0m 44ms/step\n"
          ]
        },
        {
          "output_type": "execute_result",
          "data": {
            "text/plain": [
              "((1, 50, 4, 1), (1,))"
            ]
          },
          "metadata": {},
          "execution_count": 126
        }
      ]
    },
    {
      "cell_type": "code",
      "source": [
        "''' continue with the gradient and the prediction\n",
        "for each sequence every nucleotide '''"
      ],
      "metadata": {
        "id": "Sc-3Ey3V2Eps"
      },
      "execution_count": null,
      "outputs": []
    },
    {
      "cell_type": "markdown",
      "source": [
        "pancreate rnaseq"
      ],
      "metadata": {
        "id": "UZ25ibSw-Ipp"
      }
    },
    {
      "cell_type": "code",
      "execution_count": null,
      "metadata": {
        "colab": {
          "base_uri": "https://localhost:8080/"
        },
        "id": "CUYQs0PE5GmW",
        "outputId": "530474f1-7988-4f9a-feb5-666f7a5f6c70"
      },
      "outputs": [
        {
          "data": {
            "text/plain": [
              "((1000, 1000, 4), (100, 1000, 4), (1000, 690), (100, 690))"
            ]
          },
          "execution_count": 3,
          "metadata": {},
          "output_type": "execute_result"
        }
      ],
      "source": [
        "''' a second dataset, pancreate rnaseq data '''\n",
        "X_train.shape, X_test.shape, y_train.shape, y_test.shape"
      ]
    },
    {
      "cell_type": "code",
      "execution_count": null,
      "metadata": {
        "colab": {
          "base_uri": "https://localhost:8080/"
        },
        "id": "Hoe5GqXH5GrR",
        "outputId": "83d64480-321e-4b2e-d07b-1e089f2ed42a"
      },
      "outputs": [
        {
          "name": "stdout",
          "output_type": "stream",
          "text": [
            "Epoch 1/2\n",
            "\u001b[1m9/9\u001b[0m \u001b[32m━━━━━━━━━━━━━━━━━━━━\u001b[0m\u001b[37m\u001b[0m \u001b[1m0s\u001b[0m 20s/step - loss: 0.4846 \n",
            "Epoch 1: saving model to bilstm_model.keras\n",
            "\u001b[1m9/9\u001b[0m \u001b[32m━━━━━━━━━━━━━━━━━━━━\u001b[0m\u001b[37m\u001b[0m \u001b[1m277s\u001b[0m 31s/step - loss: 0.4677 - val_loss: 0.0502\n",
            "Epoch 2/2\n",
            "\u001b[1m9/9\u001b[0m \u001b[32m━━━━━━━━━━━━━━━━━━━━\u001b[0m\u001b[37m\u001b[0m \u001b[1m0s\u001b[0m 20s/step - loss: 0.0902 \n",
            "Epoch 2: saving model to bilstm_model.keras\n",
            "\u001b[1m9/9\u001b[0m \u001b[32m━━━━━━━━━━━━━━━━━━━━\u001b[0m\u001b[37m\u001b[0m \u001b[1m453s\u001b[0m 47s/step - loss: 0.0897 - val_loss: 0.0511\n"
          ]
        }
      ],
      "source": [
        "input_data = Input(shape=[1000,4])\n",
        "''' conv layer '''\n",
        "output = Conv1D(320,kernel_size=26, activation='relu')(input_data)\n",
        "output = MaxPooling1D()(output)\n",
        "output = Dropout(0.2)(output)\n",
        "''' bidirectional LSTM layer '''\n",
        "output = Bidirectional(LSTM(320,return_sequences=True))(output)\n",
        "output = Dropout(0.5)(output)\n",
        "flat_output = Flatten()(output)\n",
        "''' fc layer '''\n",
        "fc_output = Dense(695)(flat_output)\n",
        "fc_output = Activation('relu')(fc_output)\n",
        "''' output layer '''\n",
        "output = Dense(690)(fc_output)\n",
        "output = Activation('sigmoid')(output)\n",
        "model = Model(inputs=input_data, outputs=output)\n",
        "\n",
        "model.compile(loss='binary_crossentropy', optimizer='adam')\n",
        "model.summary()\n",
        "checkpointer = ModelCheckpoint(\n",
        "    filepath=\"bilstm_model.keras\", verbose=1, save_best_only=False)\n",
        "earlystopper = EarlyStopping(monitor='val_loss', patience=10, verbose=1)\n",
        "history = model.fit(X_train, y_train, batch_size=100, epochs=2, shuffle=True,\n",
        "    verbose=1, validation_split=0.1, callbacks=[checkpointer,earlystopper])\n",
        "training_loss = np.mean(history.history['loss'])\n",
        "validation_loss = np.mean(history.history['val_loss'])"
      ]
    },
    {
      "cell_type": "code",
      "execution_count": null,
      "metadata": {
        "colab": {
          "base_uri": "https://localhost:8080/"
        },
        "id": "KFJQQ4Bv4phE",
        "outputId": "959c928a-4c21-4a96-abf7-b38c51dd03aa"
      },
      "outputs": [
        {
          "data": {
            "text/plain": [
              "([0.31521376967430115, 0.08464924246072769],\n",
              " [0.05018356442451477, 0.051117029041051865])"
            ]
          },
          "execution_count": 9,
          "metadata": {},
          "output_type": "execute_result"
        }
      ],
      "source": [
        "training_loss, validation_loss\n",
        "history.history['loss'], history.history['val_loss']"
      ]
    },
    {
      "cell_type": "markdown",
      "metadata": {
        "id": "yoUos2pE4Zs5"
      },
      "source": [
        "#### **Lung cancer model and gene expression**"
      ]
    },
    {
      "cell_type": "code",
      "execution_count": null,
      "metadata": {
        "colab": {
          "base_uri": "https://localhost:8080/",
          "height": 571
        },
        "id": "DBcWtH8dfFc4",
        "outputId": "d379e285-1f9f-4809-8a2e-ba9448cc0850"
      },
      "outputs": [
        {
          "data": {
            "image/png": "[encoded data removed]",
            "text/plain": [
              "<Figure size 640x480 with 1 Axes>"
            ]
          },
          "metadata": {},
          "output_type": "display_data"
        }
      ],
      "source": [
        "import pandas as pd\n",
        "import numpy as np\n",
        "import matplotlib.pyplot as plt\n",
        "import seaborn as sns\n",
        "from sklearn.model_selection import train_test_split\n",
        "from sklearn.linear_model import LogisticRegression\n",
        "from sklearn.metrics import confusion_matrix, ConfusionMatrixDisplay, classification_report\n",
        "\n",
        "''' load the files '''\n",
        "lung_ds= pd.read_csv('lung_ds.csv')\n",
        "''' missing values for all genes '''\n",
        "lung_ds.isna().sum()\n",
        "''' EDA '''\n",
        "lung_ds['class'] = lung_ds['class'].replace('Normal', 'Normal')\n",
        "lung_ds['class'] = lung_ds['class'].replace('Tumor', 'Tumor')\n",
        "dfx = lung_ds['class'].value_counts().reset_index()\n",
        "sns.barplot(x='count', y='class', data=dfx)\n",
        "plt.xlabel('number of samples') ; plt.ylabel('Class') ; plt.show()\n",
        "''' distribution of expressions across the samples '''\n",
        "lung_ds_m = pd.melt(lung_ds.iloc[:, 1:12], id_vars='class')\n",
        "ax = sns.boxplot(x='variable', y='value', data=lung_ds_m, hue='class')\n",
        "ax.set_xticklabels(ax.get_xticklabels(), rotation=90 )\n",
        "plt.xlabel('Genes') ; plt.ylabel('Expression') ; plt.show()"
      ]
    },
    {
      "cell_type": "code",
      "execution_count": null,
      "metadata": {
        "colab": {
          "base_uri": "https://localhost:8080/"
        },
        "id": "8S2u4QqPoEYh",
        "outputId": "2bc3301e-76b7-4197-e264-625325fd261a"
      },
      "outputs": [
        {
          "name": "stdout",
          "output_type": "stream",
          "text": [
            "              precision    recall  f1-score   support\n",
            "\n",
            "         0.0       1.00      1.00      1.00         1\n",
            "         1.0       1.00      1.00      1.00         1\n",
            "         2.0       1.00      1.00      1.00         7\n",
            "         3.0       1.00      1.00      1.00        21\n",
            "\n",
            "    accuracy                           1.00        30\n",
            "   macro avg       1.00      1.00      1.00        30\n",
            "weighted avg       1.00      1.00      1.00        30\n",
            "\n"
          ]
        }
      ],
      "source": [
        "''' Model training and evaluation '''\n",
        "X = lung_ds.drop(['class','ID'], axis=1).values\n",
        "y_tmp = lung_ds['class'].values\n",
        "classes = lung_ds['class'].unique().tolist()\n",
        "fn_ = lambda x: classes.index(x)\n",
        "y = np.array([fn_(i) for i in y_tmp], dtype='float32')\n",
        "X_train, X_test, y_train, y_test = train_test_split(X,y, test_size=0.2,random_state=42, stratify=y)\n",
        "model = LogisticRegression()\n",
        "history = model.fit(X_train, y_train)\n",
        "pred = model.predict(X_test[10].reshape(1,-1))\n",
        "all_pred = model.predict(X_test)\n",
        "conf_m = confusion_matrix(y_test, all_pred)\n",
        "display = ConfusionMatrixDisplay(confusion_matrix=conf_m)\n",
        "display_labels = ['Normal', 'Tumor'] ; display.plot()\n",
        "print(classification_report(y_test, all_pred))"
      ]
    }
  ],
  "metadata": {
    "colab": {
      "provenance": []
    },
    "kernelspec": {
      "display_name": "Python 3",
      "name": "python3"
    },
    "language_info": {
      "name": "python"
    }
  },
  "nbformat": 4,
  "nbformat_minor": 0
}