{
  "nbformat": 4,
  "nbformat_minor": 0,
  "metadata": {
    "colab": {
      "provenance": []
    },
    "kernelspec": {
      "name": "python3",
      "display_name": "Python 3"
    },
    "language_info": {
      "name": "python"
    }
  },
  "cells": [
    {
      "cell_type": "markdown",
      "source": [
        "Sequencing\n",
        "- process Covid-19 dinucleotides and features from the dataset file"
      ],
      "metadata": {
        "id": "JKh0g8PuAlEk"
      }
    },
    {
      "cell_type": "code",
      "source": [
        "!pip install Bio\n",
        "import Bio\n",
        "from Bio.Seq import Seq\n",
        "from Bio.SeqUtils import GC\n",
        "import pandas as pd\n",
        "from Bio import motifs\n",
        "\n",
        "nucleotides = ['A','T', 'C', 'G']\n",
        "dinucleotide_dict = {}\n",
        "\n",
        "with open('covid-19.fasta') as fd:\n",
        "  for record in SeqIO.parse(fd, 'fasta'):\n",
        "    for nucleotide_1 in nucleotides:\n",
        "        for nucleotide_2 in nucleotides:\n",
        "          dinucloetide = str(nucleotide_1) + str(nucleotide_2)\n",
        "          if dinucloetide not in dinucleotide_dict:\n",
        "            dinucleotide_dict[dinucloetide] =0\n",
        "          dinucleotide_dict[dinucloetide] += record.seq.count(dinucloetide)\n",
        "\n",
        "    A_ = record.seq.count('A')\n",
        "    dinucleotide_dict['A_count'] = round(record.seq.count('A')/seq_length*100, 2)\n",
        "    C_ = record.seq.count('C')\n",
        "    dinucleotide_dict['C_count'] = round(record.seq.count('A')/seq_length*100, 2)\n",
        "    G_ = record.seq.count('G')\n",
        "    dinucleotide_dict['G_count'] = round(record.seq.count('A')/seq_length*100, 2)\n",
        "    T_ = record.seq.count('T')\n",
        "    dinucleotide_dict['T_count'] = round(record.seq.count('A')/seq_length*100, 2)\n",
        "    dinucleotide_dict['GC_content'] = round(GC(record.seq), 2)\n",
        "\n",
        "print(dinucleotide_dict)"
      ],
      "metadata": {
        "colab": {
          "base_uri": "https://localhost:8080/"
        },
        "id": "cYQsAMj6US9n",
        "outputId": "e092dd55-a9b1-4d07-f12e-7e2ca2d9099a"
      },
      "execution_count": null,
      "outputs": [
        {
          "output_type": "stream",
          "name": "stdout",
          "text": [
            "{'AA': 403, 'AT': 278, 'AC': 116, 'AG': 304, 'TA': 236, 'TT': 278, 'TC': 137, 'TG': 243, 'CA': 119, 'CT': 125, 'CC': 61, 'CG': 119, 'GA': 309, 'GT': 313, 'GC': 98, 'GG': 278, 'A_count': 12.86, 'C_count': 12.86, 'G_count': 12.86, 'T_count': 12.86, 'GC_content': 10.0}\n"
          ]
        }
      ]
    },
    {
      "cell_type": "code",
      "source": [
        "df = pd.DataFrame.from_dict([dinucleotide_dict])\n",
        "df['virus'] = 'Covid19'\n",
        "df.to_csv('covid-19.csv', index=None)\n",
        "df.head()"
      ],
      "metadata": {
        "colab": {
          "base_uri": "https://localhost:8080/",
          "height": 130
        },
        "id": "GnHsLAnSV_h4",
        "outputId": "ef03b428-b3a3-4342-9334-b1711b0acf46"
      },
      "execution_count": null,
      "outputs": [
        {
          "output_type": "execute_result",
          "data": {
            "text/plain": [
              "    AA   AT   AC   AG   TA   TT   TC   TG   CA   CT  ...   GA   GT  GC   GG  \\\n",
              "0  403  278  116  304  236  278  137  243  119  125  ...  309  313  98  278   \n",
              "\n",
              "   A_count  C_count  G_count  T_count  GC_content    virus  \n",
              "0    12.86    12.86    12.86    12.86        10.0  Covid19  \n",
              "\n",
              "[1 rows x 22 columns]"
            ],
            "text/html": [
              "\n",
              "  <div id=\"df-35f1190f-a818-4254-a956-d2bf01749142\" class=\"colab-df-container\">\n",
              "    <div>\n",
              "<style scoped>\n",
              "    .dataframe tbody tr th:only-of-type {\n",
              "        vertical-align: middle;\n",
              "    }\n",
              "\n",
              "    .dataframe tbody tr th {\n",
              "        vertical-align: top;\n",
              "    }\n",
              "\n",
              "    .dataframe thead th {\n",
              "        text-align: right;\n",
              "    }\n",
              "</style>\n",
              "<table border=\"1\" class=\"dataframe\">\n",
              "  <thead>\n",
              "    <tr style=\"text-align: right;\">\n",
              "      <th></th>\n",
              "      <th>AA</th>\n",
              "      <th>AT</th>\n",
              "      <th>AC</th>\n",
              "      <th>AG</th>\n",
              "      <th>TA</th>\n",
              "      <th>TT</th>\n",
              "      <th>TC</th>\n",
              "      <th>TG</th>\n",
              "      <th>CA</th>\n",
              "      <th>CT</th>\n",
              "      <th>...</th>\n",
              "      <th>GA</th>\n",
              "      <th>GT</th>\n",
              "      <th>GC</th>\n",
              "      <th>GG</th>\n",
              "      <th>A_count</th>\n",
              "      <th>C_count</th>\n",
              "      <th>G_count</th>\n",
              "      <th>T_count</th>\n",
              "      <th>GC_content</th>\n",
              "      <th>virus</th>\n",
              "    </tr>\n",
              "  </thead>\n",
              "  <tbody>\n",
              "    <tr>\n",
              "      <th>0</th>\n",
              "      <td>403</td>\n",
              "      <td>278</td>\n",
              "      <td>116</td>\n",
              "      <td>304</td>\n",
              "      <td>236</td>\n",
              "      <td>278</td>\n",
              "      <td>137</td>\n",
              "      <td>243</td>\n",
              "      <td>119</td>\n",
              "      <td>125</td>\n",
              "      <td>...</td>\n",
              "      <td>309</td>\n",
              "      <td>313</td>\n",
              "      <td>98</td>\n",
              "      <td>278</td>\n",
              "      <td>12.86</td>\n",
              "      <td>12.86</td>\n",
              "      <td>12.86</td>\n",
              "      <td>12.86</td>\n",
              "      <td>10.0</td>\n",
              "      <td>Covid19</td>\n",
              "    </tr>\n",
              "  </tbody>\n",
              "</table>\n",
              "<p>1 rows × 22 columns</p>\n",
              "</div>\n",
              "    <div class=\"colab-df-buttons\">\n",
              "\n",
              "  <div class=\"colab-df-container\">\n",
              "    <button class=\"colab-df-convert\" onclick=\"convertToInteractive('df-35f1190f-a818-4254-a956-d2bf01749142')\"\n",
              "            title=\"Convert this dataframe to an interactive table.\"\n",
              "            style=\"display:none;\">\n",
              "\n",
              "  <svg xmlns=\"http://www.w3.org/2000/svg\" height=\"24px\" viewBox=\"0 -960 960 960\">\n",
              "    <path d=\"M120-120v-720h720v720H120Zm60-500h600v-160H180v160Zm220 220h160v-160H400v160Zm0 220h160v-160H400v160ZM180-400h160v-160H180v160Zm440 0h160v-160H620v160ZM180-180h160v-160H180v160Zm440 0h160v-160H620v160Z\"/>\n",
              "  </svg>\n",
              "    </button>\n",
              "\n",
              "  <style>\n",
              "    .colab-df-container {\n",
              "      display:flex;\n",
              "      gap: 12px;\n",
              "    }\n",
              "\n",
              "    .colab-df-convert {\n",
              "      background-color: #E8F0FE;\n",
              "      border: none;\n",
              "      border-radius: 50%;\n",
              "      cursor: pointer;\n",
              "      display: none;\n",
              "      fill: #1967D2;\n",
              "      height: 32px;\n",
              "      padding: 0 0 0 0;\n",
              "      width: 32px;\n",
              "    }\n",
              "\n",
              "    .colab-df-convert:hover {\n",
              "      background-color: #E2EBFA;\n",
              "      box-shadow: 0px 1px 2px rgba(60, 64, 67, 0.3), 0px 1px 3px 1px rgba(60, 64, 67, 0.15);\n",
              "      fill: #174EA6;\n",
              "    }\n",
              "\n",
              "    .colab-df-buttons div {\n",
              "      margin-bottom: 4px;\n",
              "    }\n",
              "\n",
              "    [theme=dark] .colab-df-convert {\n",
              "      background-color: #3B4455;\n",
              "      fill: #D2E3FC;\n",
              "    }\n",
              "\n",
              "    [theme=dark] .colab-df-convert:hover {\n",
              "      background-color: #434B5C;\n",
              "      box-shadow: 0px 1px 3px 1px rgba(0, 0, 0, 0.15);\n",
              "      filter: drop-shadow(0px 1px 2px rgba(0, 0, 0, 0.3));\n",
              "      fill: #FFFFFF;\n",
              "    }\n",
              "  </style>\n",
              "\n",
              "    <script>\n",
              "      const buttonEl =\n",
              "        document.querySelector('#df-35f1190f-a818-4254-a956-d2bf01749142 button.colab-df-convert');\n",
              "      buttonEl.style.display =\n",
              "        google.colab.kernel.accessAllowed ? 'block' : 'none';\n",
              "\n",
              "      async function convertToInteractive(key) {\n",
              "        const element = document.querySelector('#df-35f1190f-a818-4254-a956-d2bf01749142');\n",
              "        const dataTable =\n",
              "          await google.colab.kernel.invokeFunction('convertToInteractive',\n",
              "                                                    [key], {});\n",
              "        if (!dataTable) return;\n",
              "\n",
              "        const docLinkHtml = 'Like what you see? Visit the ' +\n",
              "          '<a target=\"_blank\" href=https://colab.research.google.com/notebooks/data_table.ipynb>data table notebook</a>'\n",
              "          + ' to learn more about interactive tables.';\n",
              "        element.innerHTML = '';\n",
              "        dataTable['output_type'] = 'display_data';\n",
              "        await google.colab.output.renderOutput(dataTable, element);\n",
              "        const docLink = document.createElement('div');\n",
              "        docLink.innerHTML = docLinkHtml;\n",
              "        element.appendChild(docLink);\n",
              "      }\n",
              "    </script>\n",
              "  </div>\n",
              "\n",
              "\n",
              "    </div>\n",
              "  </div>\n"
            ],
            "application/vnd.google.colaboratory.intrinsic+json": {
              "type": "dataframe",
              "variable_name": "df"
            }
          },
          "metadata": {},
          "execution_count": 71
        }
      ]
    },
    {
      "cell_type": "code",
      "source": [
        "motifs__ = [Seq('ACGT'),Seq('TCGA'), Seq('CGGC')]\n",
        "seq__ = motifs.create(motifs__)\n",
        "seq__, print(seq__), print(seq__.counts)"
      ],
      "metadata": {
        "colab": {
          "base_uri": "https://localhost:8080/"
        },
        "id": "eRaykFSZHPSC",
        "outputId": "74004cc0-29c7-4801-f372-08fd65345302"
      },
      "execution_count": null,
      "outputs": [
        {
          "output_type": "stream",
          "name": "stdout",
          "text": [
            "ACGT\n",
            "TCGA\n",
            "CGGC\n",
            "\n",
            "        0      1      2      3\n",
            "A:   1.00   0.00   0.00   1.00\n",
            "C:   1.00   2.00   0.00   1.00\n",
            "G:   0.00   1.00   3.00   0.00\n",
            "T:   1.00   0.00   0.00   1.00\n",
            "\n"
          ]
        },
        {
          "output_type": "execute_result",
          "data": {
            "text/plain": [
              "(<Bio.motifs.Motif at 0x78fd77204e50>, None, None)"
            ]
          },
          "metadata": {},
          "execution_count": 58
        }
      ]
    }
  ]
}