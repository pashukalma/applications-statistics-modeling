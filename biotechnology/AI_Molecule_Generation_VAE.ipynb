{
  "nbformat": 4,
  "nbformat_minor": 0,
  "metadata": {
    "colab": {
      "provenance": [],
      "machine_shape": "hm",
      "gpuType": "T4"
    },
    "kernelspec": {
      "name": "python3",
      "display_name": "Python 3"
    },
    "language_info": {
      "name": "python"
    },
    "accelerator": "GPU"
  },
  "cells": [
    {
      "cell_type": "markdown",
      "source": [
        "#### Variational Autoencoder for Molecule generation"
      ],
      "metadata": {
        "id": "2wJ81D5rcRTt"
      }
    },
    {
      "cell_type": "markdown",
      "source": [
        "There are two main approaches for molecule generation\n",
        "- Automatic chemical design using data-driven continuous representation: This approach explores open-ended spaces of chemical compounds. The method is described in https://arxiv.org/abs/1610.02415.\n",
        "- Variational Autoencoder for molecule generation in drug discovery (MolGAN): This is a more implicit model for small molecule design, detailed in https://arxiv.org/abs/1805.11973."
      ],
      "metadata": {
        "id": "4TARRmA9RX5H"
      }
    },
    {
      "cell_type": "markdown",
      "source": [
        "#### Data-Driven Continuous Representation Approach\n",
        "\n",
        "In the first approach, an encoder converts a string representation of a molecule into a continuous vector. A decoder then converts this vector back into a discrete molecule representation (string). A predictor estimates properties from the latent vector of the molecule. The continuous representation allows for gradient optimization and search for functional compounds.\n",
        "\n",
        "Process:\n",
        "\n",
        "A discrete molecule representation (SMILES string) is converted into a vector for use in the latent space. Given a point in the latent space, the decoder produces a SMILES string. A multilayer perceptron estimates the target properties associated with each molecule. Gradient optimization is performed continuously in the latent space to find new latent representations that match specific desired properties. The new latent representations are then decoded into SMILES strings."
      ],
      "metadata": {
        "id": "0uSgsCBKS-TQ"
      }
    },
    {
      "cell_type": "code",
      "source": [
        "'''\n",
        "graph LR\n",
        "    A[SMILES] --> B(Encoder);\n",
        "    B --> C[Latent Space];\n",
        "    C --> D(Decoder);\n",
        "    D --> E[SMILES];\n",
        "    B --> F{VAE jointly trained on properties};\n",
        "    D --> F;\n",
        "    F --> C;\n",
        "\n",
        "+--------+   -->   +---------+ ---->   +-------------------------------------+\n",
        "| SMILES | ---->   | Encoder | ---->   | VAE (Jointly Trained on Properties) |\n",
        "+--------+         +---------+         +-------------------------------------+\n",
        "\n",
        "            --->  +-------------+ --->  +---------+   --->  +---------------+\n",
        "            --->  | Latent Space| --->  | Decoder |   --->  | SMILES (Output)|\n",
        "                  +-------------+       +---------+         +---------------+\n",
        "\n",
        "Smiles representation\n",
        "We traverse themolecular graph in DFS manner with smallest labels at each point\n",
        "'''\n",
        "Chem.MolFromSmiles('COc(c1)cccc1C#N')"
      ],
      "metadata": {
        "colab": {
          "base_uri": "https://localhost:8080/",
          "height": 167
        },
        "id": "xYhrmUNS-1Ko",
        "outputId": "9062b423-f8c6-47ee-83dc-2f466e79f733"
      },
      "execution_count": null,
      "outputs": [
        {
          "output_type": "execute_result",
          "data": {
            "text/plain": [
              "<rdkit.Chem.rdchem.Mol at 0x7f0e9c7e6260>"
            ],
            "image/png": "[encoded data removed]"
          },
          "metadata": {},
          "execution_count": 10
        }
      ]
    },
    {
      "cell_type": "code",
      "source": [
        "''' Representations Learning\n",
        "Molecule in graph representation -> SMILES        SMILES Input\n",
        "                                                        |\n",
        "One hot encoding              - vectors input     Encoder NN (RNN)\n",
        "    Br C c 1 c [ n H ] n c 1                            |\n",
        "Br  1. 0 0 0 0 0 0 0 0 0 0 0                      Latent Space\n",
        "C   0. 1 0 0 0 0 0 0 0 0 0 0                      - Continuous molecu;ar --> y\n",
        "H   0. 0 0 0 0 0 0 1 0 0 0 0                      representation          prop.\n",
        "c   0. 0 1 0 1 0 0 0 0 0 1 0                            |                 pred\n",
        "n   ....      ....      ....                      Decoder NN\n",
        "Seq2Seq model with RNN to encode SMILES                 |\n",
        "VAE generates the new SMILES                      SMILES Output\n",
        "property prediction network added                       |\n",
        "'''\n",
        "Chem.MolFromSmiles('BrCc1c[nH]nc1')"
      ],
      "metadata": {
        "colab": {
          "base_uri": "https://localhost:8080/",
          "height": 167
        },
        "id": "0iImVg1Sl50O",
        "outputId": "586345b5-9968-4d12-e7fa-37de38909556"
      },
      "execution_count": null,
      "outputs": [
        {
          "output_type": "execute_result",
          "data": {
            "text/plain": [
              "<rdkit.Chem.rdchem.Mol at 0x7f0e9c7e63b0>"
            ],
            "image/png": "[encoded data removed]"
          },
          "metadata": {},
          "execution_count": 12
        }
      ]
    },
    {
      "cell_type": "markdown",
      "source": [
        "Key Components and Data\n",
        "\n",
        "RDKit: This machine learning toolkit transforms SMILES strings into molecules.\n",
        "\n",
        "SMILES: Used for string representation and as a data structure. Encoding serves as a data structure for molecules, facilitating search and algorithms for visualization or property computation.\n",
        "\n",
        "Datasets: QM9 and ZINC datasets are used. They come in SMILES format and include properties used for property analysis and drug-likeness assessment.\n",
        "\n",
        "Encoder: Utilizes a graph data structure and processes the graph's adjacency matrix and feature matrix via graph convolution layers for non-linearly transformed neighborhood aggregations.\n",
        "\n",
        "Decoder: Takes the latent space representation as input to predict the graph adjacency matrix and feature matrix of the corresponding molecules."
      ],
      "metadata": {
        "id": "zadn44SUS2Ks"
      }
    },
    {
      "cell_type": "markdown",
      "source": [
        "Implementation adapted from moleculeAI generation with VAE"
      ],
      "metadata": {
        "id": "ry28EloOMmEX"
      }
    },
    {
      "cell_type": "code",
      "source": [
        "''' Installations\n",
        "PyTorch and Rdkit are industry standards for use in molecular data '''"
      ],
      "metadata": {
        "id": "9ML-28_XUokz"
      },
      "execution_count": null,
      "outputs": []
    },
    {
      "cell_type": "code",
      "source": [
        "!pip install -U torch rdkit\n",
        "from rdkit import Chem\n",
        "from rdkit.Chem import AllChem, Descriptors\n",
        "from typing import Tuple, List, Dict"
      ],
      "metadata": {
        "id": "RCOVE0aIGKsK"
      },
      "execution_count": null,
      "outputs": []
    },
    {
      "cell_type": "code",
      "source": [
        "import torch\n",
        "import torch.nn as nn\n",
        "import torch.nn.functional as F\n",
        "import torch.utils.data\n",
        "import torch.optim as optim\n",
        "from torch.utils.data import Dataset, DataLoader\n",
        "import pandas as pd\n",
        "import numpy as np\n",
        "import os\n",
        "from __future__ import print_function"
      ],
      "metadata": {
        "id": "XkbQn5r1GKvz"
      },
      "execution_count": 3,
      "outputs": []
    },
    {
      "cell_type": "code",
      "source": [
        "''' QM9 dataset as the standard benchmark '''\n",
        "!wget \"https://deepchemdata.s3-us-west-1.amazonaws.com/datasets/qm9.csv\""
      ],
      "metadata": {
        "colab": {
          "base_uri": "https://localhost:8080/"
        },
        "id": "okhJxKuCGKzz",
        "outputId": "8b24f44c-adcc-4915-e176-0bf6efe2d675"
      },
      "execution_count": 13,
      "outputs": [
        {
          "output_type": "stream",
          "name": "stdout",
          "text": [
            "--2025-03-03 20:28:27--  https://deepchemdata.s3-us-west-1.amazonaws.com/datasets/qm9.csv\n",
            "Resolving deepchemdata.s3-us-west-1.amazonaws.com (deepchemdata.s3-us-west-1.amazonaws.com)... 52.219.193.178, 3.5.161.183, 3.5.160.24, ...\n",
            "Connecting to deepchemdata.s3-us-west-1.amazonaws.com (deepchemdata.s3-us-west-1.amazonaws.com)|52.219.193.178|:443... connected.\n",
            "HTTP request sent, awaiting response... 200 OK\n",
            "Length: 29856825 (28M) [text/csv]\n",
            "Saving to: ‘qm9.csv.1’\n",
            "\n",
            "qm9.csv.1           100%[===================>]  28.47M  22.9MB/s    in 1.2s    \n",
            "\n",
            "2025-03-03 20:28:29 (22.9 MB/s) - ‘qm9.csv.1’ saved [29856825/29856825]\n",
            "\n"
          ]
        }
      ]
    },
    {
      "cell_type": "code",
      "source": [
        "df = pd.read_csv('qm9.csv')\n",
        "smiles_list = df['smiles'].tolist()\n",
        "print(f\"Extracted {len(smiles_list)} SMILES strings from the dataset\")"
      ],
      "metadata": {
        "colab": {
          "base_uri": "https://localhost:8080/"
        },
        "id": "QOAq1T_aGLDA",
        "outputId": "a863d32b-be50-4b89-af64-982ba0c1b6f5"
      },
      "execution_count": 22,
      "outputs": [
        {
          "output_type": "stream",
          "name": "stdout",
          "text": [
            "Extracted 133885 SMILES strings from the dataset\n"
          ]
        }
      ]
    },
    {
      "cell_type": "code",
      "source": [
        "print(smiles_list[:15])"
      ],
      "metadata": {
        "colab": {
          "base_uri": "https://localhost:8080/"
        },
        "id": "5VA6kBELWxy-",
        "outputId": "18741fef-c359-470b-dc6c-43bf89847e96"
      },
      "execution_count": 15,
      "outputs": [
        {
          "output_type": "stream",
          "name": "stdout",
          "text": [
            "['C', 'N', 'O', 'C#C', 'C#N', 'C=O', 'CC', 'CO', 'CC#C', 'CC#N', 'CC=O', 'C(=O)N', 'CCC', 'CCO', 'COC']\n"
          ]
        }
      ]
    },
    {
      "cell_type": "code",
      "source": [
        "smiles_list[20:25]"
      ],
      "metadata": {
        "colab": {
          "base_uri": "https://localhost:8080/"
        },
        "id": "ur3RFo9cXSsy",
        "outputId": "369496a5-d336-45cb-bcb8-0734553d7114"
      },
      "execution_count": 16,
      "outputs": [
        {
          "output_type": "execute_result",
          "data": {
            "text/plain": [
              "['CC(C)C', 'CC(C)O', 'C#CC#C', 'C#CC#N', 'C(#N)C#N']"
            ]
          },
          "metadata": {},
          "execution_count": 16
        }
      ]
    },
    {
      "cell_type": "code",
      "source": [
        "''' create the vocabulary for SMILES strings to process them as tokens '''\n",
        "from typing import List, Dict\n",
        "def create_vocabulary(smiles_list: List[str]) -> Dict[str, int]:\n",
        "    vocab = {'<': 0, '>': 1}  # Start and end tokens\n",
        "    for smiles in smiles_list:\n",
        "        for char in smiles:\n",
        "            if char not in vocab:\n",
        "              vocab[char] = len(vocab)\n",
        "    return vocab\n",
        "vocab = create_vocabulary(smiles_list)"
      ],
      "metadata": {
        "id": "1yjQrGMrcSMO"
      },
      "execution_count": 17,
      "outputs": []
    },
    {
      "cell_type": "code",
      "source": [
        "''' one-hot encoded tensors\n",
        "for index, char in enumerate(smiles_list[:10]):\n",
        "  encoded = torch.zeros(100, len(vocab))\n",
        "  encoded[index, vocab.get(char,0)] = 1\n",
        "encoded\n",
        "'''"
      ],
      "metadata": {
        "colab": {
          "base_uri": "https://localhost:8080/"
        },
        "id": "VuLSYccIWwZX",
        "outputId": "5e0817a8-4b6a-47f5-8a00-3aeba0dc6094"
      },
      "execution_count": 9,
      "outputs": [
        {
          "output_type": "execute_result",
          "data": {
            "text/plain": [
              "tensor([[0., 0., 0.,  ..., 0., 0., 0.],\n",
              "        [0., 0., 0.,  ..., 0., 0., 0.],\n",
              "        [0., 0., 0.,  ..., 0., 0., 0.],\n",
              "        ...,\n",
              "        [0., 0., 0.,  ..., 0., 0., 0.],\n",
              "        [0., 0., 0.,  ..., 0., 0., 0.],\n",
              "        [0., 0., 0.,  ..., 0., 0., 0.]])"
            ]
          },
          "metadata": {},
          "execution_count": 9
        }
      ]
    },
    {
      "cell_type": "code",
      "source": [
        "''' create custom dataset\n",
        "'<', and '>' start and end tokens added to the encoding + one-hot-encoding '''\n",
        "class SMILESDataset(Dataset):\n",
        "  def __init__(self, smiles_list, vocab, max_length: int = 100):\n",
        "    self.smiles_list = smiles_list\n",
        "    self.vocab = vocab\n",
        "    self.vocab_size = len(vocab)\n",
        "    self.max_length = max_length\n",
        "\n",
        "  def __len__(self) -> int:\n",
        "    return len(self.smiles_list)\n",
        "\n",
        "  def __getitem__(self, idx: int) -> torch.Tensor:\n",
        "    smiles = '<' + self.smiles_list[idx] + '>'\n",
        "    encoded = torch.zeros(self.max_length, self.vocab_size)\n",
        "    for i, c in enumerate(smiles[:self.max_length]):\n",
        "      encoded[i, self.vocab.get(c, 0)] = 1\n",
        "    return encoded\n",
        "\n",
        "def custom_collate(batch):\n",
        "    return torch.stack(batch)\n",
        "\n",
        "batch_size = 128\n",
        "dataset = SMILESDataset(smiles_list, vocab, max_length=100)\n",
        "dataloader_qm9 = DataLoader(\n",
        "    dataset, batch_size=batch_size, shuffle=True,\n",
        "    collate_fn=custom_collate,\n",
        "    num_workers=2, pin_memory=True)"
      ],
      "metadata": {
        "id": "91C4TecEWwdo"
      },
      "execution_count": 25,
      "outputs": []
    },
    {
      "cell_type": "code",
      "source": [
        "''' model architecture\n",
        "VAE: Encoder- Latent Space - Decoder\n",
        "use GRU layers for the encoder and decoder\n",
        "\n",
        "Smiles vocab -> hidden_dim GRUs -> latent_dim GRUs -> reconstruction\n",
        "fc_mu fully connected layer for mean of latent space\n",
        "fc_logvar fully connected layer for log variance of latent space\n",
        "fc_output fully connected layer for output of decoder (output probabilities)\n",
        "'''\n",
        "class VAE(nn.Module):\n",
        "  def __init__(self, vocab_size, hidden_dim, latent_dim):\n",
        "    super(VAE, self).__init__()\n",
        "    self.vocab_size = vocab_size\n",
        "    self.hidden_dim = hidden_dim\n",
        "    self.latent_dim = latent_dim\n",
        "    self.encoder = nn.GRU(vocab_size, hidden_dim, batch_first=True)\n",
        "    self.fc_mu = nn.Linear(hidden_dim, latent_dim)\n",
        "    self.fc_logvar = nn.Linear(hidden_dim, latent_dim)\n",
        "    self.decoder = nn.GRU(vocab_size + latent_dim, hidden_dim, batch_first=True)\n",
        "    self.fc_output = nn.Linear(hidden_dim, vocab_size)\n",
        "\n",
        "  def encode(self, x):\n",
        "    _, h = self.encoder(x)\n",
        "    h = h.squeeze(0)\n",
        "    mu = self.fc_mu(h)\n",
        "    logvar = self.fc_logvar(h)\n",
        "    return mu, logvar\n",
        "\n",
        "  def reparameterize(self, mu, logvar):\n",
        "    std = torch.exp(0.5 * logvar)\n",
        "    eps = torch.randn_like(std)\n",
        "    return mu + eps * std\n",
        "\n",
        "  def decode(self, z, max_length):\n",
        "    batch_size = z.size(0)\n",
        "    h = torch.zeros(1, batch_size, self.hidden_dim).to(z.device)\n",
        "    x = torch.zeros(batch_size, 1, self.vocab_size).to(z.device)\n",
        "    outputs = []\n",
        "    for _ in range(max_length):\n",
        "      z_input = z.unsqueeze(1).repeat(1, 1, 1)\n",
        "      decoder_input = torch.cat([x, z_input], dim=2)\n",
        "      output, h = self.decoder(decoder_input, h)\n",
        "      output = self.fc_output(output)\n",
        "      outputs.append(output)\n",
        "      x = torch.softmax(output, dim=1)\n",
        "    return torch.cat(outputs, dim=1)\n",
        "\n",
        "  def forward(self, x):\n",
        "    mu, logvar = self.encode(x)\n",
        "    z = self.reparameterize(mu, logvar)\n",
        "    output = self.decode(z, x.size(1))\n",
        "    return output, mu, logvar"
      ],
      "metadata": {
        "id": "-3eN4iyvWwmu"
      },
      "execution_count": 27,
      "outputs": []
    },
    {
      "cell_type": "code",
      "source": [
        "''' train the model with a reconstruction loss crossentropy and KL divergence '''\n",
        "def loss_function(recon_x, x, mu, logvar):\n",
        "    binaryCrossEntropy = nn.functional.binary_cross_entropy_with_logits(\n",
        "                                          recon_x, x, reduction='sum')\n",
        "    KLD = -0.5 * torch.sum(1 + logvar - mu.pow(2) - logvar.exp())\n",
        "    return binaryCrossEntropy + 0.1 * KLD\n",
        "\n",
        "''' Model initialization '''\n",
        "vocab_size = len(vocab)\n",
        "hidden_dim = 256\n",
        "latent_dim = 64\n",
        "model = VAE(vocab_size, hidden_dim, latent_dim)\n",
        "device = torch.device(\"cuda\" if torch.cuda.is_available() else \"cpu\")\n",
        "model = model.to(device)\n",
        "\n",
        "optimizer = optim.Adam(model.parameters(), lr=1e-3)\n",
        "scheduler = optim.lr_scheduler.ReduceLROnPlateau(\n",
        "                    optimizer, mode='min', factor=0.5, patience=5)\n",
        "use_amp = torch.cuda.is_available()\n",
        "scaler = torch.cuda.amp.GradScaler(enabled=use_amp)"
      ],
      "metadata": {
        "colab": {
          "base_uri": "https://localhost:8080/"
        },
        "id": "itK95VCXWwpX",
        "outputId": "9ee6bd0c-d0cd-4586-f070-8983f06cd9c3"
      },
      "execution_count": 28,
      "outputs": [
        {
          "output_type": "stream",
          "name": "stderr",
          "text": [
            "<ipython-input-28-ec3eecfac4e5>:20: FutureWarning: `torch.cuda.amp.GradScaler(args...)` is deprecated. Please use `torch.amp.GradScaler('cuda', args...)` instead.\n",
            "  scaler = torch.cuda.amp.GradScaler(enabled=use_amp)\n"
          ]
        }
      ]
    },
    {
      "cell_type": "code",
      "source": [
        "''' Training loop '''\n",
        "def train(model, num_epochs, dataloader):\n",
        "  for epoch in range(num_epochs):\n",
        "    model.train()\n",
        "    total_loss = 0\n",
        "    for batch in dataloader:\n",
        "      batch = batch.to(device, non_blocking=True)\n",
        "      optimizer.zero_grad(set_to_none=True)\n",
        "      # Use autocast only if CUDA is available\n",
        "      with torch.cuda.amp.autocast(enabled=use_amp):\n",
        "        recon_batch, mu, logvar = model(batch)\n",
        "        loss = loss_function(recon_batch, batch, mu, logvar)\n",
        "      # Backward pass and optimization with gradient scaling if CUDA is available\n",
        "      if use_amp:\n",
        "        scaler.scale(loss).backward()\n",
        "        scaler.step(optimizer)\n",
        "        scaler.update()\n",
        "      else:\n",
        "        loss.backward()\n",
        "        optimizer.step()\n",
        "        total_loss += loss.item()\n",
        "\n",
        "      avg_loss = total_loss / len(dataloader.dataset)\n",
        "      #print(f'Epoch {epoch+1}, Average Loss: {avg_loss:.4f}')\n",
        "      # update learning rate\n",
        "      scheduler.step(avg_loss)\n",
        "      # current learning rate\n",
        "      current_lr = optimizer.param_groups[0]['lr']\n",
        "      #print(f'Current learning rate: {current_lr:.6f}')\n",
        "\n",
        "  print(\"Training complete!\")\n",
        "train(model, num_epochs =20, dataloader=dataloader_qm9)"
      ],
      "metadata": {
        "colab": {
          "base_uri": "https://localhost:8080/"
        },
        "id": "TpjOZ1CxKmMt",
        "outputId": "2d26d4cd-ebee-4fbc-c4c6-e1bb58765bb0"
      },
      "execution_count": 95,
      "outputs": [
        {
          "output_type": "stream",
          "name": "stdout",
          "text": [
            "qm9.csv  qm9.csv.1  \u001b[0m\u001b[01;34msample_data\u001b[0m/\n"
          ]
        }
      ]
    },
    {
      "cell_type": "code",
      "source": [
        "''' set the model in evaluation mode '''\n",
        "model.eval()\n",
        "''' invert vocabulary for decoding '''\n",
        "invert_vocab = {value: key for key, value in vocab.items()}\n",
        "''' generate new molecules using decoder '''\n",
        "generated_smiles = []\n",
        "''' disable gradient computation '''\n",
        "with torch.no_grad():\n",
        "  for i in range(10):\n",
        "    z = torch.randn(1, model.latent_dim).to(device)\n",
        "    x = torch.zeros(1, 1,model.vocab_size).to(device)\n",
        "    x[0, 0, vocab['<']] = 1\n",
        "    h = torch.zeros(1, 1, model.hidden_dim).to(device)\n",
        "    smiles = ''\n",
        "    for _ in range(100):\n",
        "      z_input = z.unsqueeze(1) #.repeat(1, 1, 1)\n",
        "      decoder_input = torch.cat([x, z_input], dim=2)\n",
        "      output, h = model.decoder(decoder_input, h)\n",
        "      output = model.fc_output(output)\n",
        "      probs = torch.softmax(output.squeeze(0), dim=-1)\n",
        "      next_char = torch.multinomial(probs, 1).item()\n",
        "      if invert_vocab[next_char] == '>':\n",
        "        break\n",
        "      smiles += invert_vocab[next_char]\n",
        "      x = torch.zeros(1, 1, model.vocab_size).to(device)\n",
        "      x[0, 0, next_char] = 1\n",
        "    generated_smiles.append(smiles)\n",
        "#len(generated_smiles)"
      ],
      "metadata": {
        "id": "VcdWSxDDGLHc"
      },
      "execution_count": 125,
      "outputs": []
    },
    {
      "cell_type": "code",
      "source": [
        "for index, smiles in enumerate(generated_smiles):\n",
        "  print(f\"{index+1}: {smiles}\")"
      ],
      "metadata": {
        "colab": {
          "base_uri": "https://localhost:8080/"
        },
        "id": "-yYDqR7LoWsV",
        "outputId": "445e66f7-5229-4bc6-f193-6f8acd6e3dd9"
      },
      "execution_count": 126,
      "outputs": [
        {
          "output_type": "stream",
          "name": "stdout",
          "text": [
            "1: #1[cn2]<=NO<(FN[)+3([)4H+#<#5H4[H2nN]+<#FN3NO=1)5[2c=F1<C3<HNNO2cN2oo4N-F)++]=-<H#+ON)<nCO]++N<4(\n",
            "2: C)N=4]n[131=1341([H3O#H#)\n",
            "3: nc4##oO3=3HncC]O\n",
            "4: O)FC2(n\n",
            "5: HN<=F[(5H[))+on)c(1([\n",
            "6: [5]N-N+)N5(NC+=n4\n",
            "7: 43n[FnnFOOH-c3H]<C)[5C<1]NcC11+NN3F513(OO#c-HC3cCnO(O#3Cn])-<\n",
            "8: C[C2#([\n",
            "9: n5(15([=5))1\n",
            "10: c-)+n\n"
          ]
        }
      ]
    },
    {
      "cell_type": "code",
      "source": [
        "analysis = analyze_molecules(generated_smiles)"
      ],
      "metadata": {
        "id": "EuE1eGle3-lJ"
      },
      "execution_count": null,
      "outputs": []
    },
    {
      "cell_type": "code",
      "source": [
        "analysis['valid'], analysis['invalid'], analysis['unique'], analysis['corrected'], \\\n",
        "analysis['properties']"
      ],
      "metadata": {
        "id": "tH9UYcsZ7-MP"
      },
      "execution_count": null,
      "outputs": []
    },
    {
      "cell_type": "markdown",
      "source": [
        "Original implementation VAE\n",
        "\n",
        "The train the NN to predict properties in Latent Space\n",
        "\n",
        "link: https://pubs.acs.org/doi/10.1021/acscentsci.7b00572"
      ],
      "metadata": {
        "id": "lAXNeGtTGFLQ"
      }
    },
    {
      "cell_type": "code",
      "source": [
        "class MolecularVAE(nn.Module):\n",
        "  def __init__(self):\n",
        "    super().__init__()\n",
        "\n",
        "    # encoder related blocks\n",
        "    self.conv_1 = nn.Conv1d(120, 9, kernel_size=9)\n",
        "    self.conv_2 = nn.Conv1d(9, 9, kernel_size=9)\n",
        "    self.conv_3 = nn.Conv1d(9, 10, kernel_size=11)\n",
        "    self.linear_0 = nn.Linear(70, 435)\n",
        "    self.linear_1 = nn.Linear(435, 292)\n",
        "    self.linear_2 = nn.Linear(435, 292)\n",
        "\n",
        "    # decoder related blocks\n",
        "    self.linear_3 = nn.Linear(292, 292)\n",
        "    self.gru = nn.GRU(292, 501, 3, batch_first=True)\n",
        "    self.linear_4 = nn.Linear(501, 33)\n",
        "\n",
        "    # activation function\n",
        "    self.relu = nn.ReLU()\n",
        "\n",
        "    def encode(self, x):\n",
        "      # forward pass through encoder\n",
        "      x = self.relu(self.conv_1(x))\n",
        "      x = self.relu(self.conv_2(x))\n",
        "      x = self.relu(self.conv_3(x))\n",
        "      x = x.view(x.size(0), -1)\n",
        "      x = F.selu(self.linear_0(x))\n",
        "      return self.linear_1(x), self.linear_2(x)\n",
        "\n",
        "    def sampling(self, z_mean, z_logvar):\n",
        "      # noise epsilon is added\n",
        "      epsilon = 1e-2 * torch.randn_like(z_logvar)\n",
        "      # return the latent vector, what the decoder uses to reconstruct the input)\n",
        "      return torch.exp(0.5 * z_logvar) * epsilon + z_mean\n",
        "\n",
        "    def decode(self, z):\n",
        "      # forward pass through decoder to go from latent vector back to a molecule\n",
        "      z = F.selu(self.linear_3(z))\n",
        "      z = z.view(z.size(0), 1, z.size(-1)).repeat(1, 120, 1)\n",
        "      output, hn = self.gru(z)\n",
        "      out_reshape = output.contiguous().view(-1, output.size(-1))\n",
        "      y0 = F.softmax(self.linear_4(out_reshape), dim=1)\n",
        "      y = y0.contiguous().view(output.size(0), -1, y0.size(-1))\n",
        "      return y\n",
        "\n",
        "    def forward(self, x):\n",
        "        # overall forward pass takes the input, passes it to the encoder/decoder\n",
        "        # encode input to get the mean and variance of the Gaussian is mapped to\n",
        "        z_mean, z_logvar = self.encode(x)\n",
        "        # get the latent vector taking the mean and variance and adding noise\n",
        "        z = self.sampling(z_mean, z_logvar)\n",
        "        # decode the latent vector, z, to reconstruct a molecule\n",
        "        return self.decode(z), z_mean, z_logvar\n",
        "\n",
        "def vae_loss(x_decoded_mean, x, z_mean, z_logvar):\n",
        "    '''\n",
        "    The loss function is a combination of 2 quantities:\n",
        "    1. \"reconstruction loss\" which measures how different the reconstructed\n",
        "        molecule is to the original. We would want them to be similar\n",
        "    2. \"Kullback–Leibler (KL) divergence\".\n",
        "        We are trying to approximate the distribution of the latent vector with\n",
        "        a Gaussian distribution. The KL divergence measure how \"off\" we are\n",
        "        reconstruction_loss = F.binary_cross_entropy(\n",
        "                                        x_decoded_mean, x, size_average=False)\n",
        "    '''\n",
        "    kl_loss = -0.5 * torch.sum(1 + z_logvar - z_mean.pow(2) - z_logvar.exp())\n",
        "    return reconstruction_loss + kl_loss"
      ],
      "metadata": {
        "id": "TEEydbyQcSXD"
      },
      "execution_count": null,
      "outputs": []
    },
    {
      "cell_type": "code",
      "source": [],
      "metadata": {
        "id": "6mWou4idcSau"
      },
      "execution_count": null,
      "outputs": []
    },
    {
      "cell_type": "code",
      "source": [],
      "metadata": {
        "id": "tU8P0dzncSsO"
      },
      "execution_count": null,
      "outputs": []
    }
  ]
}