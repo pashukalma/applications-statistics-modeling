{
  "nbformat": 4,
  "nbformat_minor": 0,
  "metadata": {
    "colab": {
      "provenance": []
    },
    "kernelspec": {
      "name": "python3",
      "display_name": "Python 3"
    },
    "language_info": {
      "name": "python"
    }
  },
  "cells": [
    {
      "cell_type": "markdown",
      "source": [
        "#### **GAN Architecture**\n",
        "- x Real data - z Random noise\n",
        "- Enc encoder of autoencoder - Dec decoder of autoencoder\n",
        "- G Denerator - D Discriminator\n",
        "\n",
        "\n",
        "#### GAN Loss Function\n",
        "The Generative Adversarial Network (GAN) loss function is defined as:\n",
        "\n",
        "$\\min_G \\max_D V(G,D) = \\mathbb{E}_{x \\sim p_{\\text{data}}(x)}[\\log(D(x))] + \\mathbb{E}_{z \\sim p(z)}[\\log(1-D(G(z)))] $\n",
        "\n",
        "**Discriminator** classifies real data and fake data. **The Loss function** penalizes for any mistake in misclassfication of real from fakeupdates via backpropagation from discriminator loss. **Random noise** will be converted to realistic samples(fake), discriminator classifies the fake samples, the generator penalizes for any mistake in misclassfication, updates via backpropagation from generator loss and discriminator loss\n",
        "\n",
        "**The Generator Loss** can be expressed as: $L_G = \\mathbb{E}_{z \\sim p(z)}[\\log(1-D(G(z)))]$\n",
        "\n",
        "Alternatively, it is often expressed as: $L_G = -\\mathbb{E}_{z \\sim p(z)}[\\log(D(G(z)))]$\n",
        "\n",
        "\n",
        "#### Training GANs\n",
        "\n",
        "Convergence of GAN training remains an open problem with no reliable metrics"
      ],
      "metadata": {
        "id": "UVpv90rQ3ny_"
      }
    },
    {
      "cell_type": "markdown",
      "source": [
        "_______________\n"
      ],
      "metadata": {
        "id": "nhKJGuIi9TIe"
      }
    },
    {
      "cell_type": "markdown",
      "source": [
        "#### **Synthetic data using GANs**\n",
        "\n",
        "- Pre-train Autoencoder:\n",
        "$[\\frac{1}{m} \\sum_{i} \\left( x_i \\log x_i' + (1-x_i) \\log (1-x_i') \\right)]$\n",
        "- Update Generator parameters $\\theta_g$, $dec$:\n",
        "\n",
        "  $[\\theta_g, dec \\leftarrow \\theta_g, dec + \\alpha \\cdot \\text{derivative}_{\\theta_g, dec} \\cdot \\frac{1}{m} S \\left( \\log D(x_z) \\right)]$\n",
        "where $\\alpha$ is the learning rate.\n",
        "- Update Discriminator parameters:\n",
        "\n",
        "  $[\\theta_d \\leftarrow \\theta_d + \\alpha \\cdot \\text{derivative}_{\\theta_d} \\cdot \\frac{1}{m} S \\left( \\log D(x_{real}) + \\log (1 - D(x_{fake})) \\right)$\n",
        "\n",
        "  Where $x_{real}$ is the real data and $x_{fake}$ is the generated data from the generator. In this case, $x_{fake} = x_{z}$.\n",
        "Therefore,\n",
        "  $[\\theta_d \\leftarrow \\theta_d + \\alpha \\cdot \\text{derivative}_{\\theta_d} \\cdot \\frac{1}{m} S \\left( \\log D(x_{zi}) + \\log (1 - D(x_{zi})) \\right)]$\n",
        "- Evaluation: Dimension-wise prediction\n"
      ],
      "metadata": {
        "id": "ker9TTLE9d2g"
      }
    },
    {
      "cell_type": "markdown",
      "source": [
        "_________________________\n"
      ],
      "metadata": {
        "id": "xfQtT9wUITAu"
      }
    },
    {
      "cell_type": "markdown",
      "source": [
        "#### **Variational Autoencoders**\n",
        "\n",
        "Variational Autoencoders (VAEs) is at the intersection of Deep Learning (DL) and Probabilistic Graphical Models. They find applications in diverse fields such as Medical Imaging and Molecule generation.\n",
        "\n",
        "The core idea is to encode an input as a distribution, sample a point from this encoding distribution, and then decode from the sampled point to generate a realistic output. This process can be summarized as:\n",
        "\n",
        "- Input $\\mathbf{x}$ $\\rightarrow$ Latent space/code $\\rightarrow$ Output $\\mathbf{x}'$\n",
        "- $\\text{Enc}(\\mathbf{x}) \\rightarrow {N}(\\boldsymbol{\\mu}(\\mathbf{x}), \\boldsymbol{\\Sigma}(\\mathbf{x})) \\text{ sampling } \\rightarrow \\mathbf{x}'$\n",
        "\n",
        "The objective is to minimize the reconstruction error. Common loss functions include:\n",
        "\n",
        "- item Gaussian Input: ${L}(\\mathbf{x}, \\mathbf{r}) = ||\\mathbf{x} - \\mathbf{r}||^2$\n",
        "- Binary Input: ${L}(\\mathbf{x}, \\mathbf{r}) = -\\sum_i [\\mathbf{x}_i \\log(\\mathbf{r}_i) + (1 - \\mathbf{x}_i) \\log(1 - \\mathbf{r}_i)]$\n",
        "\n"
      ],
      "metadata": {
        "id": "y8yQ_34tGWuz"
      }
    },
    {
      "cell_type": "markdown",
      "source": [
        "A Detailed flow process can be visualized as follows:\n",
        "\n",
        "-  $[\\mathbf{x} \\xrightarrow{\\text{Enc}(\\mathbf{x})= q_\\theta(\\mathbf{z}|\\mathbf{x})} {N}(\\boldsymbol{\\mu}(\\mathbf{x}), \\boldsymbol{\\Sigma}(\\mathbf{x})) \\xrightarrow{\\text{sampling}} \\mathbf{z} \\xrightarrow{D_{KL}[{N}(\\boldsymbol{\\mu}(\\mathbf{x}), \\boldsymbol{\\Sigma}(\\mathbf{x})) ||\\mathcal{N}(\\mathbf{0},\\mathbf{I})]} \\xrightarrow{\\text{Decoder}(p_\\phi(\\mathbf{x}|\\mathbf{z}))} \\mathbf{x}']$\n",
        "\n",
        "**Probability View, Posterior Encoder**\n",
        "\n",
        "From a probabilistic perspective, the posterior encoder is given by:\n",
        "\n",
        "- $[p_\\phi(\\mathbf{z}|\\mathbf{x}) = \\frac{p_\\phi(\\mathbf{x}|\\mathbf{z}) p(\\mathbf{z})}{p_\\phi(\\mathbf{x})}]$ where $[p_\\phi(\\mathbf{x}) = \\int p_\\phi(\\mathbf{x}, \\mathbf{z}) d\\mathbf{z}]$\n",
        "\n",
        "\n",
        "The Variational Autoencoder's variational approximation becomes a minimization problem:\n",
        "\n",
        "- $[l_\\mathbf{x} = -\\mathbb{E}_{\\mathbf{z} \\sim q_\\theta(\\mathbf{z}|\\mathbf{x})} [\\log(p_\\phi(\\mathbf{x}|\\mathbf{z}))] + D_{KL}(q_\\theta(\\mathbf{z}|\\mathbf{x}) || p(\\mathbf{z}))]$\n"
      ],
      "metadata": {
        "id": "fSAyZLHyG8TA"
      }
    },
    {
      "cell_type": "markdown",
      "source": [
        "#### **Deep Learning for Drug Discovery**\n",
        "- Main use case is Molecule generation with VAE\n",
        "- Datasets: QM9 (108k molecules), ZINC (250k drug-like molecules)\n"
      ],
      "metadata": {
        "id": "vbBxNSb0Z8Hg"
      }
    },
    {
      "cell_type": "markdown",
      "source": [
        "________________________\n"
      ],
      "metadata": {
        "id": "JoSNCeX18dxc"
      }
    },
    {
      "cell_type": "markdown",
      "source": [
        "#### Variational Autoencoder for Molecule generation"
      ],
      "metadata": {
        "id": "2wJ81D5rcRTt"
      }
    },
    {
      "cell_type": "markdown",
      "source": [
        "Main approaches for molecule generation\n",
        "- Automatic chemical design using data-driven continuous representation: This approach explores open-ended spaces of chemical compounds. The method is described in https://arxiv.org/abs/1610.02415.\n",
        "- Variational Autoencoder for molecule generation in drug discovery (MolGAN): This is a more implicit model for small molecule design, detailed in https://arxiv.org/abs/1805.11973."
      ],
      "metadata": {
        "id": "4TARRmA9RX5H"
      }
    },
    {
      "cell_type": "code",
      "source": [
        "'''\n",
        "graph LR\n",
        "    A[SMILES] --> B(Encoder);\n",
        "    B --> C[Latent Space];\n",
        "    C --> D(Decoder);\n",
        "    D --> E[SMILES];\n",
        "    B --> F{VAE jointly trained on properties};\n",
        "    D --> F;\n",
        "    F --> C;\n",
        "\n",
        "+--------+   -->   +---------+ ---->   +-------------------------------------+\n",
        "| SMILES | ---->   | Encoder | ---->   | VAE (Jointly Trained on Properties) |\n",
        "+--------+         +---------+         +-------------------------------------+\n",
        "\n",
        "            --->  +-------------+ --->  +---------+   --->  +---------------+\n",
        "            --->  | Latent Space| --->  | Decoder |   --->  | SMILES (Output)|\n",
        "                  +-------------+       +---------+         +---------------+\n",
        "\n",
        "Smiles representation\n",
        "We traverse themolecular graph in DFS manner with smallest labels at each point\n",
        "'''\n",
        "Chem.MolFromSmiles('COc(c1)cccc1C#N')"
      ],
      "metadata": {
        "colab": {
          "base_uri": "https://localhost:8080/",
          "height": 167
        },
        "id": "xYhrmUNS-1Ko",
        "outputId": "9062b423-f8c6-47ee-83dc-2f466e79f733"
      },
      "execution_count": 10,
      "outputs": [
        {
          "output_type": "execute_result",
          "data": {
            "text/plain": [
              "<rdkit.Chem.rdchem.Mol at 0x7f0e9c7e6260>"
            ],
            "image/png": "[encoded data removed]"
          },
          "metadata": {},
          "execution_count": 10
        }
      ]
    },
    {
      "cell_type": "code",
      "source": [
        "''' Representations Learning\n",
        "Molecule in graph representation -> SMILES        SMILES Input\n",
        "                                                        |\n",
        "One hot encoding              - vectors input     Encoder NN (RNN)\n",
        "    Br C c 1 c [ n H ] n c 1                            |\n",
        "Br  1. 0 0 0 0 0 0 0 0 0 0 0                      Latent Space\n",
        "C   0. 1 0 0 0 0 0 0 0 0 0 0                      - Continuous molecu;ar --> y\n",
        "H   0. 0 0 0 0 0 0 1 0 0 0 0                      representation          prop.\n",
        "c   0. 0 1 0 1 0 0 0 0 0 1 0                            |                 pred\n",
        "n   ....      ....      ....                      Decoder NN\n",
        "Seq2Seq model with RNN to encode SMILES                 |\n",
        "VAE generates the new SMILES                      SMILES Output\n",
        "property prediction network added                       |\n",
        "'''\n",
        "Chem.MolFromSmiles('BrCc1c[nH]nc1')"
      ],
      "metadata": {
        "colab": {
          "base_uri": "https://localhost:8080/",
          "height": 167
        },
        "id": "0iImVg1Sl50O",
        "outputId": "586345b5-9968-4d12-e7fa-37de38909556"
      },
      "execution_count": 12,
      "outputs": [
        {
          "output_type": "execute_result",
          "data": {
            "text/plain": [
              "<rdkit.Chem.rdchem.Mol at 0x7f0e9c7e63b0>"
            ],
            "image/png": "[encoded data removed]"
          },
          "metadata": {},
          "execution_count": 12
        }
      ]
    }
  ]
}